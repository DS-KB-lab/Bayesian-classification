{
 "cells": [
  {
   "cell_type": "markdown",
   "id": "0b12765c",
   "metadata": {},
   "source": [
    "# Comparison of Bayesian classifiers under different data\n",
    "\n",
    "### by Zijun Sun, Ruixin Li\n",
    "#### *Fundamentals of Artificial Intelligence and Knowledge Representation (Mod. 3) - Alma Mater Studiorum Università di Bologna*"
   ]
  },
  {
   "cell_type": "markdown",
   "id": "1f92d554",
   "metadata": {},
   "source": [
    "The dataset is downloaded from https://www.kaggle.com/datasets/rxnach/student-stress-factors-a-comprehensive-analysis. "
   ]
  },
  {
   "cell_type": "markdown",
   "id": "6c2bb032",
   "metadata": {},
   "source": [
    "It dives into real-life factors like sleep quality, study load, and even bullying. Discover how the environment or even friendships can impact stress. "
   ]
  },
  {
   "cell_type": "markdown",
   "id": "1ca0e597",
   "metadata": {},
   "source": [
    "This dataset contains around 20 features that create the most impact on the Stress of a Student. The features are selected scientifically considering 5 major factors, they are Psychological, Physiological, Social, Environmental, and Academic Factors. Some of them are:"
   ]
  },
  {
   "cell_type": "markdown",
   "id": "bc7827f3",
   "metadata": {},
   "source": [
    "Psychological Factors => 'anxiety_level', 'self_esteem', 'mental_health_history', 'depression',  \n",
    "\n",
    "Physiological Factors => 'headache', 'blood_pressure', 'sleep_quality', 'breathing_problem',  \n",
    "\n",
    "Environmental Factors => 'noise_level', 'living_conditions', 'safety', 'basic_needs',  \n",
    "\n",
    "Academic Factors => 'academic_performance', 'study_load', 'teacher_student_relationship', 'future_career_concerns', \n",
    "\n",
    "Social Factor => 'social_support', 'peer_pressure', 'extracurricular_activities', 'bullying'."
   ]
  },
  {
   "cell_type": "markdown",
   "id": "8c944dab",
   "metadata": {},
   "source": [
    "# Data preprocessing"
   ]
  },
  {
   "cell_type": "markdown",
   "id": "c1367277",
   "metadata": {},
   "source": [
    "## 1.Import data"
   ]
  },
  {
   "cell_type": "code",
   "execution_count": 1,
   "id": "066ecc58",
   "metadata": {},
   "outputs": [],
   "source": [
    "import pandas as pd\n",
    "import numpy as np\n",
    "import matplotlib.pyplot as plt\n",
    "import seaborn as sns\n",
    "import networkx as nx\n",
    "from sklearn.preprocessing import MinMaxScaler\n",
    "from sklearn.model_selection import train_test_split\n",
    "from sklearn.naive_bayes import MultinomialNB, GaussianNB, ComplementNB, BernoulliNB, CategoricalNB\n",
    "from sklearn.metrics import accuracy_score, precision_score, recall_score, f1_score, confusion_matrix, classification_report"
   ]
  },
  {
   "cell_type": "code",
   "execution_count": 2,
   "id": "f079c2b6",
   "metadata": {},
   "outputs": [],
   "source": [
    "data = pd.read_csv(\"./StressLevelDataset.csv\")"
   ]
  },
  {
   "cell_type": "markdown",
   "id": "4459c320",
   "metadata": {},
   "source": [
    "## 2.Data normalizing and calculate the correlation of each feature with 'stress_level'"
   ]
  },
  {
   "cell_type": "code",
   "execution_count": 3,
   "id": "f80efb21",
   "metadata": {},
   "outputs": [
    {
     "data": {
      "text/plain": [
       "anxiety_level                   0.736795\n",
       "self_esteem                    -0.756195\n",
       "mental_health_history           0.648644\n",
       "depression                      0.734379\n",
       "headache                        0.713484\n",
       "blood_pressure                  0.394200\n",
       "sleep_quality                  -0.749068\n",
       "breathing_problem               0.573984\n",
       "noise_level                     0.663371\n",
       "living_conditions              -0.581723\n",
       "safety                         -0.709602\n",
       "basic_needs                    -0.708968\n",
       "academic_performance           -0.720922\n",
       "study_load                      0.634156\n",
       "teacher_student_relationship   -0.680163\n",
       "future_career_concerns          0.742619\n",
       "social_support                 -0.632497\n",
       "peer_pressure                   0.690684\n",
       "extracurricular_activities      0.692977\n",
       "bullying                        0.751162\n",
       "Name: stress_level, dtype: float64"
      ]
     },
     "execution_count": 3,
     "metadata": {},
     "output_type": "execute_result"
    }
   ],
   "source": [
    "# Normalizing the dataset except the target column 'stress_level'\n",
    "scaler = MinMaxScaler()\n",
    "features = data.columns[:-1]  # Exclude 'stress_level' from normalization\n",
    "data[features] = scaler.fit_transform(data[features])\n",
    "\n",
    "# Calculate the correlation of each feature with 'stress_level'\n",
    "correlation = data.corr()['stress_level'].drop('stress_level')\n",
    "\n",
    "# Display the correlation\n",
    "correlation"
   ]
  },
  {
   "cell_type": "markdown",
   "id": "556176fe",
   "metadata": {},
   "source": [
    "## 3.Add feature information based on the dataset description"
   ]
  },
  {
   "cell_type": "code",
   "execution_count": 4,
   "id": "316ceb9b",
   "metadata": {},
   "outputs": [
    {
     "data": {
      "text/html": [
       "<div>\n",
       "<style scoped>\n",
       "    .dataframe tbody tr th:only-of-type {\n",
       "        vertical-align: middle;\n",
       "    }\n",
       "\n",
       "    .dataframe tbody tr th {\n",
       "        vertical-align: top;\n",
       "    }\n",
       "\n",
       "    .dataframe thead th {\n",
       "        text-align: right;\n",
       "    }\n",
       "</style>\n",
       "<table border=\"1\" class=\"dataframe\">\n",
       "  <thead>\n",
       "    <tr style=\"text-align: right;\">\n",
       "      <th></th>\n",
       "      <th>Psychological_Factors</th>\n",
       "      <th>Physiological_Factors</th>\n",
       "      <th>Environmental_Factors</th>\n",
       "      <th>Academic_Factors</th>\n",
       "      <th>Social_Factors</th>\n",
       "      <th>anxiety_level</th>\n",
       "      <th>self_esteem</th>\n",
       "      <th>mental_health_history</th>\n",
       "      <th>depression</th>\n",
       "      <th>headache</th>\n",
       "      <th>...</th>\n",
       "      <th>basic_needs</th>\n",
       "      <th>academic_performance</th>\n",
       "      <th>study_load</th>\n",
       "      <th>teacher_student_relationship</th>\n",
       "      <th>future_career_concerns</th>\n",
       "      <th>social_support</th>\n",
       "      <th>peer_pressure</th>\n",
       "      <th>extracurricular_activities</th>\n",
       "      <th>bullying</th>\n",
       "      <th>stress_level</th>\n",
       "    </tr>\n",
       "  </thead>\n",
       "  <tbody>\n",
       "    <tr>\n",
       "      <th>0</th>\n",
       "      <td>0.286258</td>\n",
       "      <td>0.444953</td>\n",
       "      <td>-0.793033</td>\n",
       "      <td>-0.141418</td>\n",
       "      <td>0.708997</td>\n",
       "      <td>0.666667</td>\n",
       "      <td>0.666667</td>\n",
       "      <td>0.0</td>\n",
       "      <td>0.407407</td>\n",
       "      <td>0.4</td>\n",
       "      <td>...</td>\n",
       "      <td>0.4</td>\n",
       "      <td>0.6</td>\n",
       "      <td>0.4</td>\n",
       "      <td>0.6</td>\n",
       "      <td>0.6</td>\n",
       "      <td>0.666667</td>\n",
       "      <td>0.6</td>\n",
       "      <td>0.6</td>\n",
       "      <td>0.4</td>\n",
       "      <td>1</td>\n",
       "    </tr>\n",
       "    <tr>\n",
       "      <th>1</th>\n",
       "      <td>1.381263</td>\n",
       "      <td>1.417057</td>\n",
       "      <td>-0.285750</td>\n",
       "      <td>0.969726</td>\n",
       "      <td>1.785854</td>\n",
       "      <td>0.714286</td>\n",
       "      <td>0.266667</td>\n",
       "      <td>1.0</td>\n",
       "      <td>0.555556</td>\n",
       "      <td>1.0</td>\n",
       "      <td>...</td>\n",
       "      <td>0.4</td>\n",
       "      <td>0.2</td>\n",
       "      <td>0.8</td>\n",
       "      <td>0.2</td>\n",
       "      <td>1.0</td>\n",
       "      <td>0.333333</td>\n",
       "      <td>0.8</td>\n",
       "      <td>1.0</td>\n",
       "      <td>1.0</td>\n",
       "      <td>2</td>\n",
       "    </tr>\n",
       "    <tr>\n",
       "      <th>2</th>\n",
       "      <td>0.996742</td>\n",
       "      <td>0.215360</td>\n",
       "      <td>-0.676689</td>\n",
       "      <td>-0.018926</td>\n",
       "      <td>0.570401</td>\n",
       "      <td>0.571429</td>\n",
       "      <td>0.600000</td>\n",
       "      <td>1.0</td>\n",
       "      <td>0.518519</td>\n",
       "      <td>0.4</td>\n",
       "      <td>...</td>\n",
       "      <td>0.4</td>\n",
       "      <td>0.4</td>\n",
       "      <td>0.6</td>\n",
       "      <td>0.6</td>\n",
       "      <td>0.4</td>\n",
       "      <td>0.666667</td>\n",
       "      <td>0.6</td>\n",
       "      <td>0.4</td>\n",
       "      <td>0.4</td>\n",
       "      <td>1</td>\n",
       "    </tr>\n",
       "    <tr>\n",
       "      <th>3</th>\n",
       "      <td>1.315522</td>\n",
       "      <td>1.159564</td>\n",
       "      <td>-0.269420</td>\n",
       "      <td>0.677018</td>\n",
       "      <td>1.647259</td>\n",
       "      <td>0.761905</td>\n",
       "      <td>0.400000</td>\n",
       "      <td>1.0</td>\n",
       "      <td>0.555556</td>\n",
       "      <td>0.8</td>\n",
       "      <td>...</td>\n",
       "      <td>0.4</td>\n",
       "      <td>0.4</td>\n",
       "      <td>0.8</td>\n",
       "      <td>0.2</td>\n",
       "      <td>0.8</td>\n",
       "      <td>0.333333</td>\n",
       "      <td>0.8</td>\n",
       "      <td>0.8</td>\n",
       "      <td>1.0</td>\n",
       "      <td>2</td>\n",
       "    </tr>\n",
       "    <tr>\n",
       "      <th>4</th>\n",
       "      <td>0.045980</td>\n",
       "      <td>0.045322</td>\n",
       "      <td>-0.827728</td>\n",
       "      <td>-0.035230</td>\n",
       "      <td>1.231014</td>\n",
       "      <td>0.761905</td>\n",
       "      <td>0.933333</td>\n",
       "      <td>0.0</td>\n",
       "      <td>0.259259</td>\n",
       "      <td>0.4</td>\n",
       "      <td>...</td>\n",
       "      <td>0.6</td>\n",
       "      <td>0.8</td>\n",
       "      <td>0.6</td>\n",
       "      <td>0.2</td>\n",
       "      <td>0.4</td>\n",
       "      <td>0.333333</td>\n",
       "      <td>1.0</td>\n",
       "      <td>0.0</td>\n",
       "      <td>1.0</td>\n",
       "      <td>1</td>\n",
       "    </tr>\n",
       "  </tbody>\n",
       "</table>\n",
       "<p>5 rows × 26 columns</p>\n",
       "</div>"
      ],
      "text/plain": [
       "   Psychological_Factors  Physiological_Factors  Environmental_Factors  \\\n",
       "0               0.286258               0.444953              -0.793033   \n",
       "1               1.381263               1.417057              -0.285750   \n",
       "2               0.996742               0.215360              -0.676689   \n",
       "3               1.315522               1.159564              -0.269420   \n",
       "4               0.045980               0.045322              -0.827728   \n",
       "\n",
       "   Academic_Factors  Social_Factors  anxiety_level  self_esteem  \\\n",
       "0         -0.141418        0.708997       0.666667     0.666667   \n",
       "1          0.969726        1.785854       0.714286     0.266667   \n",
       "2         -0.018926        0.570401       0.571429     0.600000   \n",
       "3          0.677018        1.647259       0.761905     0.400000   \n",
       "4         -0.035230        1.231014       0.761905     0.933333   \n",
       "\n",
       "   mental_health_history  depression  headache  ...  basic_needs  \\\n",
       "0                    0.0    0.407407       0.4  ...          0.4   \n",
       "1                    1.0    0.555556       1.0  ...          0.4   \n",
       "2                    1.0    0.518519       0.4  ...          0.4   \n",
       "3                    1.0    0.555556       0.8  ...          0.4   \n",
       "4                    0.0    0.259259       0.4  ...          0.6   \n",
       "\n",
       "   academic_performance  study_load  teacher_student_relationship  \\\n",
       "0                   0.6         0.4                           0.6   \n",
       "1                   0.2         0.8                           0.2   \n",
       "2                   0.4         0.6                           0.6   \n",
       "3                   0.4         0.8                           0.2   \n",
       "4                   0.8         0.6                           0.2   \n",
       "\n",
       "   future_career_concerns  social_support  peer_pressure  \\\n",
       "0                     0.6        0.666667            0.6   \n",
       "1                     1.0        0.333333            0.8   \n",
       "2                     0.4        0.666667            0.6   \n",
       "3                     0.8        0.333333            0.8   \n",
       "4                     0.4        0.333333            1.0   \n",
       "\n",
       "   extracurricular_activities  bullying  stress_level  \n",
       "0                         0.6       0.4             1  \n",
       "1                         1.0       1.0             2  \n",
       "2                         0.4       0.4             1  \n",
       "3                         0.8       1.0             2  \n",
       "4                         0.0       1.0             1  \n",
       "\n",
       "[5 rows x 26 columns]"
      ]
     },
     "execution_count": 4,
     "metadata": {},
     "output_type": "execute_result"
    }
   ],
   "source": [
    "# Define the features for each category\n",
    "categories = {\n",
    "    'Psychological_Factors': ['anxiety_level', 'self_esteem', 'mental_health_history', 'depression'],\n",
    "    'Physiological_Factors': ['headache', 'blood_pressure', 'sleep_quality', 'breathing_problem'],\n",
    "    'Environmental_Factors': ['noise_level', 'living_conditions', 'safety', 'basic_needs'],\n",
    "    'Academic_Factors': ['academic_performance', 'study_load', 'teacher_student_relationship', 'future_career_concerns'],\n",
    "    'Social_Factors': ['social_support', 'peer_pressure', 'extracurricular_activities', 'bullying']\n",
    "}\n",
    "\n",
    "# Calculate the weighted sum for each category\n",
    "for category, features in categories.items():\n",
    "    weights = correlation[features]\n",
    "    data[category] = data[features].mul(weights).sum(axis=1)\n",
    "\n",
    "# Reorder columns to bring the new category columns to the front\n",
    "new_columns_order = list(categories.keys()) + list(data.columns[:-len(categories.keys())])\n",
    "data = data[new_columns_order]\n",
    "\n",
    "# Display the first few rows of the modified dataset\n",
    "data.head()"
   ]
  },
  {
   "cell_type": "markdown",
   "id": "1a370c36",
   "metadata": {},
   "source": [
    "## 4.Filtering features with absolute correlation values greater than 0.7"
   ]
  },
  {
   "cell_type": "code",
   "execution_count": 5,
   "id": "e49ad91f",
   "metadata": {},
   "outputs": [],
   "source": [
    "corr = data.corrwith(data['stress_level']).sort_values(ascending=False)\n",
    "\n",
    "# Filter out the features with a correlation greater than 0.7\n",
    "similar_features = corr[abs(corr) > 0.7]"
   ]
  },
  {
   "cell_type": "code",
   "execution_count": 6,
   "id": "f4bb4cce",
   "metadata": {},
   "outputs": [
    {
     "data": {
      "text/plain": [
       "['stress_level',\n",
       " 'Social_Factors',\n",
       " 'Academic_Factors',\n",
       " 'Psychological_Factors',\n",
       " 'Environmental_Factors',\n",
       " 'Physiological_Factors',\n",
       " 'bullying',\n",
       " 'future_career_concerns',\n",
       " 'anxiety_level',\n",
       " 'depression',\n",
       " 'headache',\n",
       " 'basic_needs',\n",
       " 'safety',\n",
       " 'academic_performance',\n",
       " 'sleep_quality',\n",
       " 'self_esteem']"
      ]
     },
     "execution_count": 6,
     "metadata": {},
     "output_type": "execute_result"
    }
   ],
   "source": [
    "# List of features with correlation greater than 0.7\n",
    "features_list = similar_features.index.tolist()\n",
    "\n",
    "# Display the list of features\n",
    "features_list"
   ]
  },
  {
   "cell_type": "code",
   "execution_count": 7,
   "id": "9fb0b584",
   "metadata": {},
   "outputs": [],
   "source": [
    "data = data[features_list]"
   ]
  },
  {
   "cell_type": "markdown",
   "id": "75b7195c",
   "metadata": {},
   "source": [
    "## 5.Let the computational features be on a scale with the rest of the features"
   ]
  },
  {
   "cell_type": "code",
   "execution_count": 8,
   "id": "a7cb8795",
   "metadata": {},
   "outputs": [],
   "source": [
    "scaler = MinMaxScaler()\n",
    "features = data.columns[1: ]  # Exclude 'stress_level' from normalization\n",
    "data[features] = scaler.fit_transform(data[features])"
   ]
  },
  {
   "cell_type": "code",
   "execution_count": 9,
   "id": "b6d6b52e",
   "metadata": {},
   "outputs": [
    {
     "data": {
      "text/html": [
       "<div>\n",
       "<style scoped>\n",
       "    .dataframe tbody tr th:only-of-type {\n",
       "        vertical-align: middle;\n",
       "    }\n",
       "\n",
       "    .dataframe tbody tr th {\n",
       "        vertical-align: top;\n",
       "    }\n",
       "\n",
       "    .dataframe thead th {\n",
       "        text-align: right;\n",
       "    }\n",
       "</style>\n",
       "<table border=\"1\" class=\"dataframe\">\n",
       "  <thead>\n",
       "    <tr style=\"text-align: right;\">\n",
       "      <th></th>\n",
       "      <th>stress_level</th>\n",
       "      <th>Social_Factors</th>\n",
       "      <th>Academic_Factors</th>\n",
       "      <th>Psychological_Factors</th>\n",
       "      <th>Environmental_Factors</th>\n",
       "      <th>Physiological_Factors</th>\n",
       "      <th>bullying</th>\n",
       "      <th>future_career_concerns</th>\n",
       "      <th>anxiety_level</th>\n",
       "      <th>depression</th>\n",
       "      <th>headache</th>\n",
       "      <th>basic_needs</th>\n",
       "      <th>safety</th>\n",
       "      <th>academic_performance</th>\n",
       "      <th>sleep_quality</th>\n",
       "      <th>self_esteem</th>\n",
       "    </tr>\n",
       "  </thead>\n",
       "  <tbody>\n",
       "    <tr>\n",
       "      <th>0</th>\n",
       "      <td>1</td>\n",
       "      <td>0.415363</td>\n",
       "      <td>0.416752</td>\n",
       "      <td>0.369453</td>\n",
       "      <td>0.447660</td>\n",
       "      <td>0.397255</td>\n",
       "      <td>0.4</td>\n",
       "      <td>0.6</td>\n",
       "      <td>0.666667</td>\n",
       "      <td>0.407407</td>\n",
       "      <td>0.4</td>\n",
       "      <td>0.4</td>\n",
       "      <td>0.6</td>\n",
       "      <td>0.6</td>\n",
       "      <td>0.4</td>\n",
       "      <td>0.666667</td>\n",
       "    </tr>\n",
       "    <tr>\n",
       "      <th>1</th>\n",
       "      <td>2</td>\n",
       "      <td>0.904452</td>\n",
       "      <td>0.885636</td>\n",
       "      <td>0.757530</td>\n",
       "      <td>0.660798</td>\n",
       "      <td>0.919513</td>\n",
       "      <td>1.0</td>\n",
       "      <td>1.0</td>\n",
       "      <td>0.714286</td>\n",
       "      <td>0.555556</td>\n",
       "      <td>1.0</td>\n",
       "      <td>0.4</td>\n",
       "      <td>0.4</td>\n",
       "      <td>0.2</td>\n",
       "      <td>0.2</td>\n",
       "      <td>0.266667</td>\n",
       "    </tr>\n",
       "    <tr>\n",
       "      <th>2</th>\n",
       "      <td>1</td>\n",
       "      <td>0.352415</td>\n",
       "      <td>0.468441</td>\n",
       "      <td>0.621253</td>\n",
       "      <td>0.496543</td>\n",
       "      <td>0.273906</td>\n",
       "      <td>0.4</td>\n",
       "      <td>0.4</td>\n",
       "      <td>0.571429</td>\n",
       "      <td>0.518519</td>\n",
       "      <td>0.4</td>\n",
       "      <td>0.4</td>\n",
       "      <td>0.6</td>\n",
       "      <td>0.4</td>\n",
       "      <td>0.4</td>\n",
       "      <td>0.600000</td>\n",
       "    </tr>\n",
       "    <tr>\n",
       "      <th>3</th>\n",
       "      <td>2</td>\n",
       "      <td>0.841504</td>\n",
       "      <td>0.762118</td>\n",
       "      <td>0.734231</td>\n",
       "      <td>0.667659</td>\n",
       "      <td>0.781176</td>\n",
       "      <td>1.0</td>\n",
       "      <td>0.8</td>\n",
       "      <td>0.761905</td>\n",
       "      <td>0.555556</td>\n",
       "      <td>0.8</td>\n",
       "      <td>0.4</td>\n",
       "      <td>0.4</td>\n",
       "      <td>0.4</td>\n",
       "      <td>0.2</td>\n",
       "      <td>0.400000</td>\n",
       "    </tr>\n",
       "    <tr>\n",
       "      <th>4</th>\n",
       "      <td>1</td>\n",
       "      <td>0.652454</td>\n",
       "      <td>0.461561</td>\n",
       "      <td>0.284297</td>\n",
       "      <td>0.433083</td>\n",
       "      <td>0.182554</td>\n",
       "      <td>1.0</td>\n",
       "      <td>0.4</td>\n",
       "      <td>0.761905</td>\n",
       "      <td>0.259259</td>\n",
       "      <td>0.4</td>\n",
       "      <td>0.6</td>\n",
       "      <td>0.8</td>\n",
       "      <td>0.8</td>\n",
       "      <td>1.0</td>\n",
       "      <td>0.933333</td>\n",
       "    </tr>\n",
       "    <tr>\n",
       "      <th>...</th>\n",
       "      <td>...</td>\n",
       "      <td>...</td>\n",
       "      <td>...</td>\n",
       "      <td>...</td>\n",
       "      <td>...</td>\n",
       "      <td>...</td>\n",
       "      <td>...</td>\n",
       "      <td>...</td>\n",
       "      <td>...</td>\n",
       "      <td>...</td>\n",
       "      <td>...</td>\n",
       "      <td>...</td>\n",
       "      <td>...</td>\n",
       "      <td>...</td>\n",
       "      <td>...</td>\n",
       "      <td>...</td>\n",
       "    </tr>\n",
       "    <tr>\n",
       "      <th>1095</th>\n",
       "      <td>1</td>\n",
       "      <td>0.325100</td>\n",
       "      <td>0.534999</td>\n",
       "      <td>0.387868</td>\n",
       "      <td>0.496596</td>\n",
       "      <td>0.270083</td>\n",
       "      <td>0.6</td>\n",
       "      <td>0.6</td>\n",
       "      <td>0.523810</td>\n",
       "      <td>0.518519</td>\n",
       "      <td>0.6</td>\n",
       "      <td>0.6</td>\n",
       "      <td>0.4</td>\n",
       "      <td>0.4</td>\n",
       "      <td>0.6</td>\n",
       "      <td>0.566667</td>\n",
       "    </tr>\n",
       "    <tr>\n",
       "      <th>1096</th>\n",
       "      <td>2</td>\n",
       "      <td>0.642299</td>\n",
       "      <td>0.535219</td>\n",
       "      <td>0.349828</td>\n",
       "      <td>0.314788</td>\n",
       "      <td>0.369987</td>\n",
       "      <td>0.6</td>\n",
       "      <td>0.2</td>\n",
       "      <td>0.428571</td>\n",
       "      <td>0.296296</td>\n",
       "      <td>0.0</td>\n",
       "      <td>0.8</td>\n",
       "      <td>0.6</td>\n",
       "      <td>0.0</td>\n",
       "      <td>0.0</td>\n",
       "      <td>0.400000</td>\n",
       "    </tr>\n",
       "    <tr>\n",
       "      <th>1097</th>\n",
       "      <td>0</td>\n",
       "      <td>0.062948</td>\n",
       "      <td>0.058792</td>\n",
       "      <td>0.114390</td>\n",
       "      <td>0.268881</td>\n",
       "      <td>0.061674</td>\n",
       "      <td>0.2</td>\n",
       "      <td>0.2</td>\n",
       "      <td>0.190476</td>\n",
       "      <td>0.111111</td>\n",
       "      <td>0.2</td>\n",
       "      <td>0.8</td>\n",
       "      <td>0.8</td>\n",
       "      <td>1.0</td>\n",
       "      <td>1.0</td>\n",
       "      <td>0.866667</td>\n",
       "    </tr>\n",
       "    <tr>\n",
       "      <th>1098</th>\n",
       "      <td>2</td>\n",
       "      <td>0.773272</td>\n",
       "      <td>0.815639</td>\n",
       "      <td>0.942162</td>\n",
       "      <td>0.780001</td>\n",
       "      <td>0.919513</td>\n",
       "      <td>0.8</td>\n",
       "      <td>0.8</td>\n",
       "      <td>1.000000</td>\n",
       "      <td>0.703704</td>\n",
       "      <td>1.0</td>\n",
       "      <td>0.2</td>\n",
       "      <td>0.2</td>\n",
       "      <td>0.4</td>\n",
       "      <td>0.2</td>\n",
       "      <td>0.000000</td>\n",
       "    </tr>\n",
       "    <tr>\n",
       "      <th>1099</th>\n",
       "      <td>2</td>\n",
       "      <td>0.647168</td>\n",
       "      <td>0.523793</td>\n",
       "      <td>0.812700</td>\n",
       "      <td>0.530848</td>\n",
       "      <td>0.784999</td>\n",
       "      <td>0.8</td>\n",
       "      <td>0.6</td>\n",
       "      <td>0.857143</td>\n",
       "      <td>0.555556</td>\n",
       "      <td>0.6</td>\n",
       "      <td>0.6</td>\n",
       "      <td>0.8</td>\n",
       "      <td>0.6</td>\n",
       "      <td>0.0</td>\n",
       "      <td>0.200000</td>\n",
       "    </tr>\n",
       "  </tbody>\n",
       "</table>\n",
       "<p>1100 rows × 16 columns</p>\n",
       "</div>"
      ],
      "text/plain": [
       "      stress_level  Social_Factors  Academic_Factors  Psychological_Factors  \\\n",
       "0                1        0.415363          0.416752               0.369453   \n",
       "1                2        0.904452          0.885636               0.757530   \n",
       "2                1        0.352415          0.468441               0.621253   \n",
       "3                2        0.841504          0.762118               0.734231   \n",
       "4                1        0.652454          0.461561               0.284297   \n",
       "...            ...             ...               ...                    ...   \n",
       "1095             1        0.325100          0.534999               0.387868   \n",
       "1096             2        0.642299          0.535219               0.349828   \n",
       "1097             0        0.062948          0.058792               0.114390   \n",
       "1098             2        0.773272          0.815639               0.942162   \n",
       "1099             2        0.647168          0.523793               0.812700   \n",
       "\n",
       "      Environmental_Factors  Physiological_Factors  bullying  \\\n",
       "0                  0.447660               0.397255       0.4   \n",
       "1                  0.660798               0.919513       1.0   \n",
       "2                  0.496543               0.273906       0.4   \n",
       "3                  0.667659               0.781176       1.0   \n",
       "4                  0.433083               0.182554       1.0   \n",
       "...                     ...                    ...       ...   \n",
       "1095               0.496596               0.270083       0.6   \n",
       "1096               0.314788               0.369987       0.6   \n",
       "1097               0.268881               0.061674       0.2   \n",
       "1098               0.780001               0.919513       0.8   \n",
       "1099               0.530848               0.784999       0.8   \n",
       "\n",
       "      future_career_concerns  anxiety_level  depression  headache  \\\n",
       "0                        0.6       0.666667    0.407407       0.4   \n",
       "1                        1.0       0.714286    0.555556       1.0   \n",
       "2                        0.4       0.571429    0.518519       0.4   \n",
       "3                        0.8       0.761905    0.555556       0.8   \n",
       "4                        0.4       0.761905    0.259259       0.4   \n",
       "...                      ...            ...         ...       ...   \n",
       "1095                     0.6       0.523810    0.518519       0.6   \n",
       "1096                     0.2       0.428571    0.296296       0.0   \n",
       "1097                     0.2       0.190476    0.111111       0.2   \n",
       "1098                     0.8       1.000000    0.703704       1.0   \n",
       "1099                     0.6       0.857143    0.555556       0.6   \n",
       "\n",
       "      basic_needs  safety  academic_performance  sleep_quality  self_esteem  \n",
       "0             0.4     0.6                   0.6            0.4     0.666667  \n",
       "1             0.4     0.4                   0.2            0.2     0.266667  \n",
       "2             0.4     0.6                   0.4            0.4     0.600000  \n",
       "3             0.4     0.4                   0.4            0.2     0.400000  \n",
       "4             0.6     0.8                   0.8            1.0     0.933333  \n",
       "...           ...     ...                   ...            ...          ...  \n",
       "1095          0.6     0.4                   0.4            0.6     0.566667  \n",
       "1096          0.8     0.6                   0.0            0.0     0.400000  \n",
       "1097          0.8     0.8                   1.0            1.0     0.866667  \n",
       "1098          0.2     0.2                   0.4            0.2     0.000000  \n",
       "1099          0.6     0.8                   0.6            0.0     0.200000  \n",
       "\n",
       "[1100 rows x 16 columns]"
      ]
     },
     "execution_count": 9,
     "metadata": {},
     "output_type": "execute_result"
    }
   ],
   "source": [
    "data"
   ]
  },
  {
   "cell_type": "code",
   "execution_count": 10,
   "id": "7fbbbae9",
   "metadata": {},
   "outputs": [],
   "source": [
    "data.to_csv('better_streelevel.csv')"
   ]
  },
  {
   "cell_type": "code",
   "execution_count": 11,
   "id": "07fd9c05",
   "metadata": {},
   "outputs": [],
   "source": [
    "X = data.iloc[:,1:]\n",
    "y = data['stress_level']"
   ]
  },
  {
   "cell_type": "code",
   "execution_count": 12,
   "id": "685c2ed5",
   "metadata": {},
   "outputs": [],
   "source": [
    "X_train, X_test, y_train, y_test = train_test_split(X, y, test_size=0.33, random_state=42)"
   ]
  },
  {
   "cell_type": "markdown",
   "id": "9db9c073",
   "metadata": {},
   "source": [
    "## 2.calculate and plot the similarity to normal distribution"
   ]
  },
  {
   "cell_type": "code",
   "execution_count": 13,
   "id": "4203fe5d",
   "metadata": {},
   "outputs": [
    {
     "data": {
      "text/html": [
       "<div>\n",
       "<style scoped>\n",
       "    .dataframe tbody tr th:only-of-type {\n",
       "        vertical-align: middle;\n",
       "    }\n",
       "\n",
       "    .dataframe tbody tr th {\n",
       "        vertical-align: top;\n",
       "    }\n",
       "\n",
       "    .dataframe thead th {\n",
       "        text-align: right;\n",
       "    }\n",
       "</style>\n",
       "<table border=\"1\" class=\"dataframe\">\n",
       "  <thead>\n",
       "    <tr style=\"text-align: right;\">\n",
       "      <th></th>\n",
       "      <th>Similarity to Normal Distribution (%)</th>\n",
       "    </tr>\n",
       "  </thead>\n",
       "  <tbody>\n",
       "    <tr>\n",
       "      <th>depression</th>\n",
       "      <td>93.665081</td>\n",
       "    </tr>\n",
       "    <tr>\n",
       "      <th>self_esteem</th>\n",
       "      <td>91.963151</td>\n",
       "    </tr>\n",
       "    <tr>\n",
       "      <th>academic_performance</th>\n",
       "      <td>90.565225</td>\n",
       "    </tr>\n",
       "    <tr>\n",
       "      <th>safety</th>\n",
       "      <td>90.363036</td>\n",
       "    </tr>\n",
       "    <tr>\n",
       "      <th>Environmental_Factors</th>\n",
       "      <td>89.959360</td>\n",
       "    </tr>\n",
       "    <tr>\n",
       "      <th>Physiological_Factors</th>\n",
       "      <td>89.723248</td>\n",
       "    </tr>\n",
       "    <tr>\n",
       "      <th>Psychological_Factors</th>\n",
       "      <td>89.574704</td>\n",
       "    </tr>\n",
       "    <tr>\n",
       "      <th>basic_needs</th>\n",
       "      <td>88.976822</td>\n",
       "    </tr>\n",
       "    <tr>\n",
       "      <th>Academic_Factors</th>\n",
       "      <td>88.689128</td>\n",
       "    </tr>\n",
       "    <tr>\n",
       "      <th>headache</th>\n",
       "      <td>88.159795</td>\n",
       "    </tr>\n",
       "    <tr>\n",
       "      <th>future_career_concerns</th>\n",
       "      <td>87.939331</td>\n",
       "    </tr>\n",
       "    <tr>\n",
       "      <th>anxiety_level</th>\n",
       "      <td>87.733578</td>\n",
       "    </tr>\n",
       "    <tr>\n",
       "      <th>bullying</th>\n",
       "      <td>87.722689</td>\n",
       "    </tr>\n",
       "    <tr>\n",
       "      <th>sleep_quality</th>\n",
       "      <td>87.525097</td>\n",
       "    </tr>\n",
       "    <tr>\n",
       "      <th>Social_Factors</th>\n",
       "      <td>83.493566</td>\n",
       "    </tr>\n",
       "  </tbody>\n",
       "</table>\n",
       "</div>"
      ],
      "text/plain": [
       "                        Similarity to Normal Distribution (%)\n",
       "depression                                          93.665081\n",
       "self_esteem                                         91.963151\n",
       "academic_performance                                90.565225\n",
       "safety                                              90.363036\n",
       "Environmental_Factors                               89.959360\n",
       "Physiological_Factors                               89.723248\n",
       "Psychological_Factors                               89.574704\n",
       "basic_needs                                         88.976822\n",
       "Academic_Factors                                    88.689128\n",
       "headache                                            88.159795\n",
       "future_career_concerns                              87.939331\n",
       "anxiety_level                                       87.733578\n",
       "bullying                                            87.722689\n",
       "sleep_quality                                       87.525097\n",
       "Social_Factors                                      83.493566"
      ]
     },
     "execution_count": 13,
     "metadata": {},
     "output_type": "execute_result"
    }
   ],
   "source": [
    "def calculate_similarity_to_normal_distribution(series):\n",
    "    \"\"\"\n",
    "    Calculate the similarity of a given series to a normal distribution.\n",
    "    This function uses mean squared error (MSE) between the histogram of the series\n",
    "    and a normal distribution with the same mean and standard deviation.\n",
    "    \"\"\"\n",
    "    # Generate a normal distribution with the same mean and std\n",
    "    mu, sigma = np.mean(series), np.std(series)\n",
    "    norm_dist = np.random.normal(mu, sigma, 1000)\n",
    "\n",
    "    # Calculate histograms\n",
    "    series_hist, bins = np.histogram(series, bins='auto', density=True)\n",
    "    norm_hist, _ = np.histogram(norm_dist, bins=bins, density=True)\n",
    "\n",
    "    # Calculate MSE\n",
    "    mse = np.mean((series_hist - norm_hist) ** 2)\n",
    "\n",
    "    # Calculate the maximum possible MSE (when all values fall into a single bin)\n",
    "    max_mse = np.max((series_hist - 0) ** 2)\n",
    "\n",
    "    # Calculate similarity as a percentage (1 - normalized MSE)\n",
    "    similarity = (1 - mse / max_mse) * 100\n",
    "\n",
    "    return similarity\n",
    "\n",
    "# Calculate similarity for each feature\n",
    "similarity_scores = {column: calculate_similarity_to_normal_distribution(data[column]) \n",
    "                     for column in data.columns.drop('stress_level')}  # Exclude the target variable\n",
    "\n",
    "similarity_scores_df = pd.DataFrame(similarity_scores, index=[\"Similarity to Normal Distribution (%)\"]).T\n",
    "similarity_scores_df.sort_values(by=\"Similarity to Normal Distribution (%)\", ascending=False)\n"
   ]
  },
  {
   "cell_type": "code",
   "execution_count": 14,
   "id": "073fa6ef",
   "metadata": {},
   "outputs": [
    {
     "data": {
      "image/png": "[encoded data removed]",
      "text/plain": [
       "<Figure size 1000x800 with 1 Axes>"
      ]
     },
     "metadata": {},
     "output_type": "display_data"
    }
   ],
   "source": [
    "# Sorting values for better visualization\n",
    "sorted_similarity_scores = similarity_scores_df.sort_values(by=\"Similarity to Normal Distribution (%)\", ascending=True)\n",
    "\n",
    "# Plotting\n",
    "plt.figure(figsize=(10, 8))\n",
    "plt.barh(sorted_similarity_scores.index, sorted_similarity_scores[\"Similarity to Normal Distribution (%)\"], color='skyblue')\n",
    "plt.xlabel('Similarity to Normal Distribution (%)')\n",
    "plt.title('Similarity of Each Feature to a Normal Distribution')\n",
    "plt.grid(axis='x')\n",
    "plt.show()"
   ]
  },
  {
   "cell_type": "markdown",
   "id": "28e3a642",
   "metadata": {},
   "source": [
    "The features are sorted in ascending order of similarity. The features closest to a normal distribution are 'future_career_concerns' and 'Social_Factors', both showing similarity scores of over 80%. On the other hand, features such as 'depression', 'self_esteem', and 'safety' show the least similarity to a normal distribution, with scores noticeably lower than the rest.\n",
    "\n",
    "The grouped features 'Psychological_Factors', 'Environmental_Factors', 'Physiological_Factors', and 'Academic_Factors' also have their similarity scores presented, which fall in the mid-range of the chart. Individual features like 'academic_performance', 'bullying', 'headache', 'anxiety_level', and 'sleep_quality' exhibit moderate similarity to a normal distribution, with scores around 50% or slightly higher.\n",
    "\n",
    "The conclusion from this chart is that the dataset contains a variety of features with different degrees of alignment to a normal distribution. Some features closely follow a normal distribution, which might be suitable for models that assume normality, while others do not, and may require transformation or different modeling techniques that do not assume a normal distribution of input data."
   ]
  },
  {
   "cell_type": "markdown",
   "id": "d4ac4d5c",
   "metadata": {},
   "source": [
    "## 3.plot the correlation between each features"
   ]
  },
  {
   "cell_type": "code",
   "execution_count": 15,
   "id": "ccdcdc78",
   "metadata": {},
   "outputs": [
    {
     "data": {
      "image/png": "[encoded data removed]",
      "text/plain": [
       "<Figure size 2000x1500 with 2 Axes>"
      ]
     },
     "metadata": {},
     "output_type": "display_data"
    }
   ],
   "source": [
    "corr_matrix = data.corr()\n",
    "plt.figure(figsize=(20, 15))\n",
    "sns.heatmap(corr_matrix, cmap='coolwarm', annot=True)\n",
    "plt.show()"
   ]
  },
  {
   "cell_type": "markdown",
   "id": "3753d704",
   "metadata": {},
   "source": [
    "\n",
    "The heatmap visualizes the correlation matrix for various features within the dataset, with the color intensity and the number in each cell representing the strength and direction of the correlation between the features. The scale ranges from -1 to 1, with 1 indicating perfect positive correlation, -1 indicating perfect negative correlation, and 0 indicating no correlation.\n",
    "\n",
    "From the heatmap, we can draw several conclusions:\n",
    "\n",
    "The feature stress_level shows strong positive correlations with all the grouped features such as Social_Factors, Academic_Factors, Psychological_Factors, Environmental_Factors, and Physiological_Factors. This suggests that these groups of factors are significantly associated with the stress level.\n",
    "\n",
    "Social_Factors, Academic_Factors, Psychological_Factors, Environmental_Factors, and Physiological_Factors are highly inter-correlated with each other, indicating that they might share common variance and possibly contribute in similar ways to the stress level.\n",
    "\n",
    "Individual features like bullying, future_career_concerns, anxiety_level, depression, and headache also show a high degree of positive correlation with the stress_level, suggesting these individual factors are relevant in understanding or predicting stress levels.\n",
    "\n",
    "In contrast, features like basic_needs and safety show negative correlations with stress_level, which could indicate that as basic needs and safety decrease, stress levels increase.\n",
    "\n",
    "self_esteem shows a strong negative correlation with stress_level, meaning higher self-esteem might be associated with lower levels of stress.\n",
    "\n",
    "The feature sleep_quality also has a strong negative correlation with stress_level, suggesting that poor sleep quality could be an indicator of higher stress.\n",
    "\n",
    "Overall, the heatmap provides a comprehensive view of how different factors are related to each other and particularly to the stress level, which could be invaluable for constructing predictive models or for designing interventions to reduce stress."
   ]
  },
  {
   "cell_type": "markdown",
   "id": "34508cf5",
   "metadata": {},
   "source": [
    "# Bayesian classifier"
   ]
  },
  {
   "cell_type": "markdown",
   "id": "ca22d4ea",
   "metadata": {},
   "source": [
    "## 1.Define classifier rubrics"
   ]
  },
  {
   "cell_type": "code",
   "execution_count": 16,
   "id": "cb14c902",
   "metadata": {},
   "outputs": [],
   "source": [
    "model_list = []\n",
    "accuracy_list = []\n",
    "precision_list = []\n",
    "recall_list = []\n",
    "f1_list = []"
   ]
  },
  {
   "cell_type": "code",
   "execution_count": 17,
   "id": "c2435a37",
   "metadata": {},
   "outputs": [],
   "source": [
    "def evaluate_model(name, y_test, y_pred):\n",
    "    model_list.append(name)\n",
    "    accuracy = accuracy_score(y_test, y_pred)\n",
    "    precision = precision_score(y_test, y_pred, average='weighted')\n",
    "    recall = recall_score(y_test, y_pred, average='weighted')\n",
    "    f1 = f1_score(y_test, y_pred, average='weighted')\n",
    "    accuracy_list.append(accuracy)\n",
    "    precision_list.append(precision)\n",
    "    recall_list.append(recall)\n",
    "    f1_list.append(f1)\n",
    "    conf_matrix = confusion_matrix(y_test, y_pred)\n",
    "\n",
    "    print(\"Accuracy:\", accuracy)\n",
    "    print(\"Precision:\", precision)\n",
    "    print(\"Recall:\", recall)\n",
    "    print(\"F1 Score:\", f1)\n",
    "    print(\"Confusion Matrix:\\n\", conf_matrix)"
   ]
  },
  {
   "cell_type": "markdown",
   "id": "4836d4e5",
   "metadata": {},
   "source": [
    "## 2.Bayesian model training and prediction"
   ]
  },
  {
   "cell_type": "markdown",
   "id": "c3863800",
   "metadata": {},
   "source": [
    "## (1)Multinomial Naive Bayes¶"
   ]
  },
  {
   "cell_type": "markdown",
   "id": "1d6bb34b",
   "metadata": {},
   "source": [
    "MultinomiatNB implements the naive Bayes algorithm for multinomially distributed data, and is one of the two classic naive Bayes variants used in text classification (where the data are typically represented as word vector counts, although tf-idf vectors are also known to work well in practice). The distribution is parametrized by vectors $\\theta_y=\\left(\\theta_{y 1}, \\ldots, \\theta_{y n}\\right)$ for each class $y$, where $n$ is the number of features (in text classification, the size of the vocabulary) and $\\theta_{y i}$ is the probability $P\\left(x_i \\mid y\\right)$ of feature $i$ appearing in a sample belonging to class $y$.\n",
    "\n",
    "The parameters $\\theta_y$ is estimated by a smoothed version of maximum likelihood, i.e. relative frequency counting:\n",
    "$$\n",
    "\\hat{\\theta}_{y i}=\\frac{N_{y i}+\\alpha}{N_y+\\alpha n}\n",
    "$$\n",
    "where $N_{y i}=\\sum_{x \\in T} x_i$ is the number of times feature $i$ appears in a sample of class $y$ in the training set $T$, and $N_y=\\sum_{i=1}^n N_{y i}$ is the total count of all features for class $y$.\n",
    "\n",
    "The smoothing priors $\\alpha \\geq 0$ accounts for features not present in the learning samples and prevents zero probabilities in further computations. Setting $\\alpha=1$ is called Laplace smoothing, while $\\alpha<1$ is called Lidstone smoothing."
   ]
  },
  {
   "cell_type": "code",
   "execution_count": 18,
   "id": "5351ecbf-2c95-4c92-aea0-7b533abb306a",
   "metadata": {},
   "outputs": [
    {
     "name": "stdout",
     "output_type": "stream",
     "text": [
      "Accuracy: 0.90633608815427\n",
      "Precision: 0.9165132660752735\n",
      "Recall: 0.90633608815427\n",
      "F1 Score: 0.9069794723389754\n",
      "Confusion Matrix:\n",
      " [[106  16   4]\n",
      " [  0 119   3]\n",
      " [  1  10 104]]\n"
     ]
    }
   ],
   "source": [
    "# Create a Multinomial Naive Bayes classifier\n",
    "mnb_model = MultinomialNB()\n",
    "\n",
    "# Train the model\n",
    "mnb_model.fit(X_train, y_train)\n",
    "\n",
    "# Predictions on the test set\n",
    "y_pred = mnb_model.predict(X_test)\n",
    "\n",
    "# Evaluate the model\n",
    "evaluate_model('Multinomial Naive Bayes', y_test, y_pred)"
   ]
  },
  {
   "cell_type": "markdown",
   "id": "38223071",
   "metadata": {},
   "source": [
    "## (2)Gaussian Naive Bayes"
   ]
  },
  {
   "cell_type": "markdown",
   "id": "7cd4621e",
   "metadata": {},
   "source": [
    "GaussianNB implements the Gaussian Naive Bayes algorithm for classification. The likelihood of the features is assumed to be Gaussian:\n",
    "$$\n",
    "P\\left(x_i \\mid y\\right)=\\frac{1}{\\sqrt{2 \\pi \\sigma_y^2}} \\exp \\left(-\\frac{\\left(x_i-\\mu_y\\right)^2}{2 \\sigma_y^2}\\right)\n",
    "$$\n",
    "\n",
    "The parameters $\\sigma_y$ and $\\mu_y$ are estimated using maximum likelihood."
   ]
  },
  {
   "cell_type": "code",
   "execution_count": 19,
   "id": "60205669-afbc-45c6-9f79-fdc3e93bff09",
   "metadata": {
    "scrolled": true
   },
   "outputs": [
    {
     "name": "stdout",
     "output_type": "stream",
     "text": [
      "Accuracy: 0.9173553719008265\n",
      "Precision: 0.9188650625447756\n",
      "Recall: 0.9173553719008265\n",
      "F1 Score: 0.9173547171569326\n",
      "Confusion Matrix:\n",
      " [[111   6   9]\n",
      " [  3 113   6]\n",
      " [  4   2 109]]\n"
     ]
    }
   ],
   "source": [
    "gnb_model = GaussianNB()\n",
    "\n",
    "# Train the model\n",
    "gnb_model.fit(X_train, y_train)\n",
    "\n",
    "# Predictions on the test set\n",
    "y_pred = gnb_model.predict(X_test)\n",
    "\n",
    "# Evaluate the model\n",
    "evaluate_model('Gaussian Naive Bayes', y_test, y_pred)"
   ]
  },
  {
   "cell_type": "markdown",
   "id": "0ed7ee59",
   "metadata": {},
   "source": [
    "## (3)Complement Naive Bayes"
   ]
  },
  {
   "cell_type": "markdown",
   "id": "4b0dee1f",
   "metadata": {},
   "source": [
    "ComplementNB implements the complement naive Bayes (CNB) algorithm. CNB is an adaptation of the standard multinomial naive Bayes (MNB) algorithm that is particularly suited for imbalanced data sets. Specifically, CNB uses statistics from the complement of each class to compute the model's weights. The inventors of CNB show empirically that the parameter estimates for CNB are more stable than those for MNB. Further, CNB regularly outperforms MNB (often by a considerable margin) on text classification tasks. The procedure for calculating the weights is as follows:\n",
    "$$\n",
    "\\begin{array}{r}\n",
    "\\hat{\\theta}_{c i}=\\frac{\\alpha_i+\\sum_{j: y_j \\neq c} d_{i j}}{\\alpha+\\sum_{j: y_j \\neq c} \\sum_k d_{k j}} \\\\\n",
    "w_{c i}=\\log \\hat{\\theta}_{c i} \\\\\n",
    "w_{c i}=\\frac{w_{c i}}{\\sum_j\\left|w_{c j}\\right|}\n",
    "\\end{array}\n",
    "$$\n",
    "where the summations are over all documents $j$ not in class $c, d_{i j}$ is either the count or tf-idf value of term $i$ in document $j, \\alpha_i$ is a smoothing hyperparameter like that found in MNB, and $\\alpha=\\sum_i \\alpha_i$. The second normalization addresses the tendency for longer documents to dominate parameter estimates in MNB. The classification rule is:\n",
    "$$\n",
    "\\hat{c}=\\arg \\min _c \\sum_i t_i w_{c i}\n",
    "$$\n",
    "i.e., a document is assigned to the class that is the poorest complement match."
   ]
  },
  {
   "cell_type": "code",
   "execution_count": 20,
   "id": "05a1f9d4",
   "metadata": {},
   "outputs": [
    {
     "name": "stdout",
     "output_type": "stream",
     "text": [
      "Accuracy: 0.6198347107438017\n",
      "Precision: 0.41199476132412044\n",
      "Recall: 0.6198347107438017\n",
      "F1 Score: 0.4946377241894595\n",
      "Confusion Matrix:\n",
      " [[114   0  12]\n",
      " [ 62   0  60]\n",
      " [  4   0 111]]\n"
     ]
    },
    {
     "name": "stderr",
     "output_type": "stream",
     "text": [
      "/Users/start/opt/anaconda3/envs/pytorch/lib/python3.8/site-packages/sklearn/metrics/_classification.py:1344: UndefinedMetricWarning: Precision is ill-defined and being set to 0.0 in labels with no predicted samples. Use `zero_division` parameter to control this behavior.\n",
      "  _warn_prf(average, modifier, msg_start, len(result))\n"
     ]
    }
   ],
   "source": [
    "cpl_model = ComplementNB()\n",
    "\n",
    "# Train the model\n",
    "cpl_model.fit(X_train, y_train)\n",
    "\n",
    "# Predictions on the test set\n",
    "y_pred = cpl_model.predict(X_test)\n",
    "\n",
    "# Evaluate the model\n",
    "evaluate_model('Complement Naive Bayes', y_test, y_pred)"
   ]
  },
  {
   "cell_type": "markdown",
   "id": "fa5b7eeb",
   "metadata": {},
   "source": [
    "## (4)Bernoulli Naive Bayes"
   ]
  },
  {
   "cell_type": "markdown",
   "id": "4ba7bd0c",
   "metadata": {},
   "source": [
    "BernoulliNB implements the naive Bayes training and classification algorithms for data that is distributed according to multivariate Bernoulli distributions; i.e., there may be multiple features but each one is assumed to be a binary-valued (Bernoulli, boolean) variable. Therefore, this class requires samples to be represented as binary-valued feature vectors; if handed any other kind of data, a BernoulliNB instance may binarize its input (depending on the binarize parameter).\n",
    "\n",
    "The decision rule for Bernoulli naive Bayes is based on\n",
    "\n",
    "$$\n",
    "P\\left(x_i \\mid y\\right)=P\\left(x_i=1 \\mid y\\right) x_i+\\left(1-P\\left(x_i=1 \\mid y\\right)\\right)\\left(1-x_i\\right)\n",
    "$$\n",
    "\n",
    "which differs from multinomial NB's rule in that it explicitly penalizes the non-occurrence of a feature $i$ that is an indicator for class $y$, where the multinomial variant would simply ignore a non-occurring feature.\n",
    "\n",
    "In the case of text classification, word occurrence vectors (rather than word count vectors) may be used to train and use this classifier. Bernoul liNB might perform better on some datasets, especially those with shorter documents. It is advisable to evaluate both models, if time permits."
   ]
  },
  {
   "cell_type": "code",
   "execution_count": 21,
   "id": "ecbf1298-d190-4928-8f3a-7fc2d82c6ce2",
   "metadata": {},
   "outputs": [
    {
     "name": "stdout",
     "output_type": "stream",
     "text": [
      "Accuracy: 0.48760330578512395\n",
      "Precision: 0.5836649417425468\n",
      "Recall: 0.48760330578512395\n",
      "F1 Score: 0.4440664576785141\n",
      "Confusion Matrix:\n",
      " [[ 55  64   7]\n",
      " [  3 110   9]\n",
      " [  3 100  12]]\n"
     ]
    }
   ],
   "source": [
    "ber_model = BernoulliNB()\n",
    "\n",
    "# Train the model\n",
    "ber_model.fit(X_train, y_train)\n",
    "\n",
    "# Predictions on the test set\n",
    "y_pred = ber_model.predict(X_test)\n",
    "\n",
    "# Evaluate the model\n",
    "evaluate_model('Bernoulli Naive Bayes', y_test, y_pred)"
   ]
  },
  {
   "cell_type": "markdown",
   "id": "fe71ea5c",
   "metadata": {},
   "source": [
    "## 3.Performance Comparison of Different Models"
   ]
  },
  {
   "cell_type": "code",
   "execution_count": 22,
   "id": "7cd6dfc1",
   "metadata": {},
   "outputs": [
    {
     "data": {
      "image/png": "[encoded data removed]",
      "text/plain": [
       "<Figure size 1000x600 with 1 Axes>"
      ]
     },
     "metadata": {},
     "output_type": "display_data"
    }
   ],
   "source": [
    "# Number of models\n",
    "n_models = len(model_list)\n",
    "\n",
    "# Creating bar positions\n",
    "barWidth = 0.2\n",
    "r1 = np.arange(n_models)\n",
    "r2 = [x + barWidth for x in r1]\n",
    "r3 = [x + barWidth for x in r2]\n",
    "r4 = [x + barWidth for x in r3]\n",
    "\n",
    "# Creating the bar plot\n",
    "plt.figure(figsize=(10, 6))\n",
    "plt.bar(r1, accuracy_list, color='blue', width=barWidth, edgecolor='grey', label='Accuracy')\n",
    "plt.bar(r2, precision_list, color='red', width=barWidth, edgecolor='grey', label='Precision')\n",
    "plt.bar(r3, recall_list, color='green', width=barWidth, edgecolor='grey', label='Recall')\n",
    "plt.bar(r4, f1_list, color='orange', width=barWidth, edgecolor='grey', label='F1 Score')\n",
    "\n",
    "# Adding labels\n",
    "plt.xlabel('Model', fontweight='bold')\n",
    "plt.ylabel('Scores', fontweight='bold')\n",
    "plt.xticks([r + barWidth for r in range(n_models)], model_list)\n",
    "\n",
    "# Creating legend & title\n",
    "plt.title('Performance Comparison of Different Models')\n",
    "plt.legend()\n",
    "\n",
    "# Show the plot\n",
    "plt.tight_layout()\n",
    "plt.show()\n"
   ]
  },
  {
   "cell_type": "markdown",
   "id": "7b59aff3",
   "metadata": {},
   "source": [
    "The bar chart illustrates a performance comparison of four different Naive Bayes models across four evaluation metrics: Accuracy, Precision, Recall, and F1 Score.\n",
    "\n",
    "The Multinomial Naive Bayes model demonstrates consistently high scores across all metrics, suggesting it is well-suited for the dataset at hand.\n",
    "\n",
    "The Gaussian Naive Bayes model also shows high performance but slightly lower than the Multinomial model in every metric.\n",
    "\n",
    "The Complement Naive Bayes model displays varied performance, with notably lower Recall and F1 Score compared to Accuracy and Precision, indicating it may not be as effective in capturing all positive instances.\n",
    "\n",
    "The Bernoulli Naive Bayes model generally appears to have the lowest scores across all metrics, which might suggest it is less appropriate for this particular dataset or might need parameter tuning.\n",
    "\n",
    "In summary, based on this visual comparison, the Multinomial Naive Bayes classifier outperforms the other models in this scenario, and the Gaussian Naive Bayes follows closely. The Complement and Bernoulli Naive Bayes classifiers might require further investigation or modifications to improve their performance."
   ]
  },
  {
   "cell_type": "code",
   "execution_count": 23,
   "id": "23cf66da",
   "metadata": {},
   "outputs": [
    {
     "data": {
      "image/png": "[encoded data removed]",
      "text/plain": [
       "<Figure size 1000x600 with 1 Axes>"
      ]
     },
     "metadata": {},
     "output_type": "display_data"
    }
   ],
   "source": [
    "# Finding the min and max values among all scores to set y-axis limits\n",
    "min_score = min(min(accuracy_list), min(precision_list), min(recall_list), min(f1_list))\n",
    "max_score = max(max(accuracy_list), max(precision_list), max(recall_list), max(f1_list))\n",
    "\n",
    "# Adding a small buffer to min and max values for better visualization\n",
    "buffer = 0.05\n",
    "y_min = max(0, min_score - buffer)  # Ensuring y_min is not less than 0\n",
    "y_max = min(1, max_score + buffer)  # Ensuring y_max does not exceed 1\n",
    "\n",
    "# Creating the line plot with adjusted y-axis limits\n",
    "plt.figure(figsize=(10, 6))\n",
    "plt.plot(model_list, accuracy_list, label='Accuracy', marker='o')\n",
    "plt.plot(model_list, precision_list, label='Precision', marker='o')\n",
    "plt.plot(model_list, recall_list, label='Recall', marker='o')\n",
    "plt.plot(model_list, f1_list, label='F1 Score', marker='o')\n",
    "\n",
    "plt.title('Performance Comparison of Different Models (Line Plot)')\n",
    "plt.xlabel('Model')\n",
    "plt.ylabel('Scores')\n",
    "plt.ylim(y_min, y_max)\n",
    "plt.legend()\n",
    "plt.grid(True)\n",
    "plt.show()"
   ]
  },
  {
   "cell_type": "markdown",
   "id": "2cb2c12e",
   "metadata": {},
   "source": [
    "\n",
    "The line plot illustrates the performance comparison of four different Naive Bayes models—Multinomial, Gaussian, Complement, and Bernoulli—across four evaluation metrics: Accuracy, Precision, Recall, and F1 Score.\n",
    "\n",
    "From the plot, we can conclude the following:\n",
    "\n",
    "The Multinomial Naive Bayes model shows consistently high performance across all metrics, indicating it is very effective for the given dataset.\n",
    "\n",
    "The Gaussian Naive Bayes model has similar performance levels to the Multinomial model, although it shows a slight decrease in the Recall metric.\n",
    "\n",
    "The Complement Naive Bayes model experiences a significant drop in performance in terms of Recall and F1 Score, which suggests that while it may predict the majority class well, it struggles with correctly identifying instances of the minority class.\n",
    "\n",
    "The Bernoulli Naive Bayes model has the lowest scores across all metrics, indicating that it may not be suitable for the dataset or requires significant parameter tuning to improve performance.\n",
    "\n",
    "Overall, the Multinomial and Gaussian Naive Bayes models are the top performers for this dataset, and the Bernoulli Naive Bayes model is the least effective according to these metrics."
   ]
  },
  {
   "cell_type": "markdown",
   "id": "190f1d32",
   "metadata": {},
   "source": [
    "## 4.comment"
   ]
  },
  {
   "cell_type": "markdown",
   "id": "38ee26b4",
   "metadata": {},
   "source": [
    "### Why is Gaussian Naive Bayes the most accurate?"
   ]
  },
  {
   "cell_type": "markdown",
   "id": "fe16c322",
   "metadata": {},
   "source": [
    "1.The effectiveness of the Gaussian Naive Bayes classifier for your dataset arises from a good match between the distribution of your features and the Gaussian (normal) distribution assumed by the model."
   ]
  },
  {
   "cell_type": "markdown",
   "id": "c2a9c9e8",
   "metadata": {},
   "source": [
    "2.The Complement Naive Bayes classifier may underperform on balanced datasets or when features don't follow the expected distribution, as it's specifically designed for imbalanced data and text classification. If your dataset doesn't fit these criteria, CNB may not provide any advantage over other classifiers."
   ]
  },
  {
   "cell_type": "markdown",
   "id": "5876cb02",
   "metadata": {},
   "source": [
    "# Bayesian Networks"
   ]
  },
  {
   "cell_type": "code",
   "execution_count": 24,
   "id": "4f83b341",
   "metadata": {},
   "outputs": [],
   "source": [
    "from pgmpy.models import BayesianNetwork\n",
    "from pgmpy.estimators import HillClimbSearch, BicScore, TreeSearch, PC,K2Score\n",
    "from sklearn.model_selection import train_test_split\n",
    "from pgmpy.inference import VariableElimination\n",
    "from pgmpy.estimators import MaximumLikelihoodEstimator, BayesianEstimator"
   ]
  },
  {
   "cell_type": "code",
   "execution_count": 25,
   "id": "e11c8950",
   "metadata": {},
   "outputs": [],
   "source": [
    "# Split the data into training and testing sets\n",
    "train_data, test_data = train_test_split(data, test_size=0.2, random_state=42)"
   ]
  },
  {
   "cell_type": "markdown",
   "id": "d6530f94",
   "metadata": {},
   "source": [
    "## 1.Add a blacklist to specify that certain edges should not be present in the learned network."
   ]
  },
  {
   "cell_type": "code",
   "execution_count": 26,
   "id": "853f155b",
   "metadata": {},
   "outputs": [],
   "source": [
    "blacklist = [('stress_level', 'anxiety_level'),\n",
    " ('stress_level', 'self_esteem'),\n",
    " ('stress_level', 'depression'),\n",
    " ('stress_level', 'Psychological_Factors'),\n",
    " ('stress_level', 'headache'),\n",
    " ('stress_level', 'sleep_quality'),\n",
    " ('stress_level', 'Physiological_Factors'),\n",
    " ('stress_level', 'safety'),\n",
    " ('stress_level', 'basic_needs'),\n",
    " ('stress_level', 'Environmental_Factors'),\n",
    " ('stress_level', 'academic_performance'),\n",
    " ('stress_level', 'future_career_concerns'),\n",
    " ('stress_level', 'Academic_Factors'),\n",
    " ('stress_level', 'bullying'),\n",
    " ('stress_level', 'Social_Factors')]"
   ]
  },
  {
   "cell_type": "markdown",
   "id": "9699a379",
   "metadata": {},
   "source": [
    "## 2.Use HillClimbSearch to learn the structure of the Bayesian network"
   ]
  },
  {
   "cell_type": "code",
   "execution_count": 27,
   "id": "ea2ad104",
   "metadata": {},
   "outputs": [
    {
     "data": {
      "application/vnd.jupyter.widget-view+json": {
       "model_id": "7f1aff0cc9184d8181456b0d00562ba1",
       "version_major": 2,
       "version_minor": 0
      },
      "text/plain": [
       "  0%|          | 0/1000000 [00:00<?, ?it/s]"
      ]
     },
     "metadata": {},
     "output_type": "display_data"
    },
    {
     "name": "stdout",
     "output_type": "stream",
     "text": [
      "Learned Structure: [('bullying', 'future_career_concerns'), ('bullying', 'stress_level'), ('bullying', 'sleep_quality'), ('bullying', 'headache'), ('bullying', 'academic_performance'), ('bullying', 'safety'), ('bullying', 'anxiety_level'), ('bullying', 'self_esteem'), ('future_career_concerns', 'basic_needs'), ('sleep_quality', 'depression')]\n"
     ]
    }
   ],
   "source": [
    "hc = HillClimbSearch(train_data)\n",
    "bic = BicScore(train_data)\n",
    "best_model = hc.estimate(scoring_method=bic, black_list=blacklist)\n",
    "edges = list(best_model.edges())\n",
    "\n",
    "# Print the learned structure\n",
    "print(\"Learned Structure:\", edges)"
   ]
  },
  {
   "cell_type": "markdown",
   "id": "9d06086f",
   "metadata": {},
   "source": [
    "## 3.plot the directed grapha"
   ]
  },
  {
   "cell_type": "code",
   "execution_count": 28,
   "id": "6c0310f2",
   "metadata": {},
   "outputs": [
    {
     "data": {
      "image/png": "[encoded data removed]",
      "text/plain": [
       "<Figure size 1000x800 with 1 Axes>"
      ]
     },
     "metadata": {},
     "output_type": "display_data"
    }
   ],
   "source": [
    "G = nx.DiGraph()\n",
    "G.add_edges_from(edges)\n",
    "\n",
    "plt.figure(figsize=(10, 8))\n",
    "\n",
    "# Using a circular layout to ensure no overlap\n",
    "pos = nx.circular_layout(G) \n",
    "nx.draw(G, pos, with_labels=True, node_color='lightblue', edge_color='gray', node_size=2500, font_size=10)\n",
    "plt.title(\"Bayesian Network Structure with Circular Layout\")\n",
    "plt.show()"
   ]
  },
  {
   "cell_type": "markdown",
   "id": "8ea2dbdb",
   "metadata": {},
   "source": [
    "## 4.Learn the parameters of the Bayesian network"
   ]
  },
  {
   "cell_type": "code",
   "execution_count": 29,
   "id": "9650b9ce",
   "metadata": {},
   "outputs": [],
   "source": [
    "model = BayesianNetwork(edges)\n",
    "model.fit(train_data, estimator=BayesianEstimator)"
   ]
  },
  {
   "cell_type": "markdown",
   "id": "ac91860f",
   "metadata": {},
   "source": [
    "## 5.check the cpd of each nodes"
   ]
  },
  {
   "cell_type": "code",
   "execution_count": 30,
   "id": "82af2a59",
   "metadata": {},
   "outputs": [
    {
     "name": "stdout",
     "output_type": "stream",
     "text": [
      "CPT of bullying:\n",
      "+------------------------------+----------+\n",
      "| bullying(0.0)                | 0.03371  |\n",
      "+------------------------------+----------+\n",
      "| bullying(0.2)                | 0.300377 |\n",
      "+------------------------------+----------+\n",
      "| bullying(0.4)                | 0.156874 |\n",
      "+------------------------------+----------+\n",
      "| bullying(0.6000000000000001) | 0.179473 |\n",
      "+------------------------------+----------+\n",
      "| bullying(0.8)                | 0.174953 |\n",
      "+------------------------------+----------+\n",
      "| bullying(1.0)                | 0.154614 |\n",
      "+------------------------------+----------+ \n",
      "\n",
      "CPT of future_career_concerns:\n",
      "+-----+----------------------+\n",
      "| ... | bullying(1.0)        |\n",
      "+-----+----------------------+\n",
      "| ... | 0.037555826228177026 |\n",
      "+-----+----------------------+\n",
      "| ... | 0.008323183110028422 |\n",
      "+-----+----------------------+\n",
      "| ... | 0.05217214778725133  |\n",
      "+-----+----------------------+\n",
      "| ... | 0.05217214778725133  |\n",
      "+-----+----------------------+\n",
      "| ... | 0.38834754364596025  |\n",
      "+-----+----------------------+\n",
      "| ... | 0.46142915144133173  |\n",
      "+-----+----------------------+ \n",
      "\n",
      "CPT of stress_level:\n",
      "+-----------------+-----+--------------------+\n",
      "| bullying        | ... | bullying(1.0)      |\n",
      "+-----------------+-----+--------------------+\n",
      "| stress_level(0) | ... | 0.0678034916768169 |\n",
      "+-----------------+-----+--------------------+\n",
      "| stress_level(1) | ... | 0.0824198132358912 |\n",
      "+-----------------+-----+--------------------+\n",
      "| stress_level(2) | ... | 0.849776695087292  |\n",
      "+-----------------+-----+--------------------+ \n",
      "\n",
      "CPT of sleep_quality:\n",
      "+-----------------------------------+-----+----------------------+\n",
      "| bullying                          | ... | bullying(1.0)        |\n",
      "+-----------------------------------+-----+----------------------+\n",
      "| sleep_quality(0.0)                | ... | 0.04486398700771418  |\n",
      "+-----------------------------------+-----+----------------------+\n",
      "| sleep_quality(0.2)                | ... | 0.812220868859115    |\n",
      "+-----------------------------------+-----+----------------------+\n",
      "| sleep_quality(0.4)                | ... | 0.008323183110028422 |\n",
      "+-----------------------------------+-----+----------------------+\n",
      "| sleep_quality(0.6000000000000001) | ... | 0.037555826228177026 |\n",
      "+-----------------------------------+-----+----------------------+\n",
      "| sleep_quality(0.8)                | ... | 0.04486398700771418  |\n",
      "+-----------------------------------+-----+----------------------+\n",
      "| sleep_quality(1.0)                | ... | 0.05217214778725133  |\n",
      "+-----------------------------------+-----+----------------------+ \n",
      "\n",
      "CPT of headache:\n",
      "+------------------------------+-----+----------------------+\n",
      "| bullying                     | ... | bullying(1.0)        |\n",
      "+------------------------------+-----+----------------------+\n",
      "| headache(0.0)                | ... | 0.05948030856678848  |\n",
      "+------------------------------+-----+----------------------+\n",
      "| headache(0.2)                | ... | 0.037555826228177026 |\n",
      "+------------------------------+-----+----------------------+\n",
      "| headache(0.4)                | ... | 0.03024766544863988  |\n",
      "+------------------------------+-----+----------------------+\n",
      "| headache(0.6000000000000001) | ... | 0.3152659358505887   |\n",
      "+------------------------------+-----+----------------------+\n",
      "| headache(0.8)                | ... | 0.27141697117336583  |\n",
      "+------------------------------+-----+----------------------+\n",
      "| headache(1.0)                | ... | 0.2860332927324401   |\n",
      "+------------------------------+-----+----------------------+ \n",
      "\n",
      "CPT of academic_performance:\n",
      "+-----+----------------------+\n",
      "| ... | bullying(1.0)        |\n",
      "+-----+----------------------+\n",
      "| ... | 0.03024766544863988  |\n",
      "+-----+----------------------+\n",
      "| ... | 0.4833536337799432   |\n",
      "+-----+----------------------+\n",
      "| ... | 0.38834754364596025  |\n",
      "+-----+----------------------+\n",
      "| ... | 0.015631343889565573 |\n",
      "+-----+----------------------+\n",
      "| ... | 0.04486398700771418  |\n",
      "+-----+----------------------+\n",
      "| ... | 0.037555826228177026 |\n",
      "+-----+----------------------+ \n",
      "\n",
      "CPT of safety:\n",
      "+----------------------------+-----+----------------------+\n",
      "| bullying                   | ... | bullying(1.0)        |\n",
      "+----------------------------+-----+----------------------+\n",
      "| safety(0.0)                | ... | 0.04486398700771418  |\n",
      "+----------------------------+-----+----------------------+\n",
      "| safety(0.2)                | ... | 0.3956557044254974   |\n",
      "+----------------------------+-----+----------------------+\n",
      "| safety(0.4)                | ... | 0.44681282988225746  |\n",
      "+----------------------------+-----+----------------------+\n",
      "| safety(0.6000000000000001) | ... | 0.05217214778725133  |\n",
      "+----------------------------+-----+----------------------+\n",
      "| safety(0.8)                | ... | 0.037555826228177026 |\n",
      "+----------------------------+-----+----------------------+\n",
      "| safety(1.0)                | ... | 0.022939504669102724 |\n",
      "+----------------------------+-----+----------------------+ \n",
      "\n",
      "CPT of anxiety_level:\n",
      "+-----+-----------------------+\n",
      "| ... | bullying(1.0)         |\n",
      "+-----+-----------------------+\n",
      "| ... | 0.007584985051489315  |\n",
      "+-----+-----------------------+\n",
      "| ... | 0.007584985051489315  |\n",
      "+-----+-----------------------+\n",
      "| ... | 0.014893145831026468  |\n",
      "+-----+-----------------------+\n",
      "| ... | 0.0002768242719521648 |\n",
      "+-----+-----------------------+\n",
      "| ... | 0.014893145831026468  |\n",
      "+-----+-----------------------+\n",
      "| ... | 0.014893145831026468  |\n",
      "+-----+-----------------------+\n",
      "| ... | 0.022201306610563618  |\n",
      "+-----+-----------------------+\n",
      "| ... | 0.007584985051489315  |\n",
      "+-----+-----------------------+\n",
      "| ... | 0.0002768242719521648 |\n",
      "+-----+-----------------------+\n",
      "| ... | 0.007584985051489315  |\n",
      "+-----+-----------------------+\n",
      "| ... | 0.0002768242719521648 |\n",
      "+-----+-----------------------+\n",
      "| ... | 0.0002768242719521648 |\n",
      "+-----+-----------------------+\n",
      "| ... | 0.014893145831026468  |\n",
      "+-----+-----------------------+\n",
      "| ... | 0.007584985051489315  |\n",
      "+-----+-----------------------+\n",
      "| ... | 0.007584985051489315  |\n",
      "+-----+-----------------------+\n",
      "| ... | 0.13182371830362088   |\n",
      "+-----+-----------------------+\n",
      "| ... | 0.08797475362639796   |\n",
      "+-----+-----------------------+\n",
      "| ... | 0.11720739674454658   |\n",
      "+-----+-----------------------+\n",
      "| ... | 0.15374820064223235   |\n",
      "+-----+-----------------------+\n",
      "| ... | 0.16836452220130665   |\n",
      "+-----+-----------------------+\n",
      "| ... | 0.09528291440593512   |\n",
      "+-----+-----------------------+\n",
      "| ... | 0.11720739674454658   |\n",
      "+-----+-----------------------+ \n",
      "\n",
      "CPT of self_esteem:\n",
      "+----------------------------------+-----+-----------------------+\n",
      "| bullying                         | ... | bullying(1.0)         |\n",
      "+----------------------------------+-----+-----------------------+\n",
      "| self_esteem(0.0)                 | ... | 0.03673725983261952   |\n",
      "+----------------------------------+-----+-----------------------+\n",
      "| self_esteem(0.03333333333333333) | ... | 0.08058622450984239   |\n",
      "+----------------------------------+-----+-----------------------+\n",
      "| self_esteem(0.06666666666666667) | ... | 0.022120938273545228  |\n",
      "+----------------------------------+-----+-----------------------+\n",
      "| self_esteem(0.1)                 | ... | 0.0659699029507681    |\n",
      "+----------------------------------+-----+-----------------------+\n",
      "| self_esteem(0.13333333333333333) | ... | 0.029429099053082376  |\n",
      "+----------------------------------+-----+-----------------------+\n",
      "| self_esteem(0.16666666666666666) | ... | 0.05135358139169381   |\n",
      "+----------------------------------+-----+-----------------------+\n",
      "| self_esteem(0.2)                 | ... | 0.04404542061215667   |\n",
      "+----------------------------------+-----+-----------------------+\n",
      "| self_esteem(0.23333333333333334) | ... | 0.08789438528937954   |\n",
      "+----------------------------------+-----+-----------------------+\n",
      "| self_esteem(0.26666666666666666) | ... | 0.08058622450984239   |\n",
      "+----------------------------------+-----+-----------------------+\n",
      "| self_esteem(0.3)                 | ... | 0.04404542061215667   |\n",
      "+----------------------------------+-----+-----------------------+\n",
      "| self_esteem(0.3333333333333333)  | ... | 0.0659699029507681    |\n",
      "+----------------------------------+-----+-----------------------+\n",
      "| self_esteem(0.36666666666666664) | ... | 0.08058622450984239   |\n",
      "+----------------------------------+-----+-----------------------+\n",
      "| self_esteem(0.4)                 | ... | 0.022120938273545228  |\n",
      "+----------------------------------+-----+-----------------------+\n",
      "| self_esteem(0.43333333333333335) | ... | 0.0659699029507681    |\n",
      "+----------------------------------+-----+-----------------------+\n",
      "| self_esteem(0.4666666666666667)  | ... | 0.04404542061215667   |\n",
      "+----------------------------------+-----+-----------------------+\n",
      "| self_esteem(0.5)                 | ... | 0.05135358139169381   |\n",
      "+----------------------------------+-----+-----------------------+\n",
      "| self_esteem(0.5333333333333333)  | ... | 0.0075046167144709386 |\n",
      "+----------------------------------+-----+-----------------------+\n",
      "| self_esteem(0.5666666666666667)  | ... | 0.0075046167144709386 |\n",
      "+----------------------------------+-----+-----------------------+\n",
      "| self_esteem(0.6)                 | ... | 0.0001964559349337942 |\n",
      "+----------------------------------+-----+-----------------------+\n",
      "| self_esteem(0.6333333333333333)  | ... | 0.014812777494008084  |\n",
      "+----------------------------------+-----+-----------------------+\n",
      "| self_esteem(0.6666666666666666)  | ... | 0.0001964559349337942 |\n",
      "+----------------------------------+-----+-----------------------+\n",
      "| self_esteem(0.7)                 | ... | 0.0075046167144709386 |\n",
      "+----------------------------------+-----+-----------------------+\n",
      "| self_esteem(0.7333333333333333)  | ... | 0.0001964559349337942 |\n",
      "+----------------------------------+-----+-----------------------+\n",
      "| self_esteem(0.7666666666666666)  | ... | 0.014812777494008084  |\n",
      "+----------------------------------+-----+-----------------------+\n",
      "| self_esteem(0.8)                 | ... | 0.0001964559349337942 |\n",
      "+----------------------------------+-----+-----------------------+\n",
      "| self_esteem(0.8333333333333334)  | ... | 0.0001964559349337942 |\n",
      "+----------------------------------+-----+-----------------------+\n",
      "| self_esteem(0.8666666666666667)  | ... | 0.014812777494008084  |\n",
      "+----------------------------------+-----+-----------------------+\n",
      "| self_esteem(0.9)                 | ... | 0.014812777494008084  |\n",
      "+----------------------------------+-----+-----------------------+\n",
      "| self_esteem(0.9333333333333333)  | ... | 0.029429099053082376  |\n",
      "+----------------------------------+-----+-----------------------+\n",
      "| self_esteem(0.9666666666666667)  | ... | 0.0075046167144709386 |\n",
      "+----------------------------------+-----+-----------------------+\n",
      "| self_esteem(1.0)                 | ... | 0.0075046167144709386 |\n",
      "+----------------------------------+-----+-----------------------+ \n",
      "\n",
      "CPT of basic_needs:\n",
      "+---------------------------------+-----+-----------------------------+\n",
      "| future_career_concerns          | ... | future_career_concerns(1.0) |\n",
      "+---------------------------------+-----+-----------------------------+\n",
      "| basic_needs(0.0)                | ... | 0.026559714795008918        |\n",
      "+---------------------------------+-----+-----------------------------+\n",
      "| basic_needs(0.2)                | ... | 0.37308377896613193         |\n",
      "+---------------------------------+-----+-----------------------------+\n",
      "| basic_needs(0.4)                | ... | 0.5142602495543672          |\n",
      "+---------------------------------+-----+-----------------------------+\n",
      "| basic_needs(0.6000000000000001) | ... | 0.020142602495543675        |\n",
      "+---------------------------------+-----+-----------------------------+\n",
      "| basic_needs(0.8)                | ... | 0.026559714795008918        |\n",
      "+---------------------------------+-----+-----------------------------+\n",
      "| basic_needs(1.0)                | ... | 0.0393939393939394          |\n",
      "+---------------------------------+-----+-----------------------------+ \n",
      "\n",
      "CPT of depression:\n",
      "+----------------------------------+-----+------------------------+\n",
      "| sleep_quality                    | ... | sleep_quality(1.0)     |\n",
      "+----------------------------------+-----+------------------------+\n",
      "| depression(0.0)                  | ... | 0.05986582478295191    |\n",
      "+----------------------------------+-----+------------------------+\n",
      "| depression(0.037037037037037035) | ... | 0.08638516179952652    |\n",
      "+----------------------------------+-----+------------------------+\n",
      "| depression(0.07407407407407407)  | ... | 0.09964483030781382    |\n",
      "+----------------------------------+-----+------------------------+\n",
      "| depression(0.1111111111111111)   | ... | 0.07975532754538286    |\n",
      "+----------------------------------+-----+------------------------+\n",
      "| depression(0.14814814814814814)  | ... | 0.08638516179952652    |\n",
      "+----------------------------------+-----+------------------------+\n",
      "| depression(0.18518518518518517)  | ... | 0.12616416732438843    |\n",
      "+----------------------------------+-----+------------------------+\n",
      "| depression(0.2222222222222222)   | ... | 0.09964483030781382    |\n",
      "+----------------------------------+-----+------------------------+\n",
      "| depression(0.25925925925925924)  | ... | 0.11290449881610112    |\n",
      "+----------------------------------+-----+------------------------+\n",
      "| depression(0.2962962962962963)   | ... | 0.11953433307024477    |\n",
      "+----------------------------------+-----+------------------------+\n",
      "| depression(0.3333333333333333)   | ... | 0.00019731649565903726 |\n",
      "+----------------------------------+-----+------------------------+\n",
      "| depression(0.37037037037037035)  | ... | 0.006827150749802688   |\n",
      "+----------------------------------+-----+------------------------+\n",
      "| depression(0.4074074074074074)   | ... | 0.006827150749802688   |\n",
      "+----------------------------------+-----+------------------------+\n",
      "| depression(0.4444444444444444)   | ... | 0.013456985003946341   |\n",
      "+----------------------------------+-----+------------------------+\n",
      "| depression(0.48148148148148145)  | ... | 0.006827150749802688   |\n",
      "+----------------------------------+-----+------------------------+\n",
      "| depression(0.5185185185185185)   | ... | 0.00019731649565903726 |\n",
      "+----------------------------------+-----+------------------------+\n",
      "| depression(0.5555555555555556)   | ... | 0.00019731649565903726 |\n",
      "+----------------------------------+-----+------------------------+\n",
      "| depression(0.5925925925925926)   | ... | 0.013456985003946341   |\n",
      "+----------------------------------+-----+------------------------+\n",
      "| depression(0.6296296296296295)   | ... | 0.013456985003946341   |\n",
      "+----------------------------------+-----+------------------------+\n",
      "| depression(0.6666666666666666)   | ... | 0.013456985003946341   |\n",
      "+----------------------------------+-----+------------------------+\n",
      "| depression(0.7037037037037037)   | ... | 0.013456985003946341   |\n",
      "+----------------------------------+-----+------------------------+\n",
      "| depression(0.7407407407407407)   | ... | 0.00019731649565903726 |\n",
      "+----------------------------------+-----+------------------------+\n",
      "| depression(0.7777777777777777)   | ... | 0.006827150749802688   |\n",
      "+----------------------------------+-----+------------------------+\n",
      "| depression(0.8148148148148148)   | ... | 0.013456985003946341   |\n",
      "+----------------------------------+-----+------------------------+\n",
      "| depression(0.8518518518518519)   | ... | 0.013456985003946341   |\n",
      "+----------------------------------+-----+------------------------+\n",
      "| depression(0.8888888888888888)   | ... | 0.00019731649565903726 |\n",
      "+----------------------------------+-----+------------------------+\n",
      "| depression(0.9259259259259258)   | ... | 0.00019731649565903726 |\n",
      "+----------------------------------+-----+------------------------+\n",
      "| depression(0.9629629629629629)   | ... | 0.00019731649565903726 |\n",
      "+----------------------------------+-----+------------------------+\n",
      "| depression(1.0)                  | ... | 0.006827150749802688   |\n",
      "+----------------------------------+-----+------------------------+ \n",
      "\n"
     ]
    }
   ],
   "source": [
    "for cpd in model.get_cpds():\n",
    "    print(f'CPT of {cpd.variable}:')\n",
    "    print(cpd, '\\n')"
   ]
  },
  {
   "cell_type": "markdown",
   "id": "ac636190",
   "metadata": {},
   "source": [
    "## 6.Create an inference object and perform a simple test"
   ]
  },
  {
   "cell_type": "code",
   "execution_count": 31,
   "id": "5595bfe8",
   "metadata": {},
   "outputs": [
    {
     "name": "stdout",
     "output_type": "stream",
     "text": [
      "+-----------------+---------------------+\n",
      "| stress_level    |   phi(stress_level) |\n",
      "+=================+=====================+\n",
      "| stress_level(0) |              0.0825 |\n",
      "+-----------------+---------------------+\n",
      "| stress_level(1) |              0.8513 |\n",
      "+-----------------+---------------------+\n",
      "| stress_level(2) |              0.0662 |\n",
      "+-----------------+---------------------+\n",
      "1\n"
     ]
    }
   ],
   "source": [
    "inference = VariableElimination(model)\n",
    "\n",
    "\n",
    "# a randomly simple test\n",
    "result = inference.query(variables=['stress_level'], evidence={'anxiety_level': train_data['anxiety_level'][507], \n",
    "                                                               'self_esteem': train_data['self_esteem'][507]})\n",
    "print(result)\n",
    "print(train_data['stress_level'][507])"
   ]
  },
  {
   "cell_type": "markdown",
   "id": "0a902d5e",
   "metadata": {},
   "source": [
    "## 7.Extracting features learned by HillClimbSearch"
   ]
  },
  {
   "cell_type": "code",
   "execution_count": 32,
   "id": "cb20c12a",
   "metadata": {},
   "outputs": [
    {
     "data": {
      "text/plain": [
       "['academic_performance',\n",
       " 'anxiety_level',\n",
       " 'basic_needs',\n",
       " 'bullying',\n",
       " 'depression',\n",
       " 'future_career_concerns',\n",
       " 'headache',\n",
       " 'safety',\n",
       " 'self_esteem',\n",
       " 'sleep_quality']"
      ]
     },
     "execution_count": 32,
     "metadata": {},
     "output_type": "execute_result"
    }
   ],
   "source": [
    "HC_elements = set()\n",
    "\n",
    "# Adding each element from each tuple to the set\n",
    "for pair in edges:\n",
    "    HC_elements.update(pair)\n",
    "\n",
    "# Converting the set to a sorted list for better readability\n",
    "HC_list = sorted(list(HC_elements))\n",
    "HC_list.remove('stress_level')\n",
    "HC_list"
   ]
  },
  {
   "cell_type": "markdown",
   "id": "9e00b74f",
   "metadata": {},
   "source": [
    "## 8.calculate the metrics"
   ]
  },
  {
   "cell_type": "code",
   "execution_count": 33,
   "id": "691660ae",
   "metadata": {},
   "outputs": [
    {
     "data": {
      "application/vnd.jupyter.widget-view+json": {
       "model_id": "eed200b628a44388b6b905ed86a3d6ca",
       "version_major": 2,
       "version_minor": 0
      },
      "text/plain": [
       "0it [00:00, ?it/s]"
      ]
     },
     "metadata": {},
     "output_type": "display_data"
    },
    {
     "data": {
      "application/vnd.jupyter.widget-view+json": {
       "model_id": "fcf40a8327dd48f78af554055965ffda",
       "version_major": 2,
       "version_minor": 0
      },
      "text/plain": [
       "0it [00:00, ?it/s]"
      ]
     },
     "metadata": {},
     "output_type": "display_data"
    },
    {
     "name": "stdout",
     "output_type": "stream",
     "text": [
      "[2]\n"
     ]
    },
    {
     "data": {
      "application/vnd.jupyter.widget-view+json": {
       "model_id": "49d7ed604e6d48cb950a48ef53e2b1ed",
       "version_major": 2,
       "version_minor": 0
      },
      "text/plain": [
       "0it [00:00, ?it/s]"
      ]
     },
     "metadata": {},
     "output_type": "display_data"
    },
    {
     "data": {
      "application/vnd.jupyter.widget-view+json": {
       "model_id": "5f0061b2a2fa433d82a55de91eff2b95",
       "version_major": 2,
       "version_minor": 0
      },
      "text/plain": [
       "0it [00:00, ?it/s]"
      ]
     },
     "metadata": {},
     "output_type": "display_data"
    },
    {
     "name": "stdout",
     "output_type": "stream",
     "text": [
      "[2, 0]\n"
     ]
    },
    {
     "data": {
      "application/vnd.jupyter.widget-view+json": {
       "model_id": "6c4efe24aa144448898453932cfa3d98",
       "version_major": 2,
       "version_minor": 0
      },
      "text/plain": [
       "0it [00:00, ?it/s]"
      ]
     },
     "metadata": {},
     "output_type": "display_data"
    },
    {
     "data": {
      "application/vnd.jupyter.widget-view+json": {
       "model_id": "698abe0534e34b8da7a87fe859f02bd0",
       "version_major": 2,
       "version_minor": 0
      },
      "text/plain": [
       "0it [00:00, ?it/s]"
      ]
     },
     "metadata": {},
     "output_type": "display_data"
    },
    {
     "name": "stdout",
     "output_type": "stream",
     "text": [
      "[2, 0, 1]\n"
     ]
    },
    {
     "data": {
      "application/vnd.jupyter.widget-view+json": {
       "model_id": "03d83038e2244bf899830fcbdc5190f0",
       "version_major": 2,
       "version_minor": 0
      },
      "text/plain": [
       "0it [00:00, ?it/s]"
      ]
     },
     "metadata": {},
     "output_type": "display_data"
    },
    {
     "data": {
      "application/vnd.jupyter.widget-view+json": {
       "model_id": "9e5774274b3e4ee88c6930e6303a72e1",
       "version_major": 2,
       "version_minor": 0
      },
      "text/plain": [
       "0it [00:00, ?it/s]"
      ]
     },
     "metadata": {},
     "output_type": "display_data"
    },
    {
     "name": "stdout",
     "output_type": "stream",
     "text": [
      "[2, 0, 1, 1]\n"
     ]
    },
    {
     "data": {
      "application/vnd.jupyter.widget-view+json": {
       "model_id": "66d873ad7db3485f96f5052ad5f35976",
       "version_major": 2,
       "version_minor": 0
      },
      "text/plain": [
       "0it [00:00, ?it/s]"
      ]
     },
     "metadata": {},
     "output_type": "display_data"
    },
    {
     "data": {
      "application/vnd.jupyter.widget-view+json": {
       "model_id": "6578c17c075240a08f488b1f5ff6509f",
       "version_major": 2,
       "version_minor": 0
      },
      "text/plain": [
       "0it [00:00, ?it/s]"
      ]
     },
     "metadata": {},
     "output_type": "display_data"
    },
    {
     "name": "stdout",
     "output_type": "stream",
     "text": [
      "[2, 0, 1, 1, 0]\n"
     ]
    },
    {
     "data": {
      "application/vnd.jupyter.widget-view+json": {
       "model_id": "eb2bef8df34a4b70812b4fda6a4d4cc9",
       "version_major": 2,
       "version_minor": 0
      },
      "text/plain": [
       "0it [00:00, ?it/s]"
      ]
     },
     "metadata": {},
     "output_type": "display_data"
    },
    {
     "data": {
      "application/vnd.jupyter.widget-view+json": {
       "model_id": "60486e752e624623998d187b8d31e31f",
       "version_major": 2,
       "version_minor": 0
      },
      "text/plain": [
       "0it [00:00, ?it/s]"
      ]
     },
     "metadata": {},
     "output_type": "display_data"
    },
    {
     "name": "stdout",
     "output_type": "stream",
     "text": [
      "[2, 0, 1, 1, 0, 1]\n"
     ]
    },
    {
     "data": {
      "application/vnd.jupyter.widget-view+json": {
       "model_id": "17e0ef1d287340d998130d47091f25d2",
       "version_major": 2,
       "version_minor": 0
      },
      "text/plain": [
       "0it [00:00, ?it/s]"
      ]
     },
     "metadata": {},
     "output_type": "display_data"
    },
    {
     "data": {
      "application/vnd.jupyter.widget-view+json": {
       "model_id": "0c31e0fd66f94a4db25622db62b033a4",
       "version_major": 2,
       "version_minor": 0
      },
      "text/plain": [
       "0it [00:00, ?it/s]"
      ]
     },
     "metadata": {},
     "output_type": "display_data"
    },
    {
     "name": "stdout",
     "output_type": "stream",
     "text": [
      "[2, 0, 1, 1, 0, 1, 2]\n"
     ]
    },
    {
     "data": {
      "application/vnd.jupyter.widget-view+json": {
       "model_id": "920244291b8741e3bbabcd4f17fb5183",
       "version_major": 2,
       "version_minor": 0
      },
      "text/plain": [
       "0it [00:00, ?it/s]"
      ]
     },
     "metadata": {},
     "output_type": "display_data"
    },
    {
     "data": {
      "application/vnd.jupyter.widget-view+json": {
       "model_id": "e3d190614dad4322956407edfc7ba9c8",
       "version_major": 2,
       "version_minor": 0
      },
      "text/plain": [
       "0it [00:00, ?it/s]"
      ]
     },
     "metadata": {},
     "output_type": "display_data"
    },
    {
     "name": "stdout",
     "output_type": "stream",
     "text": [
      "[2, 0, 1, 1, 0, 1, 2, 0]\n"
     ]
    },
    {
     "data": {
      "application/vnd.jupyter.widget-view+json": {
       "model_id": "9c8a1db8e11c446ebce6b24d8a000526",
       "version_major": 2,
       "version_minor": 0
      },
      "text/plain": [
       "0it [00:00, ?it/s]"
      ]
     },
     "metadata": {},
     "output_type": "display_data"
    },
    {
     "data": {
      "application/vnd.jupyter.widget-view+json": {
       "model_id": "86e954694e6b436d98c8c4e098313a0d",
       "version_major": 2,
       "version_minor": 0
      },
      "text/plain": [
       "0it [00:00, ?it/s]"
      ]
     },
     "metadata": {},
     "output_type": "display_data"
    },
    {
     "name": "stdout",
     "output_type": "stream",
     "text": [
      "[2, 0, 1, 1, 0, 1, 2, 0, 1]\n"
     ]
    },
    {
     "data": {
      "application/vnd.jupyter.widget-view+json": {
       "model_id": "11a174816f0f46fbb417bbe3cc9710a6",
       "version_major": 2,
       "version_minor": 0
      },
      "text/plain": [
       "0it [00:00, ?it/s]"
      ]
     },
     "metadata": {},
     "output_type": "display_data"
    },
    {
     "data": {
      "application/vnd.jupyter.widget-view+json": {
       "model_id": "769df15646b345898a81b141511ad930",
       "version_major": 2,
       "version_minor": 0
      },
      "text/plain": [
       "0it [00:00, ?it/s]"
      ]
     },
     "metadata": {},
     "output_type": "display_data"
    },
    {
     "name": "stdout",
     "output_type": "stream",
     "text": [
      "[2, 0, 1, 1, 0, 1, 2, 0, 1, 0]\n"
     ]
    },
    {
     "data": {
      "application/vnd.jupyter.widget-view+json": {
       "model_id": "f2a2e5dd4c4343a2965d849f81a9e2c2",
       "version_major": 2,
       "version_minor": 0
      },
      "text/plain": [
       "0it [00:00, ?it/s]"
      ]
     },
     "metadata": {},
     "output_type": "display_data"
    },
    {
     "data": {
      "application/vnd.jupyter.widget-view+json": {
       "model_id": "218530b8db464303b9446bb47902fbd5",
       "version_major": 2,
       "version_minor": 0
      },
      "text/plain": [
       "0it [00:00, ?it/s]"
      ]
     },
     "metadata": {},
     "output_type": "display_data"
    },
    {
     "name": "stdout",
     "output_type": "stream",
     "text": [
      "[2, 0, 1, 1, 0, 1, 2, 0, 1, 0, 0]\n"
     ]
    },
    {
     "data": {
      "application/vnd.jupyter.widget-view+json": {
       "model_id": "636370ea081f455792600e7ffc2f5d18",
       "version_major": 2,
       "version_minor": 0
      },
      "text/plain": [
       "0it [00:00, ?it/s]"
      ]
     },
     "metadata": {},
     "output_type": "display_data"
    },
    {
     "data": {
      "application/vnd.jupyter.widget-view+json": {
       "model_id": "dc1d589295594b2abde008800f5be465",
       "version_major": 2,
       "version_minor": 0
      },
      "text/plain": [
       "0it [00:00, ?it/s]"
      ]
     },
     "metadata": {},
     "output_type": "display_data"
    },
    {
     "name": "stdout",
     "output_type": "stream",
     "text": [
      "[2, 0, 1, 1, 0, 1, 2, 0, 1, 0, 0, 0]\n"
     ]
    },
    {
     "data": {
      "application/vnd.jupyter.widget-view+json": {
       "model_id": "1214119585a24f0dbab4a872307707cb",
       "version_major": 2,
       "version_minor": 0
      },
      "text/plain": [
       "0it [00:00, ?it/s]"
      ]
     },
     "metadata": {},
     "output_type": "display_data"
    },
    {
     "data": {
      "application/vnd.jupyter.widget-view+json": {
       "model_id": "adffc6099ae040e2b2a2b9cb2b76278b",
       "version_major": 2,
       "version_minor": 0
      },
      "text/plain": [
       "0it [00:00, ?it/s]"
      ]
     },
     "metadata": {},
     "output_type": "display_data"
    },
    {
     "name": "stdout",
     "output_type": "stream",
     "text": [
      "[2, 0, 1, 1, 0, 1, 2, 0, 1, 0, 0, 0, 0]\n"
     ]
    },
    {
     "data": {
      "application/vnd.jupyter.widget-view+json": {
       "model_id": "dbe223ada1f7477ca9c51aa2664c5b4b",
       "version_major": 2,
       "version_minor": 0
      },
      "text/plain": [
       "0it [00:00, ?it/s]"
      ]
     },
     "metadata": {},
     "output_type": "display_data"
    },
    {
     "data": {
      "application/vnd.jupyter.widget-view+json": {
       "model_id": "f633f0f22ce340e5bc99fc240a7a89f7",
       "version_major": 2,
       "version_minor": 0
      },
      "text/plain": [
       "0it [00:00, ?it/s]"
      ]
     },
     "metadata": {},
     "output_type": "display_data"
    },
    {
     "name": "stdout",
     "output_type": "stream",
     "text": [
      "[2, 0, 1, 1, 0, 1, 2, 0, 1, 0, 0, 0, 0, 2]\n"
     ]
    },
    {
     "data": {
      "application/vnd.jupyter.widget-view+json": {
       "model_id": "b6660fccaf37406f8a48c3b87e7f7a19",
       "version_major": 2,
       "version_minor": 0
      },
      "text/plain": [
       "0it [00:00, ?it/s]"
      ]
     },
     "metadata": {},
     "output_type": "display_data"
    },
    {
     "data": {
      "application/vnd.jupyter.widget-view+json": {
       "model_id": "b66e2a5e69b84e09803fdd733375d0c4",
       "version_major": 2,
       "version_minor": 0
      },
      "text/plain": [
       "0it [00:00, ?it/s]"
      ]
     },
     "metadata": {},
     "output_type": "display_data"
    },
    {
     "name": "stdout",
     "output_type": "stream",
     "text": [
      "[2, 0, 1, 1, 0, 1, 2, 0, 1, 0, 0, 0, 0, 2, 0]\n"
     ]
    },
    {
     "data": {
      "application/vnd.jupyter.widget-view+json": {
       "model_id": "8079f8a9c6a845abb8fe06475aaac88e",
       "version_major": 2,
       "version_minor": 0
      },
      "text/plain": [
       "0it [00:00, ?it/s]"
      ]
     },
     "metadata": {},
     "output_type": "display_data"
    },
    {
     "data": {
      "application/vnd.jupyter.widget-view+json": {
       "model_id": "42c01877db2d4422977528a4b3eff962",
       "version_major": 2,
       "version_minor": 0
      },
      "text/plain": [
       "0it [00:00, ?it/s]"
      ]
     },
     "metadata": {},
     "output_type": "display_data"
    },
    {
     "name": "stdout",
     "output_type": "stream",
     "text": [
      "[2, 0, 1, 1, 0, 1, 2, 0, 1, 0, 0, 0, 0, 2, 0, 0]\n"
     ]
    },
    {
     "data": {
      "application/vnd.jupyter.widget-view+json": {
       "model_id": "3a54507592e14d22be1792eb295c63de",
       "version_major": 2,
       "version_minor": 0
      },
      "text/plain": [
       "0it [00:00, ?it/s]"
      ]
     },
     "metadata": {},
     "output_type": "display_data"
    },
    {
     "data": {
      "application/vnd.jupyter.widget-view+json": {
       "model_id": "aee8e7914fa8468f899c9a0bea1e1469",
       "version_major": 2,
       "version_minor": 0
      },
      "text/plain": [
       "0it [00:00, ?it/s]"
      ]
     },
     "metadata": {},
     "output_type": "display_data"
    },
    {
     "name": "stdout",
     "output_type": "stream",
     "text": [
      "[2, 0, 1, 1, 0, 1, 2, 0, 1, 0, 0, 0, 0, 2, 0, 0, 0]\n"
     ]
    },
    {
     "data": {
      "application/vnd.jupyter.widget-view+json": {
       "model_id": "84c394ca7c9841208d6bbe8861e3efa6",
       "version_major": 2,
       "version_minor": 0
      },
      "text/plain": [
       "0it [00:00, ?it/s]"
      ]
     },
     "metadata": {},
     "output_type": "display_data"
    },
    {
     "data": {
      "application/vnd.jupyter.widget-view+json": {
       "model_id": "25e699dae46b4646ad65c18bf6477bcd",
       "version_major": 2,
       "version_minor": 0
      },
      "text/plain": [
       "0it [00:00, ?it/s]"
      ]
     },
     "metadata": {},
     "output_type": "display_data"
    },
    {
     "name": "stdout",
     "output_type": "stream",
     "text": [
      "[2, 0, 1, 1, 0, 1, 2, 0, 1, 0, 0, 0, 0, 2, 0, 0, 0, 2]\n"
     ]
    },
    {
     "data": {
      "application/vnd.jupyter.widget-view+json": {
       "model_id": "b7f1b12f59b24aa4b09112ea0b2322a9",
       "version_major": 2,
       "version_minor": 0
      },
      "text/plain": [
       "0it [00:00, ?it/s]"
      ]
     },
     "metadata": {},
     "output_type": "display_data"
    },
    {
     "data": {
      "application/vnd.jupyter.widget-view+json": {
       "model_id": "832cca686880453caaa47dacf169e0d4",
       "version_major": 2,
       "version_minor": 0
      },
      "text/plain": [
       "0it [00:00, ?it/s]"
      ]
     },
     "metadata": {},
     "output_type": "display_data"
    },
    {
     "name": "stdout",
     "output_type": "stream",
     "text": [
      "[2, 0, 1, 1, 0, 1, 2, 0, 1, 0, 0, 0, 0, 2, 0, 0, 0, 2, 1]\n"
     ]
    },
    {
     "data": {
      "application/vnd.jupyter.widget-view+json": {
       "model_id": "cd99f64ec1dc44b6a10ea1d5b538b70c",
       "version_major": 2,
       "version_minor": 0
      },
      "text/plain": [
       "0it [00:00, ?it/s]"
      ]
     },
     "metadata": {},
     "output_type": "display_data"
    },
    {
     "data": {
      "application/vnd.jupyter.widget-view+json": {
       "model_id": "cbf8fc00d81042a4b8150434ea742afd",
       "version_major": 2,
       "version_minor": 0
      },
      "text/plain": [
       "0it [00:00, ?it/s]"
      ]
     },
     "metadata": {},
     "output_type": "display_data"
    },
    {
     "name": "stdout",
     "output_type": "stream",
     "text": [
      "[2, 0, 1, 1, 0, 1, 2, 0, 1, 0, 0, 0, 0, 2, 0, 0, 0, 2, 1, 0]\n"
     ]
    },
    {
     "data": {
      "application/vnd.jupyter.widget-view+json": {
       "model_id": "0cfd70a552c04c6a80878c3203467bd8",
       "version_major": 2,
       "version_minor": 0
      },
      "text/plain": [
       "0it [00:00, ?it/s]"
      ]
     },
     "metadata": {},
     "output_type": "display_data"
    },
    {
     "data": {
      "application/vnd.jupyter.widget-view+json": {
       "model_id": "7da15922fff14ae085fd0198e5fb08a6",
       "version_major": 2,
       "version_minor": 0
      },
      "text/plain": [
       "0it [00:00, ?it/s]"
      ]
     },
     "metadata": {},
     "output_type": "display_data"
    },
    {
     "name": "stdout",
     "output_type": "stream",
     "text": [
      "[2, 0, 1, 1, 0, 1, 2, 0, 1, 0, 0, 0, 0, 2, 0, 0, 0, 2, 1, 0, 1]\n"
     ]
    },
    {
     "data": {
      "application/vnd.jupyter.widget-view+json": {
       "model_id": "f192f8588dcc4a07891c3d3554dec90a",
       "version_major": 2,
       "version_minor": 0
      },
      "text/plain": [
       "0it [00:00, ?it/s]"
      ]
     },
     "metadata": {},
     "output_type": "display_data"
    },
    {
     "data": {
      "application/vnd.jupyter.widget-view+json": {
       "model_id": "c51d9ae9777f4c0db9c9cb1c33ee1644",
       "version_major": 2,
       "version_minor": 0
      },
      "text/plain": [
       "0it [00:00, ?it/s]"
      ]
     },
     "metadata": {},
     "output_type": "display_data"
    },
    {
     "name": "stdout",
     "output_type": "stream",
     "text": [
      "[2, 0, 1, 1, 0, 1, 2, 0, 1, 0, 0, 0, 0, 2, 0, 0, 0, 2, 1, 0, 1, 0]\n"
     ]
    },
    {
     "data": {
      "application/vnd.jupyter.widget-view+json": {
       "model_id": "019945a4e3334b72be2c96dc48633310",
       "version_major": 2,
       "version_minor": 0
      },
      "text/plain": [
       "0it [00:00, ?it/s]"
      ]
     },
     "metadata": {},
     "output_type": "display_data"
    },
    {
     "data": {
      "application/vnd.jupyter.widget-view+json": {
       "model_id": "bc67b47f74c242119d16c464bb832259",
       "version_major": 2,
       "version_minor": 0
      },
      "text/plain": [
       "0it [00:00, ?it/s]"
      ]
     },
     "metadata": {},
     "output_type": "display_data"
    },
    {
     "name": "stdout",
     "output_type": "stream",
     "text": [
      "[2, 0, 1, 1, 0, 1, 2, 0, 1, 0, 0, 0, 0, 2, 0, 0, 0, 2, 1, 0, 1, 0, 0]\n"
     ]
    },
    {
     "data": {
      "application/vnd.jupyter.widget-view+json": {
       "model_id": "ee91e766f3a547c4be46fd88a8c71bf9",
       "version_major": 2,
       "version_minor": 0
      },
      "text/plain": [
       "0it [00:00, ?it/s]"
      ]
     },
     "metadata": {},
     "output_type": "display_data"
    },
    {
     "data": {
      "application/vnd.jupyter.widget-view+json": {
       "model_id": "c2d768afe5c945d992a95f0db94bf122",
       "version_major": 2,
       "version_minor": 0
      },
      "text/plain": [
       "0it [00:00, ?it/s]"
      ]
     },
     "metadata": {},
     "output_type": "display_data"
    },
    {
     "name": "stdout",
     "output_type": "stream",
     "text": [
      "[2, 0, 1, 1, 0, 1, 2, 0, 1, 0, 0, 0, 0, 2, 0, 0, 0, 2, 1, 0, 1, 0, 0, 1]\n"
     ]
    },
    {
     "data": {
      "application/vnd.jupyter.widget-view+json": {
       "model_id": "d23c7d08e1a6491a8341cc6ecd22238a",
       "version_major": 2,
       "version_minor": 0
      },
      "text/plain": [
       "0it [00:00, ?it/s]"
      ]
     },
     "metadata": {},
     "output_type": "display_data"
    },
    {
     "data": {
      "application/vnd.jupyter.widget-view+json": {
       "model_id": "a4e031f3713f4d55afcb5737ba03c37d",
       "version_major": 2,
       "version_minor": 0
      },
      "text/plain": [
       "0it [00:00, ?it/s]"
      ]
     },
     "metadata": {},
     "output_type": "display_data"
    },
    {
     "name": "stdout",
     "output_type": "stream",
     "text": [
      "[2, 0, 1, 1, 0, 1, 2, 0, 1, 0, 0, 0, 0, 2, 0, 0, 0, 2, 1, 0, 1, 0, 0, 1, 1]\n"
     ]
    },
    {
     "data": {
      "application/vnd.jupyter.widget-view+json": {
       "model_id": "ddc2bb6fa48f4d37a3e7f584145274c3",
       "version_major": 2,
       "version_minor": 0
      },
      "text/plain": [
       "0it [00:00, ?it/s]"
      ]
     },
     "metadata": {},
     "output_type": "display_data"
    },
    {
     "data": {
      "application/vnd.jupyter.widget-view+json": {
       "model_id": "782489fcb0a04fd6ab9779355ce4a392",
       "version_major": 2,
       "version_minor": 0
      },
      "text/plain": [
       "0it [00:00, ?it/s]"
      ]
     },
     "metadata": {},
     "output_type": "display_data"
    },
    {
     "name": "stdout",
     "output_type": "stream",
     "text": [
      "[2, 0, 1, 1, 0, 1, 2, 0, 1, 0, 0, 0, 0, 2, 0, 0, 0, 2, 1, 0, 1, 0, 0, 1, 1, 2]\n"
     ]
    },
    {
     "data": {
      "application/vnd.jupyter.widget-view+json": {
       "model_id": "7072db74ffc34227808c87a1b3ab7cfa",
       "version_major": 2,
       "version_minor": 0
      },
      "text/plain": [
       "0it [00:00, ?it/s]"
      ]
     },
     "metadata": {},
     "output_type": "display_data"
    },
    {
     "data": {
      "application/vnd.jupyter.widget-view+json": {
       "model_id": "afeb4b27b0c04ffeafd1fb543616da79",
       "version_major": 2,
       "version_minor": 0
      },
      "text/plain": [
       "0it [00:00, ?it/s]"
      ]
     },
     "metadata": {},
     "output_type": "display_data"
    },
    {
     "name": "stdout",
     "output_type": "stream",
     "text": [
      "[2, 0, 1, 1, 0, 1, 2, 0, 1, 0, 0, 0, 0, 2, 0, 0, 0, 2, 1, 0, 1, 0, 0, 1, 1, 2, 2]\n"
     ]
    },
    {
     "data": {
      "application/vnd.jupyter.widget-view+json": {
       "model_id": "d9b49ce56e7144d084f6fdd0dc315a21",
       "version_major": 2,
       "version_minor": 0
      },
      "text/plain": [
       "0it [00:00, ?it/s]"
      ]
     },
     "metadata": {},
     "output_type": "display_data"
    },
    {
     "data": {
      "application/vnd.jupyter.widget-view+json": {
       "model_id": "c1b45a3b8b9e4f538bf4f453466b15b9",
       "version_major": 2,
       "version_minor": 0
      },
      "text/plain": [
       "0it [00:00, ?it/s]"
      ]
     },
     "metadata": {},
     "output_type": "display_data"
    },
    {
     "name": "stdout",
     "output_type": "stream",
     "text": [
      "[2, 0, 1, 1, 0, 1, 2, 0, 1, 0, 0, 0, 0, 2, 0, 0, 0, 2, 1, 0, 1, 0, 0, 1, 1, 2, 2, 0]\n"
     ]
    },
    {
     "data": {
      "application/vnd.jupyter.widget-view+json": {
       "model_id": "ae21b36801b64454854be331f00c8a2d",
       "version_major": 2,
       "version_minor": 0
      },
      "text/plain": [
       "0it [00:00, ?it/s]"
      ]
     },
     "metadata": {},
     "output_type": "display_data"
    },
    {
     "data": {
      "application/vnd.jupyter.widget-view+json": {
       "model_id": "21f81c0708ff4f9997cb584d40388c5d",
       "version_major": 2,
       "version_minor": 0
      },
      "text/plain": [
       "0it [00:00, ?it/s]"
      ]
     },
     "metadata": {},
     "output_type": "display_data"
    },
    {
     "name": "stdout",
     "output_type": "stream",
     "text": [
      "[2, 0, 1, 1, 0, 1, 2, 0, 1, 0, 0, 0, 0, 2, 0, 0, 0, 2, 1, 0, 1, 0, 0, 1, 1, 2, 2, 0, 0]\n"
     ]
    },
    {
     "data": {
      "application/vnd.jupyter.widget-view+json": {
       "model_id": "6123757c5c6c4b5bb9efb5bc12e7e80b",
       "version_major": 2,
       "version_minor": 0
      },
      "text/plain": [
       "0it [00:00, ?it/s]"
      ]
     },
     "metadata": {},
     "output_type": "display_data"
    },
    {
     "data": {
      "application/vnd.jupyter.widget-view+json": {
       "model_id": "be28b58e457d41cbb717de470f08342b",
       "version_major": 2,
       "version_minor": 0
      },
      "text/plain": [
       "0it [00:00, ?it/s]"
      ]
     },
     "metadata": {},
     "output_type": "display_data"
    },
    {
     "name": "stdout",
     "output_type": "stream",
     "text": [
      "[2, 0, 1, 1, 0, 1, 2, 0, 1, 0, 0, 0, 0, 2, 0, 0, 0, 2, 1, 0, 1, 0, 0, 1, 1, 2, 2, 0, 0, 0]\n"
     ]
    },
    {
     "data": {
      "application/vnd.jupyter.widget-view+json": {
       "model_id": "a76682e0c9b24d4887735ad1c9a2d0f4",
       "version_major": 2,
       "version_minor": 0
      },
      "text/plain": [
       "0it [00:00, ?it/s]"
      ]
     },
     "metadata": {},
     "output_type": "display_data"
    },
    {
     "data": {
      "application/vnd.jupyter.widget-view+json": {
       "model_id": "6fd6b7a267af4f47b8def429146c9918",
       "version_major": 2,
       "version_minor": 0
      },
      "text/plain": [
       "0it [00:00, ?it/s]"
      ]
     },
     "metadata": {},
     "output_type": "display_data"
    },
    {
     "name": "stdout",
     "output_type": "stream",
     "text": [
      "[2, 0, 1, 1, 0, 1, 2, 0, 1, 0, 0, 0, 0, 2, 0, 0, 0, 2, 1, 0, 1, 0, 0, 1, 1, 2, 2, 0, 0, 0, 2]\n"
     ]
    },
    {
     "data": {
      "application/vnd.jupyter.widget-view+json": {
       "model_id": "88b83c0e7d54433b8f5ca34c01f928a2",
       "version_major": 2,
       "version_minor": 0
      },
      "text/plain": [
       "0it [00:00, ?it/s]"
      ]
     },
     "metadata": {},
     "output_type": "display_data"
    },
    {
     "data": {
      "application/vnd.jupyter.widget-view+json": {
       "model_id": "f1cdb48192df491fa03362144d7a78dd",
       "version_major": 2,
       "version_minor": 0
      },
      "text/plain": [
       "0it [00:00, ?it/s]"
      ]
     },
     "metadata": {},
     "output_type": "display_data"
    },
    {
     "name": "stdout",
     "output_type": "stream",
     "text": [
      "[2, 0, 1, 1, 0, 1, 2, 0, 1, 0, 0, 0, 0, 2, 0, 0, 0, 2, 1, 0, 1, 0, 0, 1, 1, 2, 2, 0, 0, 0, 2, 2]\n"
     ]
    },
    {
     "data": {
      "application/vnd.jupyter.widget-view+json": {
       "model_id": "8c2167551b9a4a848e9cf30ab039ae52",
       "version_major": 2,
       "version_minor": 0
      },
      "text/plain": [
       "0it [00:00, ?it/s]"
      ]
     },
     "metadata": {},
     "output_type": "display_data"
    },
    {
     "data": {
      "application/vnd.jupyter.widget-view+json": {
       "model_id": "6910f79df8f743899222ff549e0e3078",
       "version_major": 2,
       "version_minor": 0
      },
      "text/plain": [
       "0it [00:00, ?it/s]"
      ]
     },
     "metadata": {},
     "output_type": "display_data"
    },
    {
     "name": "stdout",
     "output_type": "stream",
     "text": [
      "[2, 0, 1, 1, 0, 1, 2, 0, 1, 0, 0, 0, 0, 2, 0, 0, 0, 2, 1, 0, 1, 0, 0, 1, 1, 2, 2, 0, 0, 0, 2, 2, 2]\n"
     ]
    },
    {
     "data": {
      "application/vnd.jupyter.widget-view+json": {
       "model_id": "db125168ea4e4d9a8ddd9869303846b5",
       "version_major": 2,
       "version_minor": 0
      },
      "text/plain": [
       "0it [00:00, ?it/s]"
      ]
     },
     "metadata": {},
     "output_type": "display_data"
    },
    {
     "data": {
      "application/vnd.jupyter.widget-view+json": {
       "model_id": "afdbcd05800241efb9eae11c335a779c",
       "version_major": 2,
       "version_minor": 0
      },
      "text/plain": [
       "0it [00:00, ?it/s]"
      ]
     },
     "metadata": {},
     "output_type": "display_data"
    },
    {
     "name": "stdout",
     "output_type": "stream",
     "text": [
      "[2, 0, 1, 1, 0, 1, 2, 0, 1, 0, 0, 0, 0, 2, 0, 0, 0, 2, 1, 0, 1, 0, 0, 1, 1, 2, 2, 0, 0, 0, 2, 2, 2, 0]\n"
     ]
    },
    {
     "data": {
      "application/vnd.jupyter.widget-view+json": {
       "model_id": "946c887698c9428ca4aec0cbc7702c6a",
       "version_major": 2,
       "version_minor": 0
      },
      "text/plain": [
       "0it [00:00, ?it/s]"
      ]
     },
     "metadata": {},
     "output_type": "display_data"
    },
    {
     "data": {
      "application/vnd.jupyter.widget-view+json": {
       "model_id": "0e16acfa12e44773b38753ce448df016",
       "version_major": 2,
       "version_minor": 0
      },
      "text/plain": [
       "0it [00:00, ?it/s]"
      ]
     },
     "metadata": {},
     "output_type": "display_data"
    },
    {
     "name": "stdout",
     "output_type": "stream",
     "text": [
      "[2, 0, 1, 1, 0, 1, 2, 0, 1, 0, 0, 0, 0, 2, 0, 0, 0, 2, 1, 0, 1, 0, 0, 1, 1, 2, 2, 0, 0, 0, 2, 2, 2, 0, 0]\n"
     ]
    },
    {
     "data": {
      "application/vnd.jupyter.widget-view+json": {
       "model_id": "401080420bc74c58a642f9353dfb148d",
       "version_major": 2,
       "version_minor": 0
      },
      "text/plain": [
       "0it [00:00, ?it/s]"
      ]
     },
     "metadata": {},
     "output_type": "display_data"
    },
    {
     "data": {
      "application/vnd.jupyter.widget-view+json": {
       "model_id": "16293d5d646d4feb93d26391a225b09f",
       "version_major": 2,
       "version_minor": 0
      },
      "text/plain": [
       "0it [00:00, ?it/s]"
      ]
     },
     "metadata": {},
     "output_type": "display_data"
    },
    {
     "name": "stdout",
     "output_type": "stream",
     "text": [
      "[2, 0, 1, 1, 0, 1, 2, 0, 1, 0, 0, 0, 0, 2, 0, 0, 0, 2, 1, 0, 1, 0, 0, 1, 1, 2, 2, 0, 0, 0, 2, 2, 2, 0, 0, 1]\n"
     ]
    },
    {
     "data": {
      "application/vnd.jupyter.widget-view+json": {
       "model_id": "89166ce052074f73b055f24277a1fad6",
       "version_major": 2,
       "version_minor": 0
      },
      "text/plain": [
       "0it [00:00, ?it/s]"
      ]
     },
     "metadata": {},
     "output_type": "display_data"
    },
    {
     "data": {
      "application/vnd.jupyter.widget-view+json": {
       "model_id": "ef85f64a5e74460c9e61a6e63eade6f1",
       "version_major": 2,
       "version_minor": 0
      },
      "text/plain": [
       "0it [00:00, ?it/s]"
      ]
     },
     "metadata": {},
     "output_type": "display_data"
    },
    {
     "name": "stdout",
     "output_type": "stream",
     "text": [
      "[2, 0, 1, 1, 0, 1, 2, 0, 1, 0, 0, 0, 0, 2, 0, 0, 0, 2, 1, 0, 1, 0, 0, 1, 1, 2, 2, 0, 0, 0, 2, 2, 2, 0, 0, 1, 2]\n"
     ]
    },
    {
     "data": {
      "application/vnd.jupyter.widget-view+json": {
       "model_id": "f2df760b01df4c808948a4e84e4535b3",
       "version_major": 2,
       "version_minor": 0
      },
      "text/plain": [
       "0it [00:00, ?it/s]"
      ]
     },
     "metadata": {},
     "output_type": "display_data"
    },
    {
     "data": {
      "application/vnd.jupyter.widget-view+json": {
       "model_id": "d523d14b54544ebba7b8cc9edba3bc7b",
       "version_major": 2,
       "version_minor": 0
      },
      "text/plain": [
       "0it [00:00, ?it/s]"
      ]
     },
     "metadata": {},
     "output_type": "display_data"
    },
    {
     "name": "stdout",
     "output_type": "stream",
     "text": [
      "[2, 0, 1, 1, 0, 1, 2, 0, 1, 0, 0, 0, 0, 2, 0, 0, 0, 2, 1, 0, 1, 0, 0, 1, 1, 2, 2, 0, 0, 0, 2, 2, 2, 0, 0, 1, 2, 1]\n"
     ]
    },
    {
     "data": {
      "application/vnd.jupyter.widget-view+json": {
       "model_id": "33ba4ba1571242c8912bd72114296688",
       "version_major": 2,
       "version_minor": 0
      },
      "text/plain": [
       "0it [00:00, ?it/s]"
      ]
     },
     "metadata": {},
     "output_type": "display_data"
    },
    {
     "data": {
      "application/vnd.jupyter.widget-view+json": {
       "model_id": "65c8802044b6426c934ccc848eb2ac7e",
       "version_major": 2,
       "version_minor": 0
      },
      "text/plain": [
       "0it [00:00, ?it/s]"
      ]
     },
     "metadata": {},
     "output_type": "display_data"
    },
    {
     "name": "stdout",
     "output_type": "stream",
     "text": [
      "[2, 0, 1, 1, 0, 1, 2, 0, 1, 0, 0, 0, 0, 2, 0, 0, 0, 2, 1, 0, 1, 0, 0, 1, 1, 2, 2, 0, 0, 0, 2, 2, 2, 0, 0, 1, 2, 1, 2]\n"
     ]
    },
    {
     "data": {
      "application/vnd.jupyter.widget-view+json": {
       "model_id": "6c90363789914145b6ade210b141758e",
       "version_major": 2,
       "version_minor": 0
      },
      "text/plain": [
       "0it [00:00, ?it/s]"
      ]
     },
     "metadata": {},
     "output_type": "display_data"
    },
    {
     "data": {
      "application/vnd.jupyter.widget-view+json": {
       "model_id": "b340d1aea5a147d5a362116a8a2df114",
       "version_major": 2,
       "version_minor": 0
      },
      "text/plain": [
       "0it [00:00, ?it/s]"
      ]
     },
     "metadata": {},
     "output_type": "display_data"
    },
    {
     "name": "stdout",
     "output_type": "stream",
     "text": [
      "[2, 0, 1, 1, 0, 1, 2, 0, 1, 0, 0, 0, 0, 2, 0, 0, 0, 2, 1, 0, 1, 0, 0, 1, 1, 2, 2, 0, 0, 0, 2, 2, 2, 0, 0, 1, 2, 1, 2, 2]\n"
     ]
    },
    {
     "data": {
      "application/vnd.jupyter.widget-view+json": {
       "model_id": "afddfb28c6cf48ee84241efc420201ee",
       "version_major": 2,
       "version_minor": 0
      },
      "text/plain": [
       "0it [00:00, ?it/s]"
      ]
     },
     "metadata": {},
     "output_type": "display_data"
    },
    {
     "data": {
      "application/vnd.jupyter.widget-view+json": {
       "model_id": "7adc8ea260494f6687517b7da7d3c31c",
       "version_major": 2,
       "version_minor": 0
      },
      "text/plain": [
       "0it [00:00, ?it/s]"
      ]
     },
     "metadata": {},
     "output_type": "display_data"
    },
    {
     "name": "stdout",
     "output_type": "stream",
     "text": [
      "[2, 0, 1, 1, 0, 1, 2, 0, 1, 0, 0, 0, 0, 2, 0, 0, 0, 2, 1, 0, 1, 0, 0, 1, 1, 2, 2, 0, 0, 0, 2, 2, 2, 0, 0, 1, 2, 1, 2, 2, 2]\n"
     ]
    },
    {
     "data": {
      "application/vnd.jupyter.widget-view+json": {
       "model_id": "e1e680368df44fcea282c0ce64df0c0c",
       "version_major": 2,
       "version_minor": 0
      },
      "text/plain": [
       "0it [00:00, ?it/s]"
      ]
     },
     "metadata": {},
     "output_type": "display_data"
    },
    {
     "data": {
      "application/vnd.jupyter.widget-view+json": {
       "model_id": "6f71dc0f55854b22b0f515bbef3fc566",
       "version_major": 2,
       "version_minor": 0
      },
      "text/plain": [
       "0it [00:00, ?it/s]"
      ]
     },
     "metadata": {},
     "output_type": "display_data"
    },
    {
     "name": "stdout",
     "output_type": "stream",
     "text": [
      "[2, 0, 1, 1, 0, 1, 2, 0, 1, 0, 0, 0, 0, 2, 0, 0, 0, 2, 1, 0, 1, 0, 0, 1, 1, 2, 2, 0, 0, 0, 2, 2, 2, 0, 0, 1, 2, 1, 2, 2, 2, 0]\n"
     ]
    },
    {
     "data": {
      "application/vnd.jupyter.widget-view+json": {
       "model_id": "67ed247baf2d4de58dd0dfefd552133c",
       "version_major": 2,
       "version_minor": 0
      },
      "text/plain": [
       "0it [00:00, ?it/s]"
      ]
     },
     "metadata": {},
     "output_type": "display_data"
    },
    {
     "data": {
      "application/vnd.jupyter.widget-view+json": {
       "model_id": "fe36df7dd9fa4876a24d0898b751a6c1",
       "version_major": 2,
       "version_minor": 0
      },
      "text/plain": [
       "0it [00:00, ?it/s]"
      ]
     },
     "metadata": {},
     "output_type": "display_data"
    },
    {
     "name": "stdout",
     "output_type": "stream",
     "text": [
      "[2, 0, 1, 1, 0, 1, 2, 0, 1, 0, 0, 0, 0, 2, 0, 0, 0, 2, 1, 0, 1, 0, 0, 1, 1, 2, 2, 0, 0, 0, 2, 2, 2, 0, 0, 1, 2, 1, 2, 2, 2, 0, 1]\n"
     ]
    },
    {
     "data": {
      "application/vnd.jupyter.widget-view+json": {
       "model_id": "1587433df9554febb8aa724cdeb2fbdd",
       "version_major": 2,
       "version_minor": 0
      },
      "text/plain": [
       "0it [00:00, ?it/s]"
      ]
     },
     "metadata": {},
     "output_type": "display_data"
    },
    {
     "data": {
      "application/vnd.jupyter.widget-view+json": {
       "model_id": "4e11ac46b03b42c18b8bd0302fbac880",
       "version_major": 2,
       "version_minor": 0
      },
      "text/plain": [
       "0it [00:00, ?it/s]"
      ]
     },
     "metadata": {},
     "output_type": "display_data"
    },
    {
     "name": "stdout",
     "output_type": "stream",
     "text": [
      "[2, 0, 1, 1, 0, 1, 2, 0, 1, 0, 0, 0, 0, 2, 0, 0, 0, 2, 1, 0, 1, 0, 0, 1, 1, 2, 2, 0, 0, 0, 2, 2, 2, 0, 0, 1, 2, 1, 2, 2, 2, 0, 1, 1]\n"
     ]
    },
    {
     "data": {
      "application/vnd.jupyter.widget-view+json": {
       "model_id": "b09bc867181043299c31f5f3b2986767",
       "version_major": 2,
       "version_minor": 0
      },
      "text/plain": [
       "0it [00:00, ?it/s]"
      ]
     },
     "metadata": {},
     "output_type": "display_data"
    },
    {
     "data": {
      "application/vnd.jupyter.widget-view+json": {
       "model_id": "e3827174711b4fd396d1b9e55e8edd30",
       "version_major": 2,
       "version_minor": 0
      },
      "text/plain": [
       "0it [00:00, ?it/s]"
      ]
     },
     "metadata": {},
     "output_type": "display_data"
    },
    {
     "name": "stdout",
     "output_type": "stream",
     "text": [
      "[2, 0, 1, 1, 0, 1, 2, 0, 1, 0, 0, 0, 0, 2, 0, 0, 0, 2, 1, 0, 1, 0, 0, 1, 1, 2, 2, 0, 0, 0, 2, 2, 2, 0, 0, 1, 2, 1, 2, 2, 2, 0, 1, 1, 2]\n"
     ]
    },
    {
     "data": {
      "application/vnd.jupyter.widget-view+json": {
       "model_id": "536f2bcf57bc4e1494794c9a91964e91",
       "version_major": 2,
       "version_minor": 0
      },
      "text/plain": [
       "0it [00:00, ?it/s]"
      ]
     },
     "metadata": {},
     "output_type": "display_data"
    },
    {
     "data": {
      "application/vnd.jupyter.widget-view+json": {
       "model_id": "c92e92cc89684d12850a106249341f56",
       "version_major": 2,
       "version_minor": 0
      },
      "text/plain": [
       "0it [00:00, ?it/s]"
      ]
     },
     "metadata": {},
     "output_type": "display_data"
    },
    {
     "name": "stdout",
     "output_type": "stream",
     "text": [
      "[2, 0, 1, 1, 0, 1, 2, 0, 1, 0, 0, 0, 0, 2, 0, 0, 0, 2, 1, 0, 1, 0, 0, 1, 1, 2, 2, 0, 0, 0, 2, 2, 2, 0, 0, 1, 2, 1, 2, 2, 2, 0, 1, 1, 2, 0]\n"
     ]
    },
    {
     "data": {
      "application/vnd.jupyter.widget-view+json": {
       "model_id": "7dfc362f398345f9890e0976f8be2fac",
       "version_major": 2,
       "version_minor": 0
      },
      "text/plain": [
       "0it [00:00, ?it/s]"
      ]
     },
     "metadata": {},
     "output_type": "display_data"
    },
    {
     "data": {
      "application/vnd.jupyter.widget-view+json": {
       "model_id": "ac800e8b080041669849f547169908e1",
       "version_major": 2,
       "version_minor": 0
      },
      "text/plain": [
       "0it [00:00, ?it/s]"
      ]
     },
     "metadata": {},
     "output_type": "display_data"
    },
    {
     "name": "stdout",
     "output_type": "stream",
     "text": [
      "[2, 0, 1, 1, 0, 1, 2, 0, 1, 0, 0, 0, 0, 2, 0, 0, 0, 2, 1, 0, 1, 0, 0, 1, 1, 2, 2, 0, 0, 0, 2, 2, 2, 0, 0, 1, 2, 1, 2, 2, 2, 0, 1, 1, 2, 0, 2]\n"
     ]
    },
    {
     "data": {
      "application/vnd.jupyter.widget-view+json": {
       "model_id": "5b12551ca8294daaa956e1aa32903680",
       "version_major": 2,
       "version_minor": 0
      },
      "text/plain": [
       "0it [00:00, ?it/s]"
      ]
     },
     "metadata": {},
     "output_type": "display_data"
    },
    {
     "data": {
      "application/vnd.jupyter.widget-view+json": {
       "model_id": "8cfbb9a8369a4872809c2e0da753531f",
       "version_major": 2,
       "version_minor": 0
      },
      "text/plain": [
       "0it [00:00, ?it/s]"
      ]
     },
     "metadata": {},
     "output_type": "display_data"
    },
    {
     "name": "stdout",
     "output_type": "stream",
     "text": [
      "[2, 0, 1, 1, 0, 1, 2, 0, 1, 0, 0, 0, 0, 2, 0, 0, 0, 2, 1, 0, 1, 0, 0, 1, 1, 2, 2, 0, 0, 0, 2, 2, 2, 0, 0, 1, 2, 1, 2, 2, 2, 0, 1, 1, 2, 0, 2, 2]\n"
     ]
    },
    {
     "data": {
      "application/vnd.jupyter.widget-view+json": {
       "model_id": "6b49682334e5425f87ff5c4313da6b5d",
       "version_major": 2,
       "version_minor": 0
      },
      "text/plain": [
       "0it [00:00, ?it/s]"
      ]
     },
     "metadata": {},
     "output_type": "display_data"
    },
    {
     "data": {
      "application/vnd.jupyter.widget-view+json": {
       "model_id": "3bdb313497e746d3b86e3be663b89218",
       "version_major": 2,
       "version_minor": 0
      },
      "text/plain": [
       "0it [00:00, ?it/s]"
      ]
     },
     "metadata": {},
     "output_type": "display_data"
    },
    {
     "name": "stdout",
     "output_type": "stream",
     "text": [
      "[2, 0, 1, 1, 0, 1, 2, 0, 1, 0, 0, 0, 0, 2, 0, 0, 0, 2, 1, 0, 1, 0, 0, 1, 1, 2, 2, 0, 0, 0, 2, 2, 2, 0, 0, 1, 2, 1, 2, 2, 2, 0, 1, 1, 2, 0, 2, 2, 0]\n"
     ]
    },
    {
     "data": {
      "application/vnd.jupyter.widget-view+json": {
       "model_id": "84f43f7c2d03442b90e0b877a3d31331",
       "version_major": 2,
       "version_minor": 0
      },
      "text/plain": [
       "0it [00:00, ?it/s]"
      ]
     },
     "metadata": {},
     "output_type": "display_data"
    },
    {
     "data": {
      "application/vnd.jupyter.widget-view+json": {
       "model_id": "f258afb7a74e419da574b5619e147ebc",
       "version_major": 2,
       "version_minor": 0
      },
      "text/plain": [
       "0it [00:00, ?it/s]"
      ]
     },
     "metadata": {},
     "output_type": "display_data"
    },
    {
     "name": "stdout",
     "output_type": "stream",
     "text": [
      "[2, 0, 1, 1, 0, 1, 2, 0, 1, 0, 0, 0, 0, 2, 0, 0, 0, 2, 1, 0, 1, 0, 0, 1, 1, 2, 2, 0, 0, 0, 2, 2, 2, 0, 0, 1, 2, 1, 2, 2, 2, 0, 1, 1, 2, 0, 2, 2, 0, 0]\n"
     ]
    },
    {
     "data": {
      "application/vnd.jupyter.widget-view+json": {
       "model_id": "cf8ea24456934156b6990e06f5be2e23",
       "version_major": 2,
       "version_minor": 0
      },
      "text/plain": [
       "0it [00:00, ?it/s]"
      ]
     },
     "metadata": {},
     "output_type": "display_data"
    },
    {
     "data": {
      "application/vnd.jupyter.widget-view+json": {
       "model_id": "5be73cbc9efe450c97914a0b0fa7fe2f",
       "version_major": 2,
       "version_minor": 0
      },
      "text/plain": [
       "0it [00:00, ?it/s]"
      ]
     },
     "metadata": {},
     "output_type": "display_data"
    },
    {
     "name": "stdout",
     "output_type": "stream",
     "text": [
      "[2, 0, 1, 1, 0, 1, 2, 0, 1, 0, 0, 0, 0, 2, 0, 0, 0, 2, 1, 0, 1, 0, 0, 1, 1, 2, 2, 0, 0, 0, 2, 2, 2, 0, 0, 1, 2, 1, 2, 2, 2, 0, 1, 1, 2, 0, 2, 2, 0, 0, 1]\n"
     ]
    },
    {
     "data": {
      "application/vnd.jupyter.widget-view+json": {
       "model_id": "fb2f9a2a7c0b4eafb49c1102d6925beb",
       "version_major": 2,
       "version_minor": 0
      },
      "text/plain": [
       "0it [00:00, ?it/s]"
      ]
     },
     "metadata": {},
     "output_type": "display_data"
    },
    {
     "data": {
      "application/vnd.jupyter.widget-view+json": {
       "model_id": "e5348887d9c04bf6a854c796d241916e",
       "version_major": 2,
       "version_minor": 0
      },
      "text/plain": [
       "0it [00:00, ?it/s]"
      ]
     },
     "metadata": {},
     "output_type": "display_data"
    },
    {
     "name": "stdout",
     "output_type": "stream",
     "text": [
      "[2, 0, 1, 1, 0, 1, 2, 0, 1, 0, 0, 0, 0, 2, 0, 0, 0, 2, 1, 0, 1, 0, 0, 1, 1, 2, 2, 0, 0, 0, 2, 2, 2, 0, 0, 1, 2, 1, 2, 2, 2, 0, 1, 1, 2, 0, 2, 2, 0, 0, 1, 0]\n"
     ]
    },
    {
     "data": {
      "application/vnd.jupyter.widget-view+json": {
       "model_id": "e11b385530c14b65bc3e1230733ad32b",
       "version_major": 2,
       "version_minor": 0
      },
      "text/plain": [
       "0it [00:00, ?it/s]"
      ]
     },
     "metadata": {},
     "output_type": "display_data"
    },
    {
     "data": {
      "application/vnd.jupyter.widget-view+json": {
       "model_id": "5e4a343c0a864a41973440e5337aa1f3",
       "version_major": 2,
       "version_minor": 0
      },
      "text/plain": [
       "0it [00:00, ?it/s]"
      ]
     },
     "metadata": {},
     "output_type": "display_data"
    },
    {
     "name": "stdout",
     "output_type": "stream",
     "text": [
      "[2, 0, 1, 1, 0, 1, 2, 0, 1, 0, 0, 0, 0, 2, 0, 0, 0, 2, 1, 0, 1, 0, 0, 1, 1, 2, 2, 0, 0, 0, 2, 2, 2, 0, 0, 1, 2, 1, 2, 2, 2, 0, 1, 1, 2, 0, 2, 2, 0, 0, 1, 0, 0]\n"
     ]
    },
    {
     "data": {
      "application/vnd.jupyter.widget-view+json": {
       "model_id": "a279f6e4014d4d85ad3a8767a588adb1",
       "version_major": 2,
       "version_minor": 0
      },
      "text/plain": [
       "0it [00:00, ?it/s]"
      ]
     },
     "metadata": {},
     "output_type": "display_data"
    },
    {
     "data": {
      "application/vnd.jupyter.widget-view+json": {
       "model_id": "93d2eec2b3da42e39d8dc1d40c31fa03",
       "version_major": 2,
       "version_minor": 0
      },
      "text/plain": [
       "0it [00:00, ?it/s]"
      ]
     },
     "metadata": {},
     "output_type": "display_data"
    },
    {
     "name": "stdout",
     "output_type": "stream",
     "text": [
      "[2, 0, 1, 1, 0, 1, 2, 0, 1, 0, 0, 0, 0, 2, 0, 0, 0, 2, 1, 0, 1, 0, 0, 1, 1, 2, 2, 0, 0, 0, 2, 2, 2, 0, 0, 1, 2, 1, 2, 2, 2, 0, 1, 1, 2, 0, 2, 2, 0, 0, 1, 0, 0, 0]\n"
     ]
    },
    {
     "data": {
      "application/vnd.jupyter.widget-view+json": {
       "model_id": "9df2d575fca645cab67b5a839063eee0",
       "version_major": 2,
       "version_minor": 0
      },
      "text/plain": [
       "0it [00:00, ?it/s]"
      ]
     },
     "metadata": {},
     "output_type": "display_data"
    },
    {
     "data": {
      "application/vnd.jupyter.widget-view+json": {
       "model_id": "df7ba4c55a3545439c552909bae91b02",
       "version_major": 2,
       "version_minor": 0
      },
      "text/plain": [
       "0it [00:00, ?it/s]"
      ]
     },
     "metadata": {},
     "output_type": "display_data"
    },
    {
     "name": "stdout",
     "output_type": "stream",
     "text": [
      "[2, 0, 1, 1, 0, 1, 2, 0, 1, 0, 0, 0, 0, 2, 0, 0, 0, 2, 1, 0, 1, 0, 0, 1, 1, 2, 2, 0, 0, 0, 2, 2, 2, 0, 0, 1, 2, 1, 2, 2, 2, 0, 1, 1, 2, 0, 2, 2, 0, 0, 1, 0, 0, 0, 1]\n"
     ]
    },
    {
     "data": {
      "application/vnd.jupyter.widget-view+json": {
       "model_id": "2902341ca0cf401d9ca635be7b0a085f",
       "version_major": 2,
       "version_minor": 0
      },
      "text/plain": [
       "0it [00:00, ?it/s]"
      ]
     },
     "metadata": {},
     "output_type": "display_data"
    },
    {
     "data": {
      "application/vnd.jupyter.widget-view+json": {
       "model_id": "f000b7da86444bd1b1a0890a603057b6",
       "version_major": 2,
       "version_minor": 0
      },
      "text/plain": [
       "0it [00:00, ?it/s]"
      ]
     },
     "metadata": {},
     "output_type": "display_data"
    },
    {
     "name": "stdout",
     "output_type": "stream",
     "text": [
      "[2, 0, 1, 1, 0, 1, 2, 0, 1, 0, 0, 0, 0, 2, 0, 0, 0, 2, 1, 0, 1, 0, 0, 1, 1, 2, 2, 0, 0, 0, 2, 2, 2, 0, 0, 1, 2, 1, 2, 2, 2, 0, 1, 1, 2, 0, 2, 2, 0, 0, 1, 0, 0, 0, 1, 1]\n"
     ]
    },
    {
     "data": {
      "application/vnd.jupyter.widget-view+json": {
       "model_id": "e8cf687553324db8978d8f31e2fa2a67",
       "version_major": 2,
       "version_minor": 0
      },
      "text/plain": [
       "0it [00:00, ?it/s]"
      ]
     },
     "metadata": {},
     "output_type": "display_data"
    },
    {
     "data": {
      "application/vnd.jupyter.widget-view+json": {
       "model_id": "3368518717774aaaaa554c0fb295be1c",
       "version_major": 2,
       "version_minor": 0
      },
      "text/plain": [
       "0it [00:00, ?it/s]"
      ]
     },
     "metadata": {},
     "output_type": "display_data"
    },
    {
     "name": "stdout",
     "output_type": "stream",
     "text": [
      "[2, 0, 1, 1, 0, 1, 2, 0, 1, 0, 0, 0, 0, 2, 0, 0, 0, 2, 1, 0, 1, 0, 0, 1, 1, 2, 2, 0, 0, 0, 2, 2, 2, 0, 0, 1, 2, 1, 2, 2, 2, 0, 1, 1, 2, 0, 2, 2, 0, 0, 1, 0, 0, 0, 1, 1, 2]\n"
     ]
    },
    {
     "data": {
      "application/vnd.jupyter.widget-view+json": {
       "model_id": "d71e97371b9c4b63b8e9f65797f09d42",
       "version_major": 2,
       "version_minor": 0
      },
      "text/plain": [
       "0it [00:00, ?it/s]"
      ]
     },
     "metadata": {},
     "output_type": "display_data"
    },
    {
     "data": {
      "application/vnd.jupyter.widget-view+json": {
       "model_id": "0ac9b175ad5b4a00b2da8414fbeecd3c",
       "version_major": 2,
       "version_minor": 0
      },
      "text/plain": [
       "0it [00:00, ?it/s]"
      ]
     },
     "metadata": {},
     "output_type": "display_data"
    },
    {
     "name": "stdout",
     "output_type": "stream",
     "text": [
      "[2, 0, 1, 1, 0, 1, 2, 0, 1, 0, 0, 0, 0, 2, 0, 0, 0, 2, 1, 0, 1, 0, 0, 1, 1, 2, 2, 0, 0, 0, 2, 2, 2, 0, 0, 1, 2, 1, 2, 2, 2, 0, 1, 1, 2, 0, 2, 2, 0, 0, 1, 0, 0, 0, 1, 1, 2, 2]\n"
     ]
    },
    {
     "data": {
      "application/vnd.jupyter.widget-view+json": {
       "model_id": "31070dff70f34296be293dae4fe09aa0",
       "version_major": 2,
       "version_minor": 0
      },
      "text/plain": [
       "0it [00:00, ?it/s]"
      ]
     },
     "metadata": {},
     "output_type": "display_data"
    },
    {
     "data": {
      "application/vnd.jupyter.widget-view+json": {
       "model_id": "e9970a347f294a249c60f4528f79e363",
       "version_major": 2,
       "version_minor": 0
      },
      "text/plain": [
       "0it [00:00, ?it/s]"
      ]
     },
     "metadata": {},
     "output_type": "display_data"
    },
    {
     "name": "stdout",
     "output_type": "stream",
     "text": [
      "[2, 0, 1, 1, 0, 1, 2, 0, 1, 0, 0, 0, 0, 2, 0, 0, 0, 2, 1, 0, 1, 0, 0, 1, 1, 2, 2, 0, 0, 0, 2, 2, 2, 0, 0, 1, 2, 1, 2, 2, 2, 0, 1, 1, 2, 0, 2, 2, 0, 0, 1, 0, 0, 0, 1, 1, 2, 2, 1]\n"
     ]
    },
    {
     "data": {
      "application/vnd.jupyter.widget-view+json": {
       "model_id": "1d16337ba63d4789abbf9f664363d680",
       "version_major": 2,
       "version_minor": 0
      },
      "text/plain": [
       "0it [00:00, ?it/s]"
      ]
     },
     "metadata": {},
     "output_type": "display_data"
    },
    {
     "data": {
      "application/vnd.jupyter.widget-view+json": {
       "model_id": "00db3528f89b4ba0ab328ad28a78c52a",
       "version_major": 2,
       "version_minor": 0
      },
      "text/plain": [
       "0it [00:00, ?it/s]"
      ]
     },
     "metadata": {},
     "output_type": "display_data"
    },
    {
     "name": "stdout",
     "output_type": "stream",
     "text": [
      "[2, 0, 1, 1, 0, 1, 2, 0, 1, 0, 0, 0, 0, 2, 0, 0, 0, 2, 1, 0, 1, 0, 0, 1, 1, 2, 2, 0, 0, 0, 2, 2, 2, 0, 0, 1, 2, 1, 2, 2, 2, 0, 1, 1, 2, 0, 2, 2, 0, 0, 1, 0, 0, 0, 1, 1, 2, 2, 1, 1]\n"
     ]
    },
    {
     "data": {
      "application/vnd.jupyter.widget-view+json": {
       "model_id": "892455ec2bf24361a413b1d5d49fc0f5",
       "version_major": 2,
       "version_minor": 0
      },
      "text/plain": [
       "0it [00:00, ?it/s]"
      ]
     },
     "metadata": {},
     "output_type": "display_data"
    },
    {
     "data": {
      "application/vnd.jupyter.widget-view+json": {
       "model_id": "a44891fac57f4f58a8fe38e1d98d9472",
       "version_major": 2,
       "version_minor": 0
      },
      "text/plain": [
       "0it [00:00, ?it/s]"
      ]
     },
     "metadata": {},
     "output_type": "display_data"
    },
    {
     "name": "stdout",
     "output_type": "stream",
     "text": [
      "[2, 0, 1, 1, 0, 1, 2, 0, 1, 0, 0, 0, 0, 2, 0, 0, 0, 2, 1, 0, 1, 0, 0, 1, 1, 2, 2, 0, 0, 0, 2, 2, 2, 0, 0, 1, 2, 1, 2, 2, 2, 0, 1, 1, 2, 0, 2, 2, 0, 0, 1, 0, 0, 0, 1, 1, 2, 2, 1, 1, 2]\n"
     ]
    },
    {
     "data": {
      "application/vnd.jupyter.widget-view+json": {
       "model_id": "bd02f5d13cf64823a863efa7e18d3b4c",
       "version_major": 2,
       "version_minor": 0
      },
      "text/plain": [
       "0it [00:00, ?it/s]"
      ]
     },
     "metadata": {},
     "output_type": "display_data"
    },
    {
     "data": {
      "application/vnd.jupyter.widget-view+json": {
       "model_id": "5bff50487daa4796941fc12eec59173a",
       "version_major": 2,
       "version_minor": 0
      },
      "text/plain": [
       "0it [00:00, ?it/s]"
      ]
     },
     "metadata": {},
     "output_type": "display_data"
    },
    {
     "name": "stdout",
     "output_type": "stream",
     "text": [
      "[2, 0, 1, 1, 0, 1, 2, 0, 1, 0, 0, 0, 0, 2, 0, 0, 0, 2, 1, 0, 1, 0, 0, 1, 1, 2, 2, 0, 0, 0, 2, 2, 2, 0, 0, 1, 2, 1, 2, 2, 2, 0, 1, 1, 2, 0, 2, 2, 0, 0, 1, 0, 0, 0, 1, 1, 2, 2, 1, 1, 2, 0]\n"
     ]
    },
    {
     "data": {
      "application/vnd.jupyter.widget-view+json": {
       "model_id": "aec21d8534ea42bcb9fb6dc7dd982b76",
       "version_major": 2,
       "version_minor": 0
      },
      "text/plain": [
       "0it [00:00, ?it/s]"
      ]
     },
     "metadata": {},
     "output_type": "display_data"
    },
    {
     "data": {
      "application/vnd.jupyter.widget-view+json": {
       "model_id": "7725dd9fd5214fd78681edb61520047f",
       "version_major": 2,
       "version_minor": 0
      },
      "text/plain": [
       "0it [00:00, ?it/s]"
      ]
     },
     "metadata": {},
     "output_type": "display_data"
    },
    {
     "name": "stdout",
     "output_type": "stream",
     "text": [
      "[2, 0, 1, 1, 0, 1, 2, 0, 1, 0, 0, 0, 0, 2, 0, 0, 0, 2, 1, 0, 1, 0, 0, 1, 1, 2, 2, 0, 0, 0, 2, 2, 2, 0, 0, 1, 2, 1, 2, 2, 2, 0, 1, 1, 2, 0, 2, 2, 0, 0, 1, 0, 0, 0, 1, 1, 2, 2, 1, 1, 2, 0, 2]\n"
     ]
    },
    {
     "data": {
      "application/vnd.jupyter.widget-view+json": {
       "model_id": "c54ffbadc17443c6b06d7d6cfe560fa7",
       "version_major": 2,
       "version_minor": 0
      },
      "text/plain": [
       "0it [00:00, ?it/s]"
      ]
     },
     "metadata": {},
     "output_type": "display_data"
    },
    {
     "data": {
      "application/vnd.jupyter.widget-view+json": {
       "model_id": "d4291a00613949c5a61e9023b43a93b9",
       "version_major": 2,
       "version_minor": 0
      },
      "text/plain": [
       "0it [00:00, ?it/s]"
      ]
     },
     "metadata": {},
     "output_type": "display_data"
    },
    {
     "name": "stdout",
     "output_type": "stream",
     "text": [
      "[2, 0, 1, 1, 0, 1, 2, 0, 1, 0, 0, 0, 0, 2, 0, 0, 0, 2, 1, 0, 1, 0, 0, 1, 1, 2, 2, 0, 0, 0, 2, 2, 2, 0, 0, 1, 2, 1, 2, 2, 2, 0, 1, 1, 2, 0, 2, 2, 0, 0, 1, 0, 0, 0, 1, 1, 2, 2, 1, 1, 2, 0, 2, 0]\n"
     ]
    },
    {
     "data": {
      "application/vnd.jupyter.widget-view+json": {
       "model_id": "f1139df99a084217b61153b39797b0bd",
       "version_major": 2,
       "version_minor": 0
      },
      "text/plain": [
       "0it [00:00, ?it/s]"
      ]
     },
     "metadata": {},
     "output_type": "display_data"
    },
    {
     "data": {
      "application/vnd.jupyter.widget-view+json": {
       "model_id": "323dd9f90d25415f90b0cc988de04c16",
       "version_major": 2,
       "version_minor": 0
      },
      "text/plain": [
       "0it [00:00, ?it/s]"
      ]
     },
     "metadata": {},
     "output_type": "display_data"
    },
    {
     "name": "stdout",
     "output_type": "stream",
     "text": [
      "[2, 0, 1, 1, 0, 1, 2, 0, 1, 0, 0, 0, 0, 2, 0, 0, 0, 2, 1, 0, 1, 0, 0, 1, 1, 2, 2, 0, 0, 0, 2, 2, 2, 0, 0, 1, 2, 1, 2, 2, 2, 0, 1, 1, 2, 0, 2, 2, 0, 0, 1, 0, 0, 0, 1, 1, 2, 2, 1, 1, 2, 0, 2, 0, 2]\n"
     ]
    },
    {
     "data": {
      "application/vnd.jupyter.widget-view+json": {
       "model_id": "dd626f68fa9b40b286902eb1db9fc063",
       "version_major": 2,
       "version_minor": 0
      },
      "text/plain": [
       "0it [00:00, ?it/s]"
      ]
     },
     "metadata": {},
     "output_type": "display_data"
    },
    {
     "data": {
      "application/vnd.jupyter.widget-view+json": {
       "model_id": "1bd5067ade5d4dccb41a23e7683b3611",
       "version_major": 2,
       "version_minor": 0
      },
      "text/plain": [
       "0it [00:00, ?it/s]"
      ]
     },
     "metadata": {},
     "output_type": "display_data"
    },
    {
     "name": "stdout",
     "output_type": "stream",
     "text": [
      "[2, 0, 1, 1, 0, 1, 2, 0, 1, 0, 0, 0, 0, 2, 0, 0, 0, 2, 1, 0, 1, 0, 0, 1, 1, 2, 2, 0, 0, 0, 2, 2, 2, 0, 0, 1, 2, 1, 2, 2, 2, 0, 1, 1, 2, 0, 2, 2, 0, 0, 1, 0, 0, 0, 1, 1, 2, 2, 1, 1, 2, 0, 2, 0, 2, 0]\n"
     ]
    },
    {
     "data": {
      "application/vnd.jupyter.widget-view+json": {
       "model_id": "4c88017436514c409fe6bfba96ce3a71",
       "version_major": 2,
       "version_minor": 0
      },
      "text/plain": [
       "0it [00:00, ?it/s]"
      ]
     },
     "metadata": {},
     "output_type": "display_data"
    },
    {
     "data": {
      "application/vnd.jupyter.widget-view+json": {
       "model_id": "633bb1fbb26b46039587218f0af02027",
       "version_major": 2,
       "version_minor": 0
      },
      "text/plain": [
       "0it [00:00, ?it/s]"
      ]
     },
     "metadata": {},
     "output_type": "display_data"
    },
    {
     "name": "stdout",
     "output_type": "stream",
     "text": [
      "[2, 0, 1, 1, 0, 1, 2, 0, 1, 0, 0, 0, 0, 2, 0, 0, 0, 2, 1, 0, 1, 0, 0, 1, 1, 2, 2, 0, 0, 0, 2, 2, 2, 0, 0, 1, 2, 1, 2, 2, 2, 0, 1, 1, 2, 0, 2, 2, 0, 0, 1, 0, 0, 0, 1, 1, 2, 2, 1, 1, 2, 0, 2, 0, 2, 0, 0]\n"
     ]
    },
    {
     "data": {
      "application/vnd.jupyter.widget-view+json": {
       "model_id": "799e3a79c8e7423c897dcf33d12ff13e",
       "version_major": 2,
       "version_minor": 0
      },
      "text/plain": [
       "0it [00:00, ?it/s]"
      ]
     },
     "metadata": {},
     "output_type": "display_data"
    },
    {
     "data": {
      "application/vnd.jupyter.widget-view+json": {
       "model_id": "195884caf27f4d52a2a8f865b8685797",
       "version_major": 2,
       "version_minor": 0
      },
      "text/plain": [
       "0it [00:00, ?it/s]"
      ]
     },
     "metadata": {},
     "output_type": "display_data"
    },
    {
     "name": "stdout",
     "output_type": "stream",
     "text": [
      "[2, 0, 1, 1, 0, 1, 2, 0, 1, 0, 0, 0, 0, 2, 0, 0, 0, 2, 1, 0, 1, 0, 0, 1, 1, 2, 2, 0, 0, 0, 2, 2, 2, 0, 0, 1, 2, 1, 2, 2, 2, 0, 1, 1, 2, 0, 2, 2, 0, 0, 1, 0, 0, 0, 1, 1, 2, 2, 1, 1, 2, 0, 2, 0, 2, 0, 0, 1]\n"
     ]
    },
    {
     "data": {
      "application/vnd.jupyter.widget-view+json": {
       "model_id": "bc6f6bdfd6f84e79964b40d8be5fc147",
       "version_major": 2,
       "version_minor": 0
      },
      "text/plain": [
       "0it [00:00, ?it/s]"
      ]
     },
     "metadata": {},
     "output_type": "display_data"
    },
    {
     "data": {
      "application/vnd.jupyter.widget-view+json": {
       "model_id": "3a7caa6cefb442799c07af118d85c148",
       "version_major": 2,
       "version_minor": 0
      },
      "text/plain": [
       "0it [00:00, ?it/s]"
      ]
     },
     "metadata": {},
     "output_type": "display_data"
    },
    {
     "name": "stdout",
     "output_type": "stream",
     "text": [
      "[2, 0, 1, 1, 0, 1, 2, 0, 1, 0, 0, 0, 0, 2, 0, 0, 0, 2, 1, 0, 1, 0, 0, 1, 1, 2, 2, 0, 0, 0, 2, 2, 2, 0, 0, 1, 2, 1, 2, 2, 2, 0, 1, 1, 2, 0, 2, 2, 0, 0, 1, 0, 0, 0, 1, 1, 2, 2, 1, 1, 2, 0, 2, 0, 2, 0, 0, 1, 2]\n"
     ]
    },
    {
     "data": {
      "application/vnd.jupyter.widget-view+json": {
       "model_id": "7ea34b9159df4a9b97b4cd2b8586f98f",
       "version_major": 2,
       "version_minor": 0
      },
      "text/plain": [
       "0it [00:00, ?it/s]"
      ]
     },
     "metadata": {},
     "output_type": "display_data"
    },
    {
     "data": {
      "application/vnd.jupyter.widget-view+json": {
       "model_id": "18c79d2f30344ed4897d8b4277dfa20f",
       "version_major": 2,
       "version_minor": 0
      },
      "text/plain": [
       "0it [00:00, ?it/s]"
      ]
     },
     "metadata": {},
     "output_type": "display_data"
    },
    {
     "name": "stdout",
     "output_type": "stream",
     "text": [
      "[2, 0, 1, 1, 0, 1, 2, 0, 1, 0, 0, 0, 0, 2, 0, 0, 0, 2, 1, 0, 1, 0, 0, 1, 1, 2, 2, 0, 0, 0, 2, 2, 2, 0, 0, 1, 2, 1, 2, 2, 2, 0, 1, 1, 2, 0, 2, 2, 0, 0, 1, 0, 0, 0, 1, 1, 2, 2, 1, 1, 2, 0, 2, 0, 2, 0, 0, 1, 2, 2]\n"
     ]
    },
    {
     "data": {
      "application/vnd.jupyter.widget-view+json": {
       "model_id": "f6aa866063284fb1a368df5baa306564",
       "version_major": 2,
       "version_minor": 0
      },
      "text/plain": [
       "0it [00:00, ?it/s]"
      ]
     },
     "metadata": {},
     "output_type": "display_data"
    },
    {
     "data": {
      "application/vnd.jupyter.widget-view+json": {
       "model_id": "9d8e5b8456b94c78895852f426533cf0",
       "version_major": 2,
       "version_minor": 0
      },
      "text/plain": [
       "0it [00:00, ?it/s]"
      ]
     },
     "metadata": {},
     "output_type": "display_data"
    },
    {
     "name": "stdout",
     "output_type": "stream",
     "text": [
      "[2, 0, 1, 1, 0, 1, 2, 0, 1, 0, 0, 0, 0, 2, 0, 0, 0, 2, 1, 0, 1, 0, 0, 1, 1, 2, 2, 0, 0, 0, 2, 2, 2, 0, 0, 1, 2, 1, 2, 2, 2, 0, 1, 1, 2, 0, 2, 2, 0, 0, 1, 0, 0, 0, 1, 1, 2, 2, 1, 1, 2, 0, 2, 0, 2, 0, 0, 1, 2, 2, 0]\n"
     ]
    },
    {
     "data": {
      "application/vnd.jupyter.widget-view+json": {
       "model_id": "1b6422979c544c0fa0c1ec126138efbb",
       "version_major": 2,
       "version_minor": 0
      },
      "text/plain": [
       "0it [00:00, ?it/s]"
      ]
     },
     "metadata": {},
     "output_type": "display_data"
    },
    {
     "data": {
      "application/vnd.jupyter.widget-view+json": {
       "model_id": "37f8741b39c14ef69345e57bd82ef7c9",
       "version_major": 2,
       "version_minor": 0
      },
      "text/plain": [
       "0it [00:00, ?it/s]"
      ]
     },
     "metadata": {},
     "output_type": "display_data"
    },
    {
     "name": "stdout",
     "output_type": "stream",
     "text": [
      "[2, 0, 1, 1, 0, 1, 2, 0, 1, 0, 0, 0, 0, 2, 0, 0, 0, 2, 1, 0, 1, 0, 0, 1, 1, 2, 2, 0, 0, 0, 2, 2, 2, 0, 0, 1, 2, 1, 2, 2, 2, 0, 1, 1, 2, 0, 2, 2, 0, 0, 1, 0, 0, 0, 1, 1, 2, 2, 1, 1, 2, 0, 2, 0, 2, 0, 0, 1, 2, 2, 0, 1]\n"
     ]
    },
    {
     "data": {
      "application/vnd.jupyter.widget-view+json": {
       "model_id": "86dbb9f2b6a142c0b44482efd0e4d11d",
       "version_major": 2,
       "version_minor": 0
      },
      "text/plain": [
       "0it [00:00, ?it/s]"
      ]
     },
     "metadata": {},
     "output_type": "display_data"
    },
    {
     "data": {
      "application/vnd.jupyter.widget-view+json": {
       "model_id": "eb7a27d806e44a5481ec093e9105685d",
       "version_major": 2,
       "version_minor": 0
      },
      "text/plain": [
       "0it [00:00, ?it/s]"
      ]
     },
     "metadata": {},
     "output_type": "display_data"
    },
    {
     "name": "stdout",
     "output_type": "stream",
     "text": [
      "[2, 0, 1, 1, 0, 1, 2, 0, 1, 0, 0, 0, 0, 2, 0, 0, 0, 2, 1, 0, 1, 0, 0, 1, 1, 2, 2, 0, 0, 0, 2, 2, 2, 0, 0, 1, 2, 1, 2, 2, 2, 0, 1, 1, 2, 0, 2, 2, 0, 0, 1, 0, 0, 0, 1, 1, 2, 2, 1, 1, 2, 0, 2, 0, 2, 0, 0, 1, 2, 2, 0, 1, 0]\n"
     ]
    },
    {
     "data": {
      "application/vnd.jupyter.widget-view+json": {
       "model_id": "c459e16c4ccc48fda6f5450dce59ad9a",
       "version_major": 2,
       "version_minor": 0
      },
      "text/plain": [
       "0it [00:00, ?it/s]"
      ]
     },
     "metadata": {},
     "output_type": "display_data"
    },
    {
     "data": {
      "application/vnd.jupyter.widget-view+json": {
       "model_id": "314c9e87e8b642bfbd0d5301db4c975d",
       "version_major": 2,
       "version_minor": 0
      },
      "text/plain": [
       "0it [00:00, ?it/s]"
      ]
     },
     "metadata": {},
     "output_type": "display_data"
    },
    {
     "name": "stdout",
     "output_type": "stream",
     "text": [
      "[2, 0, 1, 1, 0, 1, 2, 0, 1, 0, 0, 0, 0, 2, 0, 0, 0, 2, 1, 0, 1, 0, 0, 1, 1, 2, 2, 0, 0, 0, 2, 2, 2, 0, 0, 1, 2, 1, 2, 2, 2, 0, 1, 1, 2, 0, 2, 2, 0, 0, 1, 0, 0, 0, 1, 1, 2, 2, 1, 1, 2, 0, 2, 0, 2, 0, 0, 1, 2, 2, 0, 1, 0, 1]\n"
     ]
    },
    {
     "data": {
      "application/vnd.jupyter.widget-view+json": {
       "model_id": "615131f38f9c482e9f64236402c6e89e",
       "version_major": 2,
       "version_minor": 0
      },
      "text/plain": [
       "0it [00:00, ?it/s]"
      ]
     },
     "metadata": {},
     "output_type": "display_data"
    },
    {
     "data": {
      "application/vnd.jupyter.widget-view+json": {
       "model_id": "17d8ea45888348f891cbb4b2d4f6ad49",
       "version_major": 2,
       "version_minor": 0
      },
      "text/plain": [
       "0it [00:00, ?it/s]"
      ]
     },
     "metadata": {},
     "output_type": "display_data"
    },
    {
     "name": "stdout",
     "output_type": "stream",
     "text": [
      "[2, 0, 1, 1, 0, 1, 2, 0, 1, 0, 0, 0, 0, 2, 0, 0, 0, 2, 1, 0, 1, 0, 0, 1, 1, 2, 2, 0, 0, 0, 2, 2, 2, 0, 0, 1, 2, 1, 2, 2, 2, 0, 1, 1, 2, 0, 2, 2, 0, 0, 1, 0, 0, 0, 1, 1, 2, 2, 1, 1, 2, 0, 2, 0, 2, 0, 0, 1, 2, 2, 0, 1, 0, 1, 0]\n"
     ]
    },
    {
     "data": {
      "application/vnd.jupyter.widget-view+json": {
       "model_id": "c9fa23ba41454944ba38e1acb586d6b1",
       "version_major": 2,
       "version_minor": 0
      },
      "text/plain": [
       "0it [00:00, ?it/s]"
      ]
     },
     "metadata": {},
     "output_type": "display_data"
    },
    {
     "data": {
      "application/vnd.jupyter.widget-view+json": {
       "model_id": "09b07a8d1e80451683a1597ab71c6ca0",
       "version_major": 2,
       "version_minor": 0
      },
      "text/plain": [
       "0it [00:00, ?it/s]"
      ]
     },
     "metadata": {},
     "output_type": "display_data"
    },
    {
     "name": "stdout",
     "output_type": "stream",
     "text": [
      "[2, 0, 1, 1, 0, 1, 2, 0, 1, 0, 0, 0, 0, 2, 0, 0, 0, 2, 1, 0, 1, 0, 0, 1, 1, 2, 2, 0, 0, 0, 2, 2, 2, 0, 0, 1, 2, 1, 2, 2, 2, 0, 1, 1, 2, 0, 2, 2, 0, 0, 1, 0, 0, 0, 1, 1, 2, 2, 1, 1, 2, 0, 2, 0, 2, 0, 0, 1, 2, 2, 0, 1, 0, 1, 0, 0]\n"
     ]
    },
    {
     "data": {
      "application/vnd.jupyter.widget-view+json": {
       "model_id": "8df52a8548da44c2a432cd6ebe7f9d90",
       "version_major": 2,
       "version_minor": 0
      },
      "text/plain": [
       "0it [00:00, ?it/s]"
      ]
     },
     "metadata": {},
     "output_type": "display_data"
    },
    {
     "data": {
      "application/vnd.jupyter.widget-view+json": {
       "model_id": "0bf2b01f40754cefb48415fd712b46fa",
       "version_major": 2,
       "version_minor": 0
      },
      "text/plain": [
       "0it [00:00, ?it/s]"
      ]
     },
     "metadata": {},
     "output_type": "display_data"
    },
    {
     "name": "stdout",
     "output_type": "stream",
     "text": [
      "[2, 0, 1, 1, 0, 1, 2, 0, 1, 0, 0, 0, 0, 2, 0, 0, 0, 2, 1, 0, 1, 0, 0, 1, 1, 2, 2, 0, 0, 0, 2, 2, 2, 0, 0, 1, 2, 1, 2, 2, 2, 0, 1, 1, 2, 0, 2, 2, 0, 0, 1, 0, 0, 0, 1, 1, 2, 2, 1, 1, 2, 0, 2, 0, 2, 0, 0, 1, 2, 2, 0, 1, 0, 1, 0, 0, 1]\n"
     ]
    },
    {
     "data": {
      "application/vnd.jupyter.widget-view+json": {
       "model_id": "15d4b2f8ea61469d83a04b09f9750d06",
       "version_major": 2,
       "version_minor": 0
      },
      "text/plain": [
       "0it [00:00, ?it/s]"
      ]
     },
     "metadata": {},
     "output_type": "display_data"
    },
    {
     "data": {
      "application/vnd.jupyter.widget-view+json": {
       "model_id": "31fd40fe48cb4f7196e0bb04a757e1b5",
       "version_major": 2,
       "version_minor": 0
      },
      "text/plain": [
       "0it [00:00, ?it/s]"
      ]
     },
     "metadata": {},
     "output_type": "display_data"
    },
    {
     "name": "stdout",
     "output_type": "stream",
     "text": [
      "[2, 0, 1, 1, 0, 1, 2, 0, 1, 0, 0, 0, 0, 2, 0, 0, 0, 2, 1, 0, 1, 0, 0, 1, 1, 2, 2, 0, 0, 0, 2, 2, 2, 0, 0, 1, 2, 1, 2, 2, 2, 0, 1, 1, 2, 0, 2, 2, 0, 0, 1, 0, 0, 0, 1, 1, 2, 2, 1, 1, 2, 0, 2, 0, 2, 0, 0, 1, 2, 2, 0, 1, 0, 1, 0, 0, 1, 0]\n"
     ]
    },
    {
     "data": {
      "application/vnd.jupyter.widget-view+json": {
       "model_id": "8815e01dfd634e56bf09183d7d0390e8",
       "version_major": 2,
       "version_minor": 0
      },
      "text/plain": [
       "0it [00:00, ?it/s]"
      ]
     },
     "metadata": {},
     "output_type": "display_data"
    },
    {
     "data": {
      "application/vnd.jupyter.widget-view+json": {
       "model_id": "798faf8dfd1c45a4a08e4c9ffaff4f35",
       "version_major": 2,
       "version_minor": 0
      },
      "text/plain": [
       "0it [00:00, ?it/s]"
      ]
     },
     "metadata": {},
     "output_type": "display_data"
    },
    {
     "name": "stdout",
     "output_type": "stream",
     "text": [
      "[2, 0, 1, 1, 0, 1, 2, 0, 1, 0, 0, 0, 0, 2, 0, 0, 0, 2, 1, 0, 1, 0, 0, 1, 1, 2, 2, 0, 0, 0, 2, 2, 2, 0, 0, 1, 2, 1, 2, 2, 2, 0, 1, 1, 2, 0, 2, 2, 0, 0, 1, 0, 0, 0, 1, 1, 2, 2, 1, 1, 2, 0, 2, 0, 2, 0, 0, 1, 2, 2, 0, 1, 0, 1, 0, 0, 1, 0, 1]\n"
     ]
    },
    {
     "data": {
      "application/vnd.jupyter.widget-view+json": {
       "model_id": "40968447f5744fef9b0b28881fbd7e06",
       "version_major": 2,
       "version_minor": 0
      },
      "text/plain": [
       "0it [00:00, ?it/s]"
      ]
     },
     "metadata": {},
     "output_type": "display_data"
    },
    {
     "data": {
      "application/vnd.jupyter.widget-view+json": {
       "model_id": "adcf3c2c840b44669878451fc0dc669e",
       "version_major": 2,
       "version_minor": 0
      },
      "text/plain": [
       "0it [00:00, ?it/s]"
      ]
     },
     "metadata": {},
     "output_type": "display_data"
    },
    {
     "name": "stdout",
     "output_type": "stream",
     "text": [
      "[2, 0, 1, 1, 0, 1, 2, 0, 1, 0, 0, 0, 0, 2, 0, 0, 0, 2, 1, 0, 1, 0, 0, 1, 1, 2, 2, 0, 0, 0, 2, 2, 2, 0, 0, 1, 2, 1, 2, 2, 2, 0, 1, 1, 2, 0, 2, 2, 0, 0, 1, 0, 0, 0, 1, 1, 2, 2, 1, 1, 2, 0, 2, 0, 2, 0, 0, 1, 2, 2, 0, 1, 0, 1, 0, 0, 1, 0, 1, 0]\n"
     ]
    },
    {
     "data": {
      "application/vnd.jupyter.widget-view+json": {
       "model_id": "727abeac46bd492e892ecec078bafcbe",
       "version_major": 2,
       "version_minor": 0
      },
      "text/plain": [
       "0it [00:00, ?it/s]"
      ]
     },
     "metadata": {},
     "output_type": "display_data"
    },
    {
     "data": {
      "application/vnd.jupyter.widget-view+json": {
       "model_id": "09de4b187fa84001be1f66c7918f7849",
       "version_major": 2,
       "version_minor": 0
      },
      "text/plain": [
       "0it [00:00, ?it/s]"
      ]
     },
     "metadata": {},
     "output_type": "display_data"
    },
    {
     "name": "stdout",
     "output_type": "stream",
     "text": [
      "[2, 0, 1, 1, 0, 1, 2, 0, 1, 0, 0, 0, 0, 2, 0, 0, 0, 2, 1, 0, 1, 0, 0, 1, 1, 2, 2, 0, 0, 0, 2, 2, 2, 0, 0, 1, 2, 1, 2, 2, 2, 0, 1, 1, 2, 0, 2, 2, 0, 0, 1, 0, 0, 0, 1, 1, 2, 2, 1, 1, 2, 0, 2, 0, 2, 0, 0, 1, 2, 2, 0, 1, 0, 1, 0, 0, 1, 0, 1, 0, 1]\n"
     ]
    },
    {
     "data": {
      "application/vnd.jupyter.widget-view+json": {
       "model_id": "666b6b185865440db921d8c7d988c4da",
       "version_major": 2,
       "version_minor": 0
      },
      "text/plain": [
       "0it [00:00, ?it/s]"
      ]
     },
     "metadata": {},
     "output_type": "display_data"
    },
    {
     "data": {
      "application/vnd.jupyter.widget-view+json": {
       "model_id": "dfd0ff7d12e54d039ed837e29d392eac",
       "version_major": 2,
       "version_minor": 0
      },
      "text/plain": [
       "0it [00:00, ?it/s]"
      ]
     },
     "metadata": {},
     "output_type": "display_data"
    },
    {
     "name": "stdout",
     "output_type": "stream",
     "text": [
      "[2, 0, 1, 1, 0, 1, 2, 0, 1, 0, 0, 0, 0, 2, 0, 0, 0, 2, 1, 0, 1, 0, 0, 1, 1, 2, 2, 0, 0, 0, 2, 2, 2, 0, 0, 1, 2, 1, 2, 2, 2, 0, 1, 1, 2, 0, 2, 2, 0, 0, 1, 0, 0, 0, 1, 1, 2, 2, 1, 1, 2, 0, 2, 0, 2, 0, 0, 1, 2, 2, 0, 1, 0, 1, 0, 0, 1, 0, 1, 0, 1, 0]\n"
     ]
    },
    {
     "data": {
      "application/vnd.jupyter.widget-view+json": {
       "model_id": "14487ecfa4ca40b3bb4de9d733d43a98",
       "version_major": 2,
       "version_minor": 0
      },
      "text/plain": [
       "0it [00:00, ?it/s]"
      ]
     },
     "metadata": {},
     "output_type": "display_data"
    },
    {
     "data": {
      "application/vnd.jupyter.widget-view+json": {
       "model_id": "e4c470a6cc774817bf41c2d4b65a9a87",
       "version_major": 2,
       "version_minor": 0
      },
      "text/plain": [
       "0it [00:00, ?it/s]"
      ]
     },
     "metadata": {},
     "output_type": "display_data"
    },
    {
     "name": "stdout",
     "output_type": "stream",
     "text": [
      "[2, 0, 1, 1, 0, 1, 2, 0, 1, 0, 0, 0, 0, 2, 0, 0, 0, 2, 1, 0, 1, 0, 0, 1, 1, 2, 2, 0, 0, 0, 2, 2, 2, 0, 0, 1, 2, 1, 2, 2, 2, 0, 1, 1, 2, 0, 2, 2, 0, 0, 1, 0, 0, 0, 1, 1, 2, 2, 1, 1, 2, 0, 2, 0, 2, 0, 0, 1, 2, 2, 0, 1, 0, 1, 0, 0, 1, 0, 1, 0, 1, 0, 0]\n"
     ]
    },
    {
     "data": {
      "application/vnd.jupyter.widget-view+json": {
       "model_id": "b076fc10a6c44d218346f8c00b7e8757",
       "version_major": 2,
       "version_minor": 0
      },
      "text/plain": [
       "0it [00:00, ?it/s]"
      ]
     },
     "metadata": {},
     "output_type": "display_data"
    },
    {
     "data": {
      "application/vnd.jupyter.widget-view+json": {
       "model_id": "fbf4d1c8b29d4583ab376d77aa783817",
       "version_major": 2,
       "version_minor": 0
      },
      "text/plain": [
       "0it [00:00, ?it/s]"
      ]
     },
     "metadata": {},
     "output_type": "display_data"
    },
    {
     "name": "stdout",
     "output_type": "stream",
     "text": [
      "[2, 0, 1, 1, 0, 1, 2, 0, 1, 0, 0, 0, 0, 2, 0, 0, 0, 2, 1, 0, 1, 0, 0, 1, 1, 2, 2, 0, 0, 0, 2, 2, 2, 0, 0, 1, 2, 1, 2, 2, 2, 0, 1, 1, 2, 0, 2, 2, 0, 0, 1, 0, 0, 0, 1, 1, 2, 2, 1, 1, 2, 0, 2, 0, 2, 0, 0, 1, 2, 2, 0, 1, 0, 1, 0, 0, 1, 0, 1, 0, 1, 0, 0, 1]\n"
     ]
    },
    {
     "data": {
      "application/vnd.jupyter.widget-view+json": {
       "model_id": "8c335015ebdd4b76bb29ec7f93cb92b4",
       "version_major": 2,
       "version_minor": 0
      },
      "text/plain": [
       "0it [00:00, ?it/s]"
      ]
     },
     "metadata": {},
     "output_type": "display_data"
    },
    {
     "data": {
      "application/vnd.jupyter.widget-view+json": {
       "model_id": "51f618ef88ff4b1ea61532cbf874bb7a",
       "version_major": 2,
       "version_minor": 0
      },
      "text/plain": [
       "0it [00:00, ?it/s]"
      ]
     },
     "metadata": {},
     "output_type": "display_data"
    },
    {
     "name": "stdout",
     "output_type": "stream",
     "text": [
      "[2, 0, 1, 1, 0, 1, 2, 0, 1, 0, 0, 0, 0, 2, 0, 0, 0, 2, 1, 0, 1, 0, 0, 1, 1, 2, 2, 0, 0, 0, 2, 2, 2, 0, 0, 1, 2, 1, 2, 2, 2, 0, 1, 1, 2, 0, 2, 2, 0, 0, 1, 0, 0, 0, 1, 1, 2, 2, 1, 1, 2, 0, 2, 0, 2, 0, 0, 1, 2, 2, 0, 1, 0, 1, 0, 0, 1, 0, 1, 0, 1, 0, 0, 1, 1]\n"
     ]
    },
    {
     "data": {
      "application/vnd.jupyter.widget-view+json": {
       "model_id": "c1869ae77c5e47b4b74fd93450023e6b",
       "version_major": 2,
       "version_minor": 0
      },
      "text/plain": [
       "0it [00:00, ?it/s]"
      ]
     },
     "metadata": {},
     "output_type": "display_data"
    },
    {
     "data": {
      "application/vnd.jupyter.widget-view+json": {
       "model_id": "5ae07e435eeb4f4fa3e780a6d1d09250",
       "version_major": 2,
       "version_minor": 0
      },
      "text/plain": [
       "0it [00:00, ?it/s]"
      ]
     },
     "metadata": {},
     "output_type": "display_data"
    },
    {
     "name": "stdout",
     "output_type": "stream",
     "text": [
      "[2, 0, 1, 1, 0, 1, 2, 0, 1, 0, 0, 0, 0, 2, 0, 0, 0, 2, 1, 0, 1, 0, 0, 1, 1, 2, 2, 0, 0, 0, 2, 2, 2, 0, 0, 1, 2, 1, 2, 2, 2, 0, 1, 1, 2, 0, 2, 2, 0, 0, 1, 0, 0, 0, 1, 1, 2, 2, 1, 1, 2, 0, 2, 0, 2, 0, 0, 1, 2, 2, 0, 1, 0, 1, 0, 0, 1, 0, 1, 0, 1, 0, 0, 1, 1, 0]\n"
     ]
    },
    {
     "data": {
      "application/vnd.jupyter.widget-view+json": {
       "model_id": "a3a2c4dc0e41453fa89d44b59c6c8969",
       "version_major": 2,
       "version_minor": 0
      },
      "text/plain": [
       "0it [00:00, ?it/s]"
      ]
     },
     "metadata": {},
     "output_type": "display_data"
    },
    {
     "data": {
      "application/vnd.jupyter.widget-view+json": {
       "model_id": "a450a96034614014a4d8d32290e92e29",
       "version_major": 2,
       "version_minor": 0
      },
      "text/plain": [
       "0it [00:00, ?it/s]"
      ]
     },
     "metadata": {},
     "output_type": "display_data"
    },
    {
     "name": "stdout",
     "output_type": "stream",
     "text": [
      "[2, 0, 1, 1, 0, 1, 2, 0, 1, 0, 0, 0, 0, 2, 0, 0, 0, 2, 1, 0, 1, 0, 0, 1, 1, 2, 2, 0, 0, 0, 2, 2, 2, 0, 0, 1, 2, 1, 2, 2, 2, 0, 1, 1, 2, 0, 2, 2, 0, 0, 1, 0, 0, 0, 1, 1, 2, 2, 1, 1, 2, 0, 2, 0, 2, 0, 0, 1, 2, 2, 0, 1, 0, 1, 0, 0, 1, 0, 1, 0, 1, 0, 0, 1, 1, 0, 2]\n"
     ]
    },
    {
     "data": {
      "application/vnd.jupyter.widget-view+json": {
       "model_id": "c9a0047657104572adf344ae5020d740",
       "version_major": 2,
       "version_minor": 0
      },
      "text/plain": [
       "0it [00:00, ?it/s]"
      ]
     },
     "metadata": {},
     "output_type": "display_data"
    },
    {
     "data": {
      "application/vnd.jupyter.widget-view+json": {
       "model_id": "8479c2c9938c4b2bacb79f0cbf47bacc",
       "version_major": 2,
       "version_minor": 0
      },
      "text/plain": [
       "0it [00:00, ?it/s]"
      ]
     },
     "metadata": {},
     "output_type": "display_data"
    },
    {
     "name": "stdout",
     "output_type": "stream",
     "text": [
      "[2, 0, 1, 1, 0, 1, 2, 0, 1, 0, 0, 0, 0, 2, 0, 0, 0, 2, 1, 0, 1, 0, 0, 1, 1, 2, 2, 0, 0, 0, 2, 2, 2, 0, 0, 1, 2, 1, 2, 2, 2, 0, 1, 1, 2, 0, 2, 2, 0, 0, 1, 0, 0, 0, 1, 1, 2, 2, 1, 1, 2, 0, 2, 0, 2, 0, 0, 1, 2, 2, 0, 1, 0, 1, 0, 0, 1, 0, 1, 0, 1, 0, 0, 1, 1, 0, 2, 2]\n"
     ]
    },
    {
     "data": {
      "application/vnd.jupyter.widget-view+json": {
       "model_id": "01d07418825d4376be44123ce26dc221",
       "version_major": 2,
       "version_minor": 0
      },
      "text/plain": [
       "0it [00:00, ?it/s]"
      ]
     },
     "metadata": {},
     "output_type": "display_data"
    },
    {
     "data": {
      "application/vnd.jupyter.widget-view+json": {
       "model_id": "75a8b83568504088b672310dea301c33",
       "version_major": 2,
       "version_minor": 0
      },
      "text/plain": [
       "0it [00:00, ?it/s]"
      ]
     },
     "metadata": {},
     "output_type": "display_data"
    },
    {
     "name": "stdout",
     "output_type": "stream",
     "text": [
      "[2, 0, 1, 1, 0, 1, 2, 0, 1, 0, 0, 0, 0, 2, 0, 0, 0, 2, 1, 0, 1, 0, 0, 1, 1, 2, 2, 0, 0, 0, 2, 2, 2, 0, 0, 1, 2, 1, 2, 2, 2, 0, 1, 1, 2, 0, 2, 2, 0, 0, 1, 0, 0, 0, 1, 1, 2, 2, 1, 1, 2, 0, 2, 0, 2, 0, 0, 1, 2, 2, 0, 1, 0, 1, 0, 0, 1, 0, 1, 0, 1, 0, 0, 1, 1, 0, 2, 2, 2]\n"
     ]
    },
    {
     "data": {
      "application/vnd.jupyter.widget-view+json": {
       "model_id": "05a7263935c041089a45da14954ac19c",
       "version_major": 2,
       "version_minor": 0
      },
      "text/plain": [
       "0it [00:00, ?it/s]"
      ]
     },
     "metadata": {},
     "output_type": "display_data"
    },
    {
     "data": {
      "application/vnd.jupyter.widget-view+json": {
       "model_id": "440cbe44980a4425861f045415d75097",
       "version_major": 2,
       "version_minor": 0
      },
      "text/plain": [
       "0it [00:00, ?it/s]"
      ]
     },
     "metadata": {},
     "output_type": "display_data"
    },
    {
     "name": "stdout",
     "output_type": "stream",
     "text": [
      "[2, 0, 1, 1, 0, 1, 2, 0, 1, 0, 0, 0, 0, 2, 0, 0, 0, 2, 1, 0, 1, 0, 0, 1, 1, 2, 2, 0, 0, 0, 2, 2, 2, 0, 0, 1, 2, 1, 2, 2, 2, 0, 1, 1, 2, 0, 2, 2, 0, 0, 1, 0, 0, 0, 1, 1, 2, 2, 1, 1, 2, 0, 2, 0, 2, 0, 0, 1, 2, 2, 0, 1, 0, 1, 0, 0, 1, 0, 1, 0, 1, 0, 0, 1, 1, 0, 2, 2, 2, 1]\n"
     ]
    },
    {
     "data": {
      "application/vnd.jupyter.widget-view+json": {
       "model_id": "26c608c954224ca6ad1830a29faf4027",
       "version_major": 2,
       "version_minor": 0
      },
      "text/plain": [
       "0it [00:00, ?it/s]"
      ]
     },
     "metadata": {},
     "output_type": "display_data"
    },
    {
     "data": {
      "application/vnd.jupyter.widget-view+json": {
       "model_id": "8b897ccef84c4f7d93f697ca91105406",
       "version_major": 2,
       "version_minor": 0
      },
      "text/plain": [
       "0it [00:00, ?it/s]"
      ]
     },
     "metadata": {},
     "output_type": "display_data"
    },
    {
     "name": "stdout",
     "output_type": "stream",
     "text": [
      "[2, 0, 1, 1, 0, 1, 2, 0, 1, 0, 0, 0, 0, 2, 0, 0, 0, 2, 1, 0, 1, 0, 0, 1, 1, 2, 2, 0, 0, 0, 2, 2, 2, 0, 0, 1, 2, 1, 2, 2, 2, 0, 1, 1, 2, 0, 2, 2, 0, 0, 1, 0, 0, 0, 1, 1, 2, 2, 1, 1, 2, 0, 2, 0, 2, 0, 0, 1, 2, 2, 0, 1, 0, 1, 0, 0, 1, 0, 1, 0, 1, 0, 0, 1, 1, 0, 2, 2, 2, 1, 0]\n"
     ]
    },
    {
     "data": {
      "application/vnd.jupyter.widget-view+json": {
       "model_id": "c0f7641c5ddf415ba1211d71d3f64995",
       "version_major": 2,
       "version_minor": 0
      },
      "text/plain": [
       "0it [00:00, ?it/s]"
      ]
     },
     "metadata": {},
     "output_type": "display_data"
    },
    {
     "data": {
      "application/vnd.jupyter.widget-view+json": {
       "model_id": "780beba040ca451d877a96b32c905997",
       "version_major": 2,
       "version_minor": 0
      },
      "text/plain": [
       "0it [00:00, ?it/s]"
      ]
     },
     "metadata": {},
     "output_type": "display_data"
    },
    {
     "name": "stdout",
     "output_type": "stream",
     "text": [
      "[2, 0, 1, 1, 0, 1, 2, 0, 1, 0, 0, 0, 0, 2, 0, 0, 0, 2, 1, 0, 1, 0, 0, 1, 1, 2, 2, 0, 0, 0, 2, 2, 2, 0, 0, 1, 2, 1, 2, 2, 2, 0, 1, 1, 2, 0, 2, 2, 0, 0, 1, 0, 0, 0, 1, 1, 2, 2, 1, 1, 2, 0, 2, 0, 2, 0, 0, 1, 2, 2, 0, 1, 0, 1, 0, 0, 1, 0, 1, 0, 1, 0, 0, 1, 1, 0, 2, 2, 2, 1, 0, 0]\n"
     ]
    },
    {
     "data": {
      "application/vnd.jupyter.widget-view+json": {
       "model_id": "1b840733d2984620a1ebe0c3cd590eb3",
       "version_major": 2,
       "version_minor": 0
      },
      "text/plain": [
       "0it [00:00, ?it/s]"
      ]
     },
     "metadata": {},
     "output_type": "display_data"
    },
    {
     "data": {
      "application/vnd.jupyter.widget-view+json": {
       "model_id": "f9fe04960e3a4ce6a41fc12b99a63ee6",
       "version_major": 2,
       "version_minor": 0
      },
      "text/plain": [
       "0it [00:00, ?it/s]"
      ]
     },
     "metadata": {},
     "output_type": "display_data"
    },
    {
     "name": "stdout",
     "output_type": "stream",
     "text": [
      "[2, 0, 1, 1, 0, 1, 2, 0, 1, 0, 0, 0, 0, 2, 0, 0, 0, 2, 1, 0, 1, 0, 0, 1, 1, 2, 2, 0, 0, 0, 2, 2, 2, 0, 0, 1, 2, 1, 2, 2, 2, 0, 1, 1, 2, 0, 2, 2, 0, 0, 1, 0, 0, 0, 1, 1, 2, 2, 1, 1, 2, 0, 2, 0, 2, 0, 0, 1, 2, 2, 0, 1, 0, 1, 0, 0, 1, 0, 1, 0, 1, 0, 0, 1, 1, 0, 2, 2, 2, 1, 0, 0, 0]\n"
     ]
    },
    {
     "data": {
      "application/vnd.jupyter.widget-view+json": {
       "model_id": "78a45108c41149b5a82a41df13f91c54",
       "version_major": 2,
       "version_minor": 0
      },
      "text/plain": [
       "0it [00:00, ?it/s]"
      ]
     },
     "metadata": {},
     "output_type": "display_data"
    },
    {
     "data": {
      "application/vnd.jupyter.widget-view+json": {
       "model_id": "23f144f19cc948e6915a3ef50dc46dca",
       "version_major": 2,
       "version_minor": 0
      },
      "text/plain": [
       "0it [00:00, ?it/s]"
      ]
     },
     "metadata": {},
     "output_type": "display_data"
    },
    {
     "name": "stdout",
     "output_type": "stream",
     "text": [
      "[2, 0, 1, 1, 0, 1, 2, 0, 1, 0, 0, 0, 0, 2, 0, 0, 0, 2, 1, 0, 1, 0, 0, 1, 1, 2, 2, 0, 0, 0, 2, 2, 2, 0, 0, 1, 2, 1, 2, 2, 2, 0, 1, 1, 2, 0, 2, 2, 0, 0, 1, 0, 0, 0, 1, 1, 2, 2, 1, 1, 2, 0, 2, 0, 2, 0, 0, 1, 2, 2, 0, 1, 0, 1, 0, 0, 1, 0, 1, 0, 1, 0, 0, 1, 1, 0, 2, 2, 2, 1, 0, 0, 0, 1]\n"
     ]
    },
    {
     "data": {
      "application/vnd.jupyter.widget-view+json": {
       "model_id": "6230efe25b554840995428d713447f21",
       "version_major": 2,
       "version_minor": 0
      },
      "text/plain": [
       "0it [00:00, ?it/s]"
      ]
     },
     "metadata": {},
     "output_type": "display_data"
    },
    {
     "data": {
      "application/vnd.jupyter.widget-view+json": {
       "model_id": "769ce67a74f64abca9dd517448aa511b",
       "version_major": 2,
       "version_minor": 0
      },
      "text/plain": [
       "0it [00:00, ?it/s]"
      ]
     },
     "metadata": {},
     "output_type": "display_data"
    },
    {
     "name": "stdout",
     "output_type": "stream",
     "text": [
      "[2, 0, 1, 1, 0, 1, 2, 0, 1, 0, 0, 0, 0, 2, 0, 0, 0, 2, 1, 0, 1, 0, 0, 1, 1, 2, 2, 0, 0, 0, 2, 2, 2, 0, 0, 1, 2, 1, 2, 2, 2, 0, 1, 1, 2, 0, 2, 2, 0, 0, 1, 0, 0, 0, 1, 1, 2, 2, 1, 1, 2, 0, 2, 0, 2, 0, 0, 1, 2, 2, 0, 1, 0, 1, 0, 0, 1, 0, 1, 0, 1, 0, 0, 1, 1, 0, 2, 2, 2, 1, 0, 0, 0, 1, 0]\n"
     ]
    },
    {
     "data": {
      "application/vnd.jupyter.widget-view+json": {
       "model_id": "ba87d9f6085343089d22c3e57faac067",
       "version_major": 2,
       "version_minor": 0
      },
      "text/plain": [
       "0it [00:00, ?it/s]"
      ]
     },
     "metadata": {},
     "output_type": "display_data"
    },
    {
     "data": {
      "application/vnd.jupyter.widget-view+json": {
       "model_id": "19d9bf7f2d6e40ceb9c692358bb5d454",
       "version_major": 2,
       "version_minor": 0
      },
      "text/plain": [
       "0it [00:00, ?it/s]"
      ]
     },
     "metadata": {},
     "output_type": "display_data"
    },
    {
     "name": "stdout",
     "output_type": "stream",
     "text": [
      "[2, 0, 1, 1, 0, 1, 2, 0, 1, 0, 0, 0, 0, 2, 0, 0, 0, 2, 1, 0, 1, 0, 0, 1, 1, 2, 2, 0, 0, 0, 2, 2, 2, 0, 0, 1, 2, 1, 2, 2, 2, 0, 1, 1, 2, 0, 2, 2, 0, 0, 1, 0, 0, 0, 1, 1, 2, 2, 1, 1, 2, 0, 2, 0, 2, 0, 0, 1, 2, 2, 0, 1, 0, 1, 0, 0, 1, 0, 1, 0, 1, 0, 0, 1, 1, 0, 2, 2, 2, 1, 0, 0, 0, 1, 0, 0]\n"
     ]
    },
    {
     "data": {
      "application/vnd.jupyter.widget-view+json": {
       "model_id": "4041fa290c594eb0b7a02a2215da71a7",
       "version_major": 2,
       "version_minor": 0
      },
      "text/plain": [
       "0it [00:00, ?it/s]"
      ]
     },
     "metadata": {},
     "output_type": "display_data"
    },
    {
     "data": {
      "application/vnd.jupyter.widget-view+json": {
       "model_id": "6f30642b915f494293ed80eebd78c0f1",
       "version_major": 2,
       "version_minor": 0
      },
      "text/plain": [
       "0it [00:00, ?it/s]"
      ]
     },
     "metadata": {},
     "output_type": "display_data"
    },
    {
     "name": "stdout",
     "output_type": "stream",
     "text": [
      "[2, 0, 1, 1, 0, 1, 2, 0, 1, 0, 0, 0, 0, 2, 0, 0, 0, 2, 1, 0, 1, 0, 0, 1, 1, 2, 2, 0, 0, 0, 2, 2, 2, 0, 0, 1, 2, 1, 2, 2, 2, 0, 1, 1, 2, 0, 2, 2, 0, 0, 1, 0, 0, 0, 1, 1, 2, 2, 1, 1, 2, 0, 2, 0, 2, 0, 0, 1, 2, 2, 0, 1, 0, 1, 0, 0, 1, 0, 1, 0, 1, 0, 0, 1, 1, 0, 2, 2, 2, 1, 0, 0, 0, 1, 0, 0, 0]\n"
     ]
    },
    {
     "data": {
      "application/vnd.jupyter.widget-view+json": {
       "model_id": "456b1bd216264f46afce1f2c080d824d",
       "version_major": 2,
       "version_minor": 0
      },
      "text/plain": [
       "0it [00:00, ?it/s]"
      ]
     },
     "metadata": {},
     "output_type": "display_data"
    },
    {
     "data": {
      "application/vnd.jupyter.widget-view+json": {
       "model_id": "142a86fa319f4959a5d11a5178493d83",
       "version_major": 2,
       "version_minor": 0
      },
      "text/plain": [
       "0it [00:00, ?it/s]"
      ]
     },
     "metadata": {},
     "output_type": "display_data"
    },
    {
     "name": "stdout",
     "output_type": "stream",
     "text": [
      "[2, 0, 1, 1, 0, 1, 2, 0, 1, 0, 0, 0, 0, 2, 0, 0, 0, 2, 1, 0, 1, 0, 0, 1, 1, 2, 2, 0, 0, 0, 2, 2, 2, 0, 0, 1, 2, 1, 2, 2, 2, 0, 1, 1, 2, 0, 2, 2, 0, 0, 1, 0, 0, 0, 1, 1, 2, 2, 1, 1, 2, 0, 2, 0, 2, 0, 0, 1, 2, 2, 0, 1, 0, 1, 0, 0, 1, 0, 1, 0, 1, 0, 0, 1, 1, 0, 2, 2, 2, 1, 0, 0, 0, 1, 0, 0, 0, 0]\n"
     ]
    },
    {
     "data": {
      "application/vnd.jupyter.widget-view+json": {
       "model_id": "be4e5b71b9ff4704867baedab41694fe",
       "version_major": 2,
       "version_minor": 0
      },
      "text/plain": [
       "0it [00:00, ?it/s]"
      ]
     },
     "metadata": {},
     "output_type": "display_data"
    },
    {
     "data": {
      "application/vnd.jupyter.widget-view+json": {
       "model_id": "930bd64fcdc14430b95925c60608f3f7",
       "version_major": 2,
       "version_minor": 0
      },
      "text/plain": [
       "0it [00:00, ?it/s]"
      ]
     },
     "metadata": {},
     "output_type": "display_data"
    },
    {
     "name": "stdout",
     "output_type": "stream",
     "text": [
      "[2, 0, 1, 1, 0, 1, 2, 0, 1, 0, 0, 0, 0, 2, 0, 0, 0, 2, 1, 0, 1, 0, 0, 1, 1, 2, 2, 0, 0, 0, 2, 2, 2, 0, 0, 1, 2, 1, 2, 2, 2, 0, 1, 1, 2, 0, 2, 2, 0, 0, 1, 0, 0, 0, 1, 1, 2, 2, 1, 1, 2, 0, 2, 0, 2, 0, 0, 1, 2, 2, 0, 1, 0, 1, 0, 0, 1, 0, 1, 0, 1, 0, 0, 1, 1, 0, 2, 2, 2, 1, 0, 0, 0, 1, 0, 0, 0, 0, 1]\n"
     ]
    },
    {
     "data": {
      "application/vnd.jupyter.widget-view+json": {
       "model_id": "67bc2453030249caab675b2de1c1921f",
       "version_major": 2,
       "version_minor": 0
      },
      "text/plain": [
       "0it [00:00, ?it/s]"
      ]
     },
     "metadata": {},
     "output_type": "display_data"
    },
    {
     "data": {
      "application/vnd.jupyter.widget-view+json": {
       "model_id": "26aa8fec6f8445e5ac860c3caee70992",
       "version_major": 2,
       "version_minor": 0
      },
      "text/plain": [
       "0it [00:00, ?it/s]"
      ]
     },
     "metadata": {},
     "output_type": "display_data"
    },
    {
     "name": "stdout",
     "output_type": "stream",
     "text": [
      "[2, 0, 1, 1, 0, 1, 2, 0, 1, 0, 0, 0, 0, 2, 0, 0, 0, 2, 1, 0, 1, 0, 0, 1, 1, 2, 2, 0, 0, 0, 2, 2, 2, 0, 0, 1, 2, 1, 2, 2, 2, 0, 1, 1, 2, 0, 2, 2, 0, 0, 1, 0, 0, 0, 1, 1, 2, 2, 1, 1, 2, 0, 2, 0, 2, 0, 0, 1, 2, 2, 0, 1, 0, 1, 0, 0, 1, 0, 1, 0, 1, 0, 0, 1, 1, 0, 2, 2, 2, 1, 0, 0, 0, 1, 0, 0, 0, 0, 1, 1]\n"
     ]
    },
    {
     "data": {
      "application/vnd.jupyter.widget-view+json": {
       "model_id": "9d4d4fb4e85c4db08dc67f2c7d9f0aa2",
       "version_major": 2,
       "version_minor": 0
      },
      "text/plain": [
       "0it [00:00, ?it/s]"
      ]
     },
     "metadata": {},
     "output_type": "display_data"
    },
    {
     "data": {
      "application/vnd.jupyter.widget-view+json": {
       "model_id": "bf84de08e8ff4b2ba56e8520548310f6",
       "version_major": 2,
       "version_minor": 0
      },
      "text/plain": [
       "0it [00:00, ?it/s]"
      ]
     },
     "metadata": {},
     "output_type": "display_data"
    },
    {
     "name": "stdout",
     "output_type": "stream",
     "text": [
      "[2, 0, 1, 1, 0, 1, 2, 0, 1, 0, 0, 0, 0, 2, 0, 0, 0, 2, 1, 0, 1, 0, 0, 1, 1, 2, 2, 0, 0, 0, 2, 2, 2, 0, 0, 1, 2, 1, 2, 2, 2, 0, 1, 1, 2, 0, 2, 2, 0, 0, 1, 0, 0, 0, 1, 1, 2, 2, 1, 1, 2, 0, 2, 0, 2, 0, 0, 1, 2, 2, 0, 1, 0, 1, 0, 0, 1, 0, 1, 0, 1, 0, 0, 1, 1, 0, 2, 2, 2, 1, 0, 0, 0, 1, 0, 0, 0, 0, 1, 1, 2]\n"
     ]
    },
    {
     "data": {
      "application/vnd.jupyter.widget-view+json": {
       "model_id": "977f887baaaf4df8a850aca205c78a00",
       "version_major": 2,
       "version_minor": 0
      },
      "text/plain": [
       "0it [00:00, ?it/s]"
      ]
     },
     "metadata": {},
     "output_type": "display_data"
    },
    {
     "data": {
      "application/vnd.jupyter.widget-view+json": {
       "model_id": "00924ef52e024f13881502178a51a674",
       "version_major": 2,
       "version_minor": 0
      },
      "text/plain": [
       "0it [00:00, ?it/s]"
      ]
     },
     "metadata": {},
     "output_type": "display_data"
    },
    {
     "name": "stdout",
     "output_type": "stream",
     "text": [
      "[2, 0, 1, 1, 0, 1, 2, 0, 1, 0, 0, 0, 0, 2, 0, 0, 0, 2, 1, 0, 1, 0, 0, 1, 1, 2, 2, 0, 0, 0, 2, 2, 2, 0, 0, 1, 2, 1, 2, 2, 2, 0, 1, 1, 2, 0, 2, 2, 0, 0, 1, 0, 0, 0, 1, 1, 2, 2, 1, 1, 2, 0, 2, 0, 2, 0, 0, 1, 2, 2, 0, 1, 0, 1, 0, 0, 1, 0, 1, 0, 1, 0, 0, 1, 1, 0, 2, 2, 2, 1, 0, 0, 0, 1, 0, 0, 0, 0, 1, 1, 2, 0]\n"
     ]
    },
    {
     "data": {
      "application/vnd.jupyter.widget-view+json": {
       "model_id": "f24efd85b73d49d8b99629ece5514982",
       "version_major": 2,
       "version_minor": 0
      },
      "text/plain": [
       "0it [00:00, ?it/s]"
      ]
     },
     "metadata": {},
     "output_type": "display_data"
    },
    {
     "data": {
      "application/vnd.jupyter.widget-view+json": {
       "model_id": "19fa6dcaea134ef3bf4c6503ef4ee3f9",
       "version_major": 2,
       "version_minor": 0
      },
      "text/plain": [
       "0it [00:00, ?it/s]"
      ]
     },
     "metadata": {},
     "output_type": "display_data"
    },
    {
     "name": "stdout",
     "output_type": "stream",
     "text": [
      "[2, 0, 1, 1, 0, 1, 2, 0, 1, 0, 0, 0, 0, 2, 0, 0, 0, 2, 1, 0, 1, 0, 0, 1, 1, 2, 2, 0, 0, 0, 2, 2, 2, 0, 0, 1, 2, 1, 2, 2, 2, 0, 1, 1, 2, 0, 2, 2, 0, 0, 1, 0, 0, 0, 1, 1, 2, 2, 1, 1, 2, 0, 2, 0, 2, 0, 0, 1, 2, 2, 0, 1, 0, 1, 0, 0, 1, 0, 1, 0, 1, 0, 0, 1, 1, 0, 2, 2, 2, 1, 0, 0, 0, 1, 0, 0, 0, 0, 1, 1, 2, 0, 0]\n"
     ]
    },
    {
     "data": {
      "application/vnd.jupyter.widget-view+json": {
       "model_id": "78f93e9bbfce47349ffa0c29881c0a1a",
       "version_major": 2,
       "version_minor": 0
      },
      "text/plain": [
       "0it [00:00, ?it/s]"
      ]
     },
     "metadata": {},
     "output_type": "display_data"
    },
    {
     "data": {
      "application/vnd.jupyter.widget-view+json": {
       "model_id": "ec7dd6de6f7e4d6ea9f5e0686c11eb50",
       "version_major": 2,
       "version_minor": 0
      },
      "text/plain": [
       "0it [00:00, ?it/s]"
      ]
     },
     "metadata": {},
     "output_type": "display_data"
    },
    {
     "name": "stdout",
     "output_type": "stream",
     "text": [
      "[2, 0, 1, 1, 0, 1, 2, 0, 1, 0, 0, 0, 0, 2, 0, 0, 0, 2, 1, 0, 1, 0, 0, 1, 1, 2, 2, 0, 0, 0, 2, 2, 2, 0, 0, 1, 2, 1, 2, 2, 2, 0, 1, 1, 2, 0, 2, 2, 0, 0, 1, 0, 0, 0, 1, 1, 2, 2, 1, 1, 2, 0, 2, 0, 2, 0, 0, 1, 2, 2, 0, 1, 0, 1, 0, 0, 1, 0, 1, 0, 1, 0, 0, 1, 1, 0, 2, 2, 2, 1, 0, 0, 0, 1, 0, 0, 0, 0, 1, 1, 2, 0, 0, 2]\n"
     ]
    },
    {
     "data": {
      "application/vnd.jupyter.widget-view+json": {
       "model_id": "69863fab799840a4a7a8caa596de3693",
       "version_major": 2,
       "version_minor": 0
      },
      "text/plain": [
       "0it [00:00, ?it/s]"
      ]
     },
     "metadata": {},
     "output_type": "display_data"
    },
    {
     "data": {
      "application/vnd.jupyter.widget-view+json": {
       "model_id": "f8d6cedf8ce4435497ca7527412d5746",
       "version_major": 2,
       "version_minor": 0
      },
      "text/plain": [
       "0it [00:00, ?it/s]"
      ]
     },
     "metadata": {},
     "output_type": "display_data"
    },
    {
     "name": "stdout",
     "output_type": "stream",
     "text": [
      "[2, 0, 1, 1, 0, 1, 2, 0, 1, 0, 0, 0, 0, 2, 0, 0, 0, 2, 1, 0, 1, 0, 0, 1, 1, 2, 2, 0, 0, 0, 2, 2, 2, 0, 0, 1, 2, 1, 2, 2, 2, 0, 1, 1, 2, 0, 2, 2, 0, 0, 1, 0, 0, 0, 1, 1, 2, 2, 1, 1, 2, 0, 2, 0, 2, 0, 0, 1, 2, 2, 0, 1, 0, 1, 0, 0, 1, 0, 1, 0, 1, 0, 0, 1, 1, 0, 2, 2, 2, 1, 0, 0, 0, 1, 0, 0, 0, 0, 1, 1, 2, 0, 0, 2, 2]\n"
     ]
    },
    {
     "data": {
      "application/vnd.jupyter.widget-view+json": {
       "model_id": "ddd3149edbcd43859b70a21dba169443",
       "version_major": 2,
       "version_minor": 0
      },
      "text/plain": [
       "0it [00:00, ?it/s]"
      ]
     },
     "metadata": {},
     "output_type": "display_data"
    },
    {
     "data": {
      "application/vnd.jupyter.widget-view+json": {
       "model_id": "9328104936444aae8bc25461ca9ecd65",
       "version_major": 2,
       "version_minor": 0
      },
      "text/plain": [
       "0it [00:00, ?it/s]"
      ]
     },
     "metadata": {},
     "output_type": "display_data"
    },
    {
     "name": "stdout",
     "output_type": "stream",
     "text": [
      "[2, 0, 1, 1, 0, 1, 2, 0, 1, 0, 0, 0, 0, 2, 0, 0, 0, 2, 1, 0, 1, 0, 0, 1, 1, 2, 2, 0, 0, 0, 2, 2, 2, 0, 0, 1, 2, 1, 2, 2, 2, 0, 1, 1, 2, 0, 2, 2, 0, 0, 1, 0, 0, 0, 1, 1, 2, 2, 1, 1, 2, 0, 2, 0, 2, 0, 0, 1, 2, 2, 0, 1, 0, 1, 0, 0, 1, 0, 1, 0, 1, 0, 0, 1, 1, 0, 2, 2, 2, 1, 0, 0, 0, 1, 0, 0, 0, 0, 1, 1, 2, 0, 0, 2, 2, 2]\n"
     ]
    },
    {
     "data": {
      "application/vnd.jupyter.widget-view+json": {
       "model_id": "de472266f41f487cb3673ca068fb8358",
       "version_major": 2,
       "version_minor": 0
      },
      "text/plain": [
       "0it [00:00, ?it/s]"
      ]
     },
     "metadata": {},
     "output_type": "display_data"
    },
    {
     "data": {
      "application/vnd.jupyter.widget-view+json": {
       "model_id": "f407cc1216054294b01aa56e41c63659",
       "version_major": 2,
       "version_minor": 0
      },
      "text/plain": [
       "0it [00:00, ?it/s]"
      ]
     },
     "metadata": {},
     "output_type": "display_data"
    },
    {
     "name": "stdout",
     "output_type": "stream",
     "text": [
      "[2, 0, 1, 1, 0, 1, 2, 0, 1, 0, 0, 0, 0, 2, 0, 0, 0, 2, 1, 0, 1, 0, 0, 1, 1, 2, 2, 0, 0, 0, 2, 2, 2, 0, 0, 1, 2, 1, 2, 2, 2, 0, 1, 1, 2, 0, 2, 2, 0, 0, 1, 0, 0, 0, 1, 1, 2, 2, 1, 1, 2, 0, 2, 0, 2, 0, 0, 1, 2, 2, 0, 1, 0, 1, 0, 0, 1, 0, 1, 0, 1, 0, 0, 1, 1, 0, 2, 2, 2, 1, 0, 0, 0, 1, 0, 0, 0, 0, 1, 1, 2, 0, 0, 2, 2, 2, 1]\n"
     ]
    },
    {
     "data": {
      "application/vnd.jupyter.widget-view+json": {
       "model_id": "5da8fe0e611b4e8ca031f2bcdeef57d5",
       "version_major": 2,
       "version_minor": 0
      },
      "text/plain": [
       "0it [00:00, ?it/s]"
      ]
     },
     "metadata": {},
     "output_type": "display_data"
    },
    {
     "data": {
      "application/vnd.jupyter.widget-view+json": {
       "model_id": "a4adb4d18d364a03a233c77706788648",
       "version_major": 2,
       "version_minor": 0
      },
      "text/plain": [
       "0it [00:00, ?it/s]"
      ]
     },
     "metadata": {},
     "output_type": "display_data"
    },
    {
     "name": "stdout",
     "output_type": "stream",
     "text": [
      "[2, 0, 1, 1, 0, 1, 2, 0, 1, 0, 0, 0, 0, 2, 0, 0, 0, 2, 1, 0, 1, 0, 0, 1, 1, 2, 2, 0, 0, 0, 2, 2, 2, 0, 0, 1, 2, 1, 2, 2, 2, 0, 1, 1, 2, 0, 2, 2, 0, 0, 1, 0, 0, 0, 1, 1, 2, 2, 1, 1, 2, 0, 2, 0, 2, 0, 0, 1, 2, 2, 0, 1, 0, 1, 0, 0, 1, 0, 1, 0, 1, 0, 0, 1, 1, 0, 2, 2, 2, 1, 0, 0, 0, 1, 0, 0, 0, 0, 1, 1, 2, 0, 0, 2, 2, 2, 1, 2]\n"
     ]
    },
    {
     "data": {
      "application/vnd.jupyter.widget-view+json": {
       "model_id": "58b0d8477e954651b925ba0d297598f7",
       "version_major": 2,
       "version_minor": 0
      },
      "text/plain": [
       "0it [00:00, ?it/s]"
      ]
     },
     "metadata": {},
     "output_type": "display_data"
    },
    {
     "data": {
      "application/vnd.jupyter.widget-view+json": {
       "model_id": "e43191a1892d42f593102aa96dbd56b3",
       "version_major": 2,
       "version_minor": 0
      },
      "text/plain": [
       "0it [00:00, ?it/s]"
      ]
     },
     "metadata": {},
     "output_type": "display_data"
    },
    {
     "name": "stdout",
     "output_type": "stream",
     "text": [
      "[2, 0, 1, 1, 0, 1, 2, 0, 1, 0, 0, 0, 0, 2, 0, 0, 0, 2, 1, 0, 1, 0, 0, 1, 1, 2, 2, 0, 0, 0, 2, 2, 2, 0, 0, 1, 2, 1, 2, 2, 2, 0, 1, 1, 2, 0, 2, 2, 0, 0, 1, 0, 0, 0, 1, 1, 2, 2, 1, 1, 2, 0, 2, 0, 2, 0, 0, 1, 2, 2, 0, 1, 0, 1, 0, 0, 1, 0, 1, 0, 1, 0, 0, 1, 1, 0, 2, 2, 2, 1, 0, 0, 0, 1, 0, 0, 0, 0, 1, 1, 2, 0, 0, 2, 2, 2, 1, 2, 1]\n"
     ]
    },
    {
     "data": {
      "application/vnd.jupyter.widget-view+json": {
       "model_id": "06db6c10acd743af95c032e6277f7e92",
       "version_major": 2,
       "version_minor": 0
      },
      "text/plain": [
       "0it [00:00, ?it/s]"
      ]
     },
     "metadata": {},
     "output_type": "display_data"
    },
    {
     "data": {
      "application/vnd.jupyter.widget-view+json": {
       "model_id": "1caff0a50a4247ecb2f2975e92e575b3",
       "version_major": 2,
       "version_minor": 0
      },
      "text/plain": [
       "0it [00:00, ?it/s]"
      ]
     },
     "metadata": {},
     "output_type": "display_data"
    },
    {
     "name": "stdout",
     "output_type": "stream",
     "text": [
      "[2, 0, 1, 1, 0, 1, 2, 0, 1, 0, 0, 0, 0, 2, 0, 0, 0, 2, 1, 0, 1, 0, 0, 1, 1, 2, 2, 0, 0, 0, 2, 2, 2, 0, 0, 1, 2, 1, 2, 2, 2, 0, 1, 1, 2, 0, 2, 2, 0, 0, 1, 0, 0, 0, 1, 1, 2, 2, 1, 1, 2, 0, 2, 0, 2, 0, 0, 1, 2, 2, 0, 1, 0, 1, 0, 0, 1, 0, 1, 0, 1, 0, 0, 1, 1, 0, 2, 2, 2, 1, 0, 0, 0, 1, 0, 0, 0, 0, 1, 1, 2, 0, 0, 2, 2, 2, 1, 2, 1, 2]\n"
     ]
    },
    {
     "data": {
      "application/vnd.jupyter.widget-view+json": {
       "model_id": "7b0d17749efa4f39811f5ad6d9f67805",
       "version_major": 2,
       "version_minor": 0
      },
      "text/plain": [
       "0it [00:00, ?it/s]"
      ]
     },
     "metadata": {},
     "output_type": "display_data"
    },
    {
     "data": {
      "application/vnd.jupyter.widget-view+json": {
       "model_id": "dd92b4684d0e4f95acde4514d5beb1fb",
       "version_major": 2,
       "version_minor": 0
      },
      "text/plain": [
       "0it [00:00, ?it/s]"
      ]
     },
     "metadata": {},
     "output_type": "display_data"
    },
    {
     "name": "stdout",
     "output_type": "stream",
     "text": [
      "[2, 0, 1, 1, 0, 1, 2, 0, 1, 0, 0, 0, 0, 2, 0, 0, 0, 2, 1, 0, 1, 0, 0, 1, 1, 2, 2, 0, 0, 0, 2, 2, 2, 0, 0, 1, 2, 1, 2, 2, 2, 0, 1, 1, 2, 0, 2, 2, 0, 0, 1, 0, 0, 0, 1, 1, 2, 2, 1, 1, 2, 0, 2, 0, 2, 0, 0, 1, 2, 2, 0, 1, 0, 1, 0, 0, 1, 0, 1, 0, 1, 0, 0, 1, 1, 0, 2, 2, 2, 1, 0, 0, 0, 1, 0, 0, 0, 0, 1, 1, 2, 0, 0, 2, 2, 2, 1, 2, 1, 2, 2]\n"
     ]
    },
    {
     "data": {
      "application/vnd.jupyter.widget-view+json": {
       "model_id": "817972e561204a5ca9e70641f3cefc3e",
       "version_major": 2,
       "version_minor": 0
      },
      "text/plain": [
       "0it [00:00, ?it/s]"
      ]
     },
     "metadata": {},
     "output_type": "display_data"
    },
    {
     "data": {
      "application/vnd.jupyter.widget-view+json": {
       "model_id": "c6f78f8e6b244c19bf2340ea4732b3c7",
       "version_major": 2,
       "version_minor": 0
      },
      "text/plain": [
       "0it [00:00, ?it/s]"
      ]
     },
     "metadata": {},
     "output_type": "display_data"
    },
    {
     "name": "stdout",
     "output_type": "stream",
     "text": [
      "[2, 0, 1, 1, 0, 1, 2, 0, 1, 0, 0, 0, 0, 2, 0, 0, 0, 2, 1, 0, 1, 0, 0, 1, 1, 2, 2, 0, 0, 0, 2, 2, 2, 0, 0, 1, 2, 1, 2, 2, 2, 0, 1, 1, 2, 0, 2, 2, 0, 0, 1, 0, 0, 0, 1, 1, 2, 2, 1, 1, 2, 0, 2, 0, 2, 0, 0, 1, 2, 2, 0, 1, 0, 1, 0, 0, 1, 0, 1, 0, 1, 0, 0, 1, 1, 0, 2, 2, 2, 1, 0, 0, 0, 1, 0, 0, 0, 0, 1, 1, 2, 0, 0, 2, 2, 2, 1, 2, 1, 2, 2, 2]\n"
     ]
    },
    {
     "data": {
      "application/vnd.jupyter.widget-view+json": {
       "model_id": "79961a130d664db18b6a9a9c91698de8",
       "version_major": 2,
       "version_minor": 0
      },
      "text/plain": [
       "0it [00:00, ?it/s]"
      ]
     },
     "metadata": {},
     "output_type": "display_data"
    },
    {
     "data": {
      "application/vnd.jupyter.widget-view+json": {
       "model_id": "41d075d21ccc42bcb1a671ab3ff71c94",
       "version_major": 2,
       "version_minor": 0
      },
      "text/plain": [
       "0it [00:00, ?it/s]"
      ]
     },
     "metadata": {},
     "output_type": "display_data"
    },
    {
     "name": "stdout",
     "output_type": "stream",
     "text": [
      "[2, 0, 1, 1, 0, 1, 2, 0, 1, 0, 0, 0, 0, 2, 0, 0, 0, 2, 1, 0, 1, 0, 0, 1, 1, 2, 2, 0, 0, 0, 2, 2, 2, 0, 0, 1, 2, 1, 2, 2, 2, 0, 1, 1, 2, 0, 2, 2, 0, 0, 1, 0, 0, 0, 1, 1, 2, 2, 1, 1, 2, 0, 2, 0, 2, 0, 0, 1, 2, 2, 0, 1, 0, 1, 0, 0, 1, 0, 1, 0, 1, 0, 0, 1, 1, 0, 2, 2, 2, 1, 0, 0, 0, 1, 0, 0, 0, 0, 1, 1, 2, 0, 0, 2, 2, 2, 1, 2, 1, 2, 2, 2, 1]\n"
     ]
    },
    {
     "data": {
      "application/vnd.jupyter.widget-view+json": {
       "model_id": "779985ca581642af87b306f2191573b2",
       "version_major": 2,
       "version_minor": 0
      },
      "text/plain": [
       "0it [00:00, ?it/s]"
      ]
     },
     "metadata": {},
     "output_type": "display_data"
    },
    {
     "data": {
      "application/vnd.jupyter.widget-view+json": {
       "model_id": "d0bbedf7055a4b3b89cd419dffcb22c4",
       "version_major": 2,
       "version_minor": 0
      },
      "text/plain": [
       "0it [00:00, ?it/s]"
      ]
     },
     "metadata": {},
     "output_type": "display_data"
    },
    {
     "name": "stdout",
     "output_type": "stream",
     "text": [
      "[2, 0, 1, 1, 0, 1, 2, 0, 1, 0, 0, 0, 0, 2, 0, 0, 0, 2, 1, 0, 1, 0, 0, 1, 1, 2, 2, 0, 0, 0, 2, 2, 2, 0, 0, 1, 2, 1, 2, 2, 2, 0, 1, 1, 2, 0, 2, 2, 0, 0, 1, 0, 0, 0, 1, 1, 2, 2, 1, 1, 2, 0, 2, 0, 2, 0, 0, 1, 2, 2, 0, 1, 0, 1, 0, 0, 1, 0, 1, 0, 1, 0, 0, 1, 1, 0, 2, 2, 2, 1, 0, 0, 0, 1, 0, 0, 0, 0, 1, 1, 2, 0, 0, 2, 2, 2, 1, 2, 1, 2, 2, 2, 1, 0]\n"
     ]
    },
    {
     "data": {
      "application/vnd.jupyter.widget-view+json": {
       "model_id": "752a0f11f43b4a2f8b5189a6dbb4f96b",
       "version_major": 2,
       "version_minor": 0
      },
      "text/plain": [
       "0it [00:00, ?it/s]"
      ]
     },
     "metadata": {},
     "output_type": "display_data"
    },
    {
     "data": {
      "application/vnd.jupyter.widget-view+json": {
       "model_id": "7c9aad5d85aa4245832f96b396537acb",
       "version_major": 2,
       "version_minor": 0
      },
      "text/plain": [
       "0it [00:00, ?it/s]"
      ]
     },
     "metadata": {},
     "output_type": "display_data"
    },
    {
     "name": "stdout",
     "output_type": "stream",
     "text": [
      "[2, 0, 1, 1, 0, 1, 2, 0, 1, 0, 0, 0, 0, 2, 0, 0, 0, 2, 1, 0, 1, 0, 0, 1, 1, 2, 2, 0, 0, 0, 2, 2, 2, 0, 0, 1, 2, 1, 2, 2, 2, 0, 1, 1, 2, 0, 2, 2, 0, 0, 1, 0, 0, 0, 1, 1, 2, 2, 1, 1, 2, 0, 2, 0, 2, 0, 0, 1, 2, 2, 0, 1, 0, 1, 0, 0, 1, 0, 1, 0, 1, 0, 0, 1, 1, 0, 2, 2, 2, 1, 0, 0, 0, 1, 0, 0, 0, 0, 1, 1, 2, 0, 0, 2, 2, 2, 1, 2, 1, 2, 2, 2, 1, 0, 0]\n"
     ]
    },
    {
     "data": {
      "application/vnd.jupyter.widget-view+json": {
       "model_id": "55e330b08dfa4a2180a9c51f6dd72f9c",
       "version_major": 2,
       "version_minor": 0
      },
      "text/plain": [
       "0it [00:00, ?it/s]"
      ]
     },
     "metadata": {},
     "output_type": "display_data"
    },
    {
     "data": {
      "application/vnd.jupyter.widget-view+json": {
       "model_id": "864b2551fc1b4df7b4e425f2ab10c7a4",
       "version_major": 2,
       "version_minor": 0
      },
      "text/plain": [
       "0it [00:00, ?it/s]"
      ]
     },
     "metadata": {},
     "output_type": "display_data"
    },
    {
     "name": "stdout",
     "output_type": "stream",
     "text": [
      "[2, 0, 1, 1, 0, 1, 2, 0, 1, 0, 0, 0, 0, 2, 0, 0, 0, 2, 1, 0, 1, 0, 0, 1, 1, 2, 2, 0, 0, 0, 2, 2, 2, 0, 0, 1, 2, 1, 2, 2, 2, 0, 1, 1, 2, 0, 2, 2, 0, 0, 1, 0, 0, 0, 1, 1, 2, 2, 1, 1, 2, 0, 2, 0, 2, 0, 0, 1, 2, 2, 0, 1, 0, 1, 0, 0, 1, 0, 1, 0, 1, 0, 0, 1, 1, 0, 2, 2, 2, 1, 0, 0, 0, 1, 0, 0, 0, 0, 1, 1, 2, 0, 0, 2, 2, 2, 1, 2, 1, 2, 2, 2, 1, 0, 0, 0]\n"
     ]
    },
    {
     "data": {
      "application/vnd.jupyter.widget-view+json": {
       "model_id": "d1cd0f4585534666a24bf2dadf3288e9",
       "version_major": 2,
       "version_minor": 0
      },
      "text/plain": [
       "0it [00:00, ?it/s]"
      ]
     },
     "metadata": {},
     "output_type": "display_data"
    },
    {
     "data": {
      "application/vnd.jupyter.widget-view+json": {
       "model_id": "643366a258364a398237679bb2ae741a",
       "version_major": 2,
       "version_minor": 0
      },
      "text/plain": [
       "0it [00:00, ?it/s]"
      ]
     },
     "metadata": {},
     "output_type": "display_data"
    },
    {
     "name": "stdout",
     "output_type": "stream",
     "text": [
      "[2, 0, 1, 1, 0, 1, 2, 0, 1, 0, 0, 0, 0, 2, 0, 0, 0, 2, 1, 0, 1, 0, 0, 1, 1, 2, 2, 0, 0, 0, 2, 2, 2, 0, 0, 1, 2, 1, 2, 2, 2, 0, 1, 1, 2, 0, 2, 2, 0, 0, 1, 0, 0, 0, 1, 1, 2, 2, 1, 1, 2, 0, 2, 0, 2, 0, 0, 1, 2, 2, 0, 1, 0, 1, 0, 0, 1, 0, 1, 0, 1, 0, 0, 1, 1, 0, 2, 2, 2, 1, 0, 0, 0, 1, 0, 0, 0, 0, 1, 1, 2, 0, 0, 2, 2, 2, 1, 2, 1, 2, 2, 2, 1, 0, 0, 0, 2]\n"
     ]
    },
    {
     "data": {
      "application/vnd.jupyter.widget-view+json": {
       "model_id": "1fb4881706e84edbb7a1c0142d7a2cc6",
       "version_major": 2,
       "version_minor": 0
      },
      "text/plain": [
       "0it [00:00, ?it/s]"
      ]
     },
     "metadata": {},
     "output_type": "display_data"
    },
    {
     "data": {
      "application/vnd.jupyter.widget-view+json": {
       "model_id": "8eb8697cac9e4936934c2b68fa7487a0",
       "version_major": 2,
       "version_minor": 0
      },
      "text/plain": [
       "0it [00:00, ?it/s]"
      ]
     },
     "metadata": {},
     "output_type": "display_data"
    },
    {
     "name": "stdout",
     "output_type": "stream",
     "text": [
      "[2, 0, 1, 1, 0, 1, 2, 0, 1, 0, 0, 0, 0, 2, 0, 0, 0, 2, 1, 0, 1, 0, 0, 1, 1, 2, 2, 0, 0, 0, 2, 2, 2, 0, 0, 1, 2, 1, 2, 2, 2, 0, 1, 1, 2, 0, 2, 2, 0, 0, 1, 0, 0, 0, 1, 1, 2, 2, 1, 1, 2, 0, 2, 0, 2, 0, 0, 1, 2, 2, 0, 1, 0, 1, 0, 0, 1, 0, 1, 0, 1, 0, 0, 1, 1, 0, 2, 2, 2, 1, 0, 0, 0, 1, 0, 0, 0, 0, 1, 1, 2, 0, 0, 2, 2, 2, 1, 2, 1, 2, 2, 2, 1, 0, 0, 0, 2, 2]\n"
     ]
    },
    {
     "data": {
      "application/vnd.jupyter.widget-view+json": {
       "model_id": "dca19e280a6940e99b7828d060d939ac",
       "version_major": 2,
       "version_minor": 0
      },
      "text/plain": [
       "0it [00:00, ?it/s]"
      ]
     },
     "metadata": {},
     "output_type": "display_data"
    },
    {
     "data": {
      "application/vnd.jupyter.widget-view+json": {
       "model_id": "c68e8ae2aa294d159b922da50daee5e4",
       "version_major": 2,
       "version_minor": 0
      },
      "text/plain": [
       "0it [00:00, ?it/s]"
      ]
     },
     "metadata": {},
     "output_type": "display_data"
    },
    {
     "name": "stdout",
     "output_type": "stream",
     "text": [
      "[2, 0, 1, 1, 0, 1, 2, 0, 1, 0, 0, 0, 0, 2, 0, 0, 0, 2, 1, 0, 1, 0, 0, 1, 1, 2, 2, 0, 0, 0, 2, 2, 2, 0, 0, 1, 2, 1, 2, 2, 2, 0, 1, 1, 2, 0, 2, 2, 0, 0, 1, 0, 0, 0, 1, 1, 2, 2, 1, 1, 2, 0, 2, 0, 2, 0, 0, 1, 2, 2, 0, 1, 0, 1, 0, 0, 1, 0, 1, 0, 1, 0, 0, 1, 1, 0, 2, 2, 2, 1, 0, 0, 0, 1, 0, 0, 0, 0, 1, 1, 2, 0, 0, 2, 2, 2, 1, 2, 1, 2, 2, 2, 1, 0, 0, 0, 2, 2, 0]\n"
     ]
    },
    {
     "data": {
      "application/vnd.jupyter.widget-view+json": {
       "model_id": "a003e8b6efa74e2db1a2d751b67a2f12",
       "version_major": 2,
       "version_minor": 0
      },
      "text/plain": [
       "0it [00:00, ?it/s]"
      ]
     },
     "metadata": {},
     "output_type": "display_data"
    },
    {
     "data": {
      "application/vnd.jupyter.widget-view+json": {
       "model_id": "3b57ad0f7f2344eaba2be836ea5e0617",
       "version_major": 2,
       "version_minor": 0
      },
      "text/plain": [
       "0it [00:00, ?it/s]"
      ]
     },
     "metadata": {},
     "output_type": "display_data"
    },
    {
     "name": "stdout",
     "output_type": "stream",
     "text": [
      "[2, 0, 1, 1, 0, 1, 2, 0, 1, 0, 0, 0, 0, 2, 0, 0, 0, 2, 1, 0, 1, 0, 0, 1, 1, 2, 2, 0, 0, 0, 2, 2, 2, 0, 0, 1, 2, 1, 2, 2, 2, 0, 1, 1, 2, 0, 2, 2, 0, 0, 1, 0, 0, 0, 1, 1, 2, 2, 1, 1, 2, 0, 2, 0, 2, 0, 0, 1, 2, 2, 0, 1, 0, 1, 0, 0, 1, 0, 1, 0, 1, 0, 0, 1, 1, 0, 2, 2, 2, 1, 0, 0, 0, 1, 0, 0, 0, 0, 1, 1, 2, 0, 0, 2, 2, 2, 1, 2, 1, 2, 2, 2, 1, 0, 0, 0, 2, 2, 0, 0]\n"
     ]
    },
    {
     "data": {
      "application/vnd.jupyter.widget-view+json": {
       "model_id": "1cbc87841a714e92b214aa56fa4f8869",
       "version_major": 2,
       "version_minor": 0
      },
      "text/plain": [
       "0it [00:00, ?it/s]"
      ]
     },
     "metadata": {},
     "output_type": "display_data"
    },
    {
     "data": {
      "application/vnd.jupyter.widget-view+json": {
       "model_id": "e1524e68397d49c3a22a1f03cd9d64fd",
       "version_major": 2,
       "version_minor": 0
      },
      "text/plain": [
       "0it [00:00, ?it/s]"
      ]
     },
     "metadata": {},
     "output_type": "display_data"
    },
    {
     "name": "stdout",
     "output_type": "stream",
     "text": [
      "[2, 0, 1, 1, 0, 1, 2, 0, 1, 0, 0, 0, 0, 2, 0, 0, 0, 2, 1, 0, 1, 0, 0, 1, 1, 2, 2, 0, 0, 0, 2, 2, 2, 0, 0, 1, 2, 1, 2, 2, 2, 0, 1, 1, 2, 0, 2, 2, 0, 0, 1, 0, 0, 0, 1, 1, 2, 2, 1, 1, 2, 0, 2, 0, 2, 0, 0, 1, 2, 2, 0, 1, 0, 1, 0, 0, 1, 0, 1, 0, 1, 0, 0, 1, 1, 0, 2, 2, 2, 1, 0, 0, 0, 1, 0, 0, 0, 0, 1, 1, 2, 0, 0, 2, 2, 2, 1, 2, 1, 2, 2, 2, 1, 0, 0, 0, 2, 2, 0, 0, 2]\n"
     ]
    },
    {
     "data": {
      "application/vnd.jupyter.widget-view+json": {
       "model_id": "a20f2d1a2a6c47ff8e0c3b5396ac949b",
       "version_major": 2,
       "version_minor": 0
      },
      "text/plain": [
       "0it [00:00, ?it/s]"
      ]
     },
     "metadata": {},
     "output_type": "display_data"
    },
    {
     "data": {
      "application/vnd.jupyter.widget-view+json": {
       "model_id": "a354d98a4d3d404398fcfd5946819d95",
       "version_major": 2,
       "version_minor": 0
      },
      "text/plain": [
       "0it [00:00, ?it/s]"
      ]
     },
     "metadata": {},
     "output_type": "display_data"
    },
    {
     "name": "stdout",
     "output_type": "stream",
     "text": [
      "[2, 0, 1, 1, 0, 1, 2, 0, 1, 0, 0, 0, 0, 2, 0, 0, 0, 2, 1, 0, 1, 0, 0, 1, 1, 2, 2, 0, 0, 0, 2, 2, 2, 0, 0, 1, 2, 1, 2, 2, 2, 0, 1, 1, 2, 0, 2, 2, 0, 0, 1, 0, 0, 0, 1, 1, 2, 2, 1, 1, 2, 0, 2, 0, 2, 0, 0, 1, 2, 2, 0, 1, 0, 1, 0, 0, 1, 0, 1, 0, 1, 0, 0, 1, 1, 0, 2, 2, 2, 1, 0, 0, 0, 1, 0, 0, 0, 0, 1, 1, 2, 0, 0, 2, 2, 2, 1, 2, 1, 2, 2, 2, 1, 0, 0, 0, 2, 2, 0, 0, 2, 1]\n"
     ]
    },
    {
     "data": {
      "application/vnd.jupyter.widget-view+json": {
       "model_id": "11832b5ab1dd4c4099be4d468ffb54d0",
       "version_major": 2,
       "version_minor": 0
      },
      "text/plain": [
       "0it [00:00, ?it/s]"
      ]
     },
     "metadata": {},
     "output_type": "display_data"
    },
    {
     "data": {
      "application/vnd.jupyter.widget-view+json": {
       "model_id": "59e7a62fa30a42b3b5fa9b611e6a745b",
       "version_major": 2,
       "version_minor": 0
      },
      "text/plain": [
       "0it [00:00, ?it/s]"
      ]
     },
     "metadata": {},
     "output_type": "display_data"
    },
    {
     "name": "stdout",
     "output_type": "stream",
     "text": [
      "[2, 0, 1, 1, 0, 1, 2, 0, 1, 0, 0, 0, 0, 2, 0, 0, 0, 2, 1, 0, 1, 0, 0, 1, 1, 2, 2, 0, 0, 0, 2, 2, 2, 0, 0, 1, 2, 1, 2, 2, 2, 0, 1, 1, 2, 0, 2, 2, 0, 0, 1, 0, 0, 0, 1, 1, 2, 2, 1, 1, 2, 0, 2, 0, 2, 0, 0, 1, 2, 2, 0, 1, 0, 1, 0, 0, 1, 0, 1, 0, 1, 0, 0, 1, 1, 0, 2, 2, 2, 1, 0, 0, 0, 1, 0, 0, 0, 0, 1, 1, 2, 0, 0, 2, 2, 2, 1, 2, 1, 2, 2, 2, 1, 0, 0, 0, 2, 2, 0, 0, 2, 1, 2]\n"
     ]
    },
    {
     "data": {
      "application/vnd.jupyter.widget-view+json": {
       "model_id": "68e0248ea797426da5ba15041fd94446",
       "version_major": 2,
       "version_minor": 0
      },
      "text/plain": [
       "0it [00:00, ?it/s]"
      ]
     },
     "metadata": {},
     "output_type": "display_data"
    },
    {
     "data": {
      "application/vnd.jupyter.widget-view+json": {
       "model_id": "8e0c02933f574856b7460c63f089e4d5",
       "version_major": 2,
       "version_minor": 0
      },
      "text/plain": [
       "0it [00:00, ?it/s]"
      ]
     },
     "metadata": {},
     "output_type": "display_data"
    },
    {
     "name": "stdout",
     "output_type": "stream",
     "text": [
      "[2, 0, 1, 1, 0, 1, 2, 0, 1, 0, 0, 0, 0, 2, 0, 0, 0, 2, 1, 0, 1, 0, 0, 1, 1, 2, 2, 0, 0, 0, 2, 2, 2, 0, 0, 1, 2, 1, 2, 2, 2, 0, 1, 1, 2, 0, 2, 2, 0, 0, 1, 0, 0, 0, 1, 1, 2, 2, 1, 1, 2, 0, 2, 0, 2, 0, 0, 1, 2, 2, 0, 1, 0, 1, 0, 0, 1, 0, 1, 0, 1, 0, 0, 1, 1, 0, 2, 2, 2, 1, 0, 0, 0, 1, 0, 0, 0, 0, 1, 1, 2, 0, 0, 2, 2, 2, 1, 2, 1, 2, 2, 2, 1, 0, 0, 0, 2, 2, 0, 0, 2, 1, 2, 1]\n"
     ]
    },
    {
     "data": {
      "application/vnd.jupyter.widget-view+json": {
       "model_id": "150dd866d8f247ee89fe1ea5ef9e47e1",
       "version_major": 2,
       "version_minor": 0
      },
      "text/plain": [
       "0it [00:00, ?it/s]"
      ]
     },
     "metadata": {},
     "output_type": "display_data"
    },
    {
     "data": {
      "application/vnd.jupyter.widget-view+json": {
       "model_id": "0c8694271a1c4745bf0ac53a979e625c",
       "version_major": 2,
       "version_minor": 0
      },
      "text/plain": [
       "0it [00:00, ?it/s]"
      ]
     },
     "metadata": {},
     "output_type": "display_data"
    },
    {
     "name": "stdout",
     "output_type": "stream",
     "text": [
      "[2, 0, 1, 1, 0, 1, 2, 0, 1, 0, 0, 0, 0, 2, 0, 0, 0, 2, 1, 0, 1, 0, 0, 1, 1, 2, 2, 0, 0, 0, 2, 2, 2, 0, 0, 1, 2, 1, 2, 2, 2, 0, 1, 1, 2, 0, 2, 2, 0, 0, 1, 0, 0, 0, 1, 1, 2, 2, 1, 1, 2, 0, 2, 0, 2, 0, 0, 1, 2, 2, 0, 1, 0, 1, 0, 0, 1, 0, 1, 0, 1, 0, 0, 1, 1, 0, 2, 2, 2, 1, 0, 0, 0, 1, 0, 0, 0, 0, 1, 1, 2, 0, 0, 2, 2, 2, 1, 2, 1, 2, 2, 2, 1, 0, 0, 0, 2, 2, 0, 0, 2, 1, 2, 1, 2]\n"
     ]
    },
    {
     "data": {
      "application/vnd.jupyter.widget-view+json": {
       "model_id": "b8f7a31a5cab4063bd41826842fb2bff",
       "version_major": 2,
       "version_minor": 0
      },
      "text/plain": [
       "0it [00:00, ?it/s]"
      ]
     },
     "metadata": {},
     "output_type": "display_data"
    },
    {
     "data": {
      "application/vnd.jupyter.widget-view+json": {
       "model_id": "a3343cb33da34d1ea94afad43a23d8f6",
       "version_major": 2,
       "version_minor": 0
      },
      "text/plain": [
       "0it [00:00, ?it/s]"
      ]
     },
     "metadata": {},
     "output_type": "display_data"
    },
    {
     "name": "stdout",
     "output_type": "stream",
     "text": [
      "[2, 0, 1, 1, 0, 1, 2, 0, 1, 0, 0, 0, 0, 2, 0, 0, 0, 2, 1, 0, 1, 0, 0, 1, 1, 2, 2, 0, 0, 0, 2, 2, 2, 0, 0, 1, 2, 1, 2, 2, 2, 0, 1, 1, 2, 0, 2, 2, 0, 0, 1, 0, 0, 0, 1, 1, 2, 2, 1, 1, 2, 0, 2, 0, 2, 0, 0, 1, 2, 2, 0, 1, 0, 1, 0, 0, 1, 0, 1, 0, 1, 0, 0, 1, 1, 0, 2, 2, 2, 1, 0, 0, 0, 1, 0, 0, 0, 0, 1, 1, 2, 0, 0, 2, 2, 2, 1, 2, 1, 2, 2, 2, 1, 0, 0, 0, 2, 2, 0, 0, 2, 1, 2, 1, 2, 1]\n"
     ]
    },
    {
     "data": {
      "application/vnd.jupyter.widget-view+json": {
       "model_id": "e76cc6e5dc46405a96346c10811f2126",
       "version_major": 2,
       "version_minor": 0
      },
      "text/plain": [
       "0it [00:00, ?it/s]"
      ]
     },
     "metadata": {},
     "output_type": "display_data"
    },
    {
     "data": {
      "application/vnd.jupyter.widget-view+json": {
       "model_id": "87a9eebc5715481c92f4157b868e2e95",
       "version_major": 2,
       "version_minor": 0
      },
      "text/plain": [
       "0it [00:00, ?it/s]"
      ]
     },
     "metadata": {},
     "output_type": "display_data"
    },
    {
     "name": "stdout",
     "output_type": "stream",
     "text": [
      "[2, 0, 1, 1, 0, 1, 2, 0, 1, 0, 0, 0, 0, 2, 0, 0, 0, 2, 1, 0, 1, 0, 0, 1, 1, 2, 2, 0, 0, 0, 2, 2, 2, 0, 0, 1, 2, 1, 2, 2, 2, 0, 1, 1, 2, 0, 2, 2, 0, 0, 1, 0, 0, 0, 1, 1, 2, 2, 1, 1, 2, 0, 2, 0, 2, 0, 0, 1, 2, 2, 0, 1, 0, 1, 0, 0, 1, 0, 1, 0, 1, 0, 0, 1, 1, 0, 2, 2, 2, 1, 0, 0, 0, 1, 0, 0, 0, 0, 1, 1, 2, 0, 0, 2, 2, 2, 1, 2, 1, 2, 2, 2, 1, 0, 0, 0, 2, 2, 0, 0, 2, 1, 2, 1, 2, 1, 0]\n"
     ]
    },
    {
     "data": {
      "application/vnd.jupyter.widget-view+json": {
       "model_id": "547fd898550e4a8290ba56c67b9ee772",
       "version_major": 2,
       "version_minor": 0
      },
      "text/plain": [
       "0it [00:00, ?it/s]"
      ]
     },
     "metadata": {},
     "output_type": "display_data"
    },
    {
     "data": {
      "application/vnd.jupyter.widget-view+json": {
       "model_id": "5ede48b9519e42cb8f933823b5159bb0",
       "version_major": 2,
       "version_minor": 0
      },
      "text/plain": [
       "0it [00:00, ?it/s]"
      ]
     },
     "metadata": {},
     "output_type": "display_data"
    },
    {
     "name": "stdout",
     "output_type": "stream",
     "text": [
      "[2, 0, 1, 1, 0, 1, 2, 0, 1, 0, 0, 0, 0, 2, 0, 0, 0, 2, 1, 0, 1, 0, 0, 1, 1, 2, 2, 0, 0, 0, 2, 2, 2, 0, 0, 1, 2, 1, 2, 2, 2, 0, 1, 1, 2, 0, 2, 2, 0, 0, 1, 0, 0, 0, 1, 1, 2, 2, 1, 1, 2, 0, 2, 0, 2, 0, 0, 1, 2, 2, 0, 1, 0, 1, 0, 0, 1, 0, 1, 0, 1, 0, 0, 1, 1, 0, 2, 2, 2, 1, 0, 0, 0, 1, 0, 0, 0, 0, 1, 1, 2, 0, 0, 2, 2, 2, 1, 2, 1, 2, 2, 2, 1, 0, 0, 0, 2, 2, 0, 0, 2, 1, 2, 1, 2, 1, 0, 2]\n"
     ]
    },
    {
     "data": {
      "application/vnd.jupyter.widget-view+json": {
       "model_id": "2765ec5c42f14f2da03025a1ba18aa9a",
       "version_major": 2,
       "version_minor": 0
      },
      "text/plain": [
       "0it [00:00, ?it/s]"
      ]
     },
     "metadata": {},
     "output_type": "display_data"
    },
    {
     "data": {
      "application/vnd.jupyter.widget-view+json": {
       "model_id": "0864a565f30747eca6d7cb507d5954d9",
       "version_major": 2,
       "version_minor": 0
      },
      "text/plain": [
       "0it [00:00, ?it/s]"
      ]
     },
     "metadata": {},
     "output_type": "display_data"
    },
    {
     "name": "stdout",
     "output_type": "stream",
     "text": [
      "[2, 0, 1, 1, 0, 1, 2, 0, 1, 0, 0, 0, 0, 2, 0, 0, 0, 2, 1, 0, 1, 0, 0, 1, 1, 2, 2, 0, 0, 0, 2, 2, 2, 0, 0, 1, 2, 1, 2, 2, 2, 0, 1, 1, 2, 0, 2, 2, 0, 0, 1, 0, 0, 0, 1, 1, 2, 2, 1, 1, 2, 0, 2, 0, 2, 0, 0, 1, 2, 2, 0, 1, 0, 1, 0, 0, 1, 0, 1, 0, 1, 0, 0, 1, 1, 0, 2, 2, 2, 1, 0, 0, 0, 1, 0, 0, 0, 0, 1, 1, 2, 0, 0, 2, 2, 2, 1, 2, 1, 2, 2, 2, 1, 0, 0, 0, 2, 2, 0, 0, 2, 1, 2, 1, 2, 1, 0, 2, 0]\n"
     ]
    },
    {
     "data": {
      "application/vnd.jupyter.widget-view+json": {
       "model_id": "9327811f0d7641c180f95a5c4bbe2f58",
       "version_major": 2,
       "version_minor": 0
      },
      "text/plain": [
       "0it [00:00, ?it/s]"
      ]
     },
     "metadata": {},
     "output_type": "display_data"
    },
    {
     "data": {
      "application/vnd.jupyter.widget-view+json": {
       "model_id": "1781058dbe1d4a2e9fe5817dc5298a9c",
       "version_major": 2,
       "version_minor": 0
      },
      "text/plain": [
       "0it [00:00, ?it/s]"
      ]
     },
     "metadata": {},
     "output_type": "display_data"
    },
    {
     "name": "stdout",
     "output_type": "stream",
     "text": [
      "[2, 0, 1, 1, 0, 1, 2, 0, 1, 0, 0, 0, 0, 2, 0, 0, 0, 2, 1, 0, 1, 0, 0, 1, 1, 2, 2, 0, 0, 0, 2, 2, 2, 0, 0, 1, 2, 1, 2, 2, 2, 0, 1, 1, 2, 0, 2, 2, 0, 0, 1, 0, 0, 0, 1, 1, 2, 2, 1, 1, 2, 0, 2, 0, 2, 0, 0, 1, 2, 2, 0, 1, 0, 1, 0, 0, 1, 0, 1, 0, 1, 0, 0, 1, 1, 0, 2, 2, 2, 1, 0, 0, 0, 1, 0, 0, 0, 0, 1, 1, 2, 0, 0, 2, 2, 2, 1, 2, 1, 2, 2, 2, 1, 0, 0, 0, 2, 2, 0, 0, 2, 1, 2, 1, 2, 1, 0, 2, 0, 2]\n"
     ]
    },
    {
     "data": {
      "application/vnd.jupyter.widget-view+json": {
       "model_id": "f3adbd4683e6435a8b5a92eb7fed58b7",
       "version_major": 2,
       "version_minor": 0
      },
      "text/plain": [
       "0it [00:00, ?it/s]"
      ]
     },
     "metadata": {},
     "output_type": "display_data"
    },
    {
     "data": {
      "application/vnd.jupyter.widget-view+json": {
       "model_id": "2913c1214e46488bacae157c85202974",
       "version_major": 2,
       "version_minor": 0
      },
      "text/plain": [
       "0it [00:00, ?it/s]"
      ]
     },
     "metadata": {},
     "output_type": "display_data"
    },
    {
     "name": "stdout",
     "output_type": "stream",
     "text": [
      "[2, 0, 1, 1, 0, 1, 2, 0, 1, 0, 0, 0, 0, 2, 0, 0, 0, 2, 1, 0, 1, 0, 0, 1, 1, 2, 2, 0, 0, 0, 2, 2, 2, 0, 0, 1, 2, 1, 2, 2, 2, 0, 1, 1, 2, 0, 2, 2, 0, 0, 1, 0, 0, 0, 1, 1, 2, 2, 1, 1, 2, 0, 2, 0, 2, 0, 0, 1, 2, 2, 0, 1, 0, 1, 0, 0, 1, 0, 1, 0, 1, 0, 0, 1, 1, 0, 2, 2, 2, 1, 0, 0, 0, 1, 0, 0, 0, 0, 1, 1, 2, 0, 0, 2, 2, 2, 1, 2, 1, 2, 2, 2, 1, 0, 0, 0, 2, 2, 0, 0, 2, 1, 2, 1, 2, 1, 0, 2, 0, 2, 2]\n"
     ]
    },
    {
     "data": {
      "application/vnd.jupyter.widget-view+json": {
       "model_id": "899ab48628b14fc5989ac301c9839189",
       "version_major": 2,
       "version_minor": 0
      },
      "text/plain": [
       "0it [00:00, ?it/s]"
      ]
     },
     "metadata": {},
     "output_type": "display_data"
    },
    {
     "data": {
      "application/vnd.jupyter.widget-view+json": {
       "model_id": "8aec3d967b0049348c01afa014993311",
       "version_major": 2,
       "version_minor": 0
      },
      "text/plain": [
       "0it [00:00, ?it/s]"
      ]
     },
     "metadata": {},
     "output_type": "display_data"
    },
    {
     "name": "stdout",
     "output_type": "stream",
     "text": [
      "[2, 0, 1, 1, 0, 1, 2, 0, 1, 0, 0, 0, 0, 2, 0, 0, 0, 2, 1, 0, 1, 0, 0, 1, 1, 2, 2, 0, 0, 0, 2, 2, 2, 0, 0, 1, 2, 1, 2, 2, 2, 0, 1, 1, 2, 0, 2, 2, 0, 0, 1, 0, 0, 0, 1, 1, 2, 2, 1, 1, 2, 0, 2, 0, 2, 0, 0, 1, 2, 2, 0, 1, 0, 1, 0, 0, 1, 0, 1, 0, 1, 0, 0, 1, 1, 0, 2, 2, 2, 1, 0, 0, 0, 1, 0, 0, 0, 0, 1, 1, 2, 0, 0, 2, 2, 2, 1, 2, 1, 2, 2, 2, 1, 0, 0, 0, 2, 2, 0, 0, 2, 1, 2, 1, 2, 1, 0, 2, 0, 2, 2, 1]\n"
     ]
    },
    {
     "data": {
      "application/vnd.jupyter.widget-view+json": {
       "model_id": "d36d5d73fab14fcd80be3d739d5f4c49",
       "version_major": 2,
       "version_minor": 0
      },
      "text/plain": [
       "0it [00:00, ?it/s]"
      ]
     },
     "metadata": {},
     "output_type": "display_data"
    },
    {
     "data": {
      "application/vnd.jupyter.widget-view+json": {
       "model_id": "7ff7ddd45d144f76aa8c0abb8b63ff10",
       "version_major": 2,
       "version_minor": 0
      },
      "text/plain": [
       "0it [00:00, ?it/s]"
      ]
     },
     "metadata": {},
     "output_type": "display_data"
    },
    {
     "name": "stdout",
     "output_type": "stream",
     "text": [
      "[2, 0, 1, 1, 0, 1, 2, 0, 1, 0, 0, 0, 0, 2, 0, 0, 0, 2, 1, 0, 1, 0, 0, 1, 1, 2, 2, 0, 0, 0, 2, 2, 2, 0, 0, 1, 2, 1, 2, 2, 2, 0, 1, 1, 2, 0, 2, 2, 0, 0, 1, 0, 0, 0, 1, 1, 2, 2, 1, 1, 2, 0, 2, 0, 2, 0, 0, 1, 2, 2, 0, 1, 0, 1, 0, 0, 1, 0, 1, 0, 1, 0, 0, 1, 1, 0, 2, 2, 2, 1, 0, 0, 0, 1, 0, 0, 0, 0, 1, 1, 2, 0, 0, 2, 2, 2, 1, 2, 1, 2, 2, 2, 1, 0, 0, 0, 2, 2, 0, 0, 2, 1, 2, 1, 2, 1, 0, 2, 0, 2, 2, 1, 1]\n"
     ]
    },
    {
     "data": {
      "application/vnd.jupyter.widget-view+json": {
       "model_id": "75751d924e0448348b3a0a9980d3b0af",
       "version_major": 2,
       "version_minor": 0
      },
      "text/plain": [
       "0it [00:00, ?it/s]"
      ]
     },
     "metadata": {},
     "output_type": "display_data"
    },
    {
     "data": {
      "application/vnd.jupyter.widget-view+json": {
       "model_id": "cf4b9f09d4594de1b778e4abae1fa2e9",
       "version_major": 2,
       "version_minor": 0
      },
      "text/plain": [
       "0it [00:00, ?it/s]"
      ]
     },
     "metadata": {},
     "output_type": "display_data"
    },
    {
     "name": "stdout",
     "output_type": "stream",
     "text": [
      "[2, 0, 1, 1, 0, 1, 2, 0, 1, 0, 0, 0, 0, 2, 0, 0, 0, 2, 1, 0, 1, 0, 0, 1, 1, 2, 2, 0, 0, 0, 2, 2, 2, 0, 0, 1, 2, 1, 2, 2, 2, 0, 1, 1, 2, 0, 2, 2, 0, 0, 1, 0, 0, 0, 1, 1, 2, 2, 1, 1, 2, 0, 2, 0, 2, 0, 0, 1, 2, 2, 0, 1, 0, 1, 0, 0, 1, 0, 1, 0, 1, 0, 0, 1, 1, 0, 2, 2, 2, 1, 0, 0, 0, 1, 0, 0, 0, 0, 1, 1, 2, 0, 0, 2, 2, 2, 1, 2, 1, 2, 2, 2, 1, 0, 0, 0, 2, 2, 0, 0, 2, 1, 2, 1, 2, 1, 0, 2, 0, 2, 2, 1, 1, 0]\n"
     ]
    },
    {
     "data": {
      "application/vnd.jupyter.widget-view+json": {
       "model_id": "e3f9e3623f8c47bdab152c74d6b0f2f3",
       "version_major": 2,
       "version_minor": 0
      },
      "text/plain": [
       "0it [00:00, ?it/s]"
      ]
     },
     "metadata": {},
     "output_type": "display_data"
    },
    {
     "data": {
      "application/vnd.jupyter.widget-view+json": {
       "model_id": "1dbb7bb48fb14f1a93714227150ee284",
       "version_major": 2,
       "version_minor": 0
      },
      "text/plain": [
       "0it [00:00, ?it/s]"
      ]
     },
     "metadata": {},
     "output_type": "display_data"
    },
    {
     "name": "stdout",
     "output_type": "stream",
     "text": [
      "[2, 0, 1, 1, 0, 1, 2, 0, 1, 0, 0, 0, 0, 2, 0, 0, 0, 2, 1, 0, 1, 0, 0, 1, 1, 2, 2, 0, 0, 0, 2, 2, 2, 0, 0, 1, 2, 1, 2, 2, 2, 0, 1, 1, 2, 0, 2, 2, 0, 0, 1, 0, 0, 0, 1, 1, 2, 2, 1, 1, 2, 0, 2, 0, 2, 0, 0, 1, 2, 2, 0, 1, 0, 1, 0, 0, 1, 0, 1, 0, 1, 0, 0, 1, 1, 0, 2, 2, 2, 1, 0, 0, 0, 1, 0, 0, 0, 0, 1, 1, 2, 0, 0, 2, 2, 2, 1, 2, 1, 2, 2, 2, 1, 0, 0, 0, 2, 2, 0, 0, 2, 1, 2, 1, 2, 1, 0, 2, 0, 2, 2, 1, 1, 0, 0]\n"
     ]
    },
    {
     "data": {
      "application/vnd.jupyter.widget-view+json": {
       "model_id": "44ccf367d69749909202c69cf1de06a2",
       "version_major": 2,
       "version_minor": 0
      },
      "text/plain": [
       "0it [00:00, ?it/s]"
      ]
     },
     "metadata": {},
     "output_type": "display_data"
    },
    {
     "data": {
      "application/vnd.jupyter.widget-view+json": {
       "model_id": "adf989e8af44483c8f1a669be6ff6cc5",
       "version_major": 2,
       "version_minor": 0
      },
      "text/plain": [
       "0it [00:00, ?it/s]"
      ]
     },
     "metadata": {},
     "output_type": "display_data"
    },
    {
     "name": "stdout",
     "output_type": "stream",
     "text": [
      "[2, 0, 1, 1, 0, 1, 2, 0, 1, 0, 0, 0, 0, 2, 0, 0, 0, 2, 1, 0, 1, 0, 0, 1, 1, 2, 2, 0, 0, 0, 2, 2, 2, 0, 0, 1, 2, 1, 2, 2, 2, 0, 1, 1, 2, 0, 2, 2, 0, 0, 1, 0, 0, 0, 1, 1, 2, 2, 1, 1, 2, 0, 2, 0, 2, 0, 0, 1, 2, 2, 0, 1, 0, 1, 0, 0, 1, 0, 1, 0, 1, 0, 0, 1, 1, 0, 2, 2, 2, 1, 0, 0, 0, 1, 0, 0, 0, 0, 1, 1, 2, 0, 0, 2, 2, 2, 1, 2, 1, 2, 2, 2, 1, 0, 0, 0, 2, 2, 0, 0, 2, 1, 2, 1, 2, 1, 0, 2, 0, 2, 2, 1, 1, 0, 0, 2]\n"
     ]
    },
    {
     "data": {
      "application/vnd.jupyter.widget-view+json": {
       "model_id": "41a179310c4543b0a552850535d8e21d",
       "version_major": 2,
       "version_minor": 0
      },
      "text/plain": [
       "0it [00:00, ?it/s]"
      ]
     },
     "metadata": {},
     "output_type": "display_data"
    },
    {
     "data": {
      "application/vnd.jupyter.widget-view+json": {
       "model_id": "777629a5379546a4906659d1d2774330",
       "version_major": 2,
       "version_minor": 0
      },
      "text/plain": [
       "0it [00:00, ?it/s]"
      ]
     },
     "metadata": {},
     "output_type": "display_data"
    },
    {
     "name": "stdout",
     "output_type": "stream",
     "text": [
      "[2, 0, 1, 1, 0, 1, 2, 0, 1, 0, 0, 0, 0, 2, 0, 0, 0, 2, 1, 0, 1, 0, 0, 1, 1, 2, 2, 0, 0, 0, 2, 2, 2, 0, 0, 1, 2, 1, 2, 2, 2, 0, 1, 1, 2, 0, 2, 2, 0, 0, 1, 0, 0, 0, 1, 1, 2, 2, 1, 1, 2, 0, 2, 0, 2, 0, 0, 1, 2, 2, 0, 1, 0, 1, 0, 0, 1, 0, 1, 0, 1, 0, 0, 1, 1, 0, 2, 2, 2, 1, 0, 0, 0, 1, 0, 0, 0, 0, 1, 1, 2, 0, 0, 2, 2, 2, 1, 2, 1, 2, 2, 2, 1, 0, 0, 0, 2, 2, 0, 0, 2, 1, 2, 1, 2, 1, 0, 2, 0, 2, 2, 1, 1, 0, 0, 2, 1]\n"
     ]
    },
    {
     "data": {
      "application/vnd.jupyter.widget-view+json": {
       "model_id": "5280eb7a9e41402a81e213ede0d355e6",
       "version_major": 2,
       "version_minor": 0
      },
      "text/plain": [
       "0it [00:00, ?it/s]"
      ]
     },
     "metadata": {},
     "output_type": "display_data"
    },
    {
     "data": {
      "application/vnd.jupyter.widget-view+json": {
       "model_id": "f1223663ab744de3b31d79db9c5831db",
       "version_major": 2,
       "version_minor": 0
      },
      "text/plain": [
       "0it [00:00, ?it/s]"
      ]
     },
     "metadata": {},
     "output_type": "display_data"
    },
    {
     "name": "stdout",
     "output_type": "stream",
     "text": [
      "[2, 0, 1, 1, 0, 1, 2, 0, 1, 0, 0, 0, 0, 2, 0, 0, 0, 2, 1, 0, 1, 0, 0, 1, 1, 2, 2, 0, 0, 0, 2, 2, 2, 0, 0, 1, 2, 1, 2, 2, 2, 0, 1, 1, 2, 0, 2, 2, 0, 0, 1, 0, 0, 0, 1, 1, 2, 2, 1, 1, 2, 0, 2, 0, 2, 0, 0, 1, 2, 2, 0, 1, 0, 1, 0, 0, 1, 0, 1, 0, 1, 0, 0, 1, 1, 0, 2, 2, 2, 1, 0, 0, 0, 1, 0, 0, 0, 0, 1, 1, 2, 0, 0, 2, 2, 2, 1, 2, 1, 2, 2, 2, 1, 0, 0, 0, 2, 2, 0, 0, 2, 1, 2, 1, 2, 1, 0, 2, 0, 2, 2, 1, 1, 0, 0, 2, 1, 2]\n"
     ]
    },
    {
     "data": {
      "application/vnd.jupyter.widget-view+json": {
       "model_id": "f8813743c41c4d758fbe6048fb4335c6",
       "version_major": 2,
       "version_minor": 0
      },
      "text/plain": [
       "0it [00:00, ?it/s]"
      ]
     },
     "metadata": {},
     "output_type": "display_data"
    },
    {
     "data": {
      "application/vnd.jupyter.widget-view+json": {
       "model_id": "86e3fac3e0d94fcb8c5a471a4974845c",
       "version_major": 2,
       "version_minor": 0
      },
      "text/plain": [
       "0it [00:00, ?it/s]"
      ]
     },
     "metadata": {},
     "output_type": "display_data"
    },
    {
     "name": "stdout",
     "output_type": "stream",
     "text": [
      "[2, 0, 1, 1, 0, 1, 2, 0, 1, 0, 0, 0, 0, 2, 0, 0, 0, 2, 1, 0, 1, 0, 0, 1, 1, 2, 2, 0, 0, 0, 2, 2, 2, 0, 0, 1, 2, 1, 2, 2, 2, 0, 1, 1, 2, 0, 2, 2, 0, 0, 1, 0, 0, 0, 1, 1, 2, 2, 1, 1, 2, 0, 2, 0, 2, 0, 0, 1, 2, 2, 0, 1, 0, 1, 0, 0, 1, 0, 1, 0, 1, 0, 0, 1, 1, 0, 2, 2, 2, 1, 0, 0, 0, 1, 0, 0, 0, 0, 1, 1, 2, 0, 0, 2, 2, 2, 1, 2, 1, 2, 2, 2, 1, 0, 0, 0, 2, 2, 0, 0, 2, 1, 2, 1, 2, 1, 0, 2, 0, 2, 2, 1, 1, 0, 0, 2, 1, 2, 2]\n"
     ]
    },
    {
     "data": {
      "application/vnd.jupyter.widget-view+json": {
       "model_id": "c12031fda8214ec9b05967b29aad3e42",
       "version_major": 2,
       "version_minor": 0
      },
      "text/plain": [
       "0it [00:00, ?it/s]"
      ]
     },
     "metadata": {},
     "output_type": "display_data"
    },
    {
     "data": {
      "application/vnd.jupyter.widget-view+json": {
       "model_id": "d0b86521b8b248ceaa397d685886ece0",
       "version_major": 2,
       "version_minor": 0
      },
      "text/plain": [
       "0it [00:00, ?it/s]"
      ]
     },
     "metadata": {},
     "output_type": "display_data"
    },
    {
     "name": "stdout",
     "output_type": "stream",
     "text": [
      "[2, 0, 1, 1, 0, 1, 2, 0, 1, 0, 0, 0, 0, 2, 0, 0, 0, 2, 1, 0, 1, 0, 0, 1, 1, 2, 2, 0, 0, 0, 2, 2, 2, 0, 0, 1, 2, 1, 2, 2, 2, 0, 1, 1, 2, 0, 2, 2, 0, 0, 1, 0, 0, 0, 1, 1, 2, 2, 1, 1, 2, 0, 2, 0, 2, 0, 0, 1, 2, 2, 0, 1, 0, 1, 0, 0, 1, 0, 1, 0, 1, 0, 0, 1, 1, 0, 2, 2, 2, 1, 0, 0, 0, 1, 0, 0, 0, 0, 1, 1, 2, 0, 0, 2, 2, 2, 1, 2, 1, 2, 2, 2, 1, 0, 0, 0, 2, 2, 0, 0, 2, 1, 2, 1, 2, 1, 0, 2, 0, 2, 2, 1, 1, 0, 0, 2, 1, 2, 2, 2]\n"
     ]
    },
    {
     "data": {
      "application/vnd.jupyter.widget-view+json": {
       "model_id": "13a8aedf220f49b48f83d4fa0152e35a",
       "version_major": 2,
       "version_minor": 0
      },
      "text/plain": [
       "0it [00:00, ?it/s]"
      ]
     },
     "metadata": {},
     "output_type": "display_data"
    },
    {
     "data": {
      "application/vnd.jupyter.widget-view+json": {
       "model_id": "660989bd7b14416abd4825662ba91729",
       "version_major": 2,
       "version_minor": 0
      },
      "text/plain": [
       "0it [00:00, ?it/s]"
      ]
     },
     "metadata": {},
     "output_type": "display_data"
    },
    {
     "name": "stdout",
     "output_type": "stream",
     "text": [
      "[2, 0, 1, 1, 0, 1, 2, 0, 1, 0, 0, 0, 0, 2, 0, 0, 0, 2, 1, 0, 1, 0, 0, 1, 1, 2, 2, 0, 0, 0, 2, 2, 2, 0, 0, 1, 2, 1, 2, 2, 2, 0, 1, 1, 2, 0, 2, 2, 0, 0, 1, 0, 0, 0, 1, 1, 2, 2, 1, 1, 2, 0, 2, 0, 2, 0, 0, 1, 2, 2, 0, 1, 0, 1, 0, 0, 1, 0, 1, 0, 1, 0, 0, 1, 1, 0, 2, 2, 2, 1, 0, 0, 0, 1, 0, 0, 0, 0, 1, 1, 2, 0, 0, 2, 2, 2, 1, 2, 1, 2, 2, 2, 1, 0, 0, 0, 2, 2, 0, 0, 2, 1, 2, 1, 2, 1, 0, 2, 0, 2, 2, 1, 1, 0, 0, 2, 1, 2, 2, 2, 0]\n"
     ]
    },
    {
     "data": {
      "application/vnd.jupyter.widget-view+json": {
       "model_id": "b72b3658b3db434d932d048db79ff6ef",
       "version_major": 2,
       "version_minor": 0
      },
      "text/plain": [
       "0it [00:00, ?it/s]"
      ]
     },
     "metadata": {},
     "output_type": "display_data"
    },
    {
     "data": {
      "application/vnd.jupyter.widget-view+json": {
       "model_id": "8c455119cb2e4247a4823a22ef80871d",
       "version_major": 2,
       "version_minor": 0
      },
      "text/plain": [
       "0it [00:00, ?it/s]"
      ]
     },
     "metadata": {},
     "output_type": "display_data"
    },
    {
     "name": "stdout",
     "output_type": "stream",
     "text": [
      "[2, 0, 1, 1, 0, 1, 2, 0, 1, 0, 0, 0, 0, 2, 0, 0, 0, 2, 1, 0, 1, 0, 0, 1, 1, 2, 2, 0, 0, 0, 2, 2, 2, 0, 0, 1, 2, 1, 2, 2, 2, 0, 1, 1, 2, 0, 2, 2, 0, 0, 1, 0, 0, 0, 1, 1, 2, 2, 1, 1, 2, 0, 2, 0, 2, 0, 0, 1, 2, 2, 0, 1, 0, 1, 0, 0, 1, 0, 1, 0, 1, 0, 0, 1, 1, 0, 2, 2, 2, 1, 0, 0, 0, 1, 0, 0, 0, 0, 1, 1, 2, 0, 0, 2, 2, 2, 1, 2, 1, 2, 2, 2, 1, 0, 0, 0, 2, 2, 0, 0, 2, 1, 2, 1, 2, 1, 0, 2, 0, 2, 2, 1, 1, 0, 0, 2, 1, 2, 2, 2, 0, 2]\n"
     ]
    },
    {
     "data": {
      "application/vnd.jupyter.widget-view+json": {
       "model_id": "aa636e743a3646dab849b251d112aa6a",
       "version_major": 2,
       "version_minor": 0
      },
      "text/plain": [
       "0it [00:00, ?it/s]"
      ]
     },
     "metadata": {},
     "output_type": "display_data"
    },
    {
     "data": {
      "application/vnd.jupyter.widget-view+json": {
       "model_id": "abbe3887c5d844a9b63f462219487ad0",
       "version_major": 2,
       "version_minor": 0
      },
      "text/plain": [
       "0it [00:00, ?it/s]"
      ]
     },
     "metadata": {},
     "output_type": "display_data"
    },
    {
     "name": "stdout",
     "output_type": "stream",
     "text": [
      "[2, 0, 1, 1, 0, 1, 2, 0, 1, 0, 0, 0, 0, 2, 0, 0, 0, 2, 1, 0, 1, 0, 0, 1, 1, 2, 2, 0, 0, 0, 2, 2, 2, 0, 0, 1, 2, 1, 2, 2, 2, 0, 1, 1, 2, 0, 2, 2, 0, 0, 1, 0, 0, 0, 1, 1, 2, 2, 1, 1, 2, 0, 2, 0, 2, 0, 0, 1, 2, 2, 0, 1, 0, 1, 0, 0, 1, 0, 1, 0, 1, 0, 0, 1, 1, 0, 2, 2, 2, 1, 0, 0, 0, 1, 0, 0, 0, 0, 1, 1, 2, 0, 0, 2, 2, 2, 1, 2, 1, 2, 2, 2, 1, 0, 0, 0, 2, 2, 0, 0, 2, 1, 2, 1, 2, 1, 0, 2, 0, 2, 2, 1, 1, 0, 0, 2, 1, 2, 2, 2, 0, 2, 0]\n"
     ]
    },
    {
     "data": {
      "application/vnd.jupyter.widget-view+json": {
       "model_id": "1987511fd3b544a2a77c529cb0629d08",
       "version_major": 2,
       "version_minor": 0
      },
      "text/plain": [
       "0it [00:00, ?it/s]"
      ]
     },
     "metadata": {},
     "output_type": "display_data"
    },
    {
     "data": {
      "application/vnd.jupyter.widget-view+json": {
       "model_id": "01c0ddc40b1c498ca4b2bd3833ceedec",
       "version_major": 2,
       "version_minor": 0
      },
      "text/plain": [
       "0it [00:00, ?it/s]"
      ]
     },
     "metadata": {},
     "output_type": "display_data"
    },
    {
     "name": "stdout",
     "output_type": "stream",
     "text": [
      "[2, 0, 1, 1, 0, 1, 2, 0, 1, 0, 0, 0, 0, 2, 0, 0, 0, 2, 1, 0, 1, 0, 0, 1, 1, 2, 2, 0, 0, 0, 2, 2, 2, 0, 0, 1, 2, 1, 2, 2, 2, 0, 1, 1, 2, 0, 2, 2, 0, 0, 1, 0, 0, 0, 1, 1, 2, 2, 1, 1, 2, 0, 2, 0, 2, 0, 0, 1, 2, 2, 0, 1, 0, 1, 0, 0, 1, 0, 1, 0, 1, 0, 0, 1, 1, 0, 2, 2, 2, 1, 0, 0, 0, 1, 0, 0, 0, 0, 1, 1, 2, 0, 0, 2, 2, 2, 1, 2, 1, 2, 2, 2, 1, 0, 0, 0, 2, 2, 0, 0, 2, 1, 2, 1, 2, 1, 0, 2, 0, 2, 2, 1, 1, 0, 0, 2, 1, 2, 2, 2, 0, 2, 0, 1]\n"
     ]
    },
    {
     "data": {
      "application/vnd.jupyter.widget-view+json": {
       "model_id": "bdc6133b62494a94b184095f0d537803",
       "version_major": 2,
       "version_minor": 0
      },
      "text/plain": [
       "0it [00:00, ?it/s]"
      ]
     },
     "metadata": {},
     "output_type": "display_data"
    },
    {
     "data": {
      "application/vnd.jupyter.widget-view+json": {
       "model_id": "e844a7ea608e4c54b58c3bdc9d9a6ef9",
       "version_major": 2,
       "version_minor": 0
      },
      "text/plain": [
       "0it [00:00, ?it/s]"
      ]
     },
     "metadata": {},
     "output_type": "display_data"
    },
    {
     "name": "stdout",
     "output_type": "stream",
     "text": [
      "[2, 0, 1, 1, 0, 1, 2, 0, 1, 0, 0, 0, 0, 2, 0, 0, 0, 2, 1, 0, 1, 0, 0, 1, 1, 2, 2, 0, 0, 0, 2, 2, 2, 0, 0, 1, 2, 1, 2, 2, 2, 0, 1, 1, 2, 0, 2, 2, 0, 0, 1, 0, 0, 0, 1, 1, 2, 2, 1, 1, 2, 0, 2, 0, 2, 0, 0, 1, 2, 2, 0, 1, 0, 1, 0, 0, 1, 0, 1, 0, 1, 0, 0, 1, 1, 0, 2, 2, 2, 1, 0, 0, 0, 1, 0, 0, 0, 0, 1, 1, 2, 0, 0, 2, 2, 2, 1, 2, 1, 2, 2, 2, 1, 0, 0, 0, 2, 2, 0, 0, 2, 1, 2, 1, 2, 1, 0, 2, 0, 2, 2, 1, 1, 0, 0, 2, 1, 2, 2, 2, 0, 2, 0, 1, 0]\n"
     ]
    },
    {
     "data": {
      "application/vnd.jupyter.widget-view+json": {
       "model_id": "0c955e4706ac405684fab667e015f559",
       "version_major": 2,
       "version_minor": 0
      },
      "text/plain": [
       "0it [00:00, ?it/s]"
      ]
     },
     "metadata": {},
     "output_type": "display_data"
    },
    {
     "data": {
      "application/vnd.jupyter.widget-view+json": {
       "model_id": "a9d1349e64c144ccb4c863ecf735a7ed",
       "version_major": 2,
       "version_minor": 0
      },
      "text/plain": [
       "0it [00:00, ?it/s]"
      ]
     },
     "metadata": {},
     "output_type": "display_data"
    },
    {
     "name": "stdout",
     "output_type": "stream",
     "text": [
      "[2, 0, 1, 1, 0, 1, 2, 0, 1, 0, 0, 0, 0, 2, 0, 0, 0, 2, 1, 0, 1, 0, 0, 1, 1, 2, 2, 0, 0, 0, 2, 2, 2, 0, 0, 1, 2, 1, 2, 2, 2, 0, 1, 1, 2, 0, 2, 2, 0, 0, 1, 0, 0, 0, 1, 1, 2, 2, 1, 1, 2, 0, 2, 0, 2, 0, 0, 1, 2, 2, 0, 1, 0, 1, 0, 0, 1, 0, 1, 0, 1, 0, 0, 1, 1, 0, 2, 2, 2, 1, 0, 0, 0, 1, 0, 0, 0, 0, 1, 1, 2, 0, 0, 2, 2, 2, 1, 2, 1, 2, 2, 2, 1, 0, 0, 0, 2, 2, 0, 0, 2, 1, 2, 1, 2, 1, 0, 2, 0, 2, 2, 1, 1, 0, 0, 2, 1, 2, 2, 2, 0, 2, 0, 1, 0, 1]\n"
     ]
    },
    {
     "data": {
      "application/vnd.jupyter.widget-view+json": {
       "model_id": "9569b059ee404a31b6c26af3f00b37c2",
       "version_major": 2,
       "version_minor": 0
      },
      "text/plain": [
       "0it [00:00, ?it/s]"
      ]
     },
     "metadata": {},
     "output_type": "display_data"
    },
    {
     "data": {
      "application/vnd.jupyter.widget-view+json": {
       "model_id": "3fcf07214fee40d6b95a746d90f6168b",
       "version_major": 2,
       "version_minor": 0
      },
      "text/plain": [
       "0it [00:00, ?it/s]"
      ]
     },
     "metadata": {},
     "output_type": "display_data"
    },
    {
     "name": "stdout",
     "output_type": "stream",
     "text": [
      "[2, 0, 1, 1, 0, 1, 2, 0, 1, 0, 0, 0, 0, 2, 0, 0, 0, 2, 1, 0, 1, 0, 0, 1, 1, 2, 2, 0, 0, 0, 2, 2, 2, 0, 0, 1, 2, 1, 2, 2, 2, 0, 1, 1, 2, 0, 2, 2, 0, 0, 1, 0, 0, 0, 1, 1, 2, 2, 1, 1, 2, 0, 2, 0, 2, 0, 0, 1, 2, 2, 0, 1, 0, 1, 0, 0, 1, 0, 1, 0, 1, 0, 0, 1, 1, 0, 2, 2, 2, 1, 0, 0, 0, 1, 0, 0, 0, 0, 1, 1, 2, 0, 0, 2, 2, 2, 1, 2, 1, 2, 2, 2, 1, 0, 0, 0, 2, 2, 0, 0, 2, 1, 2, 1, 2, 1, 0, 2, 0, 2, 2, 1, 1, 0, 0, 2, 1, 2, 2, 2, 0, 2, 0, 1, 0, 1, 2]\n"
     ]
    },
    {
     "data": {
      "application/vnd.jupyter.widget-view+json": {
       "model_id": "43247eed61c64a648d6ca72deafab3d6",
       "version_major": 2,
       "version_minor": 0
      },
      "text/plain": [
       "0it [00:00, ?it/s]"
      ]
     },
     "metadata": {},
     "output_type": "display_data"
    },
    {
     "data": {
      "application/vnd.jupyter.widget-view+json": {
       "model_id": "992e0cea5df748d186325aac414d84f7",
       "version_major": 2,
       "version_minor": 0
      },
      "text/plain": [
       "0it [00:00, ?it/s]"
      ]
     },
     "metadata": {},
     "output_type": "display_data"
    },
    {
     "name": "stdout",
     "output_type": "stream",
     "text": [
      "[2, 0, 1, 1, 0, 1, 2, 0, 1, 0, 0, 0, 0, 2, 0, 0, 0, 2, 1, 0, 1, 0, 0, 1, 1, 2, 2, 0, 0, 0, 2, 2, 2, 0, 0, 1, 2, 1, 2, 2, 2, 0, 1, 1, 2, 0, 2, 2, 0, 0, 1, 0, 0, 0, 1, 1, 2, 2, 1, 1, 2, 0, 2, 0, 2, 0, 0, 1, 2, 2, 0, 1, 0, 1, 0, 0, 1, 0, 1, 0, 1, 0, 0, 1, 1, 0, 2, 2, 2, 1, 0, 0, 0, 1, 0, 0, 0, 0, 1, 1, 2, 0, 0, 2, 2, 2, 1, 2, 1, 2, 2, 2, 1, 0, 0, 0, 2, 2, 0, 0, 2, 1, 2, 1, 2, 1, 0, 2, 0, 2, 2, 1, 1, 0, 0, 2, 1, 2, 2, 2, 0, 2, 0, 1, 0, 1, 2, 2]\n"
     ]
    },
    {
     "data": {
      "application/vnd.jupyter.widget-view+json": {
       "model_id": "92b110b095ef41449ee0124e3e8a5541",
       "version_major": 2,
       "version_minor": 0
      },
      "text/plain": [
       "0it [00:00, ?it/s]"
      ]
     },
     "metadata": {},
     "output_type": "display_data"
    },
    {
     "data": {
      "application/vnd.jupyter.widget-view+json": {
       "model_id": "ea643f1b6638452d99e6fceafa93bbcd",
       "version_major": 2,
       "version_minor": 0
      },
      "text/plain": [
       "0it [00:00, ?it/s]"
      ]
     },
     "metadata": {},
     "output_type": "display_data"
    },
    {
     "name": "stdout",
     "output_type": "stream",
     "text": [
      "[2, 0, 1, 1, 0, 1, 2, 0, 1, 0, 0, 0, 0, 2, 0, 0, 0, 2, 1, 0, 1, 0, 0, 1, 1, 2, 2, 0, 0, 0, 2, 2, 2, 0, 0, 1, 2, 1, 2, 2, 2, 0, 1, 1, 2, 0, 2, 2, 0, 0, 1, 0, 0, 0, 1, 1, 2, 2, 1, 1, 2, 0, 2, 0, 2, 0, 0, 1, 2, 2, 0, 1, 0, 1, 0, 0, 1, 0, 1, 0, 1, 0, 0, 1, 1, 0, 2, 2, 2, 1, 0, 0, 0, 1, 0, 0, 0, 0, 1, 1, 2, 0, 0, 2, 2, 2, 1, 2, 1, 2, 2, 2, 1, 0, 0, 0, 2, 2, 0, 0, 2, 1, 2, 1, 2, 1, 0, 2, 0, 2, 2, 1, 1, 0, 0, 2, 1, 2, 2, 2, 0, 2, 0, 1, 0, 1, 2, 2, 0]\n"
     ]
    },
    {
     "data": {
      "application/vnd.jupyter.widget-view+json": {
       "model_id": "68b93c36a0f54f5a94f36e796d07903e",
       "version_major": 2,
       "version_minor": 0
      },
      "text/plain": [
       "0it [00:00, ?it/s]"
      ]
     },
     "metadata": {},
     "output_type": "display_data"
    },
    {
     "data": {
      "application/vnd.jupyter.widget-view+json": {
       "model_id": "5ccca07f128c425d9833ceb7235541ba",
       "version_major": 2,
       "version_minor": 0
      },
      "text/plain": [
       "0it [00:00, ?it/s]"
      ]
     },
     "metadata": {},
     "output_type": "display_data"
    },
    {
     "name": "stdout",
     "output_type": "stream",
     "text": [
      "[2, 0, 1, 1, 0, 1, 2, 0, 1, 0, 0, 0, 0, 2, 0, 0, 0, 2, 1, 0, 1, 0, 0, 1, 1, 2, 2, 0, 0, 0, 2, 2, 2, 0, 0, 1, 2, 1, 2, 2, 2, 0, 1, 1, 2, 0, 2, 2, 0, 0, 1, 0, 0, 0, 1, 1, 2, 2, 1, 1, 2, 0, 2, 0, 2, 0, 0, 1, 2, 2, 0, 1, 0, 1, 0, 0, 1, 0, 1, 0, 1, 0, 0, 1, 1, 0, 2, 2, 2, 1, 0, 0, 0, 1, 0, 0, 0, 0, 1, 1, 2, 0, 0, 2, 2, 2, 1, 2, 1, 2, 2, 2, 1, 0, 0, 0, 2, 2, 0, 0, 2, 1, 2, 1, 2, 1, 0, 2, 0, 2, 2, 1, 1, 0, 0, 2, 1, 2, 2, 2, 0, 2, 0, 1, 0, 1, 2, 2, 0, 2]\n"
     ]
    },
    {
     "data": {
      "application/vnd.jupyter.widget-view+json": {
       "model_id": "c793a36dfe2e482ba956b221ed1d8248",
       "version_major": 2,
       "version_minor": 0
      },
      "text/plain": [
       "0it [00:00, ?it/s]"
      ]
     },
     "metadata": {},
     "output_type": "display_data"
    },
    {
     "data": {
      "application/vnd.jupyter.widget-view+json": {
       "model_id": "60437d28c2f44274b9157c048a8b34e8",
       "version_major": 2,
       "version_minor": 0
      },
      "text/plain": [
       "0it [00:00, ?it/s]"
      ]
     },
     "metadata": {},
     "output_type": "display_data"
    },
    {
     "name": "stdout",
     "output_type": "stream",
     "text": [
      "[2, 0, 1, 1, 0, 1, 2, 0, 1, 0, 0, 0, 0, 2, 0, 0, 0, 2, 1, 0, 1, 0, 0, 1, 1, 2, 2, 0, 0, 0, 2, 2, 2, 0, 0, 1, 2, 1, 2, 2, 2, 0, 1, 1, 2, 0, 2, 2, 0, 0, 1, 0, 0, 0, 1, 1, 2, 2, 1, 1, 2, 0, 2, 0, 2, 0, 0, 1, 2, 2, 0, 1, 0, 1, 0, 0, 1, 0, 1, 0, 1, 0, 0, 1, 1, 0, 2, 2, 2, 1, 0, 0, 0, 1, 0, 0, 0, 0, 1, 1, 2, 0, 0, 2, 2, 2, 1, 2, 1, 2, 2, 2, 1, 0, 0, 0, 2, 2, 0, 0, 2, 1, 2, 1, 2, 1, 0, 2, 0, 2, 2, 1, 1, 0, 0, 2, 1, 2, 2, 2, 0, 2, 0, 1, 0, 1, 2, 2, 0, 2, 1]\n"
     ]
    },
    {
     "data": {
      "application/vnd.jupyter.widget-view+json": {
       "model_id": "97cd96ee00614c12911baeb3f72f781a",
       "version_major": 2,
       "version_minor": 0
      },
      "text/plain": [
       "0it [00:00, ?it/s]"
      ]
     },
     "metadata": {},
     "output_type": "display_data"
    },
    {
     "data": {
      "application/vnd.jupyter.widget-view+json": {
       "model_id": "5c3c6bf1647c4822ade9bc9cf97e2100",
       "version_major": 2,
       "version_minor": 0
      },
      "text/plain": [
       "0it [00:00, ?it/s]"
      ]
     },
     "metadata": {},
     "output_type": "display_data"
    },
    {
     "name": "stdout",
     "output_type": "stream",
     "text": [
      "[2, 0, 1, 1, 0, 1, 2, 0, 1, 0, 0, 0, 0, 2, 0, 0, 0, 2, 1, 0, 1, 0, 0, 1, 1, 2, 2, 0, 0, 0, 2, 2, 2, 0, 0, 1, 2, 1, 2, 2, 2, 0, 1, 1, 2, 0, 2, 2, 0, 0, 1, 0, 0, 0, 1, 1, 2, 2, 1, 1, 2, 0, 2, 0, 2, 0, 0, 1, 2, 2, 0, 1, 0, 1, 0, 0, 1, 0, 1, 0, 1, 0, 0, 1, 1, 0, 2, 2, 2, 1, 0, 0, 0, 1, 0, 0, 0, 0, 1, 1, 2, 0, 0, 2, 2, 2, 1, 2, 1, 2, 2, 2, 1, 0, 0, 0, 2, 2, 0, 0, 2, 1, 2, 1, 2, 1, 0, 2, 0, 2, 2, 1, 1, 0, 0, 2, 1, 2, 2, 2, 0, 2, 0, 1, 0, 1, 2, 2, 0, 2, 1, 1]\n"
     ]
    },
    {
     "data": {
      "application/vnd.jupyter.widget-view+json": {
       "model_id": "057c27fdd7ba4030bebc9f17d0432fce",
       "version_major": 2,
       "version_minor": 0
      },
      "text/plain": [
       "0it [00:00, ?it/s]"
      ]
     },
     "metadata": {},
     "output_type": "display_data"
    },
    {
     "data": {
      "application/vnd.jupyter.widget-view+json": {
       "model_id": "85dfb767acb0455aa5e34a2c504de9b9",
       "version_major": 2,
       "version_minor": 0
      },
      "text/plain": [
       "0it [00:00, ?it/s]"
      ]
     },
     "metadata": {},
     "output_type": "display_data"
    },
    {
     "name": "stdout",
     "output_type": "stream",
     "text": [
      "[2, 0, 1, 1, 0, 1, 2, 0, 1, 0, 0, 0, 0, 2, 0, 0, 0, 2, 1, 0, 1, 0, 0, 1, 1, 2, 2, 0, 0, 0, 2, 2, 2, 0, 0, 1, 2, 1, 2, 2, 2, 0, 1, 1, 2, 0, 2, 2, 0, 0, 1, 0, 0, 0, 1, 1, 2, 2, 1, 1, 2, 0, 2, 0, 2, 0, 0, 1, 2, 2, 0, 1, 0, 1, 0, 0, 1, 0, 1, 0, 1, 0, 0, 1, 1, 0, 2, 2, 2, 1, 0, 0, 0, 1, 0, 0, 0, 0, 1, 1, 2, 0, 0, 2, 2, 2, 1, 2, 1, 2, 2, 2, 1, 0, 0, 0, 2, 2, 0, 0, 2, 1, 2, 1, 2, 1, 0, 2, 0, 2, 2, 1, 1, 0, 0, 2, 1, 2, 2, 2, 0, 2, 0, 1, 0, 1, 2, 2, 0, 2, 1, 1, 2]\n"
     ]
    },
    {
     "data": {
      "application/vnd.jupyter.widget-view+json": {
       "model_id": "03f3da8e87aa49f68355cd4f76161697",
       "version_major": 2,
       "version_minor": 0
      },
      "text/plain": [
       "0it [00:00, ?it/s]"
      ]
     },
     "metadata": {},
     "output_type": "display_data"
    },
    {
     "data": {
      "application/vnd.jupyter.widget-view+json": {
       "model_id": "f832cff0684f43418eb7c25089f7af74",
       "version_major": 2,
       "version_minor": 0
      },
      "text/plain": [
       "0it [00:00, ?it/s]"
      ]
     },
     "metadata": {},
     "output_type": "display_data"
    },
    {
     "name": "stdout",
     "output_type": "stream",
     "text": [
      "[2, 0, 1, 1, 0, 1, 2, 0, 1, 0, 0, 0, 0, 2, 0, 0, 0, 2, 1, 0, 1, 0, 0, 1, 1, 2, 2, 0, 0, 0, 2, 2, 2, 0, 0, 1, 2, 1, 2, 2, 2, 0, 1, 1, 2, 0, 2, 2, 0, 0, 1, 0, 0, 0, 1, 1, 2, 2, 1, 1, 2, 0, 2, 0, 2, 0, 0, 1, 2, 2, 0, 1, 0, 1, 0, 0, 1, 0, 1, 0, 1, 0, 0, 1, 1, 0, 2, 2, 2, 1, 0, 0, 0, 1, 0, 0, 0, 0, 1, 1, 2, 0, 0, 2, 2, 2, 1, 2, 1, 2, 2, 2, 1, 0, 0, 0, 2, 2, 0, 0, 2, 1, 2, 1, 2, 1, 0, 2, 0, 2, 2, 1, 1, 0, 0, 2, 1, 2, 2, 2, 0, 2, 0, 1, 0, 1, 2, 2, 0, 2, 1, 1, 2, 1]\n"
     ]
    },
    {
     "data": {
      "application/vnd.jupyter.widget-view+json": {
       "model_id": "b90dc1079b524d8d9a5e9fff475f3da4",
       "version_major": 2,
       "version_minor": 0
      },
      "text/plain": [
       "0it [00:00, ?it/s]"
      ]
     },
     "metadata": {},
     "output_type": "display_data"
    },
    {
     "data": {
      "application/vnd.jupyter.widget-view+json": {
       "model_id": "1e7bf287919f4a57b71de2c67231080a",
       "version_major": 2,
       "version_minor": 0
      },
      "text/plain": [
       "0it [00:00, ?it/s]"
      ]
     },
     "metadata": {},
     "output_type": "display_data"
    },
    {
     "name": "stdout",
     "output_type": "stream",
     "text": [
      "[2, 0, 1, 1, 0, 1, 2, 0, 1, 0, 0, 0, 0, 2, 0, 0, 0, 2, 1, 0, 1, 0, 0, 1, 1, 2, 2, 0, 0, 0, 2, 2, 2, 0, 0, 1, 2, 1, 2, 2, 2, 0, 1, 1, 2, 0, 2, 2, 0, 0, 1, 0, 0, 0, 1, 1, 2, 2, 1, 1, 2, 0, 2, 0, 2, 0, 0, 1, 2, 2, 0, 1, 0, 1, 0, 0, 1, 0, 1, 0, 1, 0, 0, 1, 1, 0, 2, 2, 2, 1, 0, 0, 0, 1, 0, 0, 0, 0, 1, 1, 2, 0, 0, 2, 2, 2, 1, 2, 1, 2, 2, 2, 1, 0, 0, 0, 2, 2, 0, 0, 2, 1, 2, 1, 2, 1, 0, 2, 0, 2, 2, 1, 1, 0, 0, 2, 1, 2, 2, 2, 0, 2, 0, 1, 0, 1, 2, 2, 0, 2, 1, 1, 2, 1, 1]\n"
     ]
    },
    {
     "data": {
      "application/vnd.jupyter.widget-view+json": {
       "model_id": "60cb13f3def0459db2d20d1a1e50a6a5",
       "version_major": 2,
       "version_minor": 0
      },
      "text/plain": [
       "0it [00:00, ?it/s]"
      ]
     },
     "metadata": {},
     "output_type": "display_data"
    },
    {
     "data": {
      "application/vnd.jupyter.widget-view+json": {
       "model_id": "eba9a680d87e402dbcf8fdf25441d8f4",
       "version_major": 2,
       "version_minor": 0
      },
      "text/plain": [
       "0it [00:00, ?it/s]"
      ]
     },
     "metadata": {},
     "output_type": "display_data"
    },
    {
     "name": "stdout",
     "output_type": "stream",
     "text": [
      "[2, 0, 1, 1, 0, 1, 2, 0, 1, 0, 0, 0, 0, 2, 0, 0, 0, 2, 1, 0, 1, 0, 0, 1, 1, 2, 2, 0, 0, 0, 2, 2, 2, 0, 0, 1, 2, 1, 2, 2, 2, 0, 1, 1, 2, 0, 2, 2, 0, 0, 1, 0, 0, 0, 1, 1, 2, 2, 1, 1, 2, 0, 2, 0, 2, 0, 0, 1, 2, 2, 0, 1, 0, 1, 0, 0, 1, 0, 1, 0, 1, 0, 0, 1, 1, 0, 2, 2, 2, 1, 0, 0, 0, 1, 0, 0, 0, 0, 1, 1, 2, 0, 0, 2, 2, 2, 1, 2, 1, 2, 2, 2, 1, 0, 0, 0, 2, 2, 0, 0, 2, 1, 2, 1, 2, 1, 0, 2, 0, 2, 2, 1, 1, 0, 0, 2, 1, 2, 2, 2, 0, 2, 0, 1, 0, 1, 2, 2, 0, 2, 1, 1, 2, 1, 1, 1]\n"
     ]
    },
    {
     "data": {
      "application/vnd.jupyter.widget-view+json": {
       "model_id": "f4c59c5dfd404a26be4407f48a78e7a7",
       "version_major": 2,
       "version_minor": 0
      },
      "text/plain": [
       "0it [00:00, ?it/s]"
      ]
     },
     "metadata": {},
     "output_type": "display_data"
    },
    {
     "data": {
      "application/vnd.jupyter.widget-view+json": {
       "model_id": "a399616c589c4acd8b5a2dc17f87f738",
       "version_major": 2,
       "version_minor": 0
      },
      "text/plain": [
       "0it [00:00, ?it/s]"
      ]
     },
     "metadata": {},
     "output_type": "display_data"
    },
    {
     "name": "stdout",
     "output_type": "stream",
     "text": [
      "[2, 0, 1, 1, 0, 1, 2, 0, 1, 0, 0, 0, 0, 2, 0, 0, 0, 2, 1, 0, 1, 0, 0, 1, 1, 2, 2, 0, 0, 0, 2, 2, 2, 0, 0, 1, 2, 1, 2, 2, 2, 0, 1, 1, 2, 0, 2, 2, 0, 0, 1, 0, 0, 0, 1, 1, 2, 2, 1, 1, 2, 0, 2, 0, 2, 0, 0, 1, 2, 2, 0, 1, 0, 1, 0, 0, 1, 0, 1, 0, 1, 0, 0, 1, 1, 0, 2, 2, 2, 1, 0, 0, 0, 1, 0, 0, 0, 0, 1, 1, 2, 0, 0, 2, 2, 2, 1, 2, 1, 2, 2, 2, 1, 0, 0, 0, 2, 2, 0, 0, 2, 1, 2, 1, 2, 1, 0, 2, 0, 2, 2, 1, 1, 0, 0, 2, 1, 2, 2, 2, 0, 2, 0, 1, 0, 1, 2, 2, 0, 2, 1, 1, 2, 1, 1, 1, 2]\n"
     ]
    },
    {
     "data": {
      "application/vnd.jupyter.widget-view+json": {
       "model_id": "cf569cdf48e04d33958c3198cac636eb",
       "version_major": 2,
       "version_minor": 0
      },
      "text/plain": [
       "0it [00:00, ?it/s]"
      ]
     },
     "metadata": {},
     "output_type": "display_data"
    },
    {
     "data": {
      "application/vnd.jupyter.widget-view+json": {
       "model_id": "1c4363a3510840b681b5e46682caa832",
       "version_major": 2,
       "version_minor": 0
      },
      "text/plain": [
       "0it [00:00, ?it/s]"
      ]
     },
     "metadata": {},
     "output_type": "display_data"
    },
    {
     "name": "stdout",
     "output_type": "stream",
     "text": [
      "[2, 0, 1, 1, 0, 1, 2, 0, 1, 0, 0, 0, 0, 2, 0, 0, 0, 2, 1, 0, 1, 0, 0, 1, 1, 2, 2, 0, 0, 0, 2, 2, 2, 0, 0, 1, 2, 1, 2, 2, 2, 0, 1, 1, 2, 0, 2, 2, 0, 0, 1, 0, 0, 0, 1, 1, 2, 2, 1, 1, 2, 0, 2, 0, 2, 0, 0, 1, 2, 2, 0, 1, 0, 1, 0, 0, 1, 0, 1, 0, 1, 0, 0, 1, 1, 0, 2, 2, 2, 1, 0, 0, 0, 1, 0, 0, 0, 0, 1, 1, 2, 0, 0, 2, 2, 2, 1, 2, 1, 2, 2, 2, 1, 0, 0, 0, 2, 2, 0, 0, 2, 1, 2, 1, 2, 1, 0, 2, 0, 2, 2, 1, 1, 0, 0, 2, 1, 2, 2, 2, 0, 2, 0, 1, 0, 1, 2, 2, 0, 2, 1, 1, 2, 1, 1, 1, 2, 0]\n"
     ]
    },
    {
     "data": {
      "application/vnd.jupyter.widget-view+json": {
       "model_id": "a52dab3a0c6547309156a3cc043523e4",
       "version_major": 2,
       "version_minor": 0
      },
      "text/plain": [
       "0it [00:00, ?it/s]"
      ]
     },
     "metadata": {},
     "output_type": "display_data"
    },
    {
     "data": {
      "application/vnd.jupyter.widget-view+json": {
       "model_id": "5c0a739ac76e40a18989f1ec9fde15b7",
       "version_major": 2,
       "version_minor": 0
      },
      "text/plain": [
       "0it [00:00, ?it/s]"
      ]
     },
     "metadata": {},
     "output_type": "display_data"
    },
    {
     "name": "stdout",
     "output_type": "stream",
     "text": [
      "[2, 0, 1, 1, 0, 1, 2, 0, 1, 0, 0, 0, 0, 2, 0, 0, 0, 2, 1, 0, 1, 0, 0, 1, 1, 2, 2, 0, 0, 0, 2, 2, 2, 0, 0, 1, 2, 1, 2, 2, 2, 0, 1, 1, 2, 0, 2, 2, 0, 0, 1, 0, 0, 0, 1, 1, 2, 2, 1, 1, 2, 0, 2, 0, 2, 0, 0, 1, 2, 2, 0, 1, 0, 1, 0, 0, 1, 0, 1, 0, 1, 0, 0, 1, 1, 0, 2, 2, 2, 1, 0, 0, 0, 1, 0, 0, 0, 0, 1, 1, 2, 0, 0, 2, 2, 2, 1, 2, 1, 2, 2, 2, 1, 0, 0, 0, 2, 2, 0, 0, 2, 1, 2, 1, 2, 1, 0, 2, 0, 2, 2, 1, 1, 0, 0, 2, 1, 2, 2, 2, 0, 2, 0, 1, 0, 1, 2, 2, 0, 2, 1, 1, 2, 1, 1, 1, 2, 0, 2]\n"
     ]
    },
    {
     "data": {
      "application/vnd.jupyter.widget-view+json": {
       "model_id": "46c96d26ebf041fd8ddf83c9655db7b1",
       "version_major": 2,
       "version_minor": 0
      },
      "text/plain": [
       "0it [00:00, ?it/s]"
      ]
     },
     "metadata": {},
     "output_type": "display_data"
    },
    {
     "data": {
      "application/vnd.jupyter.widget-view+json": {
       "model_id": "9bb2a4b5a957407d8f73b68777b45c94",
       "version_major": 2,
       "version_minor": 0
      },
      "text/plain": [
       "0it [00:00, ?it/s]"
      ]
     },
     "metadata": {},
     "output_type": "display_data"
    },
    {
     "name": "stdout",
     "output_type": "stream",
     "text": [
      "[2, 0, 1, 1, 0, 1, 2, 0, 1, 0, 0, 0, 0, 2, 0, 0, 0, 2, 1, 0, 1, 0, 0, 1, 1, 2, 2, 0, 0, 0, 2, 2, 2, 0, 0, 1, 2, 1, 2, 2, 2, 0, 1, 1, 2, 0, 2, 2, 0, 0, 1, 0, 0, 0, 1, 1, 2, 2, 1, 1, 2, 0, 2, 0, 2, 0, 0, 1, 2, 2, 0, 1, 0, 1, 0, 0, 1, 0, 1, 0, 1, 0, 0, 1, 1, 0, 2, 2, 2, 1, 0, 0, 0, 1, 0, 0, 0, 0, 1, 1, 2, 0, 0, 2, 2, 2, 1, 2, 1, 2, 2, 2, 1, 0, 0, 0, 2, 2, 0, 0, 2, 1, 2, 1, 2, 1, 0, 2, 0, 2, 2, 1, 1, 0, 0, 2, 1, 2, 2, 2, 0, 2, 0, 1, 0, 1, 2, 2, 0, 2, 1, 1, 2, 1, 1, 1, 2, 0, 2, 0]\n"
     ]
    },
    {
     "data": {
      "application/vnd.jupyter.widget-view+json": {
       "model_id": "ea56f59485924e09a8aec19265ca4b86",
       "version_major": 2,
       "version_minor": 0
      },
      "text/plain": [
       "0it [00:00, ?it/s]"
      ]
     },
     "metadata": {},
     "output_type": "display_data"
    },
    {
     "data": {
      "application/vnd.jupyter.widget-view+json": {
       "model_id": "2c0c6bffbb19423ca7ebf760368fb875",
       "version_major": 2,
       "version_minor": 0
      },
      "text/plain": [
       "0it [00:00, ?it/s]"
      ]
     },
     "metadata": {},
     "output_type": "display_data"
    },
    {
     "name": "stdout",
     "output_type": "stream",
     "text": [
      "[2, 0, 1, 1, 0, 1, 2, 0, 1, 0, 0, 0, 0, 2, 0, 0, 0, 2, 1, 0, 1, 0, 0, 1, 1, 2, 2, 0, 0, 0, 2, 2, 2, 0, 0, 1, 2, 1, 2, 2, 2, 0, 1, 1, 2, 0, 2, 2, 0, 0, 1, 0, 0, 0, 1, 1, 2, 2, 1, 1, 2, 0, 2, 0, 2, 0, 0, 1, 2, 2, 0, 1, 0, 1, 0, 0, 1, 0, 1, 0, 1, 0, 0, 1, 1, 0, 2, 2, 2, 1, 0, 0, 0, 1, 0, 0, 0, 0, 1, 1, 2, 0, 0, 2, 2, 2, 1, 2, 1, 2, 2, 2, 1, 0, 0, 0, 2, 2, 0, 0, 2, 1, 2, 1, 2, 1, 0, 2, 0, 2, 2, 1, 1, 0, 0, 2, 1, 2, 2, 2, 0, 2, 0, 1, 0, 1, 2, 2, 0, 2, 1, 1, 2, 1, 1, 1, 2, 0, 2, 0, 0]\n"
     ]
    },
    {
     "data": {
      "application/vnd.jupyter.widget-view+json": {
       "model_id": "018d657b769641d4a52082ae914a63f7",
       "version_major": 2,
       "version_minor": 0
      },
      "text/plain": [
       "0it [00:00, ?it/s]"
      ]
     },
     "metadata": {},
     "output_type": "display_data"
    },
    {
     "data": {
      "application/vnd.jupyter.widget-view+json": {
       "model_id": "a7d1ad66f0a14bcb90723a95985ce308",
       "version_major": 2,
       "version_minor": 0
      },
      "text/plain": [
       "0it [00:00, ?it/s]"
      ]
     },
     "metadata": {},
     "output_type": "display_data"
    },
    {
     "name": "stdout",
     "output_type": "stream",
     "text": [
      "[2, 0, 1, 1, 0, 1, 2, 0, 1, 0, 0, 0, 0, 2, 0, 0, 0, 2, 1, 0, 1, 0, 0, 1, 1, 2, 2, 0, 0, 0, 2, 2, 2, 0, 0, 1, 2, 1, 2, 2, 2, 0, 1, 1, 2, 0, 2, 2, 0, 0, 1, 0, 0, 0, 1, 1, 2, 2, 1, 1, 2, 0, 2, 0, 2, 0, 0, 1, 2, 2, 0, 1, 0, 1, 0, 0, 1, 0, 1, 0, 1, 0, 0, 1, 1, 0, 2, 2, 2, 1, 0, 0, 0, 1, 0, 0, 0, 0, 1, 1, 2, 0, 0, 2, 2, 2, 1, 2, 1, 2, 2, 2, 1, 0, 0, 0, 2, 2, 0, 0, 2, 1, 2, 1, 2, 1, 0, 2, 0, 2, 2, 1, 1, 0, 0, 2, 1, 2, 2, 2, 0, 2, 0, 1, 0, 1, 2, 2, 0, 2, 1, 1, 2, 1, 1, 1, 2, 0, 2, 0, 0, 0]\n"
     ]
    },
    {
     "data": {
      "application/vnd.jupyter.widget-view+json": {
       "model_id": "3ebffa46dec047f3a087a9c4630541db",
       "version_major": 2,
       "version_minor": 0
      },
      "text/plain": [
       "0it [00:00, ?it/s]"
      ]
     },
     "metadata": {},
     "output_type": "display_data"
    },
    {
     "data": {
      "application/vnd.jupyter.widget-view+json": {
       "model_id": "103233278b48468facdc0279cab5b6ed",
       "version_major": 2,
       "version_minor": 0
      },
      "text/plain": [
       "0it [00:00, ?it/s]"
      ]
     },
     "metadata": {},
     "output_type": "display_data"
    },
    {
     "name": "stdout",
     "output_type": "stream",
     "text": [
      "[2, 0, 1, 1, 0, 1, 2, 0, 1, 0, 0, 0, 0, 2, 0, 0, 0, 2, 1, 0, 1, 0, 0, 1, 1, 2, 2, 0, 0, 0, 2, 2, 2, 0, 0, 1, 2, 1, 2, 2, 2, 0, 1, 1, 2, 0, 2, 2, 0, 0, 1, 0, 0, 0, 1, 1, 2, 2, 1, 1, 2, 0, 2, 0, 2, 0, 0, 1, 2, 2, 0, 1, 0, 1, 0, 0, 1, 0, 1, 0, 1, 0, 0, 1, 1, 0, 2, 2, 2, 1, 0, 0, 0, 1, 0, 0, 0, 0, 1, 1, 2, 0, 0, 2, 2, 2, 1, 2, 1, 2, 2, 2, 1, 0, 0, 0, 2, 2, 0, 0, 2, 1, 2, 1, 2, 1, 0, 2, 0, 2, 2, 1, 1, 0, 0, 2, 1, 2, 2, 2, 0, 2, 0, 1, 0, 1, 2, 2, 0, 2, 1, 1, 2, 1, 1, 1, 2, 0, 2, 0, 0, 0, 0]\n"
     ]
    },
    {
     "data": {
      "application/vnd.jupyter.widget-view+json": {
       "model_id": "34ff7dd2a2494098b0fbffee35c7fab4",
       "version_major": 2,
       "version_minor": 0
      },
      "text/plain": [
       "0it [00:00, ?it/s]"
      ]
     },
     "metadata": {},
     "output_type": "display_data"
    },
    {
     "data": {
      "application/vnd.jupyter.widget-view+json": {
       "model_id": "7c25edb4f71448f8acf69eee031fa465",
       "version_major": 2,
       "version_minor": 0
      },
      "text/plain": [
       "0it [00:00, ?it/s]"
      ]
     },
     "metadata": {},
     "output_type": "display_data"
    },
    {
     "name": "stdout",
     "output_type": "stream",
     "text": [
      "[2, 0, 1, 1, 0, 1, 2, 0, 1, 0, 0, 0, 0, 2, 0, 0, 0, 2, 1, 0, 1, 0, 0, 1, 1, 2, 2, 0, 0, 0, 2, 2, 2, 0, 0, 1, 2, 1, 2, 2, 2, 0, 1, 1, 2, 0, 2, 2, 0, 0, 1, 0, 0, 0, 1, 1, 2, 2, 1, 1, 2, 0, 2, 0, 2, 0, 0, 1, 2, 2, 0, 1, 0, 1, 0, 0, 1, 0, 1, 0, 1, 0, 0, 1, 1, 0, 2, 2, 2, 1, 0, 0, 0, 1, 0, 0, 0, 0, 1, 1, 2, 0, 0, 2, 2, 2, 1, 2, 1, 2, 2, 2, 1, 0, 0, 0, 2, 2, 0, 0, 2, 1, 2, 1, 2, 1, 0, 2, 0, 2, 2, 1, 1, 0, 0, 2, 1, 2, 2, 2, 0, 2, 0, 1, 0, 1, 2, 2, 0, 2, 1, 1, 2, 1, 1, 1, 2, 0, 2, 0, 0, 0, 0, 0]\n"
     ]
    },
    {
     "data": {
      "application/vnd.jupyter.widget-view+json": {
       "model_id": "a23112cf97d74ef4bb5dac483416875d",
       "version_major": 2,
       "version_minor": 0
      },
      "text/plain": [
       "0it [00:00, ?it/s]"
      ]
     },
     "metadata": {},
     "output_type": "display_data"
    },
    {
     "data": {
      "application/vnd.jupyter.widget-view+json": {
       "model_id": "46f17df2102f419e8314a53fec84b44c",
       "version_major": 2,
       "version_minor": 0
      },
      "text/plain": [
       "0it [00:00, ?it/s]"
      ]
     },
     "metadata": {},
     "output_type": "display_data"
    },
    {
     "name": "stdout",
     "output_type": "stream",
     "text": [
      "[2, 0, 1, 1, 0, 1, 2, 0, 1, 0, 0, 0, 0, 2, 0, 0, 0, 2, 1, 0, 1, 0, 0, 1, 1, 2, 2, 0, 0, 0, 2, 2, 2, 0, 0, 1, 2, 1, 2, 2, 2, 0, 1, 1, 2, 0, 2, 2, 0, 0, 1, 0, 0, 0, 1, 1, 2, 2, 1, 1, 2, 0, 2, 0, 2, 0, 0, 1, 2, 2, 0, 1, 0, 1, 0, 0, 1, 0, 1, 0, 1, 0, 0, 1, 1, 0, 2, 2, 2, 1, 0, 0, 0, 1, 0, 0, 0, 0, 1, 1, 2, 0, 0, 2, 2, 2, 1, 2, 1, 2, 2, 2, 1, 0, 0, 0, 2, 2, 0, 0, 2, 1, 2, 1, 2, 1, 0, 2, 0, 2, 2, 1, 1, 0, 0, 2, 1, 2, 2, 2, 0, 2, 0, 1, 0, 1, 2, 2, 0, 2, 1, 1, 2, 1, 1, 1, 2, 0, 2, 0, 0, 0, 0, 0, 1]\n"
     ]
    },
    {
     "data": {
      "application/vnd.jupyter.widget-view+json": {
       "model_id": "f1deee69668b4698bbc51f4ea9f6ba06",
       "version_major": 2,
       "version_minor": 0
      },
      "text/plain": [
       "0it [00:00, ?it/s]"
      ]
     },
     "metadata": {},
     "output_type": "display_data"
    },
    {
     "data": {
      "application/vnd.jupyter.widget-view+json": {
       "model_id": "b5ccd209fbc9414c8dd1b53f16600d39",
       "version_major": 2,
       "version_minor": 0
      },
      "text/plain": [
       "0it [00:00, ?it/s]"
      ]
     },
     "metadata": {},
     "output_type": "display_data"
    },
    {
     "name": "stdout",
     "output_type": "stream",
     "text": [
      "[2, 0, 1, 1, 0, 1, 2, 0, 1, 0, 0, 0, 0, 2, 0, 0, 0, 2, 1, 0, 1, 0, 0, 1, 1, 2, 2, 0, 0, 0, 2, 2, 2, 0, 0, 1, 2, 1, 2, 2, 2, 0, 1, 1, 2, 0, 2, 2, 0, 0, 1, 0, 0, 0, 1, 1, 2, 2, 1, 1, 2, 0, 2, 0, 2, 0, 0, 1, 2, 2, 0, 1, 0, 1, 0, 0, 1, 0, 1, 0, 1, 0, 0, 1, 1, 0, 2, 2, 2, 1, 0, 0, 0, 1, 0, 0, 0, 0, 1, 1, 2, 0, 0, 2, 2, 2, 1, 2, 1, 2, 2, 2, 1, 0, 0, 0, 2, 2, 0, 0, 2, 1, 2, 1, 2, 1, 0, 2, 0, 2, 2, 1, 1, 0, 0, 2, 1, 2, 2, 2, 0, 2, 0, 1, 0, 1, 2, 2, 0, 2, 1, 1, 2, 1, 1, 1, 2, 0, 2, 0, 0, 0, 0, 0, 1, 0]\n"
     ]
    },
    {
     "data": {
      "application/vnd.jupyter.widget-view+json": {
       "model_id": "bf572c1e58254230afa251a76e3030d1",
       "version_major": 2,
       "version_minor": 0
      },
      "text/plain": [
       "0it [00:00, ?it/s]"
      ]
     },
     "metadata": {},
     "output_type": "display_data"
    },
    {
     "data": {
      "application/vnd.jupyter.widget-view+json": {
       "model_id": "fc04016af7a14bce80f1464856d5269c",
       "version_major": 2,
       "version_minor": 0
      },
      "text/plain": [
       "0it [00:00, ?it/s]"
      ]
     },
     "metadata": {},
     "output_type": "display_data"
    },
    {
     "name": "stdout",
     "output_type": "stream",
     "text": [
      "[2, 0, 1, 1, 0, 1, 2, 0, 1, 0, 0, 0, 0, 2, 0, 0, 0, 2, 1, 0, 1, 0, 0, 1, 1, 2, 2, 0, 0, 0, 2, 2, 2, 0, 0, 1, 2, 1, 2, 2, 2, 0, 1, 1, 2, 0, 2, 2, 0, 0, 1, 0, 0, 0, 1, 1, 2, 2, 1, 1, 2, 0, 2, 0, 2, 0, 0, 1, 2, 2, 0, 1, 0, 1, 0, 0, 1, 0, 1, 0, 1, 0, 0, 1, 1, 0, 2, 2, 2, 1, 0, 0, 0, 1, 0, 0, 0, 0, 1, 1, 2, 0, 0, 2, 2, 2, 1, 2, 1, 2, 2, 2, 1, 0, 0, 0, 2, 2, 0, 0, 2, 1, 2, 1, 2, 1, 0, 2, 0, 2, 2, 1, 1, 0, 0, 2, 1, 2, 2, 2, 0, 2, 0, 1, 0, 1, 2, 2, 0, 2, 1, 1, 2, 1, 1, 1, 2, 0, 2, 0, 0, 0, 0, 0, 1, 0, 1]\n"
     ]
    },
    {
     "data": {
      "application/vnd.jupyter.widget-view+json": {
       "model_id": "96384751f4fa4774a2c7fa29619a5a63",
       "version_major": 2,
       "version_minor": 0
      },
      "text/plain": [
       "0it [00:00, ?it/s]"
      ]
     },
     "metadata": {},
     "output_type": "display_data"
    },
    {
     "data": {
      "application/vnd.jupyter.widget-view+json": {
       "model_id": "4fc48dc8ea3f4572933f0cd979f2ddce",
       "version_major": 2,
       "version_minor": 0
      },
      "text/plain": [
       "0it [00:00, ?it/s]"
      ]
     },
     "metadata": {},
     "output_type": "display_data"
    },
    {
     "name": "stdout",
     "output_type": "stream",
     "text": [
      "[2, 0, 1, 1, 0, 1, 2, 0, 1, 0, 0, 0, 0, 2, 0, 0, 0, 2, 1, 0, 1, 0, 0, 1, 1, 2, 2, 0, 0, 0, 2, 2, 2, 0, 0, 1, 2, 1, 2, 2, 2, 0, 1, 1, 2, 0, 2, 2, 0, 0, 1, 0, 0, 0, 1, 1, 2, 2, 1, 1, 2, 0, 2, 0, 2, 0, 0, 1, 2, 2, 0, 1, 0, 1, 0, 0, 1, 0, 1, 0, 1, 0, 0, 1, 1, 0, 2, 2, 2, 1, 0, 0, 0, 1, 0, 0, 0, 0, 1, 1, 2, 0, 0, 2, 2, 2, 1, 2, 1, 2, 2, 2, 1, 0, 0, 0, 2, 2, 0, 0, 2, 1, 2, 1, 2, 1, 0, 2, 0, 2, 2, 1, 1, 0, 0, 2, 1, 2, 2, 2, 0, 2, 0, 1, 0, 1, 2, 2, 0, 2, 1, 1, 2, 1, 1, 1, 2, 0, 2, 0, 0, 0, 0, 0, 1, 0, 1, 2]\n"
     ]
    },
    {
     "data": {
      "application/vnd.jupyter.widget-view+json": {
       "model_id": "ed8b22ade95a4e08a409e270d9d8ffef",
       "version_major": 2,
       "version_minor": 0
      },
      "text/plain": [
       "0it [00:00, ?it/s]"
      ]
     },
     "metadata": {},
     "output_type": "display_data"
    },
    {
     "data": {
      "application/vnd.jupyter.widget-view+json": {
       "model_id": "f2208e91608e48739d066d5c36ff3057",
       "version_major": 2,
       "version_minor": 0
      },
      "text/plain": [
       "0it [00:00, ?it/s]"
      ]
     },
     "metadata": {},
     "output_type": "display_data"
    },
    {
     "name": "stdout",
     "output_type": "stream",
     "text": [
      "[2, 0, 1, 1, 0, 1, 2, 0, 1, 0, 0, 0, 0, 2, 0, 0, 0, 2, 1, 0, 1, 0, 0, 1, 1, 2, 2, 0, 0, 0, 2, 2, 2, 0, 0, 1, 2, 1, 2, 2, 2, 0, 1, 1, 2, 0, 2, 2, 0, 0, 1, 0, 0, 0, 1, 1, 2, 2, 1, 1, 2, 0, 2, 0, 2, 0, 0, 1, 2, 2, 0, 1, 0, 1, 0, 0, 1, 0, 1, 0, 1, 0, 0, 1, 1, 0, 2, 2, 2, 1, 0, 0, 0, 1, 0, 0, 0, 0, 1, 1, 2, 0, 0, 2, 2, 2, 1, 2, 1, 2, 2, 2, 1, 0, 0, 0, 2, 2, 0, 0, 2, 1, 2, 1, 2, 1, 0, 2, 0, 2, 2, 1, 1, 0, 0, 2, 1, 2, 2, 2, 0, 2, 0, 1, 0, 1, 2, 2, 0, 2, 1, 1, 2, 1, 1, 1, 2, 0, 2, 0, 0, 0, 0, 0, 1, 0, 1, 2, 1]\n"
     ]
    },
    {
     "data": {
      "application/vnd.jupyter.widget-view+json": {
       "model_id": "4104cd883d474554b6e982a61ce8778e",
       "version_major": 2,
       "version_minor": 0
      },
      "text/plain": [
       "0it [00:00, ?it/s]"
      ]
     },
     "metadata": {},
     "output_type": "display_data"
    },
    {
     "data": {
      "application/vnd.jupyter.widget-view+json": {
       "model_id": "280a315f713f46f992646cd075e374c0",
       "version_major": 2,
       "version_minor": 0
      },
      "text/plain": [
       "0it [00:00, ?it/s]"
      ]
     },
     "metadata": {},
     "output_type": "display_data"
    },
    {
     "name": "stdout",
     "output_type": "stream",
     "text": [
      "[2, 0, 1, 1, 0, 1, 2, 0, 1, 0, 0, 0, 0, 2, 0, 0, 0, 2, 1, 0, 1, 0, 0, 1, 1, 2, 2, 0, 0, 0, 2, 2, 2, 0, 0, 1, 2, 1, 2, 2, 2, 0, 1, 1, 2, 0, 2, 2, 0, 0, 1, 0, 0, 0, 1, 1, 2, 2, 1, 1, 2, 0, 2, 0, 2, 0, 0, 1, 2, 2, 0, 1, 0, 1, 0, 0, 1, 0, 1, 0, 1, 0, 0, 1, 1, 0, 2, 2, 2, 1, 0, 0, 0, 1, 0, 0, 0, 0, 1, 1, 2, 0, 0, 2, 2, 2, 1, 2, 1, 2, 2, 2, 1, 0, 0, 0, 2, 2, 0, 0, 2, 1, 2, 1, 2, 1, 0, 2, 0, 2, 2, 1, 1, 0, 0, 2, 1, 2, 2, 2, 0, 2, 0, 1, 0, 1, 2, 2, 0, 2, 1, 1, 2, 1, 1, 1, 2, 0, 2, 0, 0, 0, 0, 0, 1, 0, 1, 2, 1, 1]\n"
     ]
    },
    {
     "data": {
      "application/vnd.jupyter.widget-view+json": {
       "model_id": "faa4189730c445c5a579071167a8a1e7",
       "version_major": 2,
       "version_minor": 0
      },
      "text/plain": [
       "0it [00:00, ?it/s]"
      ]
     },
     "metadata": {},
     "output_type": "display_data"
    },
    {
     "data": {
      "application/vnd.jupyter.widget-view+json": {
       "model_id": "45cb9dcbcd23438ca7205fec368ccca4",
       "version_major": 2,
       "version_minor": 0
      },
      "text/plain": [
       "0it [00:00, ?it/s]"
      ]
     },
     "metadata": {},
     "output_type": "display_data"
    },
    {
     "name": "stdout",
     "output_type": "stream",
     "text": [
      "[2, 0, 1, 1, 0, 1, 2, 0, 1, 0, 0, 0, 0, 2, 0, 0, 0, 2, 1, 0, 1, 0, 0, 1, 1, 2, 2, 0, 0, 0, 2, 2, 2, 0, 0, 1, 2, 1, 2, 2, 2, 0, 1, 1, 2, 0, 2, 2, 0, 0, 1, 0, 0, 0, 1, 1, 2, 2, 1, 1, 2, 0, 2, 0, 2, 0, 0, 1, 2, 2, 0, 1, 0, 1, 0, 0, 1, 0, 1, 0, 1, 0, 0, 1, 1, 0, 2, 2, 2, 1, 0, 0, 0, 1, 0, 0, 0, 0, 1, 1, 2, 0, 0, 2, 2, 2, 1, 2, 1, 2, 2, 2, 1, 0, 0, 0, 2, 2, 0, 0, 2, 1, 2, 1, 2, 1, 0, 2, 0, 2, 2, 1, 1, 0, 0, 2, 1, 2, 2, 2, 0, 2, 0, 1, 0, 1, 2, 2, 0, 2, 1, 1, 2, 1, 1, 1, 2, 0, 2, 0, 0, 0, 0, 0, 1, 0, 1, 2, 1, 1, 1]\n"
     ]
    },
    {
     "data": {
      "application/vnd.jupyter.widget-view+json": {
       "model_id": "bf6da50d91934e378216a3b3b1356121",
       "version_major": 2,
       "version_minor": 0
      },
      "text/plain": [
       "0it [00:00, ?it/s]"
      ]
     },
     "metadata": {},
     "output_type": "display_data"
    },
    {
     "data": {
      "application/vnd.jupyter.widget-view+json": {
       "model_id": "61b46bd561af4aee8ccfada8b4353524",
       "version_major": 2,
       "version_minor": 0
      },
      "text/plain": [
       "0it [00:00, ?it/s]"
      ]
     },
     "metadata": {},
     "output_type": "display_data"
    },
    {
     "name": "stdout",
     "output_type": "stream",
     "text": [
      "[2, 0, 1, 1, 0, 1, 2, 0, 1, 0, 0, 0, 0, 2, 0, 0, 0, 2, 1, 0, 1, 0, 0, 1, 1, 2, 2, 0, 0, 0, 2, 2, 2, 0, 0, 1, 2, 1, 2, 2, 2, 0, 1, 1, 2, 0, 2, 2, 0, 0, 1, 0, 0, 0, 1, 1, 2, 2, 1, 1, 2, 0, 2, 0, 2, 0, 0, 1, 2, 2, 0, 1, 0, 1, 0, 0, 1, 0, 1, 0, 1, 0, 0, 1, 1, 0, 2, 2, 2, 1, 0, 0, 0, 1, 0, 0, 0, 0, 1, 1, 2, 0, 0, 2, 2, 2, 1, 2, 1, 2, 2, 2, 1, 0, 0, 0, 2, 2, 0, 0, 2, 1, 2, 1, 2, 1, 0, 2, 0, 2, 2, 1, 1, 0, 0, 2, 1, 2, 2, 2, 0, 2, 0, 1, 0, 1, 2, 2, 0, 2, 1, 1, 2, 1, 1, 1, 2, 0, 2, 0, 0, 0, 0, 0, 1, 0, 1, 2, 1, 1, 1, 0]\n"
     ]
    },
    {
     "data": {
      "application/vnd.jupyter.widget-view+json": {
       "model_id": "478aff2f61344097a8372d216a7d4607",
       "version_major": 2,
       "version_minor": 0
      },
      "text/plain": [
       "0it [00:00, ?it/s]"
      ]
     },
     "metadata": {},
     "output_type": "display_data"
    },
    {
     "data": {
      "application/vnd.jupyter.widget-view+json": {
       "model_id": "859a519be58a4c069eec5e1aee458766",
       "version_major": 2,
       "version_minor": 0
      },
      "text/plain": [
       "0it [00:00, ?it/s]"
      ]
     },
     "metadata": {},
     "output_type": "display_data"
    },
    {
     "name": "stdout",
     "output_type": "stream",
     "text": [
      "[2, 0, 1, 1, 0, 1, 2, 0, 1, 0, 0, 0, 0, 2, 0, 0, 0, 2, 1, 0, 1, 0, 0, 1, 1, 2, 2, 0, 0, 0, 2, 2, 2, 0, 0, 1, 2, 1, 2, 2, 2, 0, 1, 1, 2, 0, 2, 2, 0, 0, 1, 0, 0, 0, 1, 1, 2, 2, 1, 1, 2, 0, 2, 0, 2, 0, 0, 1, 2, 2, 0, 1, 0, 1, 0, 0, 1, 0, 1, 0, 1, 0, 0, 1, 1, 0, 2, 2, 2, 1, 0, 0, 0, 1, 0, 0, 0, 0, 1, 1, 2, 0, 0, 2, 2, 2, 1, 2, 1, 2, 2, 2, 1, 0, 0, 0, 2, 2, 0, 0, 2, 1, 2, 1, 2, 1, 0, 2, 0, 2, 2, 1, 1, 0, 0, 2, 1, 2, 2, 2, 0, 2, 0, 1, 0, 1, 2, 2, 0, 2, 1, 1, 2, 1, 1, 1, 2, 0, 2, 0, 0, 0, 0, 0, 1, 0, 1, 2, 1, 1, 1, 0, 2]\n"
     ]
    },
    {
     "data": {
      "application/vnd.jupyter.widget-view+json": {
       "model_id": "ad4eaefdcdfd4d4381440cfe31d0fa24",
       "version_major": 2,
       "version_minor": 0
      },
      "text/plain": [
       "0it [00:00, ?it/s]"
      ]
     },
     "metadata": {},
     "output_type": "display_data"
    },
    {
     "data": {
      "application/vnd.jupyter.widget-view+json": {
       "model_id": "c954e562add444f3a08f6f7b8f85f3bf",
       "version_major": 2,
       "version_minor": 0
      },
      "text/plain": [
       "0it [00:00, ?it/s]"
      ]
     },
     "metadata": {},
     "output_type": "display_data"
    },
    {
     "name": "stdout",
     "output_type": "stream",
     "text": [
      "[2, 0, 1, 1, 0, 1, 2, 0, 1, 0, 0, 0, 0, 2, 0, 0, 0, 2, 1, 0, 1, 0, 0, 1, 1, 2, 2, 0, 0, 0, 2, 2, 2, 0, 0, 1, 2, 1, 2, 2, 2, 0, 1, 1, 2, 0, 2, 2, 0, 0, 1, 0, 0, 0, 1, 1, 2, 2, 1, 1, 2, 0, 2, 0, 2, 0, 0, 1, 2, 2, 0, 1, 0, 1, 0, 0, 1, 0, 1, 0, 1, 0, 0, 1, 1, 0, 2, 2, 2, 1, 0, 0, 0, 1, 0, 0, 0, 0, 1, 1, 2, 0, 0, 2, 2, 2, 1, 2, 1, 2, 2, 2, 1, 0, 0, 0, 2, 2, 0, 0, 2, 1, 2, 1, 2, 1, 0, 2, 0, 2, 2, 1, 1, 0, 0, 2, 1, 2, 2, 2, 0, 2, 0, 1, 0, 1, 2, 2, 0, 2, 1, 1, 2, 1, 1, 1, 2, 0, 2, 0, 0, 0, 0, 0, 1, 0, 1, 2, 1, 1, 1, 0, 2, 2]\n"
     ]
    },
    {
     "data": {
      "application/vnd.jupyter.widget-view+json": {
       "model_id": "ac554efa9b374423b8e5901bfe38e9f7",
       "version_major": 2,
       "version_minor": 0
      },
      "text/plain": [
       "0it [00:00, ?it/s]"
      ]
     },
     "metadata": {},
     "output_type": "display_data"
    },
    {
     "data": {
      "application/vnd.jupyter.widget-view+json": {
       "model_id": "9eedc73d9cda44028ac7a0203f55ffc1",
       "version_major": 2,
       "version_minor": 0
      },
      "text/plain": [
       "0it [00:00, ?it/s]"
      ]
     },
     "metadata": {},
     "output_type": "display_data"
    },
    {
     "name": "stdout",
     "output_type": "stream",
     "text": [
      "[2, 0, 1, 1, 0, 1, 2, 0, 1, 0, 0, 0, 0, 2, 0, 0, 0, 2, 1, 0, 1, 0, 0, 1, 1, 2, 2, 0, 0, 0, 2, 2, 2, 0, 0, 1, 2, 1, 2, 2, 2, 0, 1, 1, 2, 0, 2, 2, 0, 0, 1, 0, 0, 0, 1, 1, 2, 2, 1, 1, 2, 0, 2, 0, 2, 0, 0, 1, 2, 2, 0, 1, 0, 1, 0, 0, 1, 0, 1, 0, 1, 0, 0, 1, 1, 0, 2, 2, 2, 1, 0, 0, 0, 1, 0, 0, 0, 0, 1, 1, 2, 0, 0, 2, 2, 2, 1, 2, 1, 2, 2, 2, 1, 0, 0, 0, 2, 2, 0, 0, 2, 1, 2, 1, 2, 1, 0, 2, 0, 2, 2, 1, 1, 0, 0, 2, 1, 2, 2, 2, 0, 2, 0, 1, 0, 1, 2, 2, 0, 2, 1, 1, 2, 1, 1, 1, 2, 0, 2, 0, 0, 0, 0, 0, 1, 0, 1, 2, 1, 1, 1, 0, 2, 2, 0]\n"
     ]
    },
    {
     "data": {
      "application/vnd.jupyter.widget-view+json": {
       "model_id": "e07524b981344a8da7e2df4160f9a45c",
       "version_major": 2,
       "version_minor": 0
      },
      "text/plain": [
       "0it [00:00, ?it/s]"
      ]
     },
     "metadata": {},
     "output_type": "display_data"
    },
    {
     "data": {
      "application/vnd.jupyter.widget-view+json": {
       "model_id": "501d05ed99fe4c9ba3222c111a80abd4",
       "version_major": 2,
       "version_minor": 0
      },
      "text/plain": [
       "0it [00:00, ?it/s]"
      ]
     },
     "metadata": {},
     "output_type": "display_data"
    },
    {
     "name": "stdout",
     "output_type": "stream",
     "text": [
      "[2, 0, 1, 1, 0, 1, 2, 0, 1, 0, 0, 0, 0, 2, 0, 0, 0, 2, 1, 0, 1, 0, 0, 1, 1, 2, 2, 0, 0, 0, 2, 2, 2, 0, 0, 1, 2, 1, 2, 2, 2, 0, 1, 1, 2, 0, 2, 2, 0, 0, 1, 0, 0, 0, 1, 1, 2, 2, 1, 1, 2, 0, 2, 0, 2, 0, 0, 1, 2, 2, 0, 1, 0, 1, 0, 0, 1, 0, 1, 0, 1, 0, 0, 1, 1, 0, 2, 2, 2, 1, 0, 0, 0, 1, 0, 0, 0, 0, 1, 1, 2, 0, 0, 2, 2, 2, 1, 2, 1, 2, 2, 2, 1, 0, 0, 0, 2, 2, 0, 0, 2, 1, 2, 1, 2, 1, 0, 2, 0, 2, 2, 1, 1, 0, 0, 2, 1, 2, 2, 2, 0, 2, 0, 1, 0, 1, 2, 2, 0, 2, 1, 1, 2, 1, 1, 1, 2, 0, 2, 0, 0, 0, 0, 0, 1, 0, 1, 2, 1, 1, 1, 0, 2, 2, 0, 0]\n"
     ]
    },
    {
     "data": {
      "application/vnd.jupyter.widget-view+json": {
       "model_id": "1df3fdf25bcb460ba0790bf182756511",
       "version_major": 2,
       "version_minor": 0
      },
      "text/plain": [
       "0it [00:00, ?it/s]"
      ]
     },
     "metadata": {},
     "output_type": "display_data"
    },
    {
     "data": {
      "application/vnd.jupyter.widget-view+json": {
       "model_id": "b84d852da100469cbb37d76eae4995f6",
       "version_major": 2,
       "version_minor": 0
      },
      "text/plain": [
       "0it [00:00, ?it/s]"
      ]
     },
     "metadata": {},
     "output_type": "display_data"
    },
    {
     "name": "stdout",
     "output_type": "stream",
     "text": [
      "[2, 0, 1, 1, 0, 1, 2, 0, 1, 0, 0, 0, 0, 2, 0, 0, 0, 2, 1, 0, 1, 0, 0, 1, 1, 2, 2, 0, 0, 0, 2, 2, 2, 0, 0, 1, 2, 1, 2, 2, 2, 0, 1, 1, 2, 0, 2, 2, 0, 0, 1, 0, 0, 0, 1, 1, 2, 2, 1, 1, 2, 0, 2, 0, 2, 0, 0, 1, 2, 2, 0, 1, 0, 1, 0, 0, 1, 0, 1, 0, 1, 0, 0, 1, 1, 0, 2, 2, 2, 1, 0, 0, 0, 1, 0, 0, 0, 0, 1, 1, 2, 0, 0, 2, 2, 2, 1, 2, 1, 2, 2, 2, 1, 0, 0, 0, 2, 2, 0, 0, 2, 1, 2, 1, 2, 1, 0, 2, 0, 2, 2, 1, 1, 0, 0, 2, 1, 2, 2, 2, 0, 2, 0, 1, 0, 1, 2, 2, 0, 2, 1, 1, 2, 1, 1, 1, 2, 0, 2, 0, 0, 0, 0, 0, 1, 0, 1, 2, 1, 1, 1, 0, 2, 2, 0, 0, 0]\n"
     ]
    },
    {
     "data": {
      "application/vnd.jupyter.widget-view+json": {
       "model_id": "252b29e766474a58a57426bd80860b2a",
       "version_major": 2,
       "version_minor": 0
      },
      "text/plain": [
       "0it [00:00, ?it/s]"
      ]
     },
     "metadata": {},
     "output_type": "display_data"
    },
    {
     "data": {
      "application/vnd.jupyter.widget-view+json": {
       "model_id": "09037a70dd0c486eaa88b3bcf3f35b59",
       "version_major": 2,
       "version_minor": 0
      },
      "text/plain": [
       "0it [00:00, ?it/s]"
      ]
     },
     "metadata": {},
     "output_type": "display_data"
    },
    {
     "name": "stdout",
     "output_type": "stream",
     "text": [
      "[2, 0, 1, 1, 0, 1, 2, 0, 1, 0, 0, 0, 0, 2, 0, 0, 0, 2, 1, 0, 1, 0, 0, 1, 1, 2, 2, 0, 0, 0, 2, 2, 2, 0, 0, 1, 2, 1, 2, 2, 2, 0, 1, 1, 2, 0, 2, 2, 0, 0, 1, 0, 0, 0, 1, 1, 2, 2, 1, 1, 2, 0, 2, 0, 2, 0, 0, 1, 2, 2, 0, 1, 0, 1, 0, 0, 1, 0, 1, 0, 1, 0, 0, 1, 1, 0, 2, 2, 2, 1, 0, 0, 0, 1, 0, 0, 0, 0, 1, 1, 2, 0, 0, 2, 2, 2, 1, 2, 1, 2, 2, 2, 1, 0, 0, 0, 2, 2, 0, 0, 2, 1, 2, 1, 2, 1, 0, 2, 0, 2, 2, 1, 1, 0, 0, 2, 1, 2, 2, 2, 0, 2, 0, 1, 0, 1, 2, 2, 0, 2, 1, 1, 2, 1, 1, 1, 2, 0, 2, 0, 0, 0, 0, 0, 1, 0, 1, 2, 1, 1, 1, 0, 2, 2, 0, 0, 0, 2]\n"
     ]
    },
    {
     "data": {
      "application/vnd.jupyter.widget-view+json": {
       "model_id": "e04e510e1573465b99a48577d724a018",
       "version_major": 2,
       "version_minor": 0
      },
      "text/plain": [
       "0it [00:00, ?it/s]"
      ]
     },
     "metadata": {},
     "output_type": "display_data"
    },
    {
     "data": {
      "application/vnd.jupyter.widget-view+json": {
       "model_id": "336b8efd5739456fbb1b5ba542e3e08f",
       "version_major": 2,
       "version_minor": 0
      },
      "text/plain": [
       "0it [00:00, ?it/s]"
      ]
     },
     "metadata": {},
     "output_type": "display_data"
    },
    {
     "name": "stdout",
     "output_type": "stream",
     "text": [
      "[2, 0, 1, 1, 0, 1, 2, 0, 1, 0, 0, 0, 0, 2, 0, 0, 0, 2, 1, 0, 1, 0, 0, 1, 1, 2, 2, 0, 0, 0, 2, 2, 2, 0, 0, 1, 2, 1, 2, 2, 2, 0, 1, 1, 2, 0, 2, 2, 0, 0, 1, 0, 0, 0, 1, 1, 2, 2, 1, 1, 2, 0, 2, 0, 2, 0, 0, 1, 2, 2, 0, 1, 0, 1, 0, 0, 1, 0, 1, 0, 1, 0, 0, 1, 1, 0, 2, 2, 2, 1, 0, 0, 0, 1, 0, 0, 0, 0, 1, 1, 2, 0, 0, 2, 2, 2, 1, 2, 1, 2, 2, 2, 1, 0, 0, 0, 2, 2, 0, 0, 2, 1, 2, 1, 2, 1, 0, 2, 0, 2, 2, 1, 1, 0, 0, 2, 1, 2, 2, 2, 0, 2, 0, 1, 0, 1, 2, 2, 0, 2, 1, 1, 2, 1, 1, 1, 2, 0, 2, 0, 0, 0, 0, 0, 1, 0, 1, 2, 1, 1, 1, 0, 2, 2, 0, 0, 0, 2, 2]\n"
     ]
    },
    {
     "data": {
      "application/vnd.jupyter.widget-view+json": {
       "model_id": "7bb2c404e2f6442ca7ef91316f7fc274",
       "version_major": 2,
       "version_minor": 0
      },
      "text/plain": [
       "0it [00:00, ?it/s]"
      ]
     },
     "metadata": {},
     "output_type": "display_data"
    },
    {
     "data": {
      "application/vnd.jupyter.widget-view+json": {
       "model_id": "b2549d8dbf2f4101bd8fed48a9923bc8",
       "version_major": 2,
       "version_minor": 0
      },
      "text/plain": [
       "0it [00:00, ?it/s]"
      ]
     },
     "metadata": {},
     "output_type": "display_data"
    },
    {
     "name": "stdout",
     "output_type": "stream",
     "text": [
      "[2, 0, 1, 1, 0, 1, 2, 0, 1, 0, 0, 0, 0, 2, 0, 0, 0, 2, 1, 0, 1, 0, 0, 1, 1, 2, 2, 0, 0, 0, 2, 2, 2, 0, 0, 1, 2, 1, 2, 2, 2, 0, 1, 1, 2, 0, 2, 2, 0, 0, 1, 0, 0, 0, 1, 1, 2, 2, 1, 1, 2, 0, 2, 0, 2, 0, 0, 1, 2, 2, 0, 1, 0, 1, 0, 0, 1, 0, 1, 0, 1, 0, 0, 1, 1, 0, 2, 2, 2, 1, 0, 0, 0, 1, 0, 0, 0, 0, 1, 1, 2, 0, 0, 2, 2, 2, 1, 2, 1, 2, 2, 2, 1, 0, 0, 0, 2, 2, 0, 0, 2, 1, 2, 1, 2, 1, 0, 2, 0, 2, 2, 1, 1, 0, 0, 2, 1, 2, 2, 2, 0, 2, 0, 1, 0, 1, 2, 2, 0, 2, 1, 1, 2, 1, 1, 1, 2, 0, 2, 0, 0, 0, 0, 0, 1, 0, 1, 2, 1, 1, 1, 0, 2, 2, 0, 0, 0, 2, 2, 0]\n"
     ]
    },
    {
     "data": {
      "application/vnd.jupyter.widget-view+json": {
       "model_id": "a3f85442d1384bd999ac67b908842eef",
       "version_major": 2,
       "version_minor": 0
      },
      "text/plain": [
       "0it [00:00, ?it/s]"
      ]
     },
     "metadata": {},
     "output_type": "display_data"
    },
    {
     "data": {
      "application/vnd.jupyter.widget-view+json": {
       "model_id": "a7992fd913e44bfdaa10084b825ab48d",
       "version_major": 2,
       "version_minor": 0
      },
      "text/plain": [
       "0it [00:00, ?it/s]"
      ]
     },
     "metadata": {},
     "output_type": "display_data"
    },
    {
     "name": "stdout",
     "output_type": "stream",
     "text": [
      "[2, 0, 1, 1, 0, 1, 2, 0, 1, 0, 0, 0, 0, 2, 0, 0, 0, 2, 1, 0, 1, 0, 0, 1, 1, 2, 2, 0, 0, 0, 2, 2, 2, 0, 0, 1, 2, 1, 2, 2, 2, 0, 1, 1, 2, 0, 2, 2, 0, 0, 1, 0, 0, 0, 1, 1, 2, 2, 1, 1, 2, 0, 2, 0, 2, 0, 0, 1, 2, 2, 0, 1, 0, 1, 0, 0, 1, 0, 1, 0, 1, 0, 0, 1, 1, 0, 2, 2, 2, 1, 0, 0, 0, 1, 0, 0, 0, 0, 1, 1, 2, 0, 0, 2, 2, 2, 1, 2, 1, 2, 2, 2, 1, 0, 0, 0, 2, 2, 0, 0, 2, 1, 2, 1, 2, 1, 0, 2, 0, 2, 2, 1, 1, 0, 0, 2, 1, 2, 2, 2, 0, 2, 0, 1, 0, 1, 2, 2, 0, 2, 1, 1, 2, 1, 1, 1, 2, 0, 2, 0, 0, 0, 0, 0, 1, 0, 1, 2, 1, 1, 1, 0, 2, 2, 0, 0, 0, 2, 2, 0, 1]\n"
     ]
    },
    {
     "data": {
      "application/vnd.jupyter.widget-view+json": {
       "model_id": "7f42bcd37d2144658fc6cc76ccbc42cf",
       "version_major": 2,
       "version_minor": 0
      },
      "text/plain": [
       "0it [00:00, ?it/s]"
      ]
     },
     "metadata": {},
     "output_type": "display_data"
    },
    {
     "data": {
      "application/vnd.jupyter.widget-view+json": {
       "model_id": "46e2a7f623a445afa5f3b336131b8a79",
       "version_major": 2,
       "version_minor": 0
      },
      "text/plain": [
       "0it [00:00, ?it/s]"
      ]
     },
     "metadata": {},
     "output_type": "display_data"
    },
    {
     "name": "stdout",
     "output_type": "stream",
     "text": [
      "[2, 0, 1, 1, 0, 1, 2, 0, 1, 0, 0, 0, 0, 2, 0, 0, 0, 2, 1, 0, 1, 0, 0, 1, 1, 2, 2, 0, 0, 0, 2, 2, 2, 0, 0, 1, 2, 1, 2, 2, 2, 0, 1, 1, 2, 0, 2, 2, 0, 0, 1, 0, 0, 0, 1, 1, 2, 2, 1, 1, 2, 0, 2, 0, 2, 0, 0, 1, 2, 2, 0, 1, 0, 1, 0, 0, 1, 0, 1, 0, 1, 0, 0, 1, 1, 0, 2, 2, 2, 1, 0, 0, 0, 1, 0, 0, 0, 0, 1, 1, 2, 0, 0, 2, 2, 2, 1, 2, 1, 2, 2, 2, 1, 0, 0, 0, 2, 2, 0, 0, 2, 1, 2, 1, 2, 1, 0, 2, 0, 2, 2, 1, 1, 0, 0, 2, 1, 2, 2, 2, 0, 2, 0, 1, 0, 1, 2, 2, 0, 2, 1, 1, 2, 1, 1, 1, 2, 0, 2, 0, 0, 0, 0, 0, 1, 0, 1, 2, 1, 1, 1, 0, 2, 2, 0, 0, 0, 2, 2, 0, 1, 0]\n"
     ]
    },
    {
     "data": {
      "application/vnd.jupyter.widget-view+json": {
       "model_id": "8ada99f7b22a46b2b23cfef661442075",
       "version_major": 2,
       "version_minor": 0
      },
      "text/plain": [
       "0it [00:00, ?it/s]"
      ]
     },
     "metadata": {},
     "output_type": "display_data"
    },
    {
     "data": {
      "application/vnd.jupyter.widget-view+json": {
       "model_id": "c7d71aa75a254ea9b60c559ea1b0309b",
       "version_major": 2,
       "version_minor": 0
      },
      "text/plain": [
       "0it [00:00, ?it/s]"
      ]
     },
     "metadata": {},
     "output_type": "display_data"
    },
    {
     "name": "stdout",
     "output_type": "stream",
     "text": [
      "[2, 0, 1, 1, 0, 1, 2, 0, 1, 0, 0, 0, 0, 2, 0, 0, 0, 2, 1, 0, 1, 0, 0, 1, 1, 2, 2, 0, 0, 0, 2, 2, 2, 0, 0, 1, 2, 1, 2, 2, 2, 0, 1, 1, 2, 0, 2, 2, 0, 0, 1, 0, 0, 0, 1, 1, 2, 2, 1, 1, 2, 0, 2, 0, 2, 0, 0, 1, 2, 2, 0, 1, 0, 1, 0, 0, 1, 0, 1, 0, 1, 0, 0, 1, 1, 0, 2, 2, 2, 1, 0, 0, 0, 1, 0, 0, 0, 0, 1, 1, 2, 0, 0, 2, 2, 2, 1, 2, 1, 2, 2, 2, 1, 0, 0, 0, 2, 2, 0, 0, 2, 1, 2, 1, 2, 1, 0, 2, 0, 2, 2, 1, 1, 0, 0, 2, 1, 2, 2, 2, 0, 2, 0, 1, 0, 1, 2, 2, 0, 2, 1, 1, 2, 1, 1, 1, 2, 0, 2, 0, 0, 0, 0, 0, 1, 0, 1, 2, 1, 1, 1, 0, 2, 2, 0, 0, 0, 2, 2, 0, 1, 0, 1]\n"
     ]
    },
    {
     "data": {
      "application/vnd.jupyter.widget-view+json": {
       "model_id": "44295e128e34406f944978902601466d",
       "version_major": 2,
       "version_minor": 0
      },
      "text/plain": [
       "0it [00:00, ?it/s]"
      ]
     },
     "metadata": {},
     "output_type": "display_data"
    },
    {
     "data": {
      "application/vnd.jupyter.widget-view+json": {
       "model_id": "5f44a6b12b8f4dcd887304df6d206e59",
       "version_major": 2,
       "version_minor": 0
      },
      "text/plain": [
       "0it [00:00, ?it/s]"
      ]
     },
     "metadata": {},
     "output_type": "display_data"
    },
    {
     "name": "stdout",
     "output_type": "stream",
     "text": [
      "[2, 0, 1, 1, 0, 1, 2, 0, 1, 0, 0, 0, 0, 2, 0, 0, 0, 2, 1, 0, 1, 0, 0, 1, 1, 2, 2, 0, 0, 0, 2, 2, 2, 0, 0, 1, 2, 1, 2, 2, 2, 0, 1, 1, 2, 0, 2, 2, 0, 0, 1, 0, 0, 0, 1, 1, 2, 2, 1, 1, 2, 0, 2, 0, 2, 0, 0, 1, 2, 2, 0, 1, 0, 1, 0, 0, 1, 0, 1, 0, 1, 0, 0, 1, 1, 0, 2, 2, 2, 1, 0, 0, 0, 1, 0, 0, 0, 0, 1, 1, 2, 0, 0, 2, 2, 2, 1, 2, 1, 2, 2, 2, 1, 0, 0, 0, 2, 2, 0, 0, 2, 1, 2, 1, 2, 1, 0, 2, 0, 2, 2, 1, 1, 0, 0, 2, 1, 2, 2, 2, 0, 2, 0, 1, 0, 1, 2, 2, 0, 2, 1, 1, 2, 1, 1, 1, 2, 0, 2, 0, 0, 0, 0, 0, 1, 0, 1, 2, 1, 1, 1, 0, 2, 2, 0, 0, 0, 2, 2, 0, 1, 0, 1, 1]\n"
     ]
    },
    {
     "data": {
      "application/vnd.jupyter.widget-view+json": {
       "model_id": "9ff9e22e56394730939350444e3c67c6",
       "version_major": 2,
       "version_minor": 0
      },
      "text/plain": [
       "0it [00:00, ?it/s]"
      ]
     },
     "metadata": {},
     "output_type": "display_data"
    },
    {
     "data": {
      "application/vnd.jupyter.widget-view+json": {
       "model_id": "a0ed4cc7c3ce45e4be39fa60f59c0c7b",
       "version_major": 2,
       "version_minor": 0
      },
      "text/plain": [
       "0it [00:00, ?it/s]"
      ]
     },
     "metadata": {},
     "output_type": "display_data"
    },
    {
     "name": "stdout",
     "output_type": "stream",
     "text": [
      "[2, 0, 1, 1, 0, 1, 2, 0, 1, 0, 0, 0, 0, 2, 0, 0, 0, 2, 1, 0, 1, 0, 0, 1, 1, 2, 2, 0, 0, 0, 2, 2, 2, 0, 0, 1, 2, 1, 2, 2, 2, 0, 1, 1, 2, 0, 2, 2, 0, 0, 1, 0, 0, 0, 1, 1, 2, 2, 1, 1, 2, 0, 2, 0, 2, 0, 0, 1, 2, 2, 0, 1, 0, 1, 0, 0, 1, 0, 1, 0, 1, 0, 0, 1, 1, 0, 2, 2, 2, 1, 0, 0, 0, 1, 0, 0, 0, 0, 1, 1, 2, 0, 0, 2, 2, 2, 1, 2, 1, 2, 2, 2, 1, 0, 0, 0, 2, 2, 0, 0, 2, 1, 2, 1, 2, 1, 0, 2, 0, 2, 2, 1, 1, 0, 0, 2, 1, 2, 2, 2, 0, 2, 0, 1, 0, 1, 2, 2, 0, 2, 1, 1, 2, 1, 1, 1, 2, 0, 2, 0, 0, 0, 0, 0, 1, 0, 1, 2, 1, 1, 1, 0, 2, 2, 0, 0, 0, 2, 2, 0, 1, 0, 1, 1, 1]\n"
     ]
    },
    {
     "data": {
      "application/vnd.jupyter.widget-view+json": {
       "model_id": "68ece71228be49d98e9a05386baeadf6",
       "version_major": 2,
       "version_minor": 0
      },
      "text/plain": [
       "0it [00:00, ?it/s]"
      ]
     },
     "metadata": {},
     "output_type": "display_data"
    },
    {
     "data": {
      "application/vnd.jupyter.widget-view+json": {
       "model_id": "b267d6b815964109bf09f0225e3a5642",
       "version_major": 2,
       "version_minor": 0
      },
      "text/plain": [
       "0it [00:00, ?it/s]"
      ]
     },
     "metadata": {},
     "output_type": "display_data"
    },
    {
     "name": "stdout",
     "output_type": "stream",
     "text": [
      "[2, 0, 1, 1, 0, 1, 2, 0, 1, 0, 0, 0, 0, 2, 0, 0, 0, 2, 1, 0, 1, 0, 0, 1, 1, 2, 2, 0, 0, 0, 2, 2, 2, 0, 0, 1, 2, 1, 2, 2, 2, 0, 1, 1, 2, 0, 2, 2, 0, 0, 1, 0, 0, 0, 1, 1, 2, 2, 1, 1, 2, 0, 2, 0, 2, 0, 0, 1, 2, 2, 0, 1, 0, 1, 0, 0, 1, 0, 1, 0, 1, 0, 0, 1, 1, 0, 2, 2, 2, 1, 0, 0, 0, 1, 0, 0, 0, 0, 1, 1, 2, 0, 0, 2, 2, 2, 1, 2, 1, 2, 2, 2, 1, 0, 0, 0, 2, 2, 0, 0, 2, 1, 2, 1, 2, 1, 0, 2, 0, 2, 2, 1, 1, 0, 0, 2, 1, 2, 2, 2, 0, 2, 0, 1, 0, 1, 2, 2, 0, 2, 1, 1, 2, 1, 1, 1, 2, 0, 2, 0, 0, 0, 0, 0, 1, 0, 1, 2, 1, 1, 1, 0, 2, 2, 0, 0, 0, 2, 2, 0, 1, 0, 1, 1, 1, 0]\n"
     ]
    },
    {
     "data": {
      "application/vnd.jupyter.widget-view+json": {
       "model_id": "4d4eb7a89fd24e8bacf102380d50ee31",
       "version_major": 2,
       "version_minor": 0
      },
      "text/plain": [
       "0it [00:00, ?it/s]"
      ]
     },
     "metadata": {},
     "output_type": "display_data"
    },
    {
     "data": {
      "application/vnd.jupyter.widget-view+json": {
       "model_id": "94414b7902ce4dfda6d054d1be33a5a1",
       "version_major": 2,
       "version_minor": 0
      },
      "text/plain": [
       "0it [00:00, ?it/s]"
      ]
     },
     "metadata": {},
     "output_type": "display_data"
    },
    {
     "name": "stdout",
     "output_type": "stream",
     "text": [
      "[2, 0, 1, 1, 0, 1, 2, 0, 1, 0, 0, 0, 0, 2, 0, 0, 0, 2, 1, 0, 1, 0, 0, 1, 1, 2, 2, 0, 0, 0, 2, 2, 2, 0, 0, 1, 2, 1, 2, 2, 2, 0, 1, 1, 2, 0, 2, 2, 0, 0, 1, 0, 0, 0, 1, 1, 2, 2, 1, 1, 2, 0, 2, 0, 2, 0, 0, 1, 2, 2, 0, 1, 0, 1, 0, 0, 1, 0, 1, 0, 1, 0, 0, 1, 1, 0, 2, 2, 2, 1, 0, 0, 0, 1, 0, 0, 0, 0, 1, 1, 2, 0, 0, 2, 2, 2, 1, 2, 1, 2, 2, 2, 1, 0, 0, 0, 2, 2, 0, 0, 2, 1, 2, 1, 2, 1, 0, 2, 0, 2, 2, 1, 1, 0, 0, 2, 1, 2, 2, 2, 0, 2, 0, 1, 0, 1, 2, 2, 0, 2, 1, 1, 2, 1, 1, 1, 2, 0, 2, 0, 0, 0, 0, 0, 1, 0, 1, 2, 1, 1, 1, 0, 2, 2, 0, 0, 0, 2, 2, 0, 1, 0, 1, 1, 1, 0, 0]\n"
     ]
    },
    {
     "data": {
      "application/vnd.jupyter.widget-view+json": {
       "model_id": "8ead2e033c374fe28fdf9a0a4d89555d",
       "version_major": 2,
       "version_minor": 0
      },
      "text/plain": [
       "0it [00:00, ?it/s]"
      ]
     },
     "metadata": {},
     "output_type": "display_data"
    },
    {
     "data": {
      "application/vnd.jupyter.widget-view+json": {
       "model_id": "db01934411c345018f2c9355af1fd86a",
       "version_major": 2,
       "version_minor": 0
      },
      "text/plain": [
       "0it [00:00, ?it/s]"
      ]
     },
     "metadata": {},
     "output_type": "display_data"
    },
    {
     "name": "stdout",
     "output_type": "stream",
     "text": [
      "[2, 0, 1, 1, 0, 1, 2, 0, 1, 0, 0, 0, 0, 2, 0, 0, 0, 2, 1, 0, 1, 0, 0, 1, 1, 2, 2, 0, 0, 0, 2, 2, 2, 0, 0, 1, 2, 1, 2, 2, 2, 0, 1, 1, 2, 0, 2, 2, 0, 0, 1, 0, 0, 0, 1, 1, 2, 2, 1, 1, 2, 0, 2, 0, 2, 0, 0, 1, 2, 2, 0, 1, 0, 1, 0, 0, 1, 0, 1, 0, 1, 0, 0, 1, 1, 0, 2, 2, 2, 1, 0, 0, 0, 1, 0, 0, 0, 0, 1, 1, 2, 0, 0, 2, 2, 2, 1, 2, 1, 2, 2, 2, 1, 0, 0, 0, 2, 2, 0, 0, 2, 1, 2, 1, 2, 1, 0, 2, 0, 2, 2, 1, 1, 0, 0, 2, 1, 2, 2, 2, 0, 2, 0, 1, 0, 1, 2, 2, 0, 2, 1, 1, 2, 1, 1, 1, 2, 0, 2, 0, 0, 0, 0, 0, 1, 0, 1, 2, 1, 1, 1, 0, 2, 2, 0, 0, 0, 2, 2, 0, 1, 0, 1, 1, 1, 0, 0, 1]\n"
     ]
    },
    {
     "data": {
      "application/vnd.jupyter.widget-view+json": {
       "model_id": "7e123b17426a4b599d1bed9437bcd8fc",
       "version_major": 2,
       "version_minor": 0
      },
      "text/plain": [
       "0it [00:00, ?it/s]"
      ]
     },
     "metadata": {},
     "output_type": "display_data"
    },
    {
     "data": {
      "application/vnd.jupyter.widget-view+json": {
       "model_id": "68908f9bfd49417a985dc37964f70e82",
       "version_major": 2,
       "version_minor": 0
      },
      "text/plain": [
       "0it [00:00, ?it/s]"
      ]
     },
     "metadata": {},
     "output_type": "display_data"
    },
    {
     "name": "stdout",
     "output_type": "stream",
     "text": [
      "[2, 0, 1, 1, 0, 1, 2, 0, 1, 0, 0, 0, 0, 2, 0, 0, 0, 2, 1, 0, 1, 0, 0, 1, 1, 2, 2, 0, 0, 0, 2, 2, 2, 0, 0, 1, 2, 1, 2, 2, 2, 0, 1, 1, 2, 0, 2, 2, 0, 0, 1, 0, 0, 0, 1, 1, 2, 2, 1, 1, 2, 0, 2, 0, 2, 0, 0, 1, 2, 2, 0, 1, 0, 1, 0, 0, 1, 0, 1, 0, 1, 0, 0, 1, 1, 0, 2, 2, 2, 1, 0, 0, 0, 1, 0, 0, 0, 0, 1, 1, 2, 0, 0, 2, 2, 2, 1, 2, 1, 2, 2, 2, 1, 0, 0, 0, 2, 2, 0, 0, 2, 1, 2, 1, 2, 1, 0, 2, 0, 2, 2, 1, 1, 0, 0, 2, 1, 2, 2, 2, 0, 2, 0, 1, 0, 1, 2, 2, 0, 2, 1, 1, 2, 1, 1, 1, 2, 0, 2, 0, 0, 0, 0, 0, 1, 0, 1, 2, 1, 1, 1, 0, 2, 2, 0, 0, 0, 2, 2, 0, 1, 0, 1, 1, 1, 0, 0, 1, 2]\n"
     ]
    },
    {
     "data": {
      "application/vnd.jupyter.widget-view+json": {
       "model_id": "32aba6b9ea7241ae822a8fc39d5569e2",
       "version_major": 2,
       "version_minor": 0
      },
      "text/plain": [
       "0it [00:00, ?it/s]"
      ]
     },
     "metadata": {},
     "output_type": "display_data"
    },
    {
     "data": {
      "application/vnd.jupyter.widget-view+json": {
       "model_id": "1776e3619c7a4d4fbaa47ad099875e9d",
       "version_major": 2,
       "version_minor": 0
      },
      "text/plain": [
       "0it [00:00, ?it/s]"
      ]
     },
     "metadata": {},
     "output_type": "display_data"
    },
    {
     "name": "stdout",
     "output_type": "stream",
     "text": [
      "[2, 0, 1, 1, 0, 1, 2, 0, 1, 0, 0, 0, 0, 2, 0, 0, 0, 2, 1, 0, 1, 0, 0, 1, 1, 2, 2, 0, 0, 0, 2, 2, 2, 0, 0, 1, 2, 1, 2, 2, 2, 0, 1, 1, 2, 0, 2, 2, 0, 0, 1, 0, 0, 0, 1, 1, 2, 2, 1, 1, 2, 0, 2, 0, 2, 0, 0, 1, 2, 2, 0, 1, 0, 1, 0, 0, 1, 0, 1, 0, 1, 0, 0, 1, 1, 0, 2, 2, 2, 1, 0, 0, 0, 1, 0, 0, 0, 0, 1, 1, 2, 0, 0, 2, 2, 2, 1, 2, 1, 2, 2, 2, 1, 0, 0, 0, 2, 2, 0, 0, 2, 1, 2, 1, 2, 1, 0, 2, 0, 2, 2, 1, 1, 0, 0, 2, 1, 2, 2, 2, 0, 2, 0, 1, 0, 1, 2, 2, 0, 2, 1, 1, 2, 1, 1, 1, 2, 0, 2, 0, 0, 0, 0, 0, 1, 0, 1, 2, 1, 1, 1, 0, 2, 2, 0, 0, 0, 2, 2, 0, 1, 0, 1, 1, 1, 0, 0, 1, 2, 1]\n"
     ]
    },
    {
     "data": {
      "application/vnd.jupyter.widget-view+json": {
       "model_id": "5ba3a9c64cc042a2a9daad6197748990",
       "version_major": 2,
       "version_minor": 0
      },
      "text/plain": [
       "0it [00:00, ?it/s]"
      ]
     },
     "metadata": {},
     "output_type": "display_data"
    },
    {
     "data": {
      "application/vnd.jupyter.widget-view+json": {
       "model_id": "280eaa45655049dbbe009897048d4f27",
       "version_major": 2,
       "version_minor": 0
      },
      "text/plain": [
       "0it [00:00, ?it/s]"
      ]
     },
     "metadata": {},
     "output_type": "display_data"
    },
    {
     "name": "stdout",
     "output_type": "stream",
     "text": [
      "[2, 0, 1, 1, 0, 1, 2, 0, 1, 0, 0, 0, 0, 2, 0, 0, 0, 2, 1, 0, 1, 0, 0, 1, 1, 2, 2, 0, 0, 0, 2, 2, 2, 0, 0, 1, 2, 1, 2, 2, 2, 0, 1, 1, 2, 0, 2, 2, 0, 0, 1, 0, 0, 0, 1, 1, 2, 2, 1, 1, 2, 0, 2, 0, 2, 0, 0, 1, 2, 2, 0, 1, 0, 1, 0, 0, 1, 0, 1, 0, 1, 0, 0, 1, 1, 0, 2, 2, 2, 1, 0, 0, 0, 1, 0, 0, 0, 0, 1, 1, 2, 0, 0, 2, 2, 2, 1, 2, 1, 2, 2, 2, 1, 0, 0, 0, 2, 2, 0, 0, 2, 1, 2, 1, 2, 1, 0, 2, 0, 2, 2, 1, 1, 0, 0, 2, 1, 2, 2, 2, 0, 2, 0, 1, 0, 1, 2, 2, 0, 2, 1, 1, 2, 1, 1, 1, 2, 0, 2, 0, 0, 0, 0, 0, 1, 0, 1, 2, 1, 1, 1, 0, 2, 2, 0, 0, 0, 2, 2, 0, 1, 0, 1, 1, 1, 0, 0, 1, 2, 1, 2]\n"
     ]
    },
    {
     "data": {
      "application/vnd.jupyter.widget-view+json": {
       "model_id": "6b737863db804132af630475c73e21a4",
       "version_major": 2,
       "version_minor": 0
      },
      "text/plain": [
       "0it [00:00, ?it/s]"
      ]
     },
     "metadata": {},
     "output_type": "display_data"
    },
    {
     "data": {
      "application/vnd.jupyter.widget-view+json": {
       "model_id": "583cff48938247a08f0aa7a178a951ed",
       "version_major": 2,
       "version_minor": 0
      },
      "text/plain": [
       "0it [00:00, ?it/s]"
      ]
     },
     "metadata": {},
     "output_type": "display_data"
    },
    {
     "name": "stdout",
     "output_type": "stream",
     "text": [
      "[2, 0, 1, 1, 0, 1, 2, 0, 1, 0, 0, 0, 0, 2, 0, 0, 0, 2, 1, 0, 1, 0, 0, 1, 1, 2, 2, 0, 0, 0, 2, 2, 2, 0, 0, 1, 2, 1, 2, 2, 2, 0, 1, 1, 2, 0, 2, 2, 0, 0, 1, 0, 0, 0, 1, 1, 2, 2, 1, 1, 2, 0, 2, 0, 2, 0, 0, 1, 2, 2, 0, 1, 0, 1, 0, 0, 1, 0, 1, 0, 1, 0, 0, 1, 1, 0, 2, 2, 2, 1, 0, 0, 0, 1, 0, 0, 0, 0, 1, 1, 2, 0, 0, 2, 2, 2, 1, 2, 1, 2, 2, 2, 1, 0, 0, 0, 2, 2, 0, 0, 2, 1, 2, 1, 2, 1, 0, 2, 0, 2, 2, 1, 1, 0, 0, 2, 1, 2, 2, 2, 0, 2, 0, 1, 0, 1, 2, 2, 0, 2, 1, 1, 2, 1, 1, 1, 2, 0, 2, 0, 0, 0, 0, 0, 1, 0, 1, 2, 1, 1, 1, 0, 2, 2, 0, 0, 0, 2, 2, 0, 1, 0, 1, 1, 1, 0, 0, 1, 2, 1, 2, 1]\n"
     ]
    },
    {
     "data": {
      "application/vnd.jupyter.widget-view+json": {
       "model_id": "740988ae65b543408141a1df89d9ea47",
       "version_major": 2,
       "version_minor": 0
      },
      "text/plain": [
       "0it [00:00, ?it/s]"
      ]
     },
     "metadata": {},
     "output_type": "display_data"
    },
    {
     "data": {
      "application/vnd.jupyter.widget-view+json": {
       "model_id": "2b4460b540be4542924e70b21ebf8fb9",
       "version_major": 2,
       "version_minor": 0
      },
      "text/plain": [
       "0it [00:00, ?it/s]"
      ]
     },
     "metadata": {},
     "output_type": "display_data"
    },
    {
     "name": "stdout",
     "output_type": "stream",
     "text": [
      "[2, 0, 1, 1, 0, 1, 2, 0, 1, 0, 0, 0, 0, 2, 0, 0, 0, 2, 1, 0, 1, 0, 0, 1, 1, 2, 2, 0, 0, 0, 2, 2, 2, 0, 0, 1, 2, 1, 2, 2, 2, 0, 1, 1, 2, 0, 2, 2, 0, 0, 1, 0, 0, 0, 1, 1, 2, 2, 1, 1, 2, 0, 2, 0, 2, 0, 0, 1, 2, 2, 0, 1, 0, 1, 0, 0, 1, 0, 1, 0, 1, 0, 0, 1, 1, 0, 2, 2, 2, 1, 0, 0, 0, 1, 0, 0, 0, 0, 1, 1, 2, 0, 0, 2, 2, 2, 1, 2, 1, 2, 2, 2, 1, 0, 0, 0, 2, 2, 0, 0, 2, 1, 2, 1, 2, 1, 0, 2, 0, 2, 2, 1, 1, 0, 0, 2, 1, 2, 2, 2, 0, 2, 0, 1, 0, 1, 2, 2, 0, 2, 1, 1, 2, 1, 1, 1, 2, 0, 2, 0, 0, 0, 0, 0, 1, 0, 1, 2, 1, 1, 1, 0, 2, 2, 0, 0, 0, 2, 2, 0, 1, 0, 1, 1, 1, 0, 0, 1, 2, 1, 2, 1, 2]\n"
     ]
    },
    {
     "data": {
      "application/vnd.jupyter.widget-view+json": {
       "model_id": "14d20543d05a4c4d996c67567afeef24",
       "version_major": 2,
       "version_minor": 0
      },
      "text/plain": [
       "0it [00:00, ?it/s]"
      ]
     },
     "metadata": {},
     "output_type": "display_data"
    },
    {
     "data": {
      "application/vnd.jupyter.widget-view+json": {
       "model_id": "24b37415790e4aa294ed5d465bcd7d53",
       "version_major": 2,
       "version_minor": 0
      },
      "text/plain": [
       "0it [00:00, ?it/s]"
      ]
     },
     "metadata": {},
     "output_type": "display_data"
    },
    {
     "name": "stdout",
     "output_type": "stream",
     "text": [
      "[2, 0, 1, 1, 0, 1, 2, 0, 1, 0, 0, 0, 0, 2, 0, 0, 0, 2, 1, 0, 1, 0, 0, 1, 1, 2, 2, 0, 0, 0, 2, 2, 2, 0, 0, 1, 2, 1, 2, 2, 2, 0, 1, 1, 2, 0, 2, 2, 0, 0, 1, 0, 0, 0, 1, 1, 2, 2, 1, 1, 2, 0, 2, 0, 2, 0, 0, 1, 2, 2, 0, 1, 0, 1, 0, 0, 1, 0, 1, 0, 1, 0, 0, 1, 1, 0, 2, 2, 2, 1, 0, 0, 0, 1, 0, 0, 0, 0, 1, 1, 2, 0, 0, 2, 2, 2, 1, 2, 1, 2, 2, 2, 1, 0, 0, 0, 2, 2, 0, 0, 2, 1, 2, 1, 2, 1, 0, 2, 0, 2, 2, 1, 1, 0, 0, 2, 1, 2, 2, 2, 0, 2, 0, 1, 0, 1, 2, 2, 0, 2, 1, 1, 2, 1, 1, 1, 2, 0, 2, 0, 0, 0, 0, 0, 1, 0, 1, 2, 1, 1, 1, 0, 2, 2, 0, 0, 0, 2, 2, 0, 1, 0, 1, 1, 1, 0, 0, 1, 2, 1, 2, 1, 2, 0]\n"
     ]
    },
    {
     "data": {
      "application/vnd.jupyter.widget-view+json": {
       "model_id": "f2b54bde6e54485990e6723e26bd5c86",
       "version_major": 2,
       "version_minor": 0
      },
      "text/plain": [
       "0it [00:00, ?it/s]"
      ]
     },
     "metadata": {},
     "output_type": "display_data"
    },
    {
     "data": {
      "application/vnd.jupyter.widget-view+json": {
       "model_id": "ddd48af8a0554577a116138d48e31696",
       "version_major": 2,
       "version_minor": 0
      },
      "text/plain": [
       "0it [00:00, ?it/s]"
      ]
     },
     "metadata": {},
     "output_type": "display_data"
    },
    {
     "name": "stdout",
     "output_type": "stream",
     "text": [
      "[2, 0, 1, 1, 0, 1, 2, 0, 1, 0, 0, 0, 0, 2, 0, 0, 0, 2, 1, 0, 1, 0, 0, 1, 1, 2, 2, 0, 0, 0, 2, 2, 2, 0, 0, 1, 2, 1, 2, 2, 2, 0, 1, 1, 2, 0, 2, 2, 0, 0, 1, 0, 0, 0, 1, 1, 2, 2, 1, 1, 2, 0, 2, 0, 2, 0, 0, 1, 2, 2, 0, 1, 0, 1, 0, 0, 1, 0, 1, 0, 1, 0, 0, 1, 1, 0, 2, 2, 2, 1, 0, 0, 0, 1, 0, 0, 0, 0, 1, 1, 2, 0, 0, 2, 2, 2, 1, 2, 1, 2, 2, 2, 1, 0, 0, 0, 2, 2, 0, 0, 2, 1, 2, 1, 2, 1, 0, 2, 0, 2, 2, 1, 1, 0, 0, 2, 1, 2, 2, 2, 0, 2, 0, 1, 0, 1, 2, 2, 0, 2, 1, 1, 2, 1, 1, 1, 2, 0, 2, 0, 0, 0, 0, 0, 1, 0, 1, 2, 1, 1, 1, 0, 2, 2, 0, 0, 0, 2, 2, 0, 1, 0, 1, 1, 1, 0, 0, 1, 2, 1, 2, 1, 2, 0, 1]\n"
     ]
    },
    {
     "data": {
      "application/vnd.jupyter.widget-view+json": {
       "model_id": "f0a7a47602024ec486e233b57d1bcb2d",
       "version_major": 2,
       "version_minor": 0
      },
      "text/plain": [
       "0it [00:00, ?it/s]"
      ]
     },
     "metadata": {},
     "output_type": "display_data"
    },
    {
     "data": {
      "application/vnd.jupyter.widget-view+json": {
       "model_id": "da948fb0919e4bd08d6fe3e2f85c1af3",
       "version_major": 2,
       "version_minor": 0
      },
      "text/plain": [
       "0it [00:00, ?it/s]"
      ]
     },
     "metadata": {},
     "output_type": "display_data"
    },
    {
     "name": "stdout",
     "output_type": "stream",
     "text": [
      "[2, 0, 1, 1, 0, 1, 2, 0, 1, 0, 0, 0, 0, 2, 0, 0, 0, 2, 1, 0, 1, 0, 0, 1, 1, 2, 2, 0, 0, 0, 2, 2, 2, 0, 0, 1, 2, 1, 2, 2, 2, 0, 1, 1, 2, 0, 2, 2, 0, 0, 1, 0, 0, 0, 1, 1, 2, 2, 1, 1, 2, 0, 2, 0, 2, 0, 0, 1, 2, 2, 0, 1, 0, 1, 0, 0, 1, 0, 1, 0, 1, 0, 0, 1, 1, 0, 2, 2, 2, 1, 0, 0, 0, 1, 0, 0, 0, 0, 1, 1, 2, 0, 0, 2, 2, 2, 1, 2, 1, 2, 2, 2, 1, 0, 0, 0, 2, 2, 0, 0, 2, 1, 2, 1, 2, 1, 0, 2, 0, 2, 2, 1, 1, 0, 0, 2, 1, 2, 2, 2, 0, 2, 0, 1, 0, 1, 2, 2, 0, 2, 1, 1, 2, 1, 1, 1, 2, 0, 2, 0, 0, 0, 0, 0, 1, 0, 1, 2, 1, 1, 1, 0, 2, 2, 0, 0, 0, 2, 2, 0, 1, 0, 1, 1, 1, 0, 0, 1, 2, 1, 2, 1, 2, 0, 1, 1]\n"
     ]
    },
    {
     "data": {
      "application/vnd.jupyter.widget-view+json": {
       "model_id": "a291a1943a8d47c084687af03bb13b7a",
       "version_major": 2,
       "version_minor": 0
      },
      "text/plain": [
       "0it [00:00, ?it/s]"
      ]
     },
     "metadata": {},
     "output_type": "display_data"
    },
    {
     "data": {
      "application/vnd.jupyter.widget-view+json": {
       "model_id": "eb7e943dd0b2489f9c7248b4f6a893f7",
       "version_major": 2,
       "version_minor": 0
      },
      "text/plain": [
       "0it [00:00, ?it/s]"
      ]
     },
     "metadata": {},
     "output_type": "display_data"
    },
    {
     "name": "stdout",
     "output_type": "stream",
     "text": [
      "[2, 0, 1, 1, 0, 1, 2, 0, 1, 0, 0, 0, 0, 2, 0, 0, 0, 2, 1, 0, 1, 0, 0, 1, 1, 2, 2, 0, 0, 0, 2, 2, 2, 0, 0, 1, 2, 1, 2, 2, 2, 0, 1, 1, 2, 0, 2, 2, 0, 0, 1, 0, 0, 0, 1, 1, 2, 2, 1, 1, 2, 0, 2, 0, 2, 0, 0, 1, 2, 2, 0, 1, 0, 1, 0, 0, 1, 0, 1, 0, 1, 0, 0, 1, 1, 0, 2, 2, 2, 1, 0, 0, 0, 1, 0, 0, 0, 0, 1, 1, 2, 0, 0, 2, 2, 2, 1, 2, 1, 2, 2, 2, 1, 0, 0, 0, 2, 2, 0, 0, 2, 1, 2, 1, 2, 1, 0, 2, 0, 2, 2, 1, 1, 0, 0, 2, 1, 2, 2, 2, 0, 2, 0, 1, 0, 1, 2, 2, 0, 2, 1, 1, 2, 1, 1, 1, 2, 0, 2, 0, 0, 0, 0, 0, 1, 0, 1, 2, 1, 1, 1, 0, 2, 2, 0, 0, 0, 2, 2, 0, 1, 0, 1, 1, 1, 0, 0, 1, 2, 1, 2, 1, 2, 0, 1, 1, 1]\n"
     ]
    },
    {
     "data": {
      "application/vnd.jupyter.widget-view+json": {
       "model_id": "400128c71381403fb12202a26ee1e47b",
       "version_major": 2,
       "version_minor": 0
      },
      "text/plain": [
       "0it [00:00, ?it/s]"
      ]
     },
     "metadata": {},
     "output_type": "display_data"
    },
    {
     "data": {
      "application/vnd.jupyter.widget-view+json": {
       "model_id": "77466f2a305a4b75b0831c52d3d04fd2",
       "version_major": 2,
       "version_minor": 0
      },
      "text/plain": [
       "0it [00:00, ?it/s]"
      ]
     },
     "metadata": {},
     "output_type": "display_data"
    },
    {
     "name": "stdout",
     "output_type": "stream",
     "text": [
      "[2, 0, 1, 1, 0, 1, 2, 0, 1, 0, 0, 0, 0, 2, 0, 0, 0, 2, 1, 0, 1, 0, 0, 1, 1, 2, 2, 0, 0, 0, 2, 2, 2, 0, 0, 1, 2, 1, 2, 2, 2, 0, 1, 1, 2, 0, 2, 2, 0, 0, 1, 0, 0, 0, 1, 1, 2, 2, 1, 1, 2, 0, 2, 0, 2, 0, 0, 1, 2, 2, 0, 1, 0, 1, 0, 0, 1, 0, 1, 0, 1, 0, 0, 1, 1, 0, 2, 2, 2, 1, 0, 0, 0, 1, 0, 0, 0, 0, 1, 1, 2, 0, 0, 2, 2, 2, 1, 2, 1, 2, 2, 2, 1, 0, 0, 0, 2, 2, 0, 0, 2, 1, 2, 1, 2, 1, 0, 2, 0, 2, 2, 1, 1, 0, 0, 2, 1, 2, 2, 2, 0, 2, 0, 1, 0, 1, 2, 2, 0, 2, 1, 1, 2, 1, 1, 1, 2, 0, 2, 0, 0, 0, 0, 0, 1, 0, 1, 2, 1, 1, 1, 0, 2, 2, 0, 0, 0, 2, 2, 0, 1, 0, 1, 1, 1, 0, 0, 1, 2, 1, 2, 1, 2, 0, 1, 1, 1, 1]\n"
     ]
    },
    {
     "data": {
      "application/vnd.jupyter.widget-view+json": {
       "model_id": "1c6f929036334c04af7be45a13bb959f",
       "version_major": 2,
       "version_minor": 0
      },
      "text/plain": [
       "0it [00:00, ?it/s]"
      ]
     },
     "metadata": {},
     "output_type": "display_data"
    },
    {
     "data": {
      "application/vnd.jupyter.widget-view+json": {
       "model_id": "bc3d25328725448c8f1e010c49842448",
       "version_major": 2,
       "version_minor": 0
      },
      "text/plain": [
       "0it [00:00, ?it/s]"
      ]
     },
     "metadata": {},
     "output_type": "display_data"
    },
    {
     "name": "stdout",
     "output_type": "stream",
     "text": [
      "[2, 0, 1, 1, 0, 1, 2, 0, 1, 0, 0, 0, 0, 2, 0, 0, 0, 2, 1, 0, 1, 0, 0, 1, 1, 2, 2, 0, 0, 0, 2, 2, 2, 0, 0, 1, 2, 1, 2, 2, 2, 0, 1, 1, 2, 0, 2, 2, 0, 0, 1, 0, 0, 0, 1, 1, 2, 2, 1, 1, 2, 0, 2, 0, 2, 0, 0, 1, 2, 2, 0, 1, 0, 1, 0, 0, 1, 0, 1, 0, 1, 0, 0, 1, 1, 0, 2, 2, 2, 1, 0, 0, 0, 1, 0, 0, 0, 0, 1, 1, 2, 0, 0, 2, 2, 2, 1, 2, 1, 2, 2, 2, 1, 0, 0, 0, 2, 2, 0, 0, 2, 1, 2, 1, 2, 1, 0, 2, 0, 2, 2, 1, 1, 0, 0, 2, 1, 2, 2, 2, 0, 2, 0, 1, 0, 1, 2, 2, 0, 2, 1, 1, 2, 1, 1, 1, 2, 0, 2, 0, 0, 0, 0, 0, 1, 0, 1, 2, 1, 1, 1, 0, 2, 2, 0, 0, 0, 2, 2, 0, 1, 0, 1, 1, 1, 0, 0, 1, 2, 1, 2, 1, 2, 0, 1, 1, 1, 1, 1]\n"
     ]
    },
    {
     "data": {
      "application/vnd.jupyter.widget-view+json": {
       "model_id": "d1f991144ce042d68bf99446d8827390",
       "version_major": 2,
       "version_minor": 0
      },
      "text/plain": [
       "0it [00:00, ?it/s]"
      ]
     },
     "metadata": {},
     "output_type": "display_data"
    },
    {
     "data": {
      "application/vnd.jupyter.widget-view+json": {
       "model_id": "4cfd500b06dd4a139705f501c668cf3a",
       "version_major": 2,
       "version_minor": 0
      },
      "text/plain": [
       "0it [00:00, ?it/s]"
      ]
     },
     "metadata": {},
     "output_type": "display_data"
    },
    {
     "name": "stdout",
     "output_type": "stream",
     "text": [
      "[2, 0, 1, 1, 0, 1, 2, 0, 1, 0, 0, 0, 0, 2, 0, 0, 0, 2, 1, 0, 1, 0, 0, 1, 1, 2, 2, 0, 0, 0, 2, 2, 2, 0, 0, 1, 2, 1, 2, 2, 2, 0, 1, 1, 2, 0, 2, 2, 0, 0, 1, 0, 0, 0, 1, 1, 2, 2, 1, 1, 2, 0, 2, 0, 2, 0, 0, 1, 2, 2, 0, 1, 0, 1, 0, 0, 1, 0, 1, 0, 1, 0, 0, 1, 1, 0, 2, 2, 2, 1, 0, 0, 0, 1, 0, 0, 0, 0, 1, 1, 2, 0, 0, 2, 2, 2, 1, 2, 1, 2, 2, 2, 1, 0, 0, 0, 2, 2, 0, 0, 2, 1, 2, 1, 2, 1, 0, 2, 0, 2, 2, 1, 1, 0, 0, 2, 1, 2, 2, 2, 0, 2, 0, 1, 0, 1, 2, 2, 0, 2, 1, 1, 2, 1, 1, 1, 2, 0, 2, 0, 0, 0, 0, 0, 1, 0, 1, 2, 1, 1, 1, 0, 2, 2, 0, 0, 0, 2, 2, 0, 1, 0, 1, 1, 1, 0, 0, 1, 2, 1, 2, 1, 2, 0, 1, 1, 1, 1, 1, 2]\n"
     ]
    },
    {
     "data": {
      "application/vnd.jupyter.widget-view+json": {
       "model_id": "828e00fd87454d1e9fa1c6253e62a0f9",
       "version_major": 2,
       "version_minor": 0
      },
      "text/plain": [
       "0it [00:00, ?it/s]"
      ]
     },
     "metadata": {},
     "output_type": "display_data"
    },
    {
     "data": {
      "application/vnd.jupyter.widget-view+json": {
       "model_id": "e9cd166f2ba04261a9172a35b4fcc74b",
       "version_major": 2,
       "version_minor": 0
      },
      "text/plain": [
       "0it [00:00, ?it/s]"
      ]
     },
     "metadata": {},
     "output_type": "display_data"
    },
    {
     "name": "stdout",
     "output_type": "stream",
     "text": [
      "[2, 0, 1, 1, 0, 1, 2, 0, 1, 0, 0, 0, 0, 2, 0, 0, 0, 2, 1, 0, 1, 0, 0, 1, 1, 2, 2, 0, 0, 0, 2, 2, 2, 0, 0, 1, 2, 1, 2, 2, 2, 0, 1, 1, 2, 0, 2, 2, 0, 0, 1, 0, 0, 0, 1, 1, 2, 2, 1, 1, 2, 0, 2, 0, 2, 0, 0, 1, 2, 2, 0, 1, 0, 1, 0, 0, 1, 0, 1, 0, 1, 0, 0, 1, 1, 0, 2, 2, 2, 1, 0, 0, 0, 1, 0, 0, 0, 0, 1, 1, 2, 0, 0, 2, 2, 2, 1, 2, 1, 2, 2, 2, 1, 0, 0, 0, 2, 2, 0, 0, 2, 1, 2, 1, 2, 1, 0, 2, 0, 2, 2, 1, 1, 0, 0, 2, 1, 2, 2, 2, 0, 2, 0, 1, 0, 1, 2, 2, 0, 2, 1, 1, 2, 1, 1, 1, 2, 0, 2, 0, 0, 0, 0, 0, 1, 0, 1, 2, 1, 1, 1, 0, 2, 2, 0, 0, 0, 2, 2, 0, 1, 0, 1, 1, 1, 0, 0, 1, 2, 1, 2, 1, 2, 0, 1, 1, 1, 1, 1, 2, 2]\n"
     ]
    },
    {
     "data": {
      "application/vnd.jupyter.widget-view+json": {
       "model_id": "e5ec7a8b2a9e4d9bb1345fc05220139a",
       "version_major": 2,
       "version_minor": 0
      },
      "text/plain": [
       "0it [00:00, ?it/s]"
      ]
     },
     "metadata": {},
     "output_type": "display_data"
    },
    {
     "data": {
      "application/vnd.jupyter.widget-view+json": {
       "model_id": "b3fab2037b224b02ae73ba0ccfedb6f0",
       "version_major": 2,
       "version_minor": 0
      },
      "text/plain": [
       "0it [00:00, ?it/s]"
      ]
     },
     "metadata": {},
     "output_type": "display_data"
    },
    {
     "name": "stdout",
     "output_type": "stream",
     "text": [
      "[2, 0, 1, 1, 0, 1, 2, 0, 1, 0, 0, 0, 0, 2, 0, 0, 0, 2, 1, 0, 1, 0, 0, 1, 1, 2, 2, 0, 0, 0, 2, 2, 2, 0, 0, 1, 2, 1, 2, 2, 2, 0, 1, 1, 2, 0, 2, 2, 0, 0, 1, 0, 0, 0, 1, 1, 2, 2, 1, 1, 2, 0, 2, 0, 2, 0, 0, 1, 2, 2, 0, 1, 0, 1, 0, 0, 1, 0, 1, 0, 1, 0, 0, 1, 1, 0, 2, 2, 2, 1, 0, 0, 0, 1, 0, 0, 0, 0, 1, 1, 2, 0, 0, 2, 2, 2, 1, 2, 1, 2, 2, 2, 1, 0, 0, 0, 2, 2, 0, 0, 2, 1, 2, 1, 2, 1, 0, 2, 0, 2, 2, 1, 1, 0, 0, 2, 1, 2, 2, 2, 0, 2, 0, 1, 0, 1, 2, 2, 0, 2, 1, 1, 2, 1, 1, 1, 2, 0, 2, 0, 0, 0, 0, 0, 1, 0, 1, 2, 1, 1, 1, 0, 2, 2, 0, 0, 0, 2, 2, 0, 1, 0, 1, 1, 1, 0, 0, 1, 2, 1, 2, 1, 2, 0, 1, 1, 1, 1, 1, 2, 2, 1]\n"
     ]
    },
    {
     "data": {
      "application/vnd.jupyter.widget-view+json": {
       "model_id": "db5a1706c63f4eb7846843320e8d5969",
       "version_major": 2,
       "version_minor": 0
      },
      "text/plain": [
       "0it [00:00, ?it/s]"
      ]
     },
     "metadata": {},
     "output_type": "display_data"
    },
    {
     "data": {
      "application/vnd.jupyter.widget-view+json": {
       "model_id": "12cca25227e34f26894879df031c8cf6",
       "version_major": 2,
       "version_minor": 0
      },
      "text/plain": [
       "0it [00:00, ?it/s]"
      ]
     },
     "metadata": {},
     "output_type": "display_data"
    },
    {
     "name": "stdout",
     "output_type": "stream",
     "text": [
      "[2, 0, 1, 1, 0, 1, 2, 0, 1, 0, 0, 0, 0, 2, 0, 0, 0, 2, 1, 0, 1, 0, 0, 1, 1, 2, 2, 0, 0, 0, 2, 2, 2, 0, 0, 1, 2, 1, 2, 2, 2, 0, 1, 1, 2, 0, 2, 2, 0, 0, 1, 0, 0, 0, 1, 1, 2, 2, 1, 1, 2, 0, 2, 0, 2, 0, 0, 1, 2, 2, 0, 1, 0, 1, 0, 0, 1, 0, 1, 0, 1, 0, 0, 1, 1, 0, 2, 2, 2, 1, 0, 0, 0, 1, 0, 0, 0, 0, 1, 1, 2, 0, 0, 2, 2, 2, 1, 2, 1, 2, 2, 2, 1, 0, 0, 0, 2, 2, 0, 0, 2, 1, 2, 1, 2, 1, 0, 2, 0, 2, 2, 1, 1, 0, 0, 2, 1, 2, 2, 2, 0, 2, 0, 1, 0, 1, 2, 2, 0, 2, 1, 1, 2, 1, 1, 1, 2, 0, 2, 0, 0, 0, 0, 0, 1, 0, 1, 2, 1, 1, 1, 0, 2, 2, 0, 0, 0, 2, 2, 0, 1, 0, 1, 1, 1, 0, 0, 1, 2, 1, 2, 1, 2, 0, 1, 1, 1, 1, 1, 2, 2, 1, 1]\n"
     ]
    },
    {
     "data": {
      "application/vnd.jupyter.widget-view+json": {
       "model_id": "fa9a709e79844b959b63ee5bc3fd922b",
       "version_major": 2,
       "version_minor": 0
      },
      "text/plain": [
       "0it [00:00, ?it/s]"
      ]
     },
     "metadata": {},
     "output_type": "display_data"
    },
    {
     "data": {
      "application/vnd.jupyter.widget-view+json": {
       "model_id": "32a5ed451345426e81905ef2dab1ec39",
       "version_major": 2,
       "version_minor": 0
      },
      "text/plain": [
       "0it [00:00, ?it/s]"
      ]
     },
     "metadata": {},
     "output_type": "display_data"
    },
    {
     "name": "stdout",
     "output_type": "stream",
     "text": [
      "[2, 0, 1, 1, 0, 1, 2, 0, 1, 0, 0, 0, 0, 2, 0, 0, 0, 2, 1, 0, 1, 0, 0, 1, 1, 2, 2, 0, 0, 0, 2, 2, 2, 0, 0, 1, 2, 1, 2, 2, 2, 0, 1, 1, 2, 0, 2, 2, 0, 0, 1, 0, 0, 0, 1, 1, 2, 2, 1, 1, 2, 0, 2, 0, 2, 0, 0, 1, 2, 2, 0, 1, 0, 1, 0, 0, 1, 0, 1, 0, 1, 0, 0, 1, 1, 0, 2, 2, 2, 1, 0, 0, 0, 1, 0, 0, 0, 0, 1, 1, 2, 0, 0, 2, 2, 2, 1, 2, 1, 2, 2, 2, 1, 0, 0, 0, 2, 2, 0, 0, 2, 1, 2, 1, 2, 1, 0, 2, 0, 2, 2, 1, 1, 0, 0, 2, 1, 2, 2, 2, 0, 2, 0, 1, 0, 1, 2, 2, 0, 2, 1, 1, 2, 1, 1, 1, 2, 0, 2, 0, 0, 0, 0, 0, 1, 0, 1, 2, 1, 1, 1, 0, 2, 2, 0, 0, 0, 2, 2, 0, 1, 0, 1, 1, 1, 0, 0, 1, 2, 1, 2, 1, 2, 0, 1, 1, 1, 1, 1, 2, 2, 1, 1, 0]\n"
     ]
    },
    {
     "data": {
      "application/vnd.jupyter.widget-view+json": {
       "model_id": "d0832eecf6014c1bbd33fda130d41e6a",
       "version_major": 2,
       "version_minor": 0
      },
      "text/plain": [
       "0it [00:00, ?it/s]"
      ]
     },
     "metadata": {},
     "output_type": "display_data"
    },
    {
     "data": {
      "application/vnd.jupyter.widget-view+json": {
       "model_id": "5a26cae21e694423b4965cfb6d4931c4",
       "version_major": 2,
       "version_minor": 0
      },
      "text/plain": [
       "0it [00:00, ?it/s]"
      ]
     },
     "metadata": {},
     "output_type": "display_data"
    },
    {
     "name": "stdout",
     "output_type": "stream",
     "text": [
      "[2, 0, 1, 1, 0, 1, 2, 0, 1, 0, 0, 0, 0, 2, 0, 0, 0, 2, 1, 0, 1, 0, 0, 1, 1, 2, 2, 0, 0, 0, 2, 2, 2, 0, 0, 1, 2, 1, 2, 2, 2, 0, 1, 1, 2, 0, 2, 2, 0, 0, 1, 0, 0, 0, 1, 1, 2, 2, 1, 1, 2, 0, 2, 0, 2, 0, 0, 1, 2, 2, 0, 1, 0, 1, 0, 0, 1, 0, 1, 0, 1, 0, 0, 1, 1, 0, 2, 2, 2, 1, 0, 0, 0, 1, 0, 0, 0, 0, 1, 1, 2, 0, 0, 2, 2, 2, 1, 2, 1, 2, 2, 2, 1, 0, 0, 0, 2, 2, 0, 0, 2, 1, 2, 1, 2, 1, 0, 2, 0, 2, 2, 1, 1, 0, 0, 2, 1, 2, 2, 2, 0, 2, 0, 1, 0, 1, 2, 2, 0, 2, 1, 1, 2, 1, 1, 1, 2, 0, 2, 0, 0, 0, 0, 0, 1, 0, 1, 2, 1, 1, 1, 0, 2, 2, 0, 0, 0, 2, 2, 0, 1, 0, 1, 1, 1, 0, 0, 1, 2, 1, 2, 1, 2, 0, 1, 1, 1, 1, 1, 2, 2, 1, 1, 0, 1]\n"
     ]
    },
    {
     "data": {
      "application/vnd.jupyter.widget-view+json": {
       "model_id": "1606e041b89449b9b8447b0a4d2bc3fb",
       "version_major": 2,
       "version_minor": 0
      },
      "text/plain": [
       "0it [00:00, ?it/s]"
      ]
     },
     "metadata": {},
     "output_type": "display_data"
    },
    {
     "data": {
      "application/vnd.jupyter.widget-view+json": {
       "model_id": "4443db3672654caab26477568417ca60",
       "version_major": 2,
       "version_minor": 0
      },
      "text/plain": [
       "0it [00:00, ?it/s]"
      ]
     },
     "metadata": {},
     "output_type": "display_data"
    },
    {
     "name": "stdout",
     "output_type": "stream",
     "text": [
      "[2, 0, 1, 1, 0, 1, 2, 0, 1, 0, 0, 0, 0, 2, 0, 0, 0, 2, 1, 0, 1, 0, 0, 1, 1, 2, 2, 0, 0, 0, 2, 2, 2, 0, 0, 1, 2, 1, 2, 2, 2, 0, 1, 1, 2, 0, 2, 2, 0, 0, 1, 0, 0, 0, 1, 1, 2, 2, 1, 1, 2, 0, 2, 0, 2, 0, 0, 1, 2, 2, 0, 1, 0, 1, 0, 0, 1, 0, 1, 0, 1, 0, 0, 1, 1, 0, 2, 2, 2, 1, 0, 0, 0, 1, 0, 0, 0, 0, 1, 1, 2, 0, 0, 2, 2, 2, 1, 2, 1, 2, 2, 2, 1, 0, 0, 0, 2, 2, 0, 0, 2, 1, 2, 1, 2, 1, 0, 2, 0, 2, 2, 1, 1, 0, 0, 2, 1, 2, 2, 2, 0, 2, 0, 1, 0, 1, 2, 2, 0, 2, 1, 1, 2, 1, 1, 1, 2, 0, 2, 0, 0, 0, 0, 0, 1, 0, 1, 2, 1, 1, 1, 0, 2, 2, 0, 0, 0, 2, 2, 0, 1, 0, 1, 1, 1, 0, 0, 1, 2, 1, 2, 1, 2, 0, 1, 1, 1, 1, 1, 2, 2, 1, 1, 0, 1, 2]\n"
     ]
    },
    {
     "data": {
      "application/vnd.jupyter.widget-view+json": {
       "model_id": "c7f2a75edaca4b60a9ac5ad68563e0c9",
       "version_major": 2,
       "version_minor": 0
      },
      "text/plain": [
       "0it [00:00, ?it/s]"
      ]
     },
     "metadata": {},
     "output_type": "display_data"
    },
    {
     "data": {
      "application/vnd.jupyter.widget-view+json": {
       "model_id": "f7b54adf46f9418fadff5db6f0278aae",
       "version_major": 2,
       "version_minor": 0
      },
      "text/plain": [
       "0it [00:00, ?it/s]"
      ]
     },
     "metadata": {},
     "output_type": "display_data"
    },
    {
     "name": "stdout",
     "output_type": "stream",
     "text": [
      "[2, 0, 1, 1, 0, 1, 2, 0, 1, 0, 0, 0, 0, 2, 0, 0, 0, 2, 1, 0, 1, 0, 0, 1, 1, 2, 2, 0, 0, 0, 2, 2, 2, 0, 0, 1, 2, 1, 2, 2, 2, 0, 1, 1, 2, 0, 2, 2, 0, 0, 1, 0, 0, 0, 1, 1, 2, 2, 1, 1, 2, 0, 2, 0, 2, 0, 0, 1, 2, 2, 0, 1, 0, 1, 0, 0, 1, 0, 1, 0, 1, 0, 0, 1, 1, 0, 2, 2, 2, 1, 0, 0, 0, 1, 0, 0, 0, 0, 1, 1, 2, 0, 0, 2, 2, 2, 1, 2, 1, 2, 2, 2, 1, 0, 0, 0, 2, 2, 0, 0, 2, 1, 2, 1, 2, 1, 0, 2, 0, 2, 2, 1, 1, 0, 0, 2, 1, 2, 2, 2, 0, 2, 0, 1, 0, 1, 2, 2, 0, 2, 1, 1, 2, 1, 1, 1, 2, 0, 2, 0, 0, 0, 0, 0, 1, 0, 1, 2, 1, 1, 1, 0, 2, 2, 0, 0, 0, 2, 2, 0, 1, 0, 1, 1, 1, 0, 0, 1, 2, 1, 2, 1, 2, 0, 1, 1, 1, 1, 1, 2, 2, 1, 1, 0, 1, 2, 2]\n"
     ]
    },
    {
     "data": {
      "application/vnd.jupyter.widget-view+json": {
       "model_id": "5ff6611d2a944b6eb59ee10b549f61bc",
       "version_major": 2,
       "version_minor": 0
      },
      "text/plain": [
       "0it [00:00, ?it/s]"
      ]
     },
     "metadata": {},
     "output_type": "display_data"
    },
    {
     "data": {
      "application/vnd.jupyter.widget-view+json": {
       "model_id": "bd3e7f32a2b44c2382715cd87e29f059",
       "version_major": 2,
       "version_minor": 0
      },
      "text/plain": [
       "0it [00:00, ?it/s]"
      ]
     },
     "metadata": {},
     "output_type": "display_data"
    },
    {
     "name": "stdout",
     "output_type": "stream",
     "text": [
      "[2, 0, 1, 1, 0, 1, 2, 0, 1, 0, 0, 0, 0, 2, 0, 0, 0, 2, 1, 0, 1, 0, 0, 1, 1, 2, 2, 0, 0, 0, 2, 2, 2, 0, 0, 1, 2, 1, 2, 2, 2, 0, 1, 1, 2, 0, 2, 2, 0, 0, 1, 0, 0, 0, 1, 1, 2, 2, 1, 1, 2, 0, 2, 0, 2, 0, 0, 1, 2, 2, 0, 1, 0, 1, 0, 0, 1, 0, 1, 0, 1, 0, 0, 1, 1, 0, 2, 2, 2, 1, 0, 0, 0, 1, 0, 0, 0, 0, 1, 1, 2, 0, 0, 2, 2, 2, 1, 2, 1, 2, 2, 2, 1, 0, 0, 0, 2, 2, 0, 0, 2, 1, 2, 1, 2, 1, 0, 2, 0, 2, 2, 1, 1, 0, 0, 2, 1, 2, 2, 2, 0, 2, 0, 1, 0, 1, 2, 2, 0, 2, 1, 1, 2, 1, 1, 1, 2, 0, 2, 0, 0, 0, 0, 0, 1, 0, 1, 2, 1, 1, 1, 0, 2, 2, 0, 0, 0, 2, 2, 0, 1, 0, 1, 1, 1, 0, 0, 1, 2, 1, 2, 1, 2, 0, 1, 1, 1, 1, 1, 2, 2, 1, 1, 0, 1, 2, 2, 2]\n"
     ]
    },
    {
     "data": {
      "application/vnd.jupyter.widget-view+json": {
       "model_id": "83faf60989ec4733b0263274b4e7ccfd",
       "version_major": 2,
       "version_minor": 0
      },
      "text/plain": [
       "0it [00:00, ?it/s]"
      ]
     },
     "metadata": {},
     "output_type": "display_data"
    },
    {
     "data": {
      "application/vnd.jupyter.widget-view+json": {
       "model_id": "f7b9c46fdf224eb9a3dc035322b2faa6",
       "version_major": 2,
       "version_minor": 0
      },
      "text/plain": [
       "0it [00:00, ?it/s]"
      ]
     },
     "metadata": {},
     "output_type": "display_data"
    },
    {
     "name": "stdout",
     "output_type": "stream",
     "text": [
      "[2, 0, 1, 1, 0, 1, 2, 0, 1, 0, 0, 0, 0, 2, 0, 0, 0, 2, 1, 0, 1, 0, 0, 1, 1, 2, 2, 0, 0, 0, 2, 2, 2, 0, 0, 1, 2, 1, 2, 2, 2, 0, 1, 1, 2, 0, 2, 2, 0, 0, 1, 0, 0, 0, 1, 1, 2, 2, 1, 1, 2, 0, 2, 0, 2, 0, 0, 1, 2, 2, 0, 1, 0, 1, 0, 0, 1, 0, 1, 0, 1, 0, 0, 1, 1, 0, 2, 2, 2, 1, 0, 0, 0, 1, 0, 0, 0, 0, 1, 1, 2, 0, 0, 2, 2, 2, 1, 2, 1, 2, 2, 2, 1, 0, 0, 0, 2, 2, 0, 0, 2, 1, 2, 1, 2, 1, 0, 2, 0, 2, 2, 1, 1, 0, 0, 2, 1, 2, 2, 2, 0, 2, 0, 1, 0, 1, 2, 2, 0, 2, 1, 1, 2, 1, 1, 1, 2, 0, 2, 0, 0, 0, 0, 0, 1, 0, 1, 2, 1, 1, 1, 0, 2, 2, 0, 0, 0, 2, 2, 0, 1, 0, 1, 1, 1, 0, 0, 1, 2, 1, 2, 1, 2, 0, 1, 1, 1, 1, 1, 2, 2, 1, 1, 0, 1, 2, 2, 2, 2]\n"
     ]
    },
    {
     "data": {
      "application/vnd.jupyter.widget-view+json": {
       "model_id": "6734fb421de34e07a6f4dd8526e1af30",
       "version_major": 2,
       "version_minor": 0
      },
      "text/plain": [
       "0it [00:00, ?it/s]"
      ]
     },
     "metadata": {},
     "output_type": "display_data"
    },
    {
     "data": {
      "application/vnd.jupyter.widget-view+json": {
       "model_id": "de663d9007ee4f1ea2687513323024a6",
       "version_major": 2,
       "version_minor": 0
      },
      "text/plain": [
       "0it [00:00, ?it/s]"
      ]
     },
     "metadata": {},
     "output_type": "display_data"
    },
    {
     "name": "stdout",
     "output_type": "stream",
     "text": [
      "[2, 0, 1, 1, 0, 1, 2, 0, 1, 0, 0, 0, 0, 2, 0, 0, 0, 2, 1, 0, 1, 0, 0, 1, 1, 2, 2, 0, 0, 0, 2, 2, 2, 0, 0, 1, 2, 1, 2, 2, 2, 0, 1, 1, 2, 0, 2, 2, 0, 0, 1, 0, 0, 0, 1, 1, 2, 2, 1, 1, 2, 0, 2, 0, 2, 0, 0, 1, 2, 2, 0, 1, 0, 1, 0, 0, 1, 0, 1, 0, 1, 0, 0, 1, 1, 0, 2, 2, 2, 1, 0, 0, 0, 1, 0, 0, 0, 0, 1, 1, 2, 0, 0, 2, 2, 2, 1, 2, 1, 2, 2, 2, 1, 0, 0, 0, 2, 2, 0, 0, 2, 1, 2, 1, 2, 1, 0, 2, 0, 2, 2, 1, 1, 0, 0, 2, 1, 2, 2, 2, 0, 2, 0, 1, 0, 1, 2, 2, 0, 2, 1, 1, 2, 1, 1, 1, 2, 0, 2, 0, 0, 0, 0, 0, 1, 0, 1, 2, 1, 1, 1, 0, 2, 2, 0, 0, 0, 2, 2, 0, 1, 0, 1, 1, 1, 0, 0, 1, 2, 1, 2, 1, 2, 0, 1, 1, 1, 1, 1, 2, 2, 1, 1, 0, 1, 2, 2, 2, 2, 0]\n"
     ]
    },
    {
     "data": {
      "application/vnd.jupyter.widget-view+json": {
       "model_id": "a6ff3b49e4cd47ebb8297a0634468665",
       "version_major": 2,
       "version_minor": 0
      },
      "text/plain": [
       "0it [00:00, ?it/s]"
      ]
     },
     "metadata": {},
     "output_type": "display_data"
    },
    {
     "data": {
      "application/vnd.jupyter.widget-view+json": {
       "model_id": "cf002b5b054440cc9066ade401bf5221",
       "version_major": 2,
       "version_minor": 0
      },
      "text/plain": [
       "0it [00:00, ?it/s]"
      ]
     },
     "metadata": {},
     "output_type": "display_data"
    },
    {
     "name": "stdout",
     "output_type": "stream",
     "text": [
      "[2, 0, 1, 1, 0, 1, 2, 0, 1, 0, 0, 0, 0, 2, 0, 0, 0, 2, 1, 0, 1, 0, 0, 1, 1, 2, 2, 0, 0, 0, 2, 2, 2, 0, 0, 1, 2, 1, 2, 2, 2, 0, 1, 1, 2, 0, 2, 2, 0, 0, 1, 0, 0, 0, 1, 1, 2, 2, 1, 1, 2, 0, 2, 0, 2, 0, 0, 1, 2, 2, 0, 1, 0, 1, 0, 0, 1, 0, 1, 0, 1, 0, 0, 1, 1, 0, 2, 2, 2, 1, 0, 0, 0, 1, 0, 0, 0, 0, 1, 1, 2, 0, 0, 2, 2, 2, 1, 2, 1, 2, 2, 2, 1, 0, 0, 0, 2, 2, 0, 0, 2, 1, 2, 1, 2, 1, 0, 2, 0, 2, 2, 1, 1, 0, 0, 2, 1, 2, 2, 2, 0, 2, 0, 1, 0, 1, 2, 2, 0, 2, 1, 1, 2, 1, 1, 1, 2, 0, 2, 0, 0, 0, 0, 0, 1, 0, 1, 2, 1, 1, 1, 0, 2, 2, 0, 0, 0, 2, 2, 0, 1, 0, 1, 1, 1, 0, 0, 1, 2, 1, 2, 1, 2, 0, 1, 1, 1, 1, 1, 2, 2, 1, 1, 0, 1, 2, 2, 2, 2, 0, 1]\n"
     ]
    },
    {
     "data": {
      "application/vnd.jupyter.widget-view+json": {
       "model_id": "6dfd4c5b1b0f419890db8852561aa87f",
       "version_major": 2,
       "version_minor": 0
      },
      "text/plain": [
       "0it [00:00, ?it/s]"
      ]
     },
     "metadata": {},
     "output_type": "display_data"
    },
    {
     "data": {
      "application/vnd.jupyter.widget-view+json": {
       "model_id": "ec79421a9e7244fcaf601af35af9e9f0",
       "version_major": 2,
       "version_minor": 0
      },
      "text/plain": [
       "0it [00:00, ?it/s]"
      ]
     },
     "metadata": {},
     "output_type": "display_data"
    },
    {
     "name": "stdout",
     "output_type": "stream",
     "text": [
      "[2, 0, 1, 1, 0, 1, 2, 0, 1, 0, 0, 0, 0, 2, 0, 0, 0, 2, 1, 0, 1, 0, 0, 1, 1, 2, 2, 0, 0, 0, 2, 2, 2, 0, 0, 1, 2, 1, 2, 2, 2, 0, 1, 1, 2, 0, 2, 2, 0, 0, 1, 0, 0, 0, 1, 1, 2, 2, 1, 1, 2, 0, 2, 0, 2, 0, 0, 1, 2, 2, 0, 1, 0, 1, 0, 0, 1, 0, 1, 0, 1, 0, 0, 1, 1, 0, 2, 2, 2, 1, 0, 0, 0, 1, 0, 0, 0, 0, 1, 1, 2, 0, 0, 2, 2, 2, 1, 2, 1, 2, 2, 2, 1, 0, 0, 0, 2, 2, 0, 0, 2, 1, 2, 1, 2, 1, 0, 2, 0, 2, 2, 1, 1, 0, 0, 2, 1, 2, 2, 2, 0, 2, 0, 1, 0, 1, 2, 2, 0, 2, 1, 1, 2, 1, 1, 1, 2, 0, 2, 0, 0, 0, 0, 0, 1, 0, 1, 2, 1, 1, 1, 0, 2, 2, 0, 0, 0, 2, 2, 0, 1, 0, 1, 1, 1, 0, 0, 1, 2, 1, 2, 1, 2, 0, 1, 1, 1, 1, 1, 2, 2, 1, 1, 0, 1, 2, 2, 2, 2, 0, 1, 1]\n"
     ]
    },
    {
     "data": {
      "application/vnd.jupyter.widget-view+json": {
       "model_id": "c135c870a0c24544802dc79c2f3e4c8a",
       "version_major": 2,
       "version_minor": 0
      },
      "text/plain": [
       "0it [00:00, ?it/s]"
      ]
     },
     "metadata": {},
     "output_type": "display_data"
    },
    {
     "data": {
      "application/vnd.jupyter.widget-view+json": {
       "model_id": "c14756bd383046ac808b950f12f88ef5",
       "version_major": 2,
       "version_minor": 0
      },
      "text/plain": [
       "0it [00:00, ?it/s]"
      ]
     },
     "metadata": {},
     "output_type": "display_data"
    },
    {
     "name": "stdout",
     "output_type": "stream",
     "text": [
      "[2, 0, 1, 1, 0, 1, 2, 0, 1, 0, 0, 0, 0, 2, 0, 0, 0, 2, 1, 0, 1, 0, 0, 1, 1, 2, 2, 0, 0, 0, 2, 2, 2, 0, 0, 1, 2, 1, 2, 2, 2, 0, 1, 1, 2, 0, 2, 2, 0, 0, 1, 0, 0, 0, 1, 1, 2, 2, 1, 1, 2, 0, 2, 0, 2, 0, 0, 1, 2, 2, 0, 1, 0, 1, 0, 0, 1, 0, 1, 0, 1, 0, 0, 1, 1, 0, 2, 2, 2, 1, 0, 0, 0, 1, 0, 0, 0, 0, 1, 1, 2, 0, 0, 2, 2, 2, 1, 2, 1, 2, 2, 2, 1, 0, 0, 0, 2, 2, 0, 0, 2, 1, 2, 1, 2, 1, 0, 2, 0, 2, 2, 1, 1, 0, 0, 2, 1, 2, 2, 2, 0, 2, 0, 1, 0, 1, 2, 2, 0, 2, 1, 1, 2, 1, 1, 1, 2, 0, 2, 0, 0, 0, 0, 0, 1, 0, 1, 2, 1, 1, 1, 0, 2, 2, 0, 0, 0, 2, 2, 0, 1, 0, 1, 1, 1, 0, 0, 1, 2, 1, 2, 1, 2, 0, 1, 1, 1, 1, 1, 2, 2, 1, 1, 0, 1, 2, 2, 2, 2, 0, 1, 1, 2]\n"
     ]
    },
    {
     "data": {
      "application/vnd.jupyter.widget-view+json": {
       "model_id": "8e6cce1866e84b6d9065724d4ebf36e0",
       "version_major": 2,
       "version_minor": 0
      },
      "text/plain": [
       "0it [00:00, ?it/s]"
      ]
     },
     "metadata": {},
     "output_type": "display_data"
    },
    {
     "data": {
      "application/vnd.jupyter.widget-view+json": {
       "model_id": "062c4982ab2241d69c97537d58334790",
       "version_major": 2,
       "version_minor": 0
      },
      "text/plain": [
       "0it [00:00, ?it/s]"
      ]
     },
     "metadata": {},
     "output_type": "display_data"
    },
    {
     "name": "stdout",
     "output_type": "stream",
     "text": [
      "[2, 0, 1, 1, 0, 1, 2, 0, 1, 0, 0, 0, 0, 2, 0, 0, 0, 2, 1, 0, 1, 0, 0, 1, 1, 2, 2, 0, 0, 0, 2, 2, 2, 0, 0, 1, 2, 1, 2, 2, 2, 0, 1, 1, 2, 0, 2, 2, 0, 0, 1, 0, 0, 0, 1, 1, 2, 2, 1, 1, 2, 0, 2, 0, 2, 0, 0, 1, 2, 2, 0, 1, 0, 1, 0, 0, 1, 0, 1, 0, 1, 0, 0, 1, 1, 0, 2, 2, 2, 1, 0, 0, 0, 1, 0, 0, 0, 0, 1, 1, 2, 0, 0, 2, 2, 2, 1, 2, 1, 2, 2, 2, 1, 0, 0, 0, 2, 2, 0, 0, 2, 1, 2, 1, 2, 1, 0, 2, 0, 2, 2, 1, 1, 0, 0, 2, 1, 2, 2, 2, 0, 2, 0, 1, 0, 1, 2, 2, 0, 2, 1, 1, 2, 1, 1, 1, 2, 0, 2, 0, 0, 0, 0, 0, 1, 0, 1, 2, 1, 1, 1, 0, 2, 2, 0, 0, 0, 2, 2, 0, 1, 0, 1, 1, 1, 0, 0, 1, 2, 1, 2, 1, 2, 0, 1, 1, 1, 1, 1, 2, 2, 1, 1, 0, 1, 2, 2, 2, 2, 0, 1, 1, 2, 0]\n"
     ]
    },
    {
     "data": {
      "application/vnd.jupyter.widget-view+json": {
       "model_id": "29e0f71c0e8c43dfb11844a33a1c3ba8",
       "version_major": 2,
       "version_minor": 0
      },
      "text/plain": [
       "0it [00:00, ?it/s]"
      ]
     },
     "metadata": {},
     "output_type": "display_data"
    },
    {
     "data": {
      "application/vnd.jupyter.widget-view+json": {
       "model_id": "8fec1fa743a74eee9c3cb68b038ae5c8",
       "version_major": 2,
       "version_minor": 0
      },
      "text/plain": [
       "0it [00:00, ?it/s]"
      ]
     },
     "metadata": {},
     "output_type": "display_data"
    },
    {
     "name": "stdout",
     "output_type": "stream",
     "text": [
      "[2, 0, 1, 1, 0, 1, 2, 0, 1, 0, 0, 0, 0, 2, 0, 0, 0, 2, 1, 0, 1, 0, 0, 1, 1, 2, 2, 0, 0, 0, 2, 2, 2, 0, 0, 1, 2, 1, 2, 2, 2, 0, 1, 1, 2, 0, 2, 2, 0, 0, 1, 0, 0, 0, 1, 1, 2, 2, 1, 1, 2, 0, 2, 0, 2, 0, 0, 1, 2, 2, 0, 1, 0, 1, 0, 0, 1, 0, 1, 0, 1, 0, 0, 1, 1, 0, 2, 2, 2, 1, 0, 0, 0, 1, 0, 0, 0, 0, 1, 1, 2, 0, 0, 2, 2, 2, 1, 2, 1, 2, 2, 2, 1, 0, 0, 0, 2, 2, 0, 0, 2, 1, 2, 1, 2, 1, 0, 2, 0, 2, 2, 1, 1, 0, 0, 2, 1, 2, 2, 2, 0, 2, 0, 1, 0, 1, 2, 2, 0, 2, 1, 1, 2, 1, 1, 1, 2, 0, 2, 0, 0, 0, 0, 0, 1, 0, 1, 2, 1, 1, 1, 0, 2, 2, 0, 0, 0, 2, 2, 0, 1, 0, 1, 1, 1, 0, 0, 1, 2, 1, 2, 1, 2, 0, 1, 1, 1, 1, 1, 2, 2, 1, 1, 0, 1, 2, 2, 2, 2, 0, 1, 1, 2, 0, 0]\n"
     ]
    },
    {
     "data": {
      "application/vnd.jupyter.widget-view+json": {
       "model_id": "2eed09a1cfa94d96b00c0f47f4a6edad",
       "version_major": 2,
       "version_minor": 0
      },
      "text/plain": [
       "0it [00:00, ?it/s]"
      ]
     },
     "metadata": {},
     "output_type": "display_data"
    },
    {
     "data": {
      "application/vnd.jupyter.widget-view+json": {
       "model_id": "20053391972f4945beede7e5b757e1a6",
       "version_major": 2,
       "version_minor": 0
      },
      "text/plain": [
       "0it [00:00, ?it/s]"
      ]
     },
     "metadata": {},
     "output_type": "display_data"
    },
    {
     "name": "stdout",
     "output_type": "stream",
     "text": [
      "[2, 0, 1, 1, 0, 1, 2, 0, 1, 0, 0, 0, 0, 2, 0, 0, 0, 2, 1, 0, 1, 0, 0, 1, 1, 2, 2, 0, 0, 0, 2, 2, 2, 0, 0, 1, 2, 1, 2, 2, 2, 0, 1, 1, 2, 0, 2, 2, 0, 0, 1, 0, 0, 0, 1, 1, 2, 2, 1, 1, 2, 0, 2, 0, 2, 0, 0, 1, 2, 2, 0, 1, 0, 1, 0, 0, 1, 0, 1, 0, 1, 0, 0, 1, 1, 0, 2, 2, 2, 1, 0, 0, 0, 1, 0, 0, 0, 0, 1, 1, 2, 0, 0, 2, 2, 2, 1, 2, 1, 2, 2, 2, 1, 0, 0, 0, 2, 2, 0, 0, 2, 1, 2, 1, 2, 1, 0, 2, 0, 2, 2, 1, 1, 0, 0, 2, 1, 2, 2, 2, 0, 2, 0, 1, 0, 1, 2, 2, 0, 2, 1, 1, 2, 1, 1, 1, 2, 0, 2, 0, 0, 0, 0, 0, 1, 0, 1, 2, 1, 1, 1, 0, 2, 2, 0, 0, 0, 2, 2, 0, 1, 0, 1, 1, 1, 0, 0, 1, 2, 1, 2, 1, 2, 0, 1, 1, 1, 1, 1, 2, 2, 1, 1, 0, 1, 2, 2, 2, 2, 0, 1, 1, 2, 0, 0, 1]\n"
     ]
    },
    {
     "data": {
      "application/vnd.jupyter.widget-view+json": {
       "model_id": "35ae16ca844c46398838ad1b14f5c36c",
       "version_major": 2,
       "version_minor": 0
      },
      "text/plain": [
       "0it [00:00, ?it/s]"
      ]
     },
     "metadata": {},
     "output_type": "display_data"
    },
    {
     "data": {
      "application/vnd.jupyter.widget-view+json": {
       "model_id": "0f3dcc93c6e44e4b9b5d799881e6bca1",
       "version_major": 2,
       "version_minor": 0
      },
      "text/plain": [
       "0it [00:00, ?it/s]"
      ]
     },
     "metadata": {},
     "output_type": "display_data"
    },
    {
     "name": "stdout",
     "output_type": "stream",
     "text": [
      "[2, 0, 1, 1, 0, 1, 2, 0, 1, 0, 0, 0, 0, 2, 0, 0, 0, 2, 1, 0, 1, 0, 0, 1, 1, 2, 2, 0, 0, 0, 2, 2, 2, 0, 0, 1, 2, 1, 2, 2, 2, 0, 1, 1, 2, 0, 2, 2, 0, 0, 1, 0, 0, 0, 1, 1, 2, 2, 1, 1, 2, 0, 2, 0, 2, 0, 0, 1, 2, 2, 0, 1, 0, 1, 0, 0, 1, 0, 1, 0, 1, 0, 0, 1, 1, 0, 2, 2, 2, 1, 0, 0, 0, 1, 0, 0, 0, 0, 1, 1, 2, 0, 0, 2, 2, 2, 1, 2, 1, 2, 2, 2, 1, 0, 0, 0, 2, 2, 0, 0, 2, 1, 2, 1, 2, 1, 0, 2, 0, 2, 2, 1, 1, 0, 0, 2, 1, 2, 2, 2, 0, 2, 0, 1, 0, 1, 2, 2, 0, 2, 1, 1, 2, 1, 1, 1, 2, 0, 2, 0, 0, 0, 0, 0, 1, 0, 1, 2, 1, 1, 1, 0, 2, 2, 0, 0, 0, 2, 2, 0, 1, 0, 1, 1, 1, 0, 0, 1, 2, 1, 2, 1, 2, 0, 1, 1, 1, 1, 1, 2, 2, 1, 1, 0, 1, 2, 2, 2, 2, 0, 1, 1, 2, 0, 0, 1, 2]\n"
     ]
    },
    {
     "data": {
      "application/vnd.jupyter.widget-view+json": {
       "model_id": "3093529cf58342b098dcd7a1a33fd9de",
       "version_major": 2,
       "version_minor": 0
      },
      "text/plain": [
       "0it [00:00, ?it/s]"
      ]
     },
     "metadata": {},
     "output_type": "display_data"
    },
    {
     "data": {
      "application/vnd.jupyter.widget-view+json": {
       "model_id": "b10b62cb5a0949fda5447c161fd4f89c",
       "version_major": 2,
       "version_minor": 0
      },
      "text/plain": [
       "0it [00:00, ?it/s]"
      ]
     },
     "metadata": {},
     "output_type": "display_data"
    },
    {
     "name": "stdout",
     "output_type": "stream",
     "text": [
      "[2, 0, 1, 1, 0, 1, 2, 0, 1, 0, 0, 0, 0, 2, 0, 0, 0, 2, 1, 0, 1, 0, 0, 1, 1, 2, 2, 0, 0, 0, 2, 2, 2, 0, 0, 1, 2, 1, 2, 2, 2, 0, 1, 1, 2, 0, 2, 2, 0, 0, 1, 0, 0, 0, 1, 1, 2, 2, 1, 1, 2, 0, 2, 0, 2, 0, 0, 1, 2, 2, 0, 1, 0, 1, 0, 0, 1, 0, 1, 0, 1, 0, 0, 1, 1, 0, 2, 2, 2, 1, 0, 0, 0, 1, 0, 0, 0, 0, 1, 1, 2, 0, 0, 2, 2, 2, 1, 2, 1, 2, 2, 2, 1, 0, 0, 0, 2, 2, 0, 0, 2, 1, 2, 1, 2, 1, 0, 2, 0, 2, 2, 1, 1, 0, 0, 2, 1, 2, 2, 2, 0, 2, 0, 1, 0, 1, 2, 2, 0, 2, 1, 1, 2, 1, 1, 1, 2, 0, 2, 0, 0, 0, 0, 0, 1, 0, 1, 2, 1, 1, 1, 0, 2, 2, 0, 0, 0, 2, 2, 0, 1, 0, 1, 1, 1, 0, 0, 1, 2, 1, 2, 1, 2, 0, 1, 1, 1, 1, 1, 2, 2, 1, 1, 0, 1, 2, 2, 2, 2, 0, 1, 1, 2, 0, 0, 1, 2, 2]\n"
     ]
    },
    {
     "data": {
      "application/vnd.jupyter.widget-view+json": {
       "model_id": "abe5490663d3419ea482bb0462843d71",
       "version_major": 2,
       "version_minor": 0
      },
      "text/plain": [
       "0it [00:00, ?it/s]"
      ]
     },
     "metadata": {},
     "output_type": "display_data"
    },
    {
     "data": {
      "application/vnd.jupyter.widget-view+json": {
       "model_id": "83557563dbab41aba539e9a9668c364f",
       "version_major": 2,
       "version_minor": 0
      },
      "text/plain": [
       "0it [00:00, ?it/s]"
      ]
     },
     "metadata": {},
     "output_type": "display_data"
    },
    {
     "name": "stdout",
     "output_type": "stream",
     "text": [
      "[2, 0, 1, 1, 0, 1, 2, 0, 1, 0, 0, 0, 0, 2, 0, 0, 0, 2, 1, 0, 1, 0, 0, 1, 1, 2, 2, 0, 0, 0, 2, 2, 2, 0, 0, 1, 2, 1, 2, 2, 2, 0, 1, 1, 2, 0, 2, 2, 0, 0, 1, 0, 0, 0, 1, 1, 2, 2, 1, 1, 2, 0, 2, 0, 2, 0, 0, 1, 2, 2, 0, 1, 0, 1, 0, 0, 1, 0, 1, 0, 1, 0, 0, 1, 1, 0, 2, 2, 2, 1, 0, 0, 0, 1, 0, 0, 0, 0, 1, 1, 2, 0, 0, 2, 2, 2, 1, 2, 1, 2, 2, 2, 1, 0, 0, 0, 2, 2, 0, 0, 2, 1, 2, 1, 2, 1, 0, 2, 0, 2, 2, 1, 1, 0, 0, 2, 1, 2, 2, 2, 0, 2, 0, 1, 0, 1, 2, 2, 0, 2, 1, 1, 2, 1, 1, 1, 2, 0, 2, 0, 0, 0, 0, 0, 1, 0, 1, 2, 1, 1, 1, 0, 2, 2, 0, 0, 0, 2, 2, 0, 1, 0, 1, 1, 1, 0, 0, 1, 2, 1, 2, 1, 2, 0, 1, 1, 1, 1, 1, 2, 2, 1, 1, 0, 1, 2, 2, 2, 2, 0, 1, 1, 2, 0, 0, 1, 2, 2, 1]\n"
     ]
    },
    {
     "data": {
      "application/vnd.jupyter.widget-view+json": {
       "model_id": "20db0bb82df24e27bd9eaa4da89cf11f",
       "version_major": 2,
       "version_minor": 0
      },
      "text/plain": [
       "0it [00:00, ?it/s]"
      ]
     },
     "metadata": {},
     "output_type": "display_data"
    },
    {
     "data": {
      "application/vnd.jupyter.widget-view+json": {
       "model_id": "594bdff58020467285cfaf613570426f",
       "version_major": 2,
       "version_minor": 0
      },
      "text/plain": [
       "0it [00:00, ?it/s]"
      ]
     },
     "metadata": {},
     "output_type": "display_data"
    },
    {
     "name": "stdout",
     "output_type": "stream",
     "text": [
      "[2, 0, 1, 1, 0, 1, 2, 0, 1, 0, 0, 0, 0, 2, 0, 0, 0, 2, 1, 0, 1, 0, 0, 1, 1, 2, 2, 0, 0, 0, 2, 2, 2, 0, 0, 1, 2, 1, 2, 2, 2, 0, 1, 1, 2, 0, 2, 2, 0, 0, 1, 0, 0, 0, 1, 1, 2, 2, 1, 1, 2, 0, 2, 0, 2, 0, 0, 1, 2, 2, 0, 1, 0, 1, 0, 0, 1, 0, 1, 0, 1, 0, 0, 1, 1, 0, 2, 2, 2, 1, 0, 0, 0, 1, 0, 0, 0, 0, 1, 1, 2, 0, 0, 2, 2, 2, 1, 2, 1, 2, 2, 2, 1, 0, 0, 0, 2, 2, 0, 0, 2, 1, 2, 1, 2, 1, 0, 2, 0, 2, 2, 1, 1, 0, 0, 2, 1, 2, 2, 2, 0, 2, 0, 1, 0, 1, 2, 2, 0, 2, 1, 1, 2, 1, 1, 1, 2, 0, 2, 0, 0, 0, 0, 0, 1, 0, 1, 2, 1, 1, 1, 0, 2, 2, 0, 0, 0, 2, 2, 0, 1, 0, 1, 1, 1, 0, 0, 1, 2, 1, 2, 1, 2, 0, 1, 1, 1, 1, 1, 2, 2, 1, 1, 0, 1, 2, 2, 2, 2, 0, 1, 1, 2, 0, 0, 1, 2, 2, 1, 1]\n"
     ]
    }
   ],
   "source": [
    "predictions = []\n",
    "for _, row in test_data[HC_list].iterrows():\n",
    "    evidence = row.to_dict()\n",
    "    predicted_value = inference.map_query(variables=['stress_level'], evidence=evidence)\n",
    "    predictions.append(predicted_value['stress_level'])\n",
    "    print(predictions)\n",
    "\n",
    "# real_values\n",
    "true_values = test_data['stress_level'].values\n",
    "\n",
    "\n",
    "model_list.append('Bayesian Network(HC)')\n",
    "\n",
    "accuracy = accuracy_score(true_values, predictions)\n",
    "recall = recall_score(true_values, predictions, average='macro')\n",
    "precision = precision_score(true_values, predictions, average='macro')\n",
    "f1 = f1_score(true_values, predictions, average='macro')\n",
    "accuracy_list.append(accuracy)\n",
    "recall_list.append(recall)\n",
    "precision_list.append(precision)\n",
    "f1_list.append(f1)"
   ]
  },
  {
   "cell_type": "code",
   "execution_count": 34,
   "id": "3a4cf635",
   "metadata": {},
   "outputs": [
    {
     "name": "stdout",
     "output_type": "stream",
     "text": [
      "Accuracy: 0.8590909090909091, Recall: 0.8584745676655462, Precision: 0.8595238095238096, F1 Score: 0.8586685182429864\n"
     ]
    }
   ],
   "source": [
    "print(f\"Accuracy: {accuracy}, Recall: {recall}, Precision: {precision}, F1 Score: {f1}\")"
   ]
  },
  {
   "cell_type": "markdown",
   "id": "26343818",
   "metadata": {},
   "source": [
    "## 9.compare with other Bayesian classfiers"
   ]
  },
  {
   "cell_type": "code",
   "execution_count": 35,
   "id": "aa30e95b",
   "metadata": {},
   "outputs": [
    {
     "data": {
      "image/png": "[encoded data removed]",
      "text/plain": [
       "<Figure size 1000x600 with 1 Axes>"
      ]
     },
     "metadata": {},
     "output_type": "display_data"
    }
   ],
   "source": [
    "# Number of models\n",
    "n_models = len(model_list)\n",
    "\n",
    "# Creating bar positions\n",
    "barWidth = 0.2\n",
    "r1 = np.arange(n_models)\n",
    "r2 = [x + barWidth for x in r1]\n",
    "r3 = [x + barWidth for x in r2]\n",
    "r4 = [x + barWidth for x in r3]\n",
    "\n",
    "# Creating the bar plot\n",
    "plt.figure(figsize=(10, 6))\n",
    "plt.bar(r1, accuracy_list, color='blue', width=barWidth, edgecolor='grey', label='Accuracy')\n",
    "plt.bar(r2, precision_list, color='red', width=barWidth, edgecolor='grey', label='Precision')\n",
    "plt.bar(r3, recall_list, color='green', width=barWidth, edgecolor='grey', label='Recall')\n",
    "plt.bar(r4, f1_list, color='orange', width=barWidth, edgecolor='grey', label='F1 Score')\n",
    "\n",
    "# Adding labels\n",
    "plt.xlabel('Model', fontweight='bold')\n",
    "plt.ylabel('Scores', fontweight='bold')\n",
    "plt.xticks([r + barWidth for r in range(n_models)], model_list)\n",
    "\n",
    "# Creating legend & title\n",
    "plt.title('Performance Comparison of Different Models')\n",
    "plt.legend()\n",
    "\n",
    "# Show the plot\n",
    "plt.tight_layout()\n",
    "plt.show()\n"
   ]
  },
  {
   "cell_type": "markdown",
   "id": "4718248a",
   "metadata": {},
   "source": [
    "Both Multinomial Naive Bayes and Gaussian Naive Bayes classifiers show very high and comparable scores across all metrics, suggesting they are well-suited to this dataset.\n",
    "\n",
    "The Complement Naive Bayes classifier displays lower Recall and F1 Scores, indicating that while it is fairly accurate and precise, it may not be as effective in identifying all relevant instances within the dataset.\n",
    "\n",
    "Bernoulli Naive Bayes shows significantly lower performance in all metrics compared to the Multinomial and Gaussian models, implying it may not be the right choice for this particular dataset, possibly due to its assumption of binary features.\n",
    "\n",
    "Interestingly, the Bayesian Network (HC) classifier exhibits the highest Accuracy and Precision but falls short on Recall and F1 Score. This might indicate that while it is a strong classifier for correctly predicting negative instances, it may struggle with classifying positive instances of stress effectively.\n",
    "\n",
    "In conclusion, the Multinomial and Gaussian Naive Bayes classifiers are the top performers for this student stress dataset, offering a balanced performance across all evaluated metrics. The Bayesian Network (HC) shows potential in Accuracy and Precision but would require improvements in Recall to be considered a robust alternative. The Bernoulli and Complement Naive Bayes classifiers appear to be less suitable for this dataset as per the given metrics."
   ]
  }
 ],
 "metadata": {
  "kernelspec": {
   "display_name": "Python 3 (ipykernel)",
   "language": "python",
   "name": "python3"
  },
  "language_info": {
   "codemirror_mode": {
    "name": "ipython",
    "version": 3
   },
   "file_extension": ".py",
   "mimetype": "text/x-python",
   "name": "python",
   "nbconvert_exporter": "python",
   "pygments_lexer": "ipython3",
   "version": "3.8.16"
  }
 },
 "nbformat": 4,
 "nbformat_minor": 5
}
